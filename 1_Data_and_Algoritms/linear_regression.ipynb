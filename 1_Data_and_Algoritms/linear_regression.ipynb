{
 "cells": [
  {
   "cell_type": "markdown",
   "metadata": {},
   "source": [
    "# Linear Regression"
   ]
  },
  {
   "cell_type": "markdown",
   "metadata": {},
   "source": [
    "Boston House Prices Dataset: https://www.kaggle.com/vikrishnan/boston-house-prices"
   ]
  },
  {
   "cell_type": "code",
   "execution_count": 38,
   "metadata": {},
   "outputs": [],
   "source": [
    "import csv\n",
    "import numpy as np"
   ]
  },
  {
   "cell_type": "code",
   "execution_count": null,
   "metadata": {},
   "outputs": [],
   "source": [
    "def load_data(filename, delimiter):\n",
    "    samples = []\n",
    "    targets = []\n",
    "    with open(filename, newline='') as csvfile:\n",
    "        reader = csv.reader(csvfile, delimiter=delimiter, quotechar=None)\n",
    "        for row in reader:\n",
    "            samples += [row[0:-1]]\n",
    "            targets += [row[-1]]\n",
    "    \n",
    "    digitized_samples = [list(map(float, sample)) for sample in samples]\n",
    "    targets = [float(target) for target in targets]\n",
    "    \n",
    "    train_data = digitized_samples[:-100]\n",
    "    train_targets = targets[:-100]\n",
    "\n",
    "    test_data = digitized_samples[-100:]\n",
    "    test_targets = targets[-100:]\n",
    "    \n",
    "    train_data = np.array(train_data)\n",
    "    train_targets = np.array(train_targets)\n",
    "    test_data = np.array(test_data)\n",
    "    test_targets = np.array(test_targets)\n",
    "    \n",
    "    mean = train_data.mean(axis=0)\n",
    "    train_data -= mean\n",
    "    std = train_data.std(axis=0)\n",
    "    train_data /= std\n",
    "    test_data -= mean\n",
    "    test_data /= std\n",
    "    \n",
    "    return train_data, train_targets, test_data, test_targets"
   ]
  },
  {
   "cell_type": "markdown",
   "metadata": {},
   "source": [
    "### Load data"
   ]
  },
  {
   "cell_type": "code",
   "execution_count": 40,
   "metadata": {},
   "outputs": [],
   "source": [
    "train_data, train_targets, test_data, test_targets = load_data('data/housing/housing.csv', ' ')"
   ]
  },
  {
   "cell_type": "code",
   "execution_count": 41,
   "metadata": {},
   "outputs": [],
   "source": [
    "from sklearn.linear_model import LinearRegression\n",
    "from sklearn import metrics"
   ]
  },
  {
   "cell_type": "markdown",
   "metadata": {},
   "source": [
    "### Create and fit model"
   ]
  },
  {
   "cell_type": "code",
   "execution_count": 42,
   "metadata": {},
   "outputs": [
    {
     "data": {
      "text/plain": [
       "LinearRegression(copy_X=True, fit_intercept=True, n_jobs=None,\n",
       "         normalize=False)"
      ]
     },
     "execution_count": 42,
     "metadata": {},
     "output_type": "execute_result"
    }
   ],
   "source": [
    "regressor = LinearRegression()  \n",
    "regressor.fit(train_data, train_targets)"
   ]
  },
  {
   "cell_type": "markdown",
   "metadata": {},
   "source": [
    "### Check model accuracy"
   ]
  },
  {
   "cell_type": "code",
   "execution_count": 43,
   "metadata": {},
   "outputs": [],
   "source": [
    "preds = regressor.predict(test_data)"
   ]
  },
  {
   "cell_type": "code",
   "execution_count": 44,
   "metadata": {},
   "outputs": [
    {
     "data": {
      "text/plain": [
       "array([ 6.78773999, 21.36799098, 15.4223225 , 23.76033841, 17.13016219,\n",
       "       22.37187582,  4.78807891, 12.57866911, -3.97029715, 14.76372577,\n",
       "       19.54860396,  9.16562618,  6.44114228, 20.53859094, 22.21632946,\n",
       "       20.66936635, 20.35159077, 19.10683459, 19.8297619 , 15.04289907,\n",
       "       21.25617942, 17.57407375, 19.33484838, 18.56738979, 23.23984842,\n",
       "       24.13612608, 26.73026115, 22.67047528, 20.69095261, 18.61089683,\n",
       "       20.30019995, 14.38639462,  9.57112337, 14.16710934, 13.00806727,\n",
       "       19.30807944, 20.81923487, 20.11283218, 14.35373601, 17.84058428,\n",
       "       20.71288278, 19.99190836, 19.20049273, 20.31997385, 23.51129354,\n",
       "       22.35996407, 20.87018766, 25.69260693, 21.96657056, 22.18243455,\n",
       "       19.02123922, 18.99366445, 20.61652059, 20.38369714, 23.27572917,\n",
       "       22.62638945, 21.88657498, 24.8859989 , 22.0773411 , 20.30117728,\n",
       "       20.52284534, 19.2706014 , 17.90566834, 19.17514016, 21.99071353,\n",
       "       24.81851117, 24.61307974, 28.4125425 , 17.62825283, 18.67441695,\n",
       "       22.59272487, 12.09813388, 20.71015795, 23.00793838, 25.17655398,\n",
       "       29.36848508, 31.13049949, 22.70448825, 21.52983973, 24.48953335,\n",
       "       21.46564301, 22.96373469, 10.33375069,  7.20195512,  2.59796017,\n",
       "       12.8195409 , 14.96059086, 19.96963944, 20.11927845, 16.21450267,\n",
       "       13.08827667, 18.6332393 , 20.95182111, 17.69888576, 20.16519598,\n",
       "       23.75712468, 22.08271819, 28.17783113, 26.57052074, 22.02122269])"
      ]
     },
     "execution_count": 44,
     "metadata": {},
     "output_type": "execute_result"
    }
   ],
   "source": [
    "preds"
   ]
  },
  {
   "cell_type": "code",
   "execution_count": 45,
   "metadata": {},
   "outputs": [
    {
     "name": "stdout",
     "output_type": "stream",
     "text": [
      "5.792087957917883\n"
     ]
    }
   ],
   "source": [
    "print(np.sqrt(metrics.mean_squared_error(test_targets, preds)))"
   ]
  },
  {
   "cell_type": "code",
   "execution_count": 46,
   "metadata": {},
   "outputs": [],
   "source": [
    "import seaborn as sns"
   ]
  },
  {
   "cell_type": "code",
   "execution_count": 47,
   "metadata": {},
   "outputs": [
    {
     "data": {
      "text/plain": [
       "array([11.9, 27.9, 17.2, 27.5, 15. , 17.2, 17.9, 16.3,  7. ,  7.2,  7.5,\n",
       "       10.4,  8.8,  8.4, 16.7, 14.2, 20.8, 13.4, 11.7,  8.3, 10.2, 10.9,\n",
       "       11. ,  9.5, 14.5, 14.1, 16.1, 14.3, 11.7, 13.4,  9.6,  8.7,  8.4,\n",
       "       12.8, 10.5, 17.1, 18.4, 15.4, 10.8, 11.8, 14.9, 12.6, 14.1, 13. ,\n",
       "       13.4, 15.2, 16.1, 17.8, 14.9, 14.1, 12.7, 13.5, 14.9, 20. , 16.4,\n",
       "       17.7, 19.5, 20.2, 21.4, 19.9, 19. , 19.1, 19.1, 20.1, 19.9, 19.6,\n",
       "       23.2, 29.8, 13.8, 13.3, 16.7, 12. , 14.6, 21.4, 23. , 23.7, 25. ,\n",
       "       21.8, 20.6, 21.2, 19.1, 20.6, 15.2,  7. ,  8.1, 13.6, 20.1, 21.8,\n",
       "       24.5, 23.1, 19.7, 18.3, 21.2, 17.5, 16.8, 22.4, 20.6, 23.9, 22. ,\n",
       "       11.9])"
      ]
     },
     "execution_count": 47,
     "metadata": {},
     "output_type": "execute_result"
    }
   ],
   "source": [
    "test_targets"
   ]
  },
  {
   "cell_type": "code",
   "execution_count": 48,
   "metadata": {},
   "outputs": [
    {
     "data": {
      "text/plain": [
       "array([ 6.78773999, 21.36799098, 15.4223225 , 23.76033841, 17.13016219,\n",
       "       22.37187582,  4.78807891, 12.57866911, -3.97029715, 14.76372577,\n",
       "       19.54860396,  9.16562618,  6.44114228, 20.53859094, 22.21632946,\n",
       "       20.66936635, 20.35159077, 19.10683459, 19.8297619 , 15.04289907,\n",
       "       21.25617942, 17.57407375, 19.33484838, 18.56738979, 23.23984842,\n",
       "       24.13612608, 26.73026115, 22.67047528, 20.69095261, 18.61089683,\n",
       "       20.30019995, 14.38639462,  9.57112337, 14.16710934, 13.00806727,\n",
       "       19.30807944, 20.81923487, 20.11283218, 14.35373601, 17.84058428,\n",
       "       20.71288278, 19.99190836, 19.20049273, 20.31997385, 23.51129354,\n",
       "       22.35996407, 20.87018766, 25.69260693, 21.96657056, 22.18243455,\n",
       "       19.02123922, 18.99366445, 20.61652059, 20.38369714, 23.27572917,\n",
       "       22.62638945, 21.88657498, 24.8859989 , 22.0773411 , 20.30117728,\n",
       "       20.52284534, 19.2706014 , 17.90566834, 19.17514016, 21.99071353,\n",
       "       24.81851117, 24.61307974, 28.4125425 , 17.62825283, 18.67441695,\n",
       "       22.59272487, 12.09813388, 20.71015795, 23.00793838, 25.17655398,\n",
       "       29.36848508, 31.13049949, 22.70448825, 21.52983973, 24.48953335,\n",
       "       21.46564301, 22.96373469, 10.33375069,  7.20195512,  2.59796017,\n",
       "       12.8195409 , 14.96059086, 19.96963944, 20.11927845, 16.21450267,\n",
       "       13.08827667, 18.6332393 , 20.95182111, 17.69888576, 20.16519598,\n",
       "       23.75712468, 22.08271819, 28.17783113, 26.57052074, 22.02122269])"
      ]
     },
     "execution_count": 48,
     "metadata": {},
     "output_type": "execute_result"
    }
   ],
   "source": [
    "preds"
   ]
  },
  {
   "cell_type": "code",
   "execution_count": 49,
   "metadata": {},
   "outputs": [
    {
     "data": {
      "text/plain": [
       "<matplotlib.axes._subplots.AxesSubplot at 0x7fe8ff8728d0>"
      ]
     },
     "execution_count": 49,
     "metadata": {},
     "output_type": "execute_result"
    },
    {
     "data": {
      "image/png": "[encoded data removed]",
      "text/plain": [
       "<Figure size 432x288 with 1 Axes>"
      ]
     },
     "metadata": {
      "needs_background": "light"
     },
     "output_type": "display_data"
    }
   ],
   "source": [
    "sns.regplot(test_targets, preds)"
   ]
  },
  {
   "cell_type": "code",
   "execution_count": null,
   "metadata": {},
   "outputs": [],
   "source": []
  }
 ],
 "metadata": {
  "kernelspec": {
   "display_name": "Python 3",
   "language": "python",
   "name": "python3"
  },
  "language_info": {
   "codemirror_mode": {
    "name": "ipython",
    "version": 3
   },
   "file_extension": ".py",
   "mimetype": "text/x-python",
   "name": "python",
   "nbconvert_exporter": "python",
   "pygments_lexer": "ipython3",
   "version": "3.6.7"
  }
 },
 "nbformat": 4,
 "nbformat_minor": 2
}
