{
 "cells": [
  {
   "cell_type": "markdown",
   "metadata": {},
   "source": [
    "## ML text classification"
   ]
  },
  {
   "cell_type": "markdown",
   "metadata": {},
   "source": [
    "IMDB Dataset: https://www.kaggle.com/lakshmi25npathi/imdb-dataset-of-50k-movie-reviews#IMDB%20Dataset.csv"
   ]
  },
  {
   "cell_type": "markdown",
   "metadata": {},
   "source": [
    "### Load data"
   ]
  },
  {
   "cell_type": "code",
   "execution_count": 1,
   "metadata": {},
   "outputs": [],
   "source": [
    "import re\n",
    "import csv\n",
    "from sklearn.metrics import accuracy_score"
   ]
  },
  {
   "cell_type": "code",
   "execution_count": 2,
   "metadata": {},
   "outputs": [],
   "source": [
    "def load_data(filename, delimiter):\n",
    "    samples = []\n",
    "    labels = []\n",
    "    with open(filename, newline='') as csvfile:\n",
    "        reader = csv.reader(csvfile, delimiter=delimiter, quotechar='\"')\n",
    "        next(reader) #skip csv header\n",
    "        for row in reader:\n",
    "            samples += [row[0]]\n",
    "            labels += [row[1]]\n",
    "\n",
    "    preprocessed_samples = []\n",
    "    for sample in samples:\n",
    "        s = sample.lower()\n",
    "        s = re.sub(\"[^а-яА-Яa-zA-Z0-9]\", \" \", s)\n",
    "        s = re.sub(\"\\s+\", \" \", s)\n",
    "        s = s.strip()\n",
    "        preprocessed_samples += [s]\n",
    "    \n",
    "    tokenized_samples = []\n",
    "    for sample in preprocessed_samples:\n",
    "        s = sample.split()\n",
    "        tokenized_samples += [s]\n",
    "        \n",
    "    word2id = {}\n",
    "    id2word = []\n",
    "\n",
    "    for sample in tokenized_samples:\n",
    "        for token in sample:\n",
    "            if token not in word2id.keys():\n",
    "                word2id[token] = len(id2word)\n",
    "                id2word += [token]\n",
    "    \n",
    "    digitized_samples = []\n",
    "    for sample in tokenized_samples:\n",
    "        s = [word2id[token] for token in sample]\n",
    "        digitized_samples += [s]\n",
    "        \n",
    "    correct_samples = []\n",
    "    max_len = 128\n",
    "\n",
    "    for sample in digitized_samples:\n",
    "        if len(sample) < max_len:\n",
    "            sample += [0] * (max_len - len(sample))\n",
    "\n",
    "        correct_samples += [sample[:max_len]]\n",
    "        \n",
    "    labels_dict = {\"negative\": 0, \"positive\": 1}\n",
    "\n",
    "    correct_labels = [labels_dict[label] for label in labels]\n",
    "    \n",
    "    train_data = correct_samples[:4000]\n",
    "    train_labels = correct_labels[:4000]\n",
    "    test_data = correct_samples[4000:]\n",
    "    test_labels = correct_labels[4000:]\n",
    "    \n",
    "    return train_data, train_labels, test_data, test_labels"
   ]
  },
  {
   "cell_type": "code",
   "execution_count": 3,
   "metadata": {},
   "outputs": [],
   "source": [
    "train_data, train_labels, test_data, test_labels = load_data('data/imdb/imdb_dataset.csv', ',')"
   ]
  },
  {
   "cell_type": "markdown",
   "metadata": {},
   "source": [
    "### Create model and fit"
   ]
  },
  {
   "cell_type": "code",
   "execution_count": 4,
   "metadata": {},
   "outputs": [],
   "source": [
    "from sklearn.linear_model import LogisticRegression"
   ]
  },
  {
   "cell_type": "code",
   "execution_count": 5,
   "metadata": {},
   "outputs": [
    {
     "name": "stderr",
     "output_type": "stream",
     "text": [
      "/home/leto/anaconda3/lib/python3.7/site-packages/sklearn/linear_model/logistic.py:433: FutureWarning: Default solver will be changed to 'lbfgs' in 0.22. Specify a solver to silence this warning.\n",
      "  FutureWarning)\n"
     ]
    },
    {
     "data": {
      "text/plain": [
       "LogisticRegression(C=1.0, class_weight=None, dual=False, fit_intercept=True,\n",
       "          intercept_scaling=1, max_iter=100, multi_class='warn',\n",
       "          n_jobs=None, penalty='l2', random_state=None, solver='warn',\n",
       "          tol=0.0001, verbose=0, warm_start=False)"
      ]
     },
     "execution_count": 5,
     "metadata": {},
     "output_type": "execute_result"
    }
   ],
   "source": [
    "lr_cls = LogisticRegression()\n",
    "lr_cls.fit(train_data, train_labels)"
   ]
  },
  {
   "cell_type": "code",
   "execution_count": 6,
   "metadata": {},
   "outputs": [
    {
     "data": {
      "text/plain": [
       "0.5023333333333333"
      ]
     },
     "execution_count": 6,
     "metadata": {},
     "output_type": "execute_result"
    }
   ],
   "source": [
    "preds = lr_cls.predict(test_data)\n",
    "accuracy_score(test_labels, preds)"
   ]
  },
  {
   "cell_type": "markdown",
   "metadata": {},
   "source": [
    "# Decision Tree"
   ]
  },
  {
   "cell_type": "code",
   "execution_count": 7,
   "metadata": {},
   "outputs": [],
   "source": [
    "from sklearn.tree import DecisionTreeClassifier"
   ]
  },
  {
   "cell_type": "code",
   "execution_count": 8,
   "metadata": {},
   "outputs": [
    {
     "data": {
      "text/plain": [
       "DecisionTreeClassifier(class_weight=None, criterion='gini', max_depth=None,\n",
       "            max_features=None, max_leaf_nodes=None,\n",
       "            min_impurity_decrease=0.0, min_impurity_split=None,\n",
       "            min_samples_leaf=1, min_samples_split=2,\n",
       "            min_weight_fraction_leaf=0.0, presort=False, random_state=None,\n",
       "            splitter='best')"
      ]
     },
     "execution_count": 8,
     "metadata": {},
     "output_type": "execute_result"
    }
   ],
   "source": [
    "dt_cls = DecisionTreeClassifier()\n",
    "dt_cls.fit(train_data, train_labels)"
   ]
  },
  {
   "cell_type": "code",
   "execution_count": 9,
   "metadata": {},
   "outputs": [
    {
     "data": {
      "text/plain": [
       "0.4965"
      ]
     },
     "execution_count": 9,
     "metadata": {},
     "output_type": "execute_result"
    }
   ],
   "source": [
    "preds = dt_cls.predict(test_data)\n",
    "accuracy_score(test_labels, preds)"
   ]
  },
  {
   "cell_type": "code",
   "execution_count": 10,
   "metadata": {},
   "outputs": [
    {
     "data": {
      "text/plain": [
       "'digraph Tree {\\nnode [shape=box] ;\\n0 [label=\"X[87] <= 50.5\\\\ngini = 0.5\\\\nsamples = 4000\\\\nvalue = [2027, 1973]\"] ;\\n1 [label=\"X[78] <= 48.5\\\\ngini = 0.497\\\\nsamples = 1428\\\\nvalue = [658, 770]\"] ;\\n0 -> 1 [labeldistance=2.5, labelangle=45, headlabel=\"True\"] ;\\n2 [label=\"X[24] <= 3015.5\\\\ngini = 0.481\\\\nsamples = 608\\\\nvalue = [245, 363]\"] ;\\n1 -> 2 ;\\n3 [label=\"X[58] <= 65.5\\\\ngini = 0.492\\\\nsamples = 494\\\\nvalue = [216, 278]\"] ;\\n2 -> 3 ;\\n4 [label=\"X[16] <= 429.0\\\\ngini = 0.5\\\\nsamples = 259\\\\nvalue = [132, 127]\"] ;\\n3 -> 4 ;\\n5 [label=\"X[20] <= 4.5\\\\ngini = 0.486\\\\nsamples = 151\\\\nvalue = [63, 88]\"] ;\\n4 -> 5 ;\\n6 [label=\"X[28] <= 1292.5\\\\ngini = 0.305\\\\nsamples = 16\\\\nvalue = [13, 3]\"] ;\\n5 -> 6 ;\\n7 [label=\"gini = 0.0\\\\nsamples = 12\\\\nvalue = [12, 0]\"] ;\\n6 -> 7 ;\\n8 [label=\"X[19] <= 115.5\\\\ngini = 0.375\\\\nsamples = 4\\\\nvalue = [1, 3]\"] ;\\n6 -> 8 ;\\n9 [label=\"gini = 0.0\\\\nsamples = 1\\\\nvalue = [1, 0]\"] ;\\n8 -> 9 ;\\n10 [label=\"gini = 0.0\\\\nsamples = 3\\\\nvalue = [0, 3]\"] ;\\n8 -> 10 ;\\n11 [label=\"X[19] <= 602.5\\\\ngini = 0.466\\\\nsamples = 135\\\\nvalue = [50, 85]\"] ;\\n5 -> 11 ;\\n12 [label=\"X[35] <= 755.5\\\\ngini = 0.403\\\\nsamples = 93\\\\nvalue = [26, 67]\"] ;\\n11 -> 12 ;\\n13 [label=\"X[15] <= 15648.0\\\\ngini = 0.323\\\\nsamples = 74\\\\nvalue = [15, 59]\"] ;\\n12 -> 13 ;\\n14 [label=\"X[28] <= 6165.5\\\\ngini = 0.281\\\\nsamples = 71\\\\nvalue = [12, 59]\"] ;\\n13 -> 14 ;\\n15 [label=\"X[27] <= 8616.5\\\\ngini = 0.213\\\\nsamples = 66\\\\nvalue = [8, 58]\"] ;\\n14 -> 15 ;\\n16 [label=\"X[17] <= 6.0\\\\ngini = 0.17\\\\nsamples = 64\\\\nvalue = [6, 58]\"] ;\\n15 -> 16 ;\\n17 [label=\"X[46] <= 394.0\\\\ngini = 0.48\\\\nsamples = 10\\\\nvalue = [4, 6]\"] ;\\n16 -> 17 ;\\n18 [label=\"gini = 0.0\\\\nsamples = 5\\\\nvalue = [0, 5]\"] ;\\n17 -> 18 ;\\n19 [label=\"X[8] <= 37.5\\\\ngini = 0.32\\\\nsamples = 5\\\\nvalue = [4, 1]\"] ;\\n17 -> 19 ;\\n20 [label=\"gini = 0.0\\\\nsamples = 1\\\\nvalue = [0, 1]\"] ;\\n19 -> 20 ;\\n21 [label=\"gini = 0.0\\\\nsamples = 4\\\\nvalue = [4, 0]\"] ;\\n19 -> 21 ;\\n22 [label=\"X[32] <= 5045.5\\\\ngini = 0.071\\\\nsamples = 54\\\\nvalue = [2, 52]\"] ;\\n16 -> 22 ;\\n23 [label=\"gini = 0.0\\\\nsamples = 49\\\\nvalue = [0, 49]\"] ;\\n22 -> 23 ;\\n24 [label=\"X[42] <= 40.5\\\\ngini = 0.48\\\\nsamples = 5\\\\nvalue = [2, 3]\"] ;\\n22 -> 24 ;\\n25 [label=\"gini = 0.0\\\\nsamples = 3\\\\nvalue = [0, 3]\"] ;\\n24 -> 25 ;\\n26 [label=\"gini = 0.0\\\\nsamples = 2\\\\nvalue = [2, 0]\"] ;\\n24 -> 26 ;\\n27 [label=\"gini = 0.0\\\\nsamples = 2\\\\nvalue = [2, 0]\"] ;\\n15 -> 27 ;\\n28 [label=\"X[38] <= 1190.0\\\\ngini = 0.32\\\\nsamples = 5\\\\nvalue = [4, 1]\"] ;\\n14 -> 28 ;\\n29 [label=\"gini = 0.0\\\\nsamples = 4\\\\nvalue = [4, 0]\"] ;\\n28 -> 29 ;\\n30 [label=\"gini = 0.0\\\\nsamples = 1\\\\nvalue = [0, 1]\"] ;\\n28 -> 30 ;\\n31 [label=\"gini = 0.0\\\\nsamples = 3\\\\nvalue = [3, 0]\"] ;\\n13 -> 31 ;\\n32 [label=\"X[42] <= 67.0\\\\ngini = 0.488\\\\nsamples = 19\\\\nvalue = [11, 8]\"] ;\\n12 -> 32 ;\\n33 [label=\"X[0] <= 1285.5\\\\ngini = 0.198\\\\nsamples = 9\\\\nvalue = [8, 1]\"] ;\\n32 -> 33 ;\\n34 [label=\"gini = 0.0\\\\nsamples = 8\\\\nvalue = [8, 0]\"] ;\\n33 -> 34 ;\\n35 [label=\"gini = 0.0\\\\nsamples = 1\\\\nvalue = [0, 1]\"] ;\\n33 -> 35 ;\\n36 [label=\"X[47] <= 797.5\\\\ngini = 0.42\\\\nsamples = 10\\\\nvalue = [3, 7]\"] ;\\n32 -> 36 ;\\n37 [label=\"gini = 0.0\\\\nsamples = 6\\\\nvalue = [0, 6]\"] ;\\n36 -> 37 ;\\n38 [label=\"X[5] <= 1100.0\\\\ngini = 0.375\\\\nsamples = 4\\\\nvalue = [3, 1]\"] ;\\n36 -> 38 ;\\n39 [label=\"gini = 0.0\\\\nsamples = 3\\\\nvalue = [3, 0]\"] ;\\n38 -> 39 ;\\n40 [label=\"gini = 0.0\\\\nsamples = 1\\\\nvalue = [0, 1]\"] ;\\n38 -> 40 ;\\n41 [label=\"X[25] <= 226.5\\\\ngini = 0.49\\\\nsamples = 42\\\\nvalue = [24, 18]\"] ;\\n11 -> 41 ;\\n42 [label=\"X[13] <= 916.0\\\\ngini = 0.219\\\\nsamples = 16\\\\nvalue = [14, 2]\"] ;\\n41 -> 42 ;\\n43 [label=\"gini = 0.0\\\\nsamples = 13\\\\nvalue = [13, 0]\"] ;\\n42 -> 43 ;\\n44 [label=\"X[125] <= 11.5\\\\ngini = 0.444\\\\nsamples = 3\\\\nvalue = [1, 2]\"] ;\\n42 -> 44 ;\\n45 [label=\"gini = 0.0\\\\nsamples = 2\\\\nvalue = [0, 2]\"] ;\\n44 -> 45 ;\\n46 [label=\"gini = 0.0\\\\nsamples = 1\\\\nvalue = [1, 0]\"] ;\\n44 -> 46 ;\\n47 [label=\"X[16] <= 15.5\\\\ngini = 0.473\\\\nsamples = 26\\\\nvalue = [10, 16]\"] ;\\n41 -> 47 ;\\n48 [label=\"gini = 0.0\\\\nsamples = 5\\\\nvalue = [5, 0]\"] ;\\n47 -> 48 ;\\n49 [label=\"X[29] <= 4113.0\\\\ngini = 0.363\\\\nsamples = 21\\\\nvalue = [5, 16]\"] ;\\n47 -> 49 ;\\n50 [label=\"X[32] <= 11.5\\\\ngini = 0.208\\\\nsamples = 17\\\\nvalue = [2, 15]\"] ;\\n49 -> 50 ;\\n51 [label=\"gini = 0.0\\\\nsamples = 1\\\\nvalue = [1, 0]\"] ;\\n50 -> 51 ;\\n52 [label=\"X[68] <= 8716.5\\\\ngini = 0.117\\\\nsamples = 16\\\\nvalue = [1, 15]\"] ;\\n50 -> 52 ;\\n53 [label=\"gini = 0.0\\\\nsamples = 15\\\\nvalue = [0, 15]\"] ;\\n52 -> 53 ;\\n54 [label=\"gini = 0.0\\\\nsamples = 1\\\\nvalue = [1, 0]\"] ;\\n52 -> 54 ;\\n55 [label=\"X[83] <= 829.0\\\\ngini = 0.375\\\\nsamples = 4\\\\nvalue = [3, 1]\"] ;\\n49 -> 55 ;\\n56 [label=\"gini = 0.0\\\\nsamples = 3\\\\nvalue = [3, 0]\"] ;\\n55 -> 56 ;\\n57 [label=\"gini = 0.0\\\\nsamples = 1\\\\nvalue = [0, 1]\"] ;\\n55 -> 57 ;\\n58 [label=\"X[23] <= 361.5\\\\ngini = 0.461\\\\nsamples = 108\\\\nvalue = [69, 39]\"] ;\\n4 -> 58 ;\\n59 [label=\"X[71] <= 173.5\\\\ngini = 0.498\\\\nsamples = 68\\\\nvalue = [36, 32]\"] ;\\n58 -> 59 ;\\n60 [label=\"X[39] <= 122.0\\\\ngini = 0.486\\\\nsamples = 48\\\\nvalue = [20, 28]\"] ;\\n59 -> 60 ;\\n61 [label=\"X[56] <= 116.0\\\\ngini = 0.42\\\\nsamples = 20\\\\nvalue = [14, 6]\"] ;\\n60 -> 61 ;\\n62 [label=\"X[26] <= 941.0\\\\ngini = 0.291\\\\nsamples = 17\\\\nvalue = [14, 3]\"] ;\\n61 -> 62 ;\\n63 [label=\"gini = 0.0\\\\nsamples = 13\\\\nvalue = [13, 0]\"] ;\\n62 -> 63 ;\\n64 [label=\"X[21] <= 8056.5\\\\ngini = 0.375\\\\nsamples = 4\\\\nvalue = [1, 3]\"] ;\\n62 -> 64 ;\\n65 [label=\"gini = 0.0\\\\nsamples = 3\\\\nvalue = [0, 3]\"] ;\\n64 -> 65 ;\\n66 [label=\"gini = 0.0\\\\nsamples = 1\\\\nvalue = [1, 0]\"] ;\\n64 -> 66 ;\\n67 [label=\"gini = 0.0\\\\nsamples = 3\\\\nvalue = [0, 3]\"] ;\\n61 -> 67 ;\\n68 [label=\"X[39] <= 1931.5\\\\ngini = 0.337\\\\nsamples = 28\\\\nvalue = [6, 22]\"] ;\\n60 -> 68 ;\\n69 [label=\"gini = 0.0\\\\nsamples = 19\\\\nvalue = [0, 19]\"] ;\\n68 -> 69 ;\\n70 [label=\"X[44] <= 29.5\\\\ngini = 0.444\\\\nsamples = 9\\\\nvalue = [6, 3]\"] ;\\n68 -> 70 ;\\n71 [label=\"gini = 0.0\\\\nsamples = 3\\\\nvalue = [0, 3]\"] ;\\n70 -> 71 ;\\n72 [label=\"gini = 0.0\\\\nsamples = 6\\\\nvalue = [6, 0]\"] ;\\n70 -> 72 ;\\n73 [label=\"X[86] <= 14.0\\\\ngini = 0.32\\\\nsamples = 20\\\\nvalue = [16, 4]\"] ;\\n59 -> 73 ;\\n74 [label=\"X[38] <= 2996.0\\\\ngini = 0.375\\\\nsamples = 4\\\\nvalue = [1, 3]\"] ;\\n73 -> 74 ;\\n75 [label=\"gini = 0.0\\\\nsamples = 3\\\\nvalue = [0, 3]\"] ;\\n74 -> 75 ;\\n76 [label=\"gini = 0.0\\\\nsamples = 1\\\\nvalue = [1, 0]\"] ;\\n74 -> 76 ;\\n77 [label=\"X[53] <= 3565.5\\\\ngini = 0.117\\\\nsamples = 16\\\\nvalue = [15, 1]\"] ;\\n73 -> 77 ;\\n78 [label=\"gini = 0.0\\\\nsamples = 15\\\\nvalue = [15, 0]\"] ;\\n77 -> 78 ;\\n79 [label=\"gini = 0.0\\\\nsamples = 1\\\\nvalue = [0, 1]\"] ;\\n77 -> 79 ;\\n80 [label=\"X[31] <= 8430.5\\\\ngini = 0.289\\\\nsamples = 40\\\\nvalue = [33, 7]\"] ;\\n58 -> 80 ;\\n81 [label=\"X[15] <= 17.5\\\\ngini = 0.229\\\\nsamples = 38\\\\nvalue = [33, 5]\"] ;\\n80 -> 81 ;\\n82 [label=\"X[16] <= 3039.0\\\\ngini = 0.49\\\\nsamples = 7\\\\nvalue = [3, 4]\"] ;\\n81 -> 82 ;\\n83 [label=\"gini = 0.0\\\\nsamples = 4\\\\nvalue = [0, 4]\"] ;\\n82 -> 83 ;\\n84 [label=\"gini = 0.0\\\\nsamples = 3\\\\nvalue = [3, 0]\"] ;\\n82 -> 84 ;\\n85 [label=\"X[35] <= 12131.5\\\\ngini = 0.062\\\\nsamples = 31\\\\nvalue = [30, 1]\"] ;\\n81 -> 85 ;\\n86 [label=\"gini = 0.0\\\\nsamples = 30\\\\nvalue = [30, 0]\"] ;\\n85 -> 86 ;\\n87 [label=\"gini = 0.0\\\\nsamples = 1\\\\nvalue = [0, 1]\"] ;\\n85 -> 87 ;\\n88 [label=\"gini = 0.0\\\\nsamples = 2\\\\nvalue = [0, 2]\"] ;\\n80 -> 88 ;\\n89 [label=\"X[37] <= 104.5\\\\ngini = 0.459\\\\nsamples = 235\\\\nvalue = [84, 151]\"] ;\\n3 -> 89 ;\\n90 [label=\"X[41] <= 11772.0\\\\ngini = 0.351\\\\nsamples = 97\\\\nvalue = [22, 75]\"] ;\\n89 -> 90 ;\\n91 [label=\"X[61] <= 342.5\\\\ngini = 0.298\\\\nsamples = 88\\\\nvalue = [16, 72]\"] ;\\n90 -> 91 ;\\n92 [label=\"X[109] <= 15711.0\\\\ngini = 0.113\\\\nsamples = 50\\\\nvalue = [3, 47]\"] ;\\n91 -> 92 ;\\n93 [label=\"X[14] <= 14875.5\\\\ngini = 0.041\\\\nsamples = 48\\\\nvalue = [1, 47]\"] ;\\n92 -> 93 ;\\n94 [label=\"gini = 0.0\\\\nsamples = 46\\\\nvalue = [0, 46]\"] ;\\n93 -> 94 ;\\n95 [label=\"X[118] <= 5469.5\\\\ngini = 0.5\\\\nsamples = 2\\\\nvalue = [1, 1]\"] ;\\n93 -> 95 ;\\n96 [label=\"gini = 0.0\\\\nsamples = 1\\\\nvalue = [1, 0]\"] ;\\n95 -> 96 ;\\n97 [label=\"gini = 0.0\\\\nsamples = 1\\\\nvalue = [0, 1]\"] ;\\n95 -> 97 ;\\n98 [label=\"gini = 0.0\\\\nsamples = 2\\\\nvalue = [2, 0]\"] ;\\n92 -> 98 ;\\n99 [label=\"X[12] <= 516.5\\\\ngini = 0.45\\\\nsamples = 38\\\\nvalue = [13, 25]\"] ;\\n91 -> 99 ;\\n100 [label=\"X[30] <= 3158.0\\\\ngini = 0.337\\\\nsamples = 28\\\\nvalue = [6, 22]\"] ;\\n99 -> 100 ;\\n101 [label=\"X[0] <= 11.5\\\\ngini = 0.211\\\\nsamples = 25\\\\nvalue = [3, 22]\"] ;\\n100 -> 101 ;\\n102 [label=\"gini = 0.0\\\\nsamples = 2\\\\nvalue = [2, 0]\"] ;\\n101 -> 102 ;\\n103 [label=\"X[61] <= 475.0\\\\ngini = 0.083\\\\nsamples = 23\\\\nvalue = [1, 22]\"] ;\\n101 -> 103 ;\\n104 [label=\"gini = 0.0\\\\nsamples = 1\\\\nvalue = [1, 0]\"] ;\\n103 -> 104 ;\\n105 [label=\"gini = 0.0\\\\nsamples = 22\\\\nvalue = [0, 22]\"] ;\\n103 -> 105 ;\\n106 [label=\"gini = 0.0\\\\nsamples = 3\\\\nvalue = [3, 0]\"] ;\\n100 -> 106 ;\\n107 [label=\"X[4] <= 33.5\\\\ngini = 0.42\\\\nsamples = 10\\\\nvalue = [7, 3]\"] ;\\n99 -> 107 ;\\n108 [label=\"gini = 0.0\\\\nsamples = 3\\\\nvalue = [0, 3]\"] ;\\n107 -> 108 ;\\n109 [label=\"gini = 0.0\\\\nsamples = 7\\\\nvalue = [7, 0]\"] ;\\n107 -> 109 ;\\n110 [label=\"X[23] <= 118.0\\\\ngini = 0.444\\\\nsamples = 9\\\\nvalue = [6, 3]\"] ;\\n90 -> 110 ;\\n111 [label=\"gini = 0.0\\\\nsamples = 3\\\\nvalue = [0, 3]\"] ;\\n110 -> 111 ;\\n112 [label=\"gini = 0.0\\\\nsamples = 6\\\\nvalue = [6, 0]\"] ;\\n110 -> 112 ;\\n113 [label=\"X[26] <= 46.0\\\\ngini = 0.495\\\\nsamples = 138\\\\nvalue = [62, 76]\"] ;\\n89 -> 113 ;\\n114 [label=\"X[15] <= 46.0\\\\ngini = 0.327\\\\nsamples = 34\\\\nvalue = [7, 27]\"] ;\\n113 -> 114 ;\\n115 [label=\"X[84] <= 443.0\\\\ngini = 0.494\\\\nsamples = 9\\\\nvalue = [5, 4]\"] ;\\n114 -> 115 ;\\n116 [label=\"X[0] <= 69.5\\\\ngini = 0.32\\\\nsamples = 5\\\\nvalue = [1, 4]\"] ;\\n115 -> 116 ;\\n117 [label=\"gini = 0.0\\\\nsamples = 1\\\\nvalue = [1, 0]\"] ;\\n116 -> 117 ;\\n118 [label=\"gini = 0.0\\\\nsamples = 4\\\\nvalue = [0, 4]\"] ;\\n116 -> 118 ;\\n119 [label=\"gini = 0.0\\\\nsamples = 4\\\\nvalue = [4, 0]\"] ;\\n115 -> 119 ;\\n120 [label=\"X[46] <= 12.0\\\\ngini = 0.147\\\\nsamples = 25\\\\nvalue = [2, 23]\"] ;\\n114 -> 120 ;\\n121 [label=\"gini = 0.0\\\\nsamples = 2\\\\nvalue = [2, 0]\"] ;\\n120 -> 121 ;\\n122 [label=\"gini = 0.0\\\\nsamples = 23\\\\nvalue = [0, 23]\"] ;\\n120 -> 122 ;\\n123 [label=\"X[77] <= 1200.0\\\\ngini = 0.498\\\\nsamples = 104\\\\nvalue = [55, 49]\"] ;\\n113 -> 123 ;\\n124 [label=\"X[59] <= 22.5\\\\ngini = 0.46\\\\nsamples = 67\\\\nvalue = [43, 24]\"] ;\\n123 -> 124 ;\\n125 [label=\"X[120] <= 39.5\\\\ngini = 0.337\\\\nsamples = 14\\\\nvalue = [3, 11]\"] ;\\n124 -> 125 ;\\n126 [label=\"X[31] <= 8779.0\\\\ngini = 0.153\\\\nsamples = 12\\\\nvalue = [1, 11]\"] ;\\n125 -> 126 ;\\n127 [label=\"gini = 0.0\\\\nsamples = 11\\\\nvalue = [0, 11]\"] ;\\n126 -> 127 ;\\n128 [label=\"gini = 0.0\\\\nsamples = 1\\\\nvalue = [1, 0]\"] ;\\n126 -> 128 ;\\n129 [label=\"gini = 0.0\\\\nsamples = 2\\\\nvalue = [2, 0]\"] ;\\n125 -> 129 ;\\n130 [label=\"X[2] <= 9776.0\\\\ngini = 0.37\\\\nsamples = 53\\\\nvalue = [40, 13]\"] ;\\n124 -> 130 ;\\n131 [label=\"X[41] <= 1348.0\\\\ngini = 0.32\\\\nsamples = 50\\\\nvalue = [40, 10]\"] ;\\n130 -> 131 ;\\n132 [label=\"X[32] <= 22046.0\\\\ngini = 0.114\\\\nsamples = 33\\\\nvalue = [31, 2]\"] ;\\n131 -> 132 ;\\n133 [label=\"gini = 0.0\\\\nsamples = 31\\\\nvalue = [31, 0]\"] ;\\n132 -> 133 ;\\n134 [label=\"gini = 0.0\\\\nsamples = 2\\\\nvalue = [0, 2]\"] ;\\n132 -> 134 ;\\n135 [label=\"X[43] <= 530.5\\\\ngini = 0.498\\\\nsamples = 17\\\\nvalue = [9, 8]\"] ;\\n131 -> 135 ;\\n136 [label=\"X[127] <= 13218.5\\\\ngini = 0.18\\\\nsamples = 10\\\\nvalue = [9, 1]\"] ;\\n135 -> 136 ;\\n137 [label=\"gini = 0.0\\\\nsamples = 9\\\\nvalue = [9, 0]\"] ;\\n136 -> 137 ;\\n138 [label=\"gini = 0.0\\\\nsamples = 1\\\\nvalue = [0, 1]\"] ;\\n136 -> 138 ;\\n139 [label=\"gini = 0.0\\\\nsamples = 7\\\\nvalue = [0, 7]\"] ;\\n135 -> 139 ;\\n140 [label=\"gini = 0.0\\\\nsamples = 3\\\\nvalue = [0, 3]\"] ;\\n130 -> 140 ;\\n141 [label=\"X[16] <= 43.0\\\\ngini = 0.438\\\\nsamples = 37\\\\nvalue = [12, 25]\"] ;\\n123 -> 141 ;\\n142 [label=\"gini = 0.0\\\\nsamples = 5\\\\nvalue = [5, 0]\"] ;\\n141 -> 142 ;\\n143 [label=\"X[0] <= 18.0\\\\ngini = 0.342\\\\nsamples = 32\\\\nvalue = [7, 25]\"] ;\\n141 -> 143 ;\\n144 [label=\"X[6] <= 529.5\\\\ngini = 0.32\\\\nsamples = 5\\\\nvalue = [4, 1]\"] ;\\n143 -> 144 ;\\n145 [label=\"gini = 0.0\\\\nsamples = 4\\\\nvalue = [4, 0]\"] ;\\n144 -> 145 ;\\n146 [label=\"gini = 0.0\\\\nsamples = 1\\\\nvalue = [0, 1]\"] ;\\n144 -> 146 ;\\n147 [label=\"X[35] <= 19813.5\\\\ngini = 0.198\\\\nsamples = 27\\\\nvalue = [3, 24]\"] ;\\n143 -> 147 ;\\n148 [label=\"X[52] <= 18917.5\\\\ngini = 0.077\\\\nsamples = 25\\\\nvalue = [1, 24]\"] ;\\n147 -> 148 ;\\n149 [label=\"gini = 0.0\\\\nsamples = 24\\\\nvalue = [0, 24]\"] ;\\n148 -> 149 ;\\n150 [label=\"gini = 0.0\\\\nsamples = 1\\\\nvalue = [1, 0]\"] ;\\n148 -> 150 ;\\n151 [label=\"gini = 0.0\\\\nsamples = 2\\\\nvalue = [2, 0]\"] ;\\n147 -> 151 ;\\n152 [label=\"X[65] <= 163.0\\\\ngini = 0.379\\\\nsamples = 114\\\\nvalue = [29, 85]\"] ;\\n2 -> 152 ;\\n153 [label=\"X[8] <= 4349.5\\\\ngini = 0.263\\\\nsamples = 77\\\\nvalue = [12, 65]\"] ;\\n152 -> 153 ;\\n154 [label=\"X[7] <= 20.0\\\\ngini = 0.165\\\\nsamples = 66\\\\nvalue = [6, 60]\"] ;\\n153 -> 154 ;\\n155 [label=\"X[9] <= 581.0\\\\ngini = 0.48\\\\nsamples = 5\\\\nvalue = [3, 2]\"] ;\\n154 -> 155 ;\\n156 [label=\"gini = 0.0\\\\nsamples = 2\\\\nvalue = [0, 2]\"] ;\\n155 -> 156 ;\\n157 [label=\"gini = 0.0\\\\nsamples = 3\\\\nvalue = [3, 0]\"] ;\\n155 -> 157 ;\\n158 [label=\"X[19] <= 0.5\\\\ngini = 0.094\\\\nsamples = 61\\\\nvalue = [3, 58]\"] ;\\n154 -> 158 ;\\n159 [label=\"gini = 0.0\\\\nsamples = 1\\\\nvalue = [1, 0]\"] ;\\n158 -> 159 ;\\n160 [label=\"X[33] <= 21.0\\\\ngini = 0.064\\\\nsamples = 60\\\\nvalue = [2, 58]\"] ;\\n158 -> 160 ;\\n161 [label=\"X[47] <= 891.5\\\\ngini = 0.346\\\\nsamples = 9\\\\nvalue = [2, 7]\"] ;\\n160 -> 161 ;\\n162 [label=\"gini = 0.0\\\\nsamples = 7\\\\nvalue = [0, 7]\"] ;\\n161 -> 162 ;\\n163 [label=\"gini = 0.0\\\\nsamples = 2\\\\nvalue = [2, 0]\"] ;\\n161 -> 163 ;\\n164 [label=\"gini = 0.0\\\\nsamples = 51\\\\nvalue = [0, 51]\"] ;\\n160 -> 164 ;\\n165 [label=\"X[38] <= 676.0\\\\ngini = 0.496\\\\nsamples = 11\\\\nvalue = [6, 5]\"] ;\\n153 -> 165 ;\\n166 [label=\"gini = 0.0\\\\nsamples = 5\\\\nvalue = [0, 5]\"] ;\\n165 -> 166 ;\\n167 [label=\"gini = 0.0\\\\nsamples = 6\\\\nvalue = [6, 0]\"] ;\\n165 -> 167 ;\\n168 [label=\"X[44] <= 402.5\\\\ngini = 0.497\\\\nsamples = 37\\\\nvalue = [17, 20]\"] ;\\n152 -> 168 ;\\n169 [label=\"X[52] <= 7066.0\\\\ngini = 0.332\\\\nsamples = 19\\\\nvalue = [4, 15]\"] ;\\n168 -> 169 ;\\n170 [label=\"X[29] <= 19.5\\\\ngini = 0.124\\\\nsamples = 15\\\\nvalue = [1, 14]\"] ;\\n169 -> 170 ;\\n171 [label=\"gini = 0.0\\\\nsamples = 1\\\\nvalue = [1, 0]\"] ;\\n170 -> 171 ;\\n172 [label=\"gini = 0.0\\\\nsamples = 14\\\\nvalue = [0, 14]\"] ;\\n170 -> 172 ;\\n173 [label=\"X[0] <= 5652.0\\\\ngini = 0.375\\\\nsamples = 4\\\\nvalue = [3, 1]\"] ;\\n169 -> 173 ;\\n174 [label=\"gini = 0.0\\\\nsamples = 3\\\\nvalue = [3, 0]\"] ;\\n173 -> 174 ;\\n175 [label=\"gini = 0.0\\\\nsamples = 1\\\\nvalue = [0, 1]\"] ;\\n173 -> 175 ;\\n176 [label=\"X[16] <= 63.0\\\\ngini = 0.401\\\\nsamples = 18\\\\nvalue = [13, 5]\"] ;\\n168 -> 176 ;\\n177 [label=\"gini = 0.0\\\\nsamples = 4\\\\nvalue = [0, 4]\"] ;\\n176 -> 177 ;\\n178 [label=\"X[47] <= 5818.5\\\\ngini = 0.133\\\\nsamples = 14\\\\nvalue = [13, 1]\"] ;\\n176 -> 178 ;\\n179 [label=\"gini = 0.0\\\\nsamples = 13\\\\nvalue = [13, 0]\"] ;\\n178 -> 179 ;\\n180 [label=\"gini = 0.0\\\\nsamples = 1\\\\nvalue = [0, 1]\"] ;\\n178 -> 180 ;\\n181 [label=\"X[114] <= 11767.0\\\\ngini = 0.5\\\\nsamples = 820\\\\nvalue = [413, 407]\"] ;\\n1 -> 181 ;\\n182 [label=\"X[79] <= 2.5\\\\ngini = 0.499\\\\nsamples = 779\\\\nvalue = [407, 372]\"] ;\\n181 -> 182 ;\\n183 [label=\"X[122] <= 42.0\\\\ngini = 0.422\\\\nsamples = 86\\\\nvalue = [60, 26]\"] ;\\n182 -> 183 ;\\n184 [label=\"X[56] <= 327.0\\\\ngini = 0.498\\\\nsamples = 34\\\\nvalue = [16, 18]\"] ;\\n183 -> 184 ;\\n185 [label=\"X[41] <= 1241.5\\\\ngini = 0.363\\\\nsamples = 21\\\\nvalue = [5, 16]\"] ;\\n184 -> 185 ;\\n186 [label=\"X[28] <= 5466.0\\\\ngini = 0.117\\\\nsamples = 16\\\\nvalue = [1, 15]\"] ;\\n185 -> 186 ;\\n187 [label=\"gini = 0.0\\\\nsamples = 15\\\\nvalue = [0, 15]\"] ;\\n186 -> 187 ;\\n188 [label=\"gini = 0.0\\\\nsamples = 1\\\\nvalue = [1, 0]\"] ;\\n186 -> 188 ;\\n189 [label=\"X[47] <= 2938.0\\\\ngini = 0.32\\\\nsamples = 5\\\\nvalue = [4, 1]\"] ;\\n185 -> 189 ;\\n190 [label=\"gini = 0.0\\\\nsamples = 4\\\\nvalue = [4, 0]\"] ;\\n189 -> 190 ;\\n191 [label=\"gini = 0.0\\\\nsamples = 1\\\\nvalue = [0, 1]\"] ;\\n189 -> 191 ;\\n192 [label=\"X[49] <= 10968.0\\\\ngini = 0.26\\\\nsamples = 13\\\\nvalue = [11, 2]\"] ;\\n184 -> 192 ;\\n193 [label=\"gini = 0.0\\\\nsamples = 11\\\\nvalue = [11, 0]\"] ;\\n192 -> 193 ;\\n194 [label=\"gini = 0.0\\\\nsamples = 2\\\\nvalue = [0, 2]\"] ;\\n192 -> 194 ;\\n195 [label=\"X[68] <= 5.0\\\\ngini = 0.26\\\\nsamples = 52\\\\nvalue = [44, 8]\"] ;\\n183 -> 195 ;\\n196 [label=\"X[98] <= 16366.0\\\\ngini = 0.375\\\\nsamples = 4\\\\nvalue = [1, 3]\"] ;\\n195 -> 196 ;\\n197 [label=\"gini = 0.0\\\\nsamples = 3\\\\nvalue = [0, 3]\"] ;\\n196 -> 197 ;\\n198 [label=\"gini = 0.0\\\\nsamples = 1\\\\nvalue = [1, 0]\"] ;\\n196 -> 198 ;\\n199 [label=\"X[10] <= 36.0\\\\ngini = 0.187\\\\nsamples = 48\\\\nvalue = [43, 5]\"] ;\\n195 -> 199 ;\\n200 [label=\"X[73] <= 504.5\\\\ngini = 0.494\\\\nsamples = 9\\\\nvalue = [5, 4]\"] ;\\n199 -> 200 ;\\n201 [label=\"gini = 0.0\\\\nsamples = 5\\\\nvalue = [5, 0]\"] ;\\n200 -> 201 ;\\n202 [label=\"gini = 0.0\\\\nsamples = 4\\\\nvalue = [0, 4]\"] ;\\n200 -> 202 ;\\n203 [label=\"X[12] <= 9374.5\\\\ngini = 0.05\\\\nsamples = 39\\\\nvalue = [38, 1]\"] ;\\n199 -> 203 ;\\n204 [label=\"gini = 0.0\\\\nsamples = 38\\\\nvalue = [38, 0]\"] ;\\n203 -> 204 ;\\n205 [label=\"gini = 0.0\\\\nsamples = 1\\\\nvalue = [0, 1]\"] ;\\n203 -> 205 ;\\n206 [label=\"X[16] <= 1518.5\\\\ngini = 0.5\\\\nsamples = 693\\\\nvalue = [347, 346]\"] ;\\n182 -> 206 ;\\n207 [label=\"X[84] <= 16747.0\\\\ngini = 0.497\\\\nsamples = 516\\\\nvalue = [279, 237]\"] ;\\n206 -> 207 ;\\n208 [label=\"X[51] <= 63.0\\\\ngini = 0.499\\\\nsamples = 500\\\\nvalue = [263, 237]\"] ;\\n207 -> 208 ;\\n209 [label=\"X[35] <= 143.0\\\\ngini = 0.482\\\\nsamples = 143\\\\nvalue = [58, 85]\"] ;\\n208 -> 209 ;\\n210 [label=\"X[60] <= 5842.5\\\\ngini = 0.497\\\\nsamples = 72\\\\nvalue = [39, 33]\"] ;\\n209 -> 210 ;\\n211 [label=\"X[127] <= 254.5\\\\ngini = 0.47\\\\nsamples = 61\\\\nvalue = [38, 23]\"] ;\\n210 -> 211 ;\\n212 [label=\"X[56] <= 615.5\\\\ngini = 0.496\\\\nsamples = 35\\\\nvalue = [16, 19]\"] ;\\n211 -> 212 ;\\n213 [label=\"X[32] <= 73.5\\\\ngini = 0.42\\\\nsamples = 20\\\\nvalue = [14, 6]\"] ;\\n212 -> 213 ;\\n214 [label=\"X[98] <= 12.5\\\\ngini = 0.444\\\\nsamples = 9\\\\nvalue = [3, 6]\"] ;\\n213 -> 214 ;\\n215 [label=\"gini = 0.0\\\\nsamples = 3\\\\nvalue = [3, 0]\"] ;\\n214 -> 215 ;\\n216 [label=\"gini = 0.0\\\\nsamples = 6\\\\nvalue = [0, 6]\"] ;\\n214 -> 216 ;\\n217 [label=\"gini = 0.0\\\\nsamples = 11\\\\nvalue = [11, 0]\"] ;\\n213 -> 217 ;\\n218 [label=\"X[73] <= 5896.5\\\\ngini = 0.231\\\\nsamples = 15\\\\nvalue = [2, 13]\"] ;\\n212 -> 218 ;\\n219 [label=\"gini = 0.0\\\\nsamples = 13\\\\nvalue = [0, 13]\"] ;\\n218 -> 219 ;\\n220 [label=\"gini = 0.0\\\\nsamples = 2\\\\nvalue = [2, 0]\"] ;\\n218 -> 220 ;\\n221 [label=\"X[17] <= 25.5\\\\ngini = 0.26\\\\nsamples = 26\\\\nvalue = [22, 4]\"] ;\\n211 -> 221 ;\\n222 [label=\"gini = 0.0\\\\nsamples = 3\\\\nvalue = [0, 3]\"] ;\\n221 -> 222 ;\\n223 [label=\"X[7] <= 14712.5\\\\ngini = 0.083\\\\nsamples = 23\\\\nvalue = [22, 1]\"] ;\\n221 -> 223 ;\\n224 [label=\"gini = 0.0\\\\nsamples = 22\\\\nvalue = [22, 0]\"] ;\\n223 -> 224 ;\\n225 [label=\"gini = 0.0\\\\nsamples = 1\\\\nvalue = [0, 1]\"] ;\\n223 -> 225 ;\\n226 [label=\"X[109] <= 2899.0\\\\ngini = 0.165\\\\nsamples = 11\\\\nvalue = [1, 10]\"] ;\\n210 -> 226 ;\\n227 [label=\"gini = 0.0\\\\nsamples = 10\\\\nvalue = [0, 10]\"] ;\\n226 -> 227 ;\\n228 [label=\"gini = 0.0\\\\nsamples = 1\\\\nvalue = [1, 0]\"] ;\\n226 -> 228 ;\\n229 [label=\"X[62] <= 29.5\\\\ngini = 0.392\\\\nsamples = 71\\\\nvalue = [19, 52]\"] ;\\n209 -> 229 ;\\n230 [label=\"X[42] <= 690.0\\\\ngini = 0.444\\\\nsamples = 15\\\\nvalue = [10, 5]\"] ;\\n229 -> 230 ;\\n231 [label=\"gini = 0.0\\\\nsamples = 10\\\\nvalue = [10, 0]\"] ;\\n230 -> 231 ;\\n232 [label=\"gini = 0.0\\\\nsamples = 5\\\\nvalue = [0, 5]\"] ;\\n230 -> 232 ;\\n233 [label=\"X[59] <= 21355.0\\\\ngini = 0.27\\\\nsamples = 56\\\\nvalue = [9, 47]\"] ;\\n229 -> 233 ;\\n234 [label=\"X[3] <= 3.5\\\\ngini = 0.201\\\\nsamples = 53\\\\nvalue = [6, 47]\"] ;\\n233 -> 234 ;\\n235 [label=\"X[108] <= 2480.0\\\\ngini = 0.375\\\\nsamples = 4\\\\nvalue = [3, 1]\"] ;\\n234 -> 235 ;\\n236 [label=\"gini = 0.0\\\\nsamples = 3\\\\nvalue = [3, 0]\"] ;\\n235 -> 236 ;\\n237 [label=\"gini = 0.0\\\\nsamples = 1\\\\nvalue = [0, 1]\"] ;\\n235 -> 237 ;\\n238 [label=\"X[93] <= 2392.0\\\\ngini = 0.115\\\\nsamples = 49\\\\nvalue = [3, 46]\"] ;\\n234 -> 238 ;\\n239 [label=\"gini = 0.0\\\\nsamples = 41\\\\nvalue = [0, 41]\"] ;\\n238 -> 239 ;\\n240 [label=\"X[9] <= 151.0\\\\ngini = 0.469\\\\nsamples = 8\\\\nvalue = [3, 5]\"] ;\\n238 -> 240 ;\\n241 [label=\"gini = 0.0\\\\nsamples = 3\\\\nvalue = [3, 0]\"] ;\\n240 -> 241 ;\\n242 [label=\"gini = 0.0\\\\nsamples = 5\\\\nvalue = [0, 5]\"] ;\\n240 -> 242 ;\\n243 [label=\"gini = 0.0\\\\nsamples = 3\\\\nvalue = [3, 0]\"] ;\\n233 -> 243 ;\\n244 [label=\"X[79] <= 43.5\\\\ngini = 0.489\\\\nsamples = 357\\\\nvalue = [205, 152]\"] ;\\n208 -> 244 ;\\n245 [label=\"X[89] <= 4048.0\\\\ngini = 0.471\\\\nsamples = 79\\\\nvalue = [30, 49]\"] ;\\n244 -> 245 ;\\n246 [label=\"X[36] <= 35.5\\\\ngini = 0.498\\\\nsamples = 64\\\\nvalue = [30, 34]\"] ;\\n245 -> 246 ;\\n247 [label=\"gini = 0.0\\\\nsamples = 12\\\\nvalue = [0, 12]\"] ;\\n246 -> 247 ;\\n248 [label=\"X[100] <= 183.0\\\\ngini = 0.488\\\\nsamples = 52\\\\nvalue = [30, 22]\"] ;\\n246 -> 248 ;\\n249 [label=\"X[42] <= 315.0\\\\ngini = 0.459\\\\nsamples = 28\\\\nvalue = [10, 18]\"] ;\\n248 -> 249 ;\\n250 [label=\"X[79] <= 15.0\\\\ngini = 0.484\\\\nsamples = 17\\\\nvalue = [10, 7]\"] ;\\n249 -> 250 ;\\n251 [label=\"gini = 0.0\\\\nsamples = 5\\\\nvalue = [0, 5]\"] ;\\n250 -> 251 ;\\n252 [label=\"X[119] <= 2218.5\\\\ngini = 0.278\\\\nsamples = 12\\\\nvalue = [10, 2]\"] ;\\n250 -> 252 ;\\n253 [label=\"gini = 0.0\\\\nsamples = 10\\\\nvalue = [10, 0]\"] ;\\n252 -> 253 ;\\n254 [label=\"gini = 0.0\\\\nsamples = 2\\\\nvalue = [0, 2]\"] ;\\n252 -> 254 ;\\n255 [label=\"gini = 0.0\\\\nsamples = 11\\\\nvalue = [0, 11]\"] ;\\n249 -> 255 ;\\n256 [label=\"X[17] <= 44.0\\\\ngini = 0.278\\\\nsamples = 24\\\\nvalue = [20, 4]\"] ;\\n248 -> 256 ;\\n257 [label=\"X[127] <= 13.5\\\\ngini = 0.32\\\\nsamples = 5\\\\nvalue = [1, 4]\"] ;\\n256 -> 257 ;\\n258 [label=\"gini = 0.0\\\\nsamples = 1\\\\nvalue = [1, 0]\"] ;\\n257 -> 258 ;\\n259 [label=\"gini = 0.0\\\\nsamples = 4\\\\nvalue = [0, 4]\"] ;\\n257 -> 259 ;\\n260 [label=\"gini = 0.0\\\\nsamples = 19\\\\nvalue = [19, 0]\"] ;\\n256 -> 260 ;\\n261 [label=\"gini = 0.0\\\\nsamples = 15\\\\nvalue = [0, 15]\"] ;\\n245 -> 261 ;\\n262 [label=\"X[110] <= 1042.5\\\\ngini = 0.466\\\\nsamples = 278\\\\nvalue = [175, 103]\"] ;\\n244 -> 262 ;\\n263 [label=\"X[19] <= 846.5\\\\ngini = 0.429\\\\nsamples = 209\\\\nvalue = [144, 65]\"] ;\\n262 -> 263 ;\\n264 [label=\"X[4] <= 1.5\\\\ngini = 0.36\\\\nsamples = 136\\\\nvalue = [104, 32]\"] ;\\n263 -> 264 ;\\n265 [label=\"gini = 0.0\\\\nsamples = 4\\\\nvalue = [0, 4]\"] ;\\n264 -> 265 ;\\n266 [label=\"X[51] <= 372.0\\\\ngini = 0.334\\\\nsamples = 132\\\\nvalue = [104, 28]\"] ;\\n264 -> 266 ;\\n267 [label=\"X[122] <= 3141.5\\\\ngini = 0.462\\\\nsamples = 47\\\\nvalue = [30, 17]\"] ;\\n266 -> 267 ;\\n268 [label=\"X[14] <= 101.0\\\\ngini = 0.393\\\\nsamples = 41\\\\nvalue = [30, 11]\"] ;\\n267 -> 268 ;\\n269 [label=\"gini = 0.0\\\\nsamples = 17\\\\nvalue = [17, 0]\"] ;\\n268 -> 269 ;\\n270 [label=\"X[13] <= 304.5\\\\ngini = 0.497\\\\nsamples = 24\\\\nvalue = [13, 11]\"] ;\\n268 -> 270 ;\\n271 [label=\"X[44] <= 763.0\\\\ngini = 0.375\\\\nsamples = 16\\\\nvalue = [12, 4]\"] ;\\n270 -> 271 ;\\n272 [label=\"gini = 0.0\\\\nsamples = 11\\\\nvalue = [11, 0]\"] ;\\n271 -> 272 ;\\n273 [label=\"X[7] <= 10908.5\\\\ngini = 0.32\\\\nsamples = 5\\\\nvalue = [1, 4]\"] ;\\n271 -> 273 ;\\n274 [label=\"gini = 0.0\\\\nsamples = 4\\\\nvalue = [0, 4]\"] ;\\n273 -> 274 ;\\n275 [label=\"gini = 0.0\\\\nsamples = 1\\\\nvalue = [1, 0]\"] ;\\n273 -> 275 ;\\n276 [label=\"X[120] <= 587.0\\\\ngini = 0.219\\\\nsamples = 8\\\\nvalue = [1, 7]\"] ;\\n270 -> 276 ;\\n277 [label=\"gini = 0.0\\\\nsamples = 7\\\\nvalue = [0, 7]\"] ;\\n276 -> 277 ;\\n278 [label=\"gini = 0.0\\\\nsamples = 1\\\\nvalue = [1, 0]\"] ;\\n276 -> 278 ;\\n279 [label=\"gini = 0.0\\\\nsamples = 6\\\\nvalue = [0, 6]\"] ;\\n267 -> 279 ;\\n280 [label=\"X[13] <= 1.5\\\\ngini = 0.225\\\\nsamples = 85\\\\nvalue = [74, 11]\"] ;\\n266 -> 280 ;\\n281 [label=\"gini = 0.0\\\\nsamples = 2\\\\nvalue = [0, 2]\"] ;\\n280 -> 281 ;\\n282 [label=\"X[40] <= 1400.5\\\\ngini = 0.193\\\\nsamples = 83\\\\nvalue = [74, 9]\"] ;\\n280 -> 282 ;\\n283 [label=\"X[52] <= 16505.0\\\\ngini = 0.087\\\\nsamples = 66\\\\nvalue = [63, 3]\"] ;\\n282 -> 283 ;\\n284 [label=\"X[28] <= 8.5\\\\ngini = 0.06\\\\nsamples = 65\\\\nvalue = [63, 2]\"] ;\\n283 -> 284 ;\\n285 [label=\"X[123] <= 442.0\\\\ngini = 0.5\\\\nsamples = 2\\\\nvalue = [1, 1]\"] ;\\n284 -> 285 ;\\n286 [label=\"gini = 0.0\\\\nsamples = 1\\\\nvalue = [1, 0]\"] ;\\n285 -> 286 ;\\n287 [label=\"gini = 0.0\\\\nsamples = 1\\\\nvalue = [0, 1]\"] ;\\n285 -> 287 ;\\n288 [label=\"X[72] <= 1.5\\\\ngini = 0.031\\\\nsamples = 63\\\\nvalue = [62, 1]\"] ;\\n284 -> 288 ;\\n289 [label=\"X[64] <= 116.5\\\\ngini = 0.444\\\\nsamples = 3\\\\nvalue = [2, 1]\"] ;\\n288 -> 289 ;\\n290 [label=\"gini = 0.0\\\\nsamples = 1\\\\nvalue = [0, 1]\"] ;\\n289 -> 290 ;\\n291 [label=\"gini = 0.0\\\\nsamples = 2\\\\nvalue = [2, 0]\"] ;\\n289 -> 291 ;\\n292 [label=\"gini = 0.0\\\\nsamples = 60\\\\nvalue = [60, 0]\"] ;\\n288 -> 292 ;\\n293 [label=\"gini = 0.0\\\\nsamples = 1\\\\nvalue = [0, 1]\"] ;\\n283 -> 293 ;\\n294 [label=\"X[50] <= 143.0\\\\ngini = 0.457\\\\nsamples = 17\\\\nvalue = [11, 6]\"] ;\\n282 -> 294 ;\\n295 [label=\"gini = 0.0\\\\nsamples = 5\\\\nvalue = [0, 5]\"] ;\\n294 -> 295 ;\\n296 [label=\"X[22] <= 9.5\\\\ngini = 0.153\\\\nsamples = 12\\\\nvalue = [11, 1]\"] ;\\n294 -> 296 ;\\n297 [label=\"gini = 0.0\\\\nsamples = 1\\\\nvalue = [0, 1]\"] ;\\n296 -> 297 ;\\n298 [label=\"gini = 0.0\\\\nsamples = 11\\\\nvalue = [11, 0]\"] ;\\n296 -> 298 ;\\n299 [label=\"X[110] <= 360.5\\\\ngini = 0.495\\\\nsamples = 73\\\\nvalue = [40, 33]\"] ;\\n263 -> 299 ;\\n300 [label=\"X[32] <= 54.5\\\\ngini = 0.493\\\\nsamples = 59\\\\nvalue = [26, 33]\"] ;\\n299 -> 300 ;\\n301 [label=\"X[41] <= 36.0\\\\ngini = 0.287\\\\nsamples = 23\\\\nvalue = [4, 19]\"] ;\\n300 -> 301 ;\\n302 [label=\"X[64] <= 465.0\\\\ngini = 0.32\\\\nsamples = 5\\\\nvalue = [4, 1]\"] ;\\n301 -> 302 ;\\n303 [label=\"gini = 0.0\\\\nsamples = 4\\\\nvalue = [4, 0]\"] ;\\n302 -> 303 ;\\n304 [label=\"gini = 0.0\\\\nsamples = 1\\\\nvalue = [0, 1]\"] ;\\n302 -> 304 ;\\n305 [label=\"gini = 0.0\\\\nsamples = 18\\\\nvalue = [0, 18]\"] ;\\n301 -> 305 ;\\n306 [label=\"X[36] <= 495.5\\\\ngini = 0.475\\\\nsamples = 36\\\\nvalue = [22, 14]\"] ;\\n300 -> 306 ;\\n307 [label=\"X[61] <= 885.0\\\\ngini = 0.391\\\\nsamples = 15\\\\nvalue = [4, 11]\"] ;\\n306 -> 307 ;\\n308 [label=\"gini = 0.0\\\\nsamples = 10\\\\nvalue = [0, 10]\"] ;\\n307 -> 308 ;\\n309 [label=\"X[1] <= 8.0\\\\ngini = 0.32\\\\nsamples = 5\\\\nvalue = [4, 1]\"] ;\\n307 -> 309 ;\\n310 [label=\"gini = 0.0\\\\nsamples = 1\\\\nvalue = [0, 1]\"] ;\\n309 -> 310 ;\\n311 [label=\"gini = 0.0\\\\nsamples = 4\\\\nvalue = [4, 0]\"] ;\\n309 -> 311 ;\\n312 [label=\"X[28] <= 8171.5\\\\ngini = 0.245\\\\nsamples = 21\\\\nvalue = [18, 3]\"] ;\\n306 -> 312 ;\\n313 [label=\"X[67] <= 14426.0\\\\ngini = 0.1\\\\nsamples = 19\\\\nvalue = [18, 1]\"] ;\\n312 -> 313 ;\\n314 [label=\"gini = 0.0\\\\nsamples = 18\\\\nvalue = [18, 0]\"] ;\\n313 -> 314 ;\\n315 [label=\"gini = 0.0\\\\nsamples = 1\\\\nvalue = [0, 1]\"] ;\\n313 -> 315 ;\\n316 [label=\"gini = 0.0\\\\nsamples = 2\\\\nvalue = [0, 2]\"] ;\\n312 -> 316 ;\\n317 [label=\"gini = 0.0\\\\nsamples = 14\\\\nvalue = [14, 0]\"] ;\\n299 -> 317 ;\\n318 [label=\"X[66] <= 454.5\\\\ngini = 0.495\\\\nsamples = 69\\\\nvalue = [31, 38]\"] ;\\n262 -> 318 ;\\n319 [label=\"X[34] <= 22.0\\\\ngini = 0.382\\\\nsamples = 35\\\\nvalue = [9, 26]\"] ;\\n318 -> 319 ;\\n320 [label=\"X[67] <= 2872.5\\\\ngini = 0.444\\\\nsamples = 9\\\\nvalue = [6, 3]\"] ;\\n319 -> 320 ;\\n321 [label=\"gini = 0.0\\\\nsamples = 6\\\\nvalue = [6, 0]\"] ;\\n320 -> 321 ;\\n322 [label=\"gini = 0.0\\\\nsamples = 3\\\\nvalue = [0, 3]\"] ;\\n320 -> 322 ;\\n323 [label=\"X[21] <= 16221.0\\\\ngini = 0.204\\\\nsamples = 26\\\\nvalue = [3, 23]\"] ;\\n319 -> 323 ;\\n324 [label=\"gini = 0.0\\\\nsamples = 22\\\\nvalue = [0, 22]\"] ;\\n323 -> 324 ;\\n325 [label=\"X[46] <= 531.0\\\\ngini = 0.375\\\\nsamples = 4\\\\nvalue = [3, 1]\"] ;\\n323 -> 325 ;\\n326 [label=\"gini = 0.0\\\\nsamples = 3\\\\nvalue = [3, 0]\"] ;\\n325 -> 326 ;\\n327 [label=\"gini = 0.0\\\\nsamples = 1\\\\nvalue = [0, 1]\"] ;\\n325 -> 327 ;\\n328 [label=\"X[20] <= 15.0\\\\ngini = 0.457\\\\nsamples = 34\\\\nvalue = [22, 12]\"] ;\\n318 -> 328 ;\\n329 [label=\"gini = 0.0\\\\nsamples = 4\\\\nvalue = [0, 4]\"] ;\\n328 -> 329 ;\\n330 [label=\"X[48] <= 7918.0\\\\ngini = 0.391\\\\nsamples = 30\\\\nvalue = [22, 8]\"] ;\\n328 -> 330 ;\\n331 [label=\"X[13] <= 5580.0\\\\ngini = 0.302\\\\nsamples = 27\\\\nvalue = [22, 5]\"] ;\\n330 -> 331 ;\\n332 [label=\"X[119] <= 0.5\\\\ngini = 0.091\\\\nsamples = 21\\\\nvalue = [20, 1]\"] ;\\n331 -> 332 ;\\n333 [label=\"gini = 0.0\\\\nsamples = 1\\\\nvalue = [0, 1]\"] ;\\n332 -> 333 ;\\n334 [label=\"gini = 0.0\\\\nsamples = 20\\\\nvalue = [20, 0]\"] ;\\n332 -> 334 ;\\n335 [label=\"X[45] <= 394.0\\\\ngini = 0.444\\\\nsamples = 6\\\\nvalue = [2, 4]\"] ;\\n331 -> 335 ;\\n336 [label=\"gini = 0.0\\\\nsamples = 2\\\\nvalue = [2, 0]\"] ;\\n335 -> 336 ;\\n337 [label=\"gini = 0.0\\\\nsamples = 4\\\\nvalue = [0, 4]\"] ;\\n335 -> 337 ;\\n338 [label=\"gini = 0.0\\\\nsamples = 3\\\\nvalue = [0, 3]\"] ;\\n330 -> 338 ;\\n339 [label=\"gini = 0.0\\\\nsamples = 16\\\\nvalue = [16, 0]\"] ;\\n207 -> 339 ;\\n340 [label=\"X[41] <= 5807.0\\\\ngini = 0.473\\\\nsamples = 177\\\\nvalue = [68, 109]\"] ;\\n206 -> 340 ;\\n341 [label=\"X[59] <= 624.0\\\\ngini = 0.493\\\\nsamples = 145\\\\nvalue = [64, 81]\"] ;\\n340 -> 341 ;\\n342 [label=\"X[112] <= 328.0\\\\ngini = 0.444\\\\nsamples = 90\\\\nvalue = [30, 60]\"] ;\\n341 -> 342 ;\\n343 [label=\"X[79] <= 449.5\\\\ngini = 0.32\\\\nsamples = 55\\\\nvalue = [11, 44]\"] ;\\n342 -> 343 ;\\n344 [label=\"X[40] <= 21169.5\\\\ngini = 0.102\\\\nsamples = 37\\\\nvalue = [2, 35]\"] ;\\n343 -> 344 ;\\n345 [label=\"X[20] <= 16499.0\\\\ngini = 0.054\\\\nsamples = 36\\\\nvalue = [1, 35]\"] ;\\n344 -> 345 ;\\n346 [label=\"gini = 0.0\\\\nsamples = 35\\\\nvalue = [0, 35]\"] ;\\n345 -> 346 ;\\n347 [label=\"gini = 0.0\\\\nsamples = 1\\\\nvalue = [1, 0]\"] ;\\n345 -> 347 ;\\n348 [label=\"gini = 0.0\\\\nsamples = 1\\\\nvalue = [1, 0]\"] ;\\n344 -> 348 ;\\n349 [label=\"X[115] <= 4.5\\\\ngini = 0.5\\\\nsamples = 18\\\\nvalue = [9, 9]\"] ;\\n343 -> 349 ;\\n350 [label=\"gini = 0.0\\\\nsamples = 6\\\\nvalue = [0, 6]\"] ;\\n349 -> 350 ;\\n351 [label=\"X[111] <= 458.5\\\\ngini = 0.375\\\\nsamples = 12\\\\nvalue = [9, 3]\"] ;\\n349 -> 351 ;\\n352 [label=\"gini = 0.0\\\\nsamples = 8\\\\nvalue = [8, 0]\"] ;\\n351 -> 352 ;\\n353 [label=\"X[4] <= 54.5\\\\ngini = 0.375\\\\nsamples = 4\\\\nvalue = [1, 3]\"] ;\\n351 -> 353 ;\\n354 [label=\"gini = 0.0\\\\nsamples = 1\\\\nvalue = [1, 0]\"] ;\\n353 -> 354 ;\\n355 [label=\"gini = 0.0\\\\nsamples = 3\\\\nvalue = [0, 3]\"] ;\\n353 -> 355 ;\\n356 [label=\"X[76] <= 46.0\\\\ngini = 0.496\\\\nsamples = 35\\\\nvalue = [19, 16]\"] ;\\n342 -> 356 ;\\n357 [label=\"X[10] <= 8386.0\\\\ngini = 0.142\\\\nsamples = 13\\\\nvalue = [12, 1]\"] ;\\n356 -> 357 ;\\n358 [label=\"gini = 0.0\\\\nsamples = 12\\\\nvalue = [12, 0]\"] ;\\n357 -> 358 ;\\n359 [label=\"gini = 0.0\\\\nsamples = 1\\\\nvalue = [0, 1]\"] ;\\n357 -> 359 ;\\n360 [label=\"X[111] <= 4060.0\\\\ngini = 0.434\\\\nsamples = 22\\\\nvalue = [7, 15]\"] ;\\n356 -> 360 ;\\n361 [label=\"X[67] <= 26.0\\\\ngini = 0.219\\\\nsamples = 16\\\\nvalue = [2, 14]\"] ;\\n360 -> 361 ;\\n362 [label=\"X[50] <= 257.5\\\\ngini = 0.444\\\\nsamples = 3\\\\nvalue = [2, 1]\"] ;\\n361 -> 362 ;\\n363 [label=\"gini = 0.0\\\\nsamples = 1\\\\nvalue = [0, 1]\"] ;\\n362 -> 363 ;\\n364 [label=\"gini = 0.0\\\\nsamples = 2\\\\nvalue = [2, 0]\"] ;\\n362 -> 364 ;\\n365 [label=\"gini = 0.0\\\\nsamples = 13\\\\nvalue = [0, 13]\"] ;\\n361 -> 365 ;\\n366 [label=\"X[40] <= 7930.5\\\\ngini = 0.278\\\\nsamples = 6\\\\nvalue = [5, 1]\"] ;\\n360 -> 366 ;\\n367 [label=\"gini = 0.0\\\\nsamples = 5\\\\nvalue = [5, 0]\"] ;\\n366 -> 367 ;\\n368 [label=\"gini = 0.0\\\\nsamples = 1\\\\nvalue = [0, 1]\"] ;\\n366 -> 368 ;\\n369 [label=\"X[4] <= 841.0\\\\ngini = 0.472\\\\nsamples = 55\\\\nvalue = [34, 21]\"] ;\\n341 -> 369 ;\\n370 [label=\"X[15] <= 203.5\\\\ngini = 0.499\\\\nsamples = 38\\\\nvalue = [18, 20]\"] ;\\n369 -> 370 ;\\n371 [label=\"X[119] <= 156.0\\\\ngini = 0.375\\\\nsamples = 16\\\\nvalue = [12, 4]\"] ;\\n370 -> 371 ;\\n372 [label=\"gini = 0.0\\\\nsamples = 10\\\\nvalue = [10, 0]\"] ;\\n371 -> 372 ;\\n373 [label=\"X[82] <= 2469.5\\\\ngini = 0.444\\\\nsamples = 6\\\\nvalue = [2, 4]\"] ;\\n371 -> 373 ;\\n374 [label=\"gini = 0.0\\\\nsamples = 4\\\\nvalue = [0, 4]\"] ;\\n373 -> 374 ;\\n375 [label=\"gini = 0.0\\\\nsamples = 2\\\\nvalue = [2, 0]\"] ;\\n373 -> 375 ;\\n376 [label=\"X[9] <= 1672.5\\\\ngini = 0.397\\\\nsamples = 22\\\\nvalue = [6, 16]\"] ;\\n370 -> 376 ;\\n377 [label=\"X[108] <= 6084.0\\\\ngini = 0.208\\\\nsamples = 17\\\\nvalue = [2, 15]\"] ;\\n376 -> 377 ;\\n378 [label=\"gini = 0.0\\\\nsamples = 15\\\\nvalue = [0, 15]\"] ;\\n377 -> 378 ;\\n379 [label=\"gini = 0.0\\\\nsamples = 2\\\\nvalue = [2, 0]\"] ;\\n377 -> 379 ;\\n380 [label=\"X[59] <= 9220.0\\\\ngini = 0.32\\\\nsamples = 5\\\\nvalue = [4, 1]\"] ;\\n376 -> 380 ;\\n381 [label=\"gini = 0.0\\\\nsamples = 4\\\\nvalue = [4, 0]\"] ;\\n380 -> 381 ;\\n382 [label=\"gini = 0.0\\\\nsamples = 1\\\\nvalue = [0, 1]\"] ;\\n380 -> 382 ;\\n383 [label=\"X[100] <= 1.5\\\\ngini = 0.111\\\\nsamples = 17\\\\nvalue = [16, 1]\"] ;\\n369 -> 383 ;\\n384 [label=\"gini = 0.0\\\\nsamples = 1\\\\nvalue = [0, 1]\"] ;\\n383 -> 384 ;\\n385 [label=\"gini = 0.0\\\\nsamples = 16\\\\nvalue = [16, 0]\"] ;\\n383 -> 385 ;\\n386 [label=\"X[25] <= 27.0\\\\ngini = 0.219\\\\nsamples = 32\\\\nvalue = [4, 28]\"] ;\\n340 -> 386 ;\\n387 [label=\"gini = 0.0\\\\nsamples = 2\\\\nvalue = [2, 0]\"] ;\\n386 -> 387 ;\\n388 [label=\"X[66] <= 16346.5\\\\ngini = 0.124\\\\nsamples = 30\\\\nvalue = [2, 28]\"] ;\\n386 -> 388 ;\\n389 [label=\"X[73] <= 1.5\\\\ngini = 0.067\\\\nsamples = 29\\\\nvalue = [1, 28]\"] ;\\n388 -> 389 ;\\n390 [label=\"gini = 0.0\\\\nsamples = 1\\\\nvalue = [1, 0]\"] ;\\n389 -> 390 ;\\n391 [label=\"gini = 0.0\\\\nsamples = 28\\\\nvalue = [0, 28]\"] ;\\n389 -> 391 ;\\n392 [label=\"gini = 0.0\\\\nsamples = 1\\\\nvalue = [1, 0]\"] ;\\n388 -> 392 ;\\n393 [label=\"X[53] <= 10.5\\\\ngini = 0.25\\\\nsamples = 41\\\\nvalue = [6, 35]\"] ;\\n181 -> 393 ;\\n394 [label=\"gini = 0.0\\\\nsamples = 3\\\\nvalue = [3, 0]\"] ;\\n393 -> 394 ;\\n395 [label=\"X[115] <= 17494.5\\\\ngini = 0.145\\\\nsamples = 38\\\\nvalue = [3, 35]\"] ;\\n393 -> 395 ;\\n396 [label=\"X[3] <= 21811.5\\\\ngini = 0.054\\\\nsamples = 36\\\\nvalue = [1, 35]\"] ;\\n395 -> 396 ;\\n397 [label=\"gini = 0.0\\\\nsamples = 35\\\\nvalue = [0, 35]\"] ;\\n396 -> 397 ;\\n398 [label=\"gini = 0.0\\\\nsamples = 1\\\\nvalue = [1, 0]\"] ;\\n396 -> 398 ;\\n399 [label=\"gini = 0.0\\\\nsamples = 2\\\\nvalue = [2, 0]\"] ;\\n395 -> 399 ;\\n400 [label=\"X[91] <= 1282.0\\\\ngini = 0.498\\\\nsamples = 2572\\\\nvalue = [1369, 1203]\"] ;\\n0 -> 400 [labeldistance=2.5, labelangle=-45, headlabel=\"False\"] ;\\n401 [label=\"X[93] <= 54.5\\\\ngini = 0.492\\\\nsamples = 1808\\\\nvalue = [1016, 792]\"] ;\\n400 -> 401 ;\\n402 [label=\"X[50] <= 1057.0\\\\ngini = 0.5\\\\nsamples = 541\\\\nvalue = [268, 273]\"] ;\\n401 -> 402 ;\\n403 [label=\"X[5] <= 10838.0\\\\ngini = 0.496\\\\nsamples = 379\\\\nvalue = [207, 172]\"] ;\\n402 -> 403 ;\\n404 [label=\"X[10] <= 4.0\\\\ngini = 0.499\\\\nsamples = 357\\\\nvalue = [187, 170]\"] ;\\n403 -> 404 ;\\n405 [label=\"X[59] <= 3769.5\\\\ngini = 0.358\\\\nsamples = 30\\\\nvalue = [7, 23]\"] ;\\n404 -> 405 ;\\n406 [label=\"X[112] <= 1046.5\\\\ngini = 0.252\\\\nsamples = 27\\\\nvalue = [4, 23]\"] ;\\n405 -> 406 ;\\n407 [label=\"gini = 0.0\\\\nsamples = 19\\\\nvalue = [0, 19]\"] ;\\n406 -> 407 ;\\n408 [label=\"X[35] <= 156.0\\\\ngini = 0.5\\\\nsamples = 8\\\\nvalue = [4, 4]\"] ;\\n406 -> 408 ;\\n409 [label=\"gini = 0.0\\\\nsamples = 3\\\\nvalue = [3, 0]\"] ;\\n408 -> 409 ;\\n410 [label=\"X[29] <= 117.5\\\\ngini = 0.32\\\\nsamples = 5\\\\nvalue = [1, 4]\"] ;\\n408 -> 410 ;\\n411 [label=\"gini = 0.0\\\\nsamples = 1\\\\nvalue = [1, 0]\"] ;\\n410 -> 411 ;\\n412 [label=\"gini = 0.0\\\\nsamples = 4\\\\nvalue = [0, 4]\"] ;\\n410 -> 412 ;\\n413 [label=\"gini = 0.0\\\\nsamples = 3\\\\nvalue = [3, 0]\"] ;\\n405 -> 413 ;\\n414 [label=\"X[62] <= 33.5\\\\ngini = 0.495\\\\nsamples = 327\\\\nvalue = [180, 147]\"] ;\\n404 -> 414 ;\\n415 [label=\"X[34] <= 9216.5\\\\ngini = 0.366\\\\nsamples = 58\\\\nvalue = [44, 14]\"] ;\\n414 -> 415 ;\\n416 [label=\"X[26] <= 1954.0\\\\ngini = 0.302\\\\nsamples = 54\\\\nvalue = [44, 10]\"] ;\\n415 -> 416 ;\\n417 [label=\"X[70] <= 12090.0\\\\ngini = 0.136\\\\nsamples = 41\\\\nvalue = [38, 3]\"] ;\\n416 -> 417 ;\\n418 [label=\"X[41] <= 1.5\\\\ngini = 0.05\\\\nsamples = 39\\\\nvalue = [38, 1]\"] ;\\n417 -> 418 ;\\n419 [label=\"X[28] <= 351.0\\\\ngini = 0.5\\\\nsamples = 2\\\\nvalue = [1, 1]\"] ;\\n418 -> 419 ;\\n420 [label=\"gini = 0.0\\\\nsamples = 1\\\\nvalue = [1, 0]\"] ;\\n419 -> 420 ;\\n421 [label=\"gini = 0.0\\\\nsamples = 1\\\\nvalue = [0, 1]\"] ;\\n419 -> 421 ;\\n422 [label=\"gini = 0.0\\\\nsamples = 37\\\\nvalue = [37, 0]\"] ;\\n418 -> 422 ;\\n423 [label=\"gini = 0.0\\\\nsamples = 2\\\\nvalue = [0, 2]\"] ;\\n417 -> 423 ;\\n424 [label=\"X[64] <= 240.0\\\\ngini = 0.497\\\\nsamples = 13\\\\nvalue = [6, 7]\"] ;\\n416 -> 424 ;\\n425 [label=\"X[73] <= 11965.0\\\\ngini = 0.245\\\\nsamples = 7\\\\nvalue = [6, 1]\"] ;\\n424 -> 425 ;\\n426 [label=\"gini = 0.0\\\\nsamples = 6\\\\nvalue = [6, 0]\"] ;\\n425 -> 426 ;\\n427 [label=\"gini = 0.0\\\\nsamples = 1\\\\nvalue = [0, 1]\"] ;\\n425 -> 427 ;\\n428 [label=\"gini = 0.0\\\\nsamples = 6\\\\nvalue = [0, 6]\"] ;\\n424 -> 428 ;\\n429 [label=\"gini = 0.0\\\\nsamples = 4\\\\nvalue = [0, 4]\"] ;\\n415 -> 429 ;\\n430 [label=\"X[11] <= 3439.5\\\\ngini = 0.5\\\\nsamples = 269\\\\nvalue = [136, 133]\"] ;\\n414 -> 430 ;\\n431 [label=\"X[57] <= 745.5\\\\ngini = 0.493\\\\nsamples = 220\\\\nvalue = [123, 97]\"] ;\\n430 -> 431 ;\\n432 [label=\"X[72] <= 605.0\\\\ngini = 0.464\\\\nsamples = 156\\\\nvalue = [99, 57]\"] ;\\n431 -> 432 ;\\n433 [label=\"X[31] <= 32.0\\\\ngini = 0.403\\\\nsamples = 111\\\\nvalue = [80, 31]\"] ;\\n432 -> 433 ;\\n434 [label=\"X[29] <= 310.0\\\\ngini = 0.476\\\\nsamples = 23\\\\nvalue = [9, 14]\"] ;\\n433 -> 434 ;\\n435 [label=\"gini = 0.0\\\\nsamples = 10\\\\nvalue = [0, 10]\"] ;\\n434 -> 435 ;\\n436 [label=\"X[42] <= 320.0\\\\ngini = 0.426\\\\nsamples = 13\\\\nvalue = [9, 4]\"] ;\\n434 -> 436 ;\\n437 [label=\"gini = 0.0\\\\nsamples = 4\\\\nvalue = [0, 4]\"] ;\\n436 -> 437 ;\\n438 [label=\"gini = 0.0\\\\nsamples = 9\\\\nvalue = [9, 0]\"] ;\\n436 -> 438 ;\\n439 [label=\"X[68] <= 1.5\\\\ngini = 0.312\\\\nsamples = 88\\\\nvalue = [71, 17]\"] ;\\n433 -> 439 ;\\n440 [label=\"gini = 0.0\\\\nsamples = 4\\\\nvalue = [0, 4]\"] ;\\n439 -> 440 ;\\n441 [label=\"X[94] <= 7570.0\\\\ngini = 0.262\\\\nsamples = 84\\\\nvalue = [71, 13]\"] ;\\n439 -> 441 ;\\n442 [label=\"X[1] <= 9466.5\\\\ngini = 0.204\\\\nsamples = 78\\\\nvalue = [69, 9]\"] ;\\n441 -> 442 ;\\n443 [label=\"X[48] <= 21366.0\\\\ngini = 0.149\\\\nsamples = 74\\\\nvalue = [68, 6]\"] ;\\n442 -> 443 ;\\n444 [label=\"X[57] <= 0.5\\\\ngini = 0.105\\\\nsamples = 72\\\\nvalue = [68, 4]\"] ;\\n443 -> 444 ;\\n445 [label=\"gini = 0.0\\\\nsamples = 1\\\\nvalue = [0, 1]\"] ;\\n444 -> 445 ;\\n446 [label=\"X[34] <= 1.0\\\\ngini = 0.081\\\\nsamples = 71\\\\nvalue = [68, 3]\"] ;\\n444 -> 446 ;\\n447 [label=\"gini = 0.0\\\\nsamples = 1\\\\nvalue = [0, 1]\"] ;\\n446 -> 447 ;\\n448 [label=\"X[74] <= 1.5\\\\ngini = 0.056\\\\nsamples = 70\\\\nvalue = [68, 2]\"] ;\\n446 -> 448 ;\\n449 [label=\"gini = 0.0\\\\nsamples = 1\\\\nvalue = [0, 1]\"] ;\\n448 -> 449 ;\\n450 [label=\"X[46] <= 9681.0\\\\ngini = 0.029\\\\nsamples = 69\\\\nvalue = [68, 1]\"] ;\\n448 -> 450 ;\\n451 [label=\"gini = 0.0\\\\nsamples = 67\\\\nvalue = [67, 0]\"] ;\\n450 -> 451 ;\\n452 [label=\"X[85] <= 8566.5\\\\ngini = 0.5\\\\nsamples = 2\\\\nvalue = [1, 1]\"] ;\\n450 -> 452 ;\\n453 [label=\"gini = 0.0\\\\nsamples = 1\\\\nvalue = [1, 0]\"] ;\\n452 -> 453 ;\\n454 [label=\"gini = 0.0\\\\nsamples = 1\\\\nvalue = [0, 1]\"] ;\\n452 -> 454 ;\\n455 [label=\"gini = 0.0\\\\nsamples = 2\\\\nvalue = [0, 2]\"] ;\\n443 -> 455 ;\\n456 [label=\"X[70] <= 2246.0\\\\ngini = 0.375\\\\nsamples = 4\\\\nvalue = [1, 3]\"] ;\\n442 -> 456 ;\\n457 [label=\"gini = 0.0\\\\nsamples = 3\\\\nvalue = [0, 3]\"] ;\\n456 -> 457 ;\\n458 [label=\"gini = 0.0\\\\nsamples = 1\\\\nvalue = [1, 0]\"] ;\\n456 -> 458 ;\\n459 [label=\"X[59] <= 362.5\\\\ngini = 0.444\\\\nsamples = 6\\\\nvalue = [2, 4]\"] ;\\n441 -> 459 ;\\n460 [label=\"gini = 0.0\\\\nsamples = 4\\\\nvalue = [0, 4]\"] ;\\n459 -> 460 ;\\n461 [label=\"gini = 0.0\\\\nsamples = 2\\\\nvalue = [2, 0]\"] ;\\n459 -> 461 ;\\n462 [label=\"X[7] <= 348.5\\\\ngini = 0.488\\\\nsamples = 45\\\\nvalue = [19, 26]\"] ;\\n432 -> 462 ;\\n463 [label=\"X[109] <= 24.0\\\\ngini = 0.473\\\\nsamples = 26\\\\nvalue = [16, 10]\"] ;\\n462 -> 463 ;\\n464 [label=\"gini = 0.0\\\\nsamples = 6\\\\nvalue = [0, 6]\"] ;\\n463 -> 464 ;\\n465 [label=\"X[72] <= 1000.5\\\\ngini = 0.32\\\\nsamples = 20\\\\nvalue = [16, 4]\"] ;\\n463 -> 465 ;\\n466 [label=\"X[119] <= 39.0\\\\ngini = 0.375\\\\nsamples = 4\\\\nvalue = [1, 3]\"] ;\\n465 -> 466 ;\\n467 [label=\"gini = 0.0\\\\nsamples = 1\\\\nvalue = [1, 0]\"] ;\\n466 -> 467 ;\\n468 [label=\"gini = 0.0\\\\nsamples = 3\\\\nvalue = [0, 3]\"] ;\\n466 -> 468 ;\\n469 [label=\"X[7] <= 1.5\\\\ngini = 0.117\\\\nsamples = 16\\\\nvalue = [15, 1]\"] ;\\n465 -> 469 ;\\n470 [label=\"gini = 0.0\\\\nsamples = 1\\\\nvalue = [0, 1]\"] ;\\n469 -> 470 ;\\n471 [label=\"gini = 0.0\\\\nsamples = 15\\\\nvalue = [15, 0]\"] ;\\n469 -> 471 ;\\n472 [label=\"X[126] <= 10.5\\\\ngini = 0.266\\\\nsamples = 19\\\\nvalue = [3, 16]\"] ;\\n462 -> 472 ;\\n473 [label=\"X[86] <= 218.5\\\\ngini = 0.375\\\\nsamples = 4\\\\nvalue = [3, 1]\"] ;\\n472 -> 473 ;\\n474 [label=\"gini = 0.0\\\\nsamples = 1\\\\nvalue = [0, 1]\"] ;\\n473 -> 474 ;\\n475 [label=\"gini = 0.0\\\\nsamples = 3\\\\nvalue = [3, 0]\"] ;\\n473 -> 475 ;\\n476 [label=\"gini = 0.0\\\\nsamples = 15\\\\nvalue = [0, 15]\"] ;\\n472 -> 476 ;\\n477 [label=\"X[83] <= 35.5\\\\ngini = 0.469\\\\nsamples = 64\\\\nvalue = [24, 40]\"] ;\\n431 -> 477 ;\\n478 [label=\"gini = 0.0\\\\nsamples = 13\\\\nvalue = [0, 13]\"] ;\\n477 -> 478 ;\\n479 [label=\"X[124] <= 86.0\\\\ngini = 0.498\\\\nsamples = 51\\\\nvalue = [24, 27]\"] ;\\n477 -> 479 ;\\n480 [label=\"X[71] <= 6097.0\\\\ngini = 0.384\\\\nsamples = 27\\\\nvalue = [7, 20]\"] ;\\n479 -> 480 ;\\n481 [label=\"X[7] <= 20.0\\\\ngini = 0.278\\\\nsamples = 24\\\\nvalue = [4, 20]\"] ;\\n480 -> 481 ;\\n482 [label=\"X[59] <= 185.5\\\\ngini = 0.375\\\\nsamples = 4\\\\nvalue = [3, 1]\"] ;\\n481 -> 482 ;\\n483 [label=\"gini = 0.0\\\\nsamples = 1\\\\nvalue = [0, 1]\"] ;\\n482 -> 483 ;\\n484 [label=\"gini = 0.0\\\\nsamples = 3\\\\nvalue = [3, 0]\"] ;\\n482 -> 484 ;\\n485 [label=\"X[72] <= 12890.0\\\\ngini = 0.095\\\\nsamples = 20\\\\nvalue = [1, 19]\"] ;\\n481 -> 485 ;\\n486 [label=\"gini = 0.0\\\\nsamples = 19\\\\nvalue = [0, 19]\"] ;\\n485 -> 486 ;\\n487 [label=\"gini = 0.0\\\\nsamples = 1\\\\nvalue = [1, 0]\"] ;\\n485 -> 487 ;\\n488 [label=\"gini = 0.0\\\\nsamples = 3\\\\nvalue = [3, 0]\"] ;\\n480 -> 488 ;\\n489 [label=\"X[112] <= 110.5\\\\ngini = 0.413\\\\nsamples = 24\\\\nvalue = [17, 7]\"] ;\\n479 -> 489 ;\\n490 [label=\"X[52] <= 117.0\\\\ngini = 0.463\\\\nsamples = 11\\\\nvalue = [4, 7]\"] ;\\n489 -> 490 ;\\n491 [label=\"gini = 0.0\\\\nsamples = 4\\\\nvalue = [4, 0]\"] ;\\n490 -> 491 ;\\n492 [label=\"gini = 0.0\\\\nsamples = 7\\\\nvalue = [0, 7]\"] ;\\n490 -> 492 ;\\n493 [label=\"gini = 0.0\\\\nsamples = 13\\\\nvalue = [13, 0]\"] ;\\n489 -> 493 ;\\n494 [label=\"X[28] <= 457.5\\\\ngini = 0.39\\\\nsamples = 49\\\\nvalue = [13, 36]\"] ;\\n430 -> 494 ;\\n495 [label=\"gini = 0.0\\\\nsamples = 24\\\\nvalue = [0, 24]\"] ;\\n494 -> 495 ;\\n496 [label=\"X[106] <= 54.0\\\\ngini = 0.499\\\\nsamples = 25\\\\nvalue = [13, 12]\"] ;\\n494 -> 496 ;\\n497 [label=\"X[77] <= 9297.5\\\\ngini = 0.153\\\\nsamples = 12\\\\nvalue = [1, 11]\"] ;\\n496 -> 497 ;\\n498 [label=\"gini = 0.0\\\\nsamples = 11\\\\nvalue = [0, 11]\"] ;\\n497 -> 498 ;\\n499 [label=\"gini = 0.0\\\\nsamples = 1\\\\nvalue = [1, 0]\"] ;\\n497 -> 499 ;\\n500 [label=\"X[22] <= 4.0\\\\ngini = 0.142\\\\nsamples = 13\\\\nvalue = [12, 1]\"] ;\\n496 -> 500 ;\\n501 [label=\"gini = 0.0\\\\nsamples = 1\\\\nvalue = [0, 1]\"] ;\\n500 -> 501 ;\\n502 [label=\"gini = 0.0\\\\nsamples = 12\\\\nvalue = [12, 0]\"] ;\\n500 -> 502 ;\\n503 [label=\"X[44] <= 14696.5\\\\ngini = 0.165\\\\nsamples = 22\\\\nvalue = [20, 2]\"] ;\\n403 -> 503 ;\\n504 [label=\"X[23] <= 0.5\\\\ngini = 0.091\\\\nsamples = 21\\\\nvalue = [20, 1]\"] ;\\n503 -> 504 ;\\n505 [label=\"gini = 0.0\\\\nsamples = 1\\\\nvalue = [0, 1]\"] ;\\n504 -> 505 ;\\n506 [label=\"gini = 0.0\\\\nsamples = 20\\\\nvalue = [20, 0]\"] ;\\n504 -> 506 ;\\n507 [label=\"gini = 0.0\\\\nsamples = 1\\\\nvalue = [0, 1]\"] ;\\n503 -> 507 ;\\n508 [label=\"X[10] <= 40.0\\\\ngini = 0.47\\\\nsamples = 162\\\\nvalue = [61, 101]\"] ;\\n402 -> 508 ;\\n509 [label=\"X[6] <= 1185.0\\\\ngini = 0.475\\\\nsamples = 36\\\\nvalue = [22, 14]\"] ;\\n508 -> 509 ;\\n510 [label=\"X[117] <= 25.0\\\\ngini = 0.375\\\\nsamples = 28\\\\nvalue = [21, 7]\"] ;\\n509 -> 510 ;\\n511 [label=\"X[67] <= 5674.5\\\\ngini = 0.408\\\\nsamples = 7\\\\nvalue = [2, 5]\"] ;\\n510 -> 511 ;\\n512 [label=\"gini = 0.0\\\\nsamples = 5\\\\nvalue = [0, 5]\"] ;\\n511 -> 512 ;\\n513 [label=\"gini = 0.0\\\\nsamples = 2\\\\nvalue = [2, 0]\"] ;\\n511 -> 513 ;\\n514 [label=\"X[89] <= 44.5\\\\ngini = 0.172\\\\nsamples = 21\\\\nvalue = [19, 2]\"] ;\\n510 -> 514 ;\\n515 [label=\"gini = 0.0\\\\nsamples = 2\\\\nvalue = [0, 2]\"] ;\\n514 -> 515 ;\\n516 [label=\"gini = 0.0\\\\nsamples = 19\\\\nvalue = [19, 0]\"] ;\\n514 -> 516 ;\\n517 [label=\"X[88] <= 54.5\\\\ngini = 0.219\\\\nsamples = 8\\\\nvalue = [1, 7]\"] ;\\n509 -> 517 ;\\n518 [label=\"gini = 0.0\\\\nsamples = 1\\\\nvalue = [1, 0]\"] ;\\n517 -> 518 ;\\n519 [label=\"gini = 0.0\\\\nsamples = 7\\\\nvalue = [0, 7]\"] ;\\n517 -> 519 ;\\n520 [label=\"X[84] <= 22205.0\\\\ngini = 0.427\\\\nsamples = 126\\\\nvalue = [39, 87]\"] ;\\n508 -> 520 ;\\n521 [label=\"X[74] <= 5913.5\\\\ngini = 0.404\\\\nsamples = 121\\\\nvalue = [34, 87]\"] ;\\n520 -> 521 ;\\n522 [label=\"X[107] <= 13313.0\\\\ngini = 0.338\\\\nsamples = 102\\\\nvalue = [22, 80]\"] ;\\n521 -> 522 ;\\n523 [label=\"X[34] <= 3781.5\\\\ngini = 0.291\\\\nsamples = 96\\\\nvalue = [17, 79]\"] ;\\n522 -> 523 ;\\n524 [label=\"X[61] <= 1.5\\\\ngini = 0.212\\\\nsamples = 83\\\\nvalue = [10, 73]\"] ;\\n523 -> 524 ;\\n525 [label=\"gini = 0.0\\\\nsamples = 2\\\\nvalue = [2, 0]\"] ;\\n524 -> 525 ;\\n526 [label=\"X[67] <= 22.5\\\\ngini = 0.178\\\\nsamples = 81\\\\nvalue = [8, 73]\"] ;\\n524 -> 526 ;\\n527 [label=\"X[53] <= 187.5\\\\ngini = 0.49\\\\nsamples = 7\\\\nvalue = [3, 4]\"] ;\\n526 -> 527 ;\\n528 [label=\"gini = 0.0\\\\nsamples = 3\\\\nvalue = [3, 0]\"] ;\\n527 -> 528 ;\\n529 [label=\"gini = 0.0\\\\nsamples = 4\\\\nvalue = [0, 4]\"] ;\\n527 -> 529 ;\\n530 [label=\"X[115] <= 6100.5\\\\ngini = 0.126\\\\nsamples = 74\\\\nvalue = [5, 69]\"] ;\\n526 -> 530 ;\\n531 [label=\"X[126] <= 12047.5\\\\ngini = 0.058\\\\nsamples = 67\\\\nvalue = [2, 65]\"] ;\\n530 -> 531 ;\\n532 [label=\"X[22] <= 1.5\\\\ngini = 0.03\\\\nsamples = 66\\\\nvalue = [1, 65]\"] ;\\n531 -> 532 ;\\n533 [label=\"X[23] <= 757.5\\\\ngini = 0.5\\\\nsamples = 2\\\\nvalue = [1, 1]\"] ;\\n532 -> 533 ;\\n534 [label=\"gini = 0.0\\\\nsamples = 1\\\\nvalue = [1, 0]\"] ;\\n533 -> 534 ;\\n535 [label=\"gini = 0.0\\\\nsamples = 1\\\\nvalue = [0, 1]\"] ;\\n533 -> 535 ;\\n536 [label=\"gini = 0.0\\\\nsamples = 64\\\\nvalue = [0, 64]\"] ;\\n532 -> 536 ;\\n537 [label=\"gini = 0.0\\\\nsamples = 1\\\\nvalue = [1, 0]\"] ;\\n531 -> 537 ;\\n538 [label=\"X[101] <= 169.5\\\\ngini = 0.49\\\\nsamples = 7\\\\nvalue = [3, 4]\"] ;\\n530 -> 538 ;\\n539 [label=\"gini = 0.0\\\\nsamples = 3\\\\nvalue = [3, 0]\"] ;\\n538 -> 539 ;\\n540 [label=\"gini = 0.0\\\\nsamples = 4\\\\nvalue = [0, 4]\"] ;\\n538 -> 540 ;\\n541 [label=\"X[41] <= 353.0\\\\ngini = 0.497\\\\nsamples = 13\\\\nvalue = [7, 6]\"] ;\\n523 -> 541 ;\\n542 [label=\"gini = 0.0\\\\nsamples = 6\\\\nvalue = [6, 0]\"] ;\\n541 -> 542 ;\\n543 [label=\"X[0] <= 4325.0\\\\ngini = 0.245\\\\nsamples = 7\\\\nvalue = [1, 6]\"] ;\\n541 -> 543 ;\\n544 [label=\"gini = 0.0\\\\nsamples = 6\\\\nvalue = [0, 6]\"] ;\\n543 -> 544 ;\\n545 [label=\"gini = 0.0\\\\nsamples = 1\\\\nvalue = [1, 0]\"] ;\\n543 -> 545 ;\\n546 [label=\"X[122] <= 9552.0\\\\ngini = 0.278\\\\nsamples = 6\\\\nvalue = [5, 1]\"] ;\\n522 -> 546 ;\\n547 [label=\"gini = 0.0\\\\nsamples = 5\\\\nvalue = [5, 0]\"] ;\\n546 -> 547 ;\\n548 [label=\"gini = 0.0\\\\nsamples = 1\\\\nvalue = [0, 1]\"] ;\\n546 -> 548 ;\\n549 [label=\"X[43] <= 3051.0\\\\ngini = 0.465\\\\nsamples = 19\\\\nvalue = [12, 7]\"] ;\\n521 -> 549 ;\\n550 [label=\"X[66] <= 4890.0\\\\ngini = 0.245\\\\nsamples = 14\\\\nvalue = [12, 2]\"] ;\\n549 -> 550 ;\\n551 [label=\"gini = 0.0\\\\nsamples = 12\\\\nvalue = [12, 0]\"] ;\\n550 -> 551 ;\\n552 [label=\"gini = 0.0\\\\nsamples = 2\\\\nvalue = [0, 2]\"] ;\\n550 -> 552 ;\\n553 [label=\"gini = 0.0\\\\nsamples = 5\\\\nvalue = [0, 5]\"] ;\\n549 -> 553 ;\\n554 [label=\"gini = 0.0\\\\nsamples = 5\\\\nvalue = [5, 0]\"] ;\\n520 -> 554 ;\\n555 [label=\"X[6] <= 18942.5\\\\ngini = 0.484\\\\nsamples = 1267\\\\nvalue = [748, 519]\"] ;\\n401 -> 555 ;\\n556 [label=\"X[59] <= 4773.5\\\\ngini = 0.48\\\\nsamples = 1230\\\\nvalue = [738, 492]\"] ;\\n555 -> 556 ;\\n557 [label=\"X[124] <= 5345.5\\\\ngini = 0.471\\\\nsamples = 1065\\\\nvalue = [661, 404]\"] ;\\n556 -> 557 ;\\n558 [label=\"X[2] <= 541.0\\\\ngini = 0.461\\\\nsamples = 947\\\\nvalue = [605, 342]\"] ;\\n557 -> 558 ;\\n559 [label=\"X[34] <= 1.5\\\\ngini = 0.48\\\\nsamples = 613\\\\nvalue = [368, 245]\"] ;\\n558 -> 559 ;\\n560 [label=\"X[123] <= 25.5\\\\ngini = 0.397\\\\nsamples = 22\\\\nvalue = [6, 16]\"] ;\\n559 -> 560 ;\\n561 [label=\"X[29] <= 35.5\\\\ngini = 0.408\\\\nsamples = 7\\\\nvalue = [5, 2]\"] ;\\n560 -> 561 ;\\n562 [label=\"gini = 0.0\\\\nsamples = 2\\\\nvalue = [0, 2]\"] ;\\n561 -> 562 ;\\n563 [label=\"gini = 0.0\\\\nsamples = 5\\\\nvalue = [5, 0]\"] ;\\n561 -> 563 ;\\n564 [label=\"X[49] <= 8034.0\\\\ngini = 0.124\\\\nsamples = 15\\\\nvalue = [1, 14]\"] ;\\n560 -> 564 ;\\n565 [label=\"gini = 0.0\\\\nsamples = 14\\\\nvalue = [0, 14]\"] ;\\n564 -> 565 ;\\n566 [label=\"gini = 0.0\\\\nsamples = 1\\\\nvalue = [1, 0]\"] ;\\n564 -> 566 ;\\n567 [label=\"X[74] <= 10670.0\\\\ngini = 0.475\\\\nsamples = 591\\\\nvalue = [362, 229]\"] ;\\n559 -> 567 ;\\n568 [label=\"X[109] <= 20609.5\\\\ngini = 0.481\\\\nsamples = 560\\\\nvalue = [334, 226]\"] ;\\n567 -> 568 ;\\n569 [label=\"X[18] <= 2183.0\\\\ngini = 0.477\\\\nsamples = 549\\\\nvalue = [333, 216]\"] ;\\n568 -> 569 ;\\n570 [label=\"X[10] <= 6.0\\\\ngini = 0.489\\\\nsamples = 440\\\\nvalue = [252, 188]\"] ;\\n569 -> 570 ;\\n571 [label=\"X[62] <= 463.5\\\\ngini = 0.432\\\\nsamples = 38\\\\nvalue = [12, 26]\"] ;\\n570 -> 571 ;\\n572 [label=\"X[127] <= 588.5\\\\ngini = 0.495\\\\nsamples = 20\\\\nvalue = [11, 9]\"] ;\\n571 -> 572 ;\\n573 [label=\"X[112] <= 548.5\\\\ngini = 0.426\\\\nsamples = 13\\\\nvalue = [4, 9]\"] ;\\n572 -> 573 ;\\n574 [label=\"X[41] <= 353.0\\\\ngini = 0.444\\\\nsamples = 6\\\\nvalue = [4, 2]\"] ;\\n573 -> 574 ;\\n575 [label=\"gini = 0.0\\\\nsamples = 4\\\\nvalue = [4, 0]\"] ;\\n574 -> 575 ;\\n576 [label=\"gini = 0.0\\\\nsamples = 2\\\\nvalue = [0, 2]\"] ;\\n574 -> 576 ;\\n577 [label=\"gini = 0.0\\\\nsamples = 7\\\\nvalue = [0, 7]\"] ;\\n573 -> 577 ;\\n578 [label=\"gini = 0.0\\\\nsamples = 7\\\\nvalue = [7, 0]\"] ;\\n572 -> 578 ;\\n579 [label=\"X[117] <= 15184.5\\\\ngini = 0.105\\\\nsamples = 18\\\\nvalue = [1, 17]\"] ;\\n571 -> 579 ;\\n580 [label=\"gini = 0.0\\\\nsamples = 17\\\\nvalue = [0, 17]\"] ;\\n579 -> 580 ;\\n581 [label=\"gini = 0.0\\\\nsamples = 1\\\\nvalue = [1, 0]\"] ;\\n579 -> 581 ;\\n582 [label=\"X[18] <= 1700.5\\\\ngini = 0.481\\\\nsamples = 402\\\\nvalue = [240, 162]\"] ;\\n570 -> 582 ;\\n583 [label=\"X[60] <= 9628.0\\\\ngini = 0.476\\\\nsamples = 394\\\\nvalue = [240, 154]\"] ;\\n582 -> 583 ;\\n584 [label=\"X[86] <= 52.5\\\\ngini = 0.465\\\\nsamples = 367\\\\nvalue = [232, 135]\"] ;\\n583 -> 584 ;\\n585 [label=\"X[122] <= 224.0\\\\ngini = 0.499\\\\nsamples = 122\\\\nvalue = [63, 59]\"] ;\\n584 -> 585 ;\\n586 [label=\"X[53] <= 8502.5\\\\ngini = 0.433\\\\nsamples = 63\\\\nvalue = [43, 20]\"] ;\\n585 -> 586 ;\\n587 [label=\"X[44] <= 30.0\\\\ngini = 0.375\\\\nsamples = 56\\\\nvalue = [42, 14]\"] ;\\n586 -> 587 ;\\n588 [label=\"X[65] <= 21.5\\\\ngini = 0.375\\\\nsamples = 8\\\\nvalue = [2, 6]\"] ;\\n587 -> 588 ;\\n589 [label=\"gini = 0.0\\\\nsamples = 2\\\\nvalue = [2, 0]\"] ;\\n588 -> 589 ;\\n590 [label=\"gini = 0.0\\\\nsamples = 6\\\\nvalue = [0, 6]\"] ;\\n588 -> 590 ;\\n591 [label=\"X[54] <= 6369.0\\\\ngini = 0.278\\\\nsamples = 48\\\\nvalue = [40, 8]\"] ;\\n587 -> 591 ;\\n592 [label=\"X[91] <= 8.5\\\\ngini = 0.172\\\\nsamples = 42\\\\nvalue = [38, 4]\"] ;\\n591 -> 592 ;\\n593 [label=\"X[124] <= 1643.5\\\\ngini = 0.375\\\\nsamples = 4\\\\nvalue = [1, 3]\"] ;\\n592 -> 593 ;\\n594 [label=\"gini = 0.0\\\\nsamples = 3\\\\nvalue = [0, 3]\"] ;\\n593 -> 594 ;\\n595 [label=\"gini = 0.0\\\\nsamples = 1\\\\nvalue = [1, 0]\"] ;\\n593 -> 595 ;\\n596 [label=\"X[96] <= 19042.5\\\\ngini = 0.051\\\\nsamples = 38\\\\nvalue = [37, 1]\"] ;\\n592 -> 596 ;\\n597 [label=\"gini = 0.0\\\\nsamples = 37\\\\nvalue = [37, 0]\"] ;\\n596 -> 597 ;\\n598 [label=\"gini = 0.0\\\\nsamples = 1\\\\nvalue = [0, 1]\"] ;\\n596 -> 598 ;\\n599 [label=\"X[85] <= 36.0\\\\ngini = 0.444\\\\nsamples = 6\\\\nvalue = [2, 4]\"] ;\\n591 -> 599 ;\\n600 [label=\"gini = 0.0\\\\nsamples = 2\\\\nvalue = [2, 0]\"] ;\\n599 -> 600 ;\\n601 [label=\"gini = 0.0\\\\nsamples = 4\\\\nvalue = [0, 4]\"] ;\\n599 -> 601 ;\\n602 [label=\"X[20] <= 160.5\\\\ngini = 0.245\\\\nsamples = 7\\\\nvalue = [1, 6]\"] ;\\n586 -> 602 ;\\n603 [label=\"gini = 0.0\\\\nsamples = 1\\\\nvalue = [1, 0]\"] ;\\n602 -> 603 ;\\n604 [label=\"gini = 0.0\\\\nsamples = 6\\\\nvalue = [0, 6]\"] ;\\n602 -> 604 ;\\n605 [label=\"X[1] <= 585.5\\\\ngini = 0.448\\\\nsamples = 59\\\\nvalue = [20, 39]\"] ;\\n585 -> 605 ;\\n606 [label=\"X[114] <= 5112.5\\\\ngini = 0.295\\\\nsamples = 39\\\\nvalue = [7, 32]\"] ;\\n605 -> 606 ;\\n607 [label=\"X[51] <= 12486.0\\\\ngini = 0.124\\\\nsamples = 30\\\\nvalue = [2, 28]\"] ;\\n606 -> 607 ;\\n608 [label=\"gini = 0.0\\\\nsamples = 28\\\\nvalue = [0, 28]\"] ;\\n607 -> 608 ;\\n609 [label=\"gini = 0.0\\\\nsamples = 2\\\\nvalue = [2, 0]\"] ;\\n607 -> 609 ;\\n610 [label=\"X[78] <= 103.0\\\\ngini = 0.494\\\\nsamples = 9\\\\nvalue = [5, 4]\"] ;\\n606 -> 610 ;\\n611 [label=\"gini = 0.0\\\\nsamples = 4\\\\nvalue = [0, 4]\"] ;\\n610 -> 611 ;\\n612 [label=\"gini = 0.0\\\\nsamples = 5\\\\nvalue = [5, 0]\"] ;\\n610 -> 612 ;\\n613 [label=\"X[3] <= 846.0\\\\ngini = 0.455\\\\nsamples = 20\\\\nvalue = [13, 7]\"] ;\\n605 -> 613 ;\\n614 [label=\"gini = 0.0\\\\nsamples = 11\\\\nvalue = [11, 0]\"] ;\\n613 -> 614 ;\\n615 [label=\"X[59] <= 1671.0\\\\ngini = 0.346\\\\nsamples = 9\\\\nvalue = [2, 7]\"] ;\\n613 -> 615 ;\\n616 [label=\"gini = 0.0\\\\nsamples = 7\\\\nvalue = [0, 7]\"] ;\\n615 -> 616 ;\\n617 [label=\"gini = 0.0\\\\nsamples = 2\\\\nvalue = [2, 0]\"] ;\\n615 -> 617 ;\\n618 [label=\"X[93] <= 6907.5\\\\ngini = 0.428\\\\nsamples = 245\\\\nvalue = [169, 76]\"] ;\\n584 -> 618 ;\\n619 [label=\"X[58] <= 104.5\\\\ngini = 0.455\\\\nsamples = 217\\\\nvalue = [141, 76]\"] ;\\n618 -> 619 ;\\n620 [label=\"X[42] <= 6319.0\\\\ngini = 0.35\\\\nsamples = 84\\\\nvalue = [65, 19]\"] ;\\n619 -> 620 ;\\n621 [label=\"X[93] <= 3700.0\\\\ngini = 0.305\\\\nsamples = 80\\\\nvalue = [65, 15]\"] ;\\n620 -> 621 ;\\n622 [label=\"X[21] <= 3580.5\\\\ngini = 0.221\\\\nsamples = 71\\\\nvalue = [62, 9]\"] ;\\n621 -> 622 ;\\n623 [label=\"X[118] <= 7654.5\\\\ngini = 0.121\\\\nsamples = 62\\\\nvalue = [58, 4]\"] ;\\n622 -> 623 ;\\n624 [label=\"X[82] <= 1.5\\\\ngini = 0.064\\\\nsamples = 60\\\\nvalue = [58, 2]\"] ;\\n623 -> 624 ;\\n625 [label=\"gini = 0.0\\\\nsamples = 1\\\\nvalue = [0, 1]\"] ;\\n624 -> 625 ;\\n626 [label=\"X[98] <= 10601.5\\\\ngini = 0.033\\\\nsamples = 59\\\\nvalue = [58, 1]\"] ;\\n624 -> 626 ;\\n627 [label=\"gini = 0.0\\\\nsamples = 57\\\\nvalue = [57, 0]\"] ;\\n626 -> 627 ;\\n628 [label=\"X[78] <= 220.0\\\\ngini = 0.5\\\\nsamples = 2\\\\nvalue = [1, 1]\"] ;\\n626 -> 628 ;\\n629 [label=\"gini = 0.0\\\\nsamples = 1\\\\nvalue = [0, 1]\"] ;\\n628 -> 629 ;\\n630 [label=\"gini = 0.0\\\\nsamples = 1\\\\nvalue = [1, 0]\"] ;\\n628 -> 630 ;\\n631 [label=\"gini = 0.0\\\\nsamples = 2\\\\nvalue = [0, 2]\"] ;\\n623 -> 631 ;\\n632 [label=\"X[127] <= 7.0\\\\ngini = 0.494\\\\nsamples = 9\\\\nvalue = [4, 5]\"] ;\\n622 -> 632 ;\\n633 [label=\"gini = 0.0\\\\nsamples = 4\\\\nvalue = [4, 0]\"] ;\\n632 -> 633 ;\\n634 [label=\"gini = 0.0\\\\nsamples = 5\\\\nvalue = [0, 5]\"] ;\\n632 -> 634 ;\\n635 [label=\"X[17] <= 189.0\\\\ngini = 0.444\\\\nsamples = 9\\\\nvalue = [3, 6]\"] ;\\n621 -> 635 ;\\n636 [label=\"gini = 0.0\\\\nsamples = 6\\\\nvalue = [0, 6]\"] ;\\n635 -> 636 ;\\n637 [label=\"gini = 0.0\\\\nsamples = 3\\\\nvalue = [3, 0]\"] ;\\n635 -> 637 ;\\n638 [label=\"gini = 0.0\\\\nsamples = 4\\\\nvalue = [0, 4]\"] ;\\n620 -> 638 ;\\n639 [label=\"X[60] <= 122.0\\\\ngini = 0.49\\\\nsamples = 133\\\\nvalue = [76, 57]\"] ;\\n619 -> 639 ;\\n640 [label=\"X[116] <= 680.0\\\\ngini = 0.388\\\\nsamples = 57\\\\nvalue = [42, 15]\"] ;\\n639 -> 640 ;\\n641 [label=\"X[55] <= 2486.0\\\\ngini = 0.234\\\\nsamples = 37\\\\nvalue = [32, 5]\"] ;\\n640 -> 641 ;\\n642 [label=\"X[7] <= 8376.0\\\\ngini = 0.064\\\\nsamples = 30\\\\nvalue = [29, 1]\"] ;\\n641 -> 642 ;\\n643 [label=\"gini = 0.0\\\\nsamples = 29\\\\nvalue = [29, 0]\"] ;\\n642 -> 643 ;\\n644 [label=\"gini = 0.0\\\\nsamples = 1\\\\nvalue = [0, 1]\"] ;\\n642 -> 644 ;\\n645 [label=\"X[42] <= 257.5\\\\ngini = 0.49\\\\nsamples = 7\\\\nvalue = [3, 4]\"] ;\\n641 -> 645 ;\\n646 [label=\"gini = 0.0\\\\nsamples = 4\\\\nvalue = [0, 4]\"] ;\\n645 -> 646 ;\\n647 [label=\"gini = 0.0\\\\nsamples = 3\\\\nvalue = [3, 0]\"] ;\\n645 -> 647 ;\\n648 [label=\"X[6] <= 343.5\\\\ngini = 0.5\\\\nsamples = 20\\\\nvalue = [10, 10]\"] ;\\n640 -> 648 ;\\n649 [label=\"X[83] <= 6970.5\\\\ngini = 0.278\\\\nsamples = 12\\\\nvalue = [2, 10]\"] ;\\n648 -> 649 ;\\n650 [label=\"gini = 0.0\\\\nsamples = 10\\\\nvalue = [0, 10]\"] ;\\n649 -> 650 ;\\n651 [label=\"gini = 0.0\\\\nsamples = 2\\\\nvalue = [2, 0]\"] ;\\n649 -> 651 ;\\n652 [label=\"gini = 0.0\\\\nsamples = 8\\\\nvalue = [8, 0]\"] ;\\n648 -> 652 ;\\n653 [label=\"X[28] <= 3065.5\\\\ngini = 0.494\\\\nsamples = 76\\\\nvalue = [34, 42]\"] ;\\n639 -> 653 ;\\n654 [label=\"X[28] <= 146.5\\\\ngini = 0.464\\\\nsamples = 63\\\\nvalue = [23, 40]\"] ;\\n653 -> 654 ;\\n655 [label=\"X[76] <= 127.5\\\\ngini = 0.494\\\\nsamples = 36\\\\nvalue = [20, 16]\"] ;\\n654 -> 655 ;\\n656 [label=\"X[33] <= 20.0\\\\ngini = 0.18\\\\nsamples = 10\\\\nvalue = [1, 9]\"] ;\\n655 -> 656 ;\\n657 [label=\"gini = 0.0\\\\nsamples = 1\\\\nvalue = [1, 0]\"] ;\\n656 -> 657 ;\\n658 [label=\"gini = 0.0\\\\nsamples = 9\\\\nvalue = [0, 9]\"] ;\\n656 -> 658 ;\\n659 [label=\"X[28] <= 4.5\\\\ngini = 0.393\\\\nsamples = 26\\\\nvalue = [19, 7]\"] ;\\n655 -> 659 ;\\n660 [label=\"gini = 0.0\\\\nsamples = 3\\\\nvalue = [0, 3]\"] ;\\n659 -> 660 ;\\n661 [label=\"X[38] <= 17.5\\\\ngini = 0.287\\\\nsamples = 23\\\\nvalue = [19, 4]\"] ;\\n659 -> 661 ;\\n662 [label=\"gini = 0.0\\\\nsamples = 2\\\\nvalue = [0, 2]\"] ;\\n661 -> 662 ;\\n663 [label=\"X[20] <= 8967.0\\\\ngini = 0.172\\\\nsamples = 21\\\\nvalue = [19, 2]\"] ;\\n661 -> 663 ;\\n664 [label=\"gini = 0.0\\\\nsamples = 18\\\\nvalue = [18, 0]\"] ;\\n663 -> 664 ;\\n665 [label=\"X[117] <= 126.5\\\\ngini = 0.444\\\\nsamples = 3\\\\nvalue = [1, 2]\"] ;\\n663 -> 665 ;\\n666 [label=\"gini = 0.0\\\\nsamples = 1\\\\nvalue = [1, 0]\"] ;\\n665 -> 666 ;\\n667 [label=\"gini = 0.0\\\\nsamples = 2\\\\nvalue = [0, 2]\"] ;\\n665 -> 667 ;\\n668 [label=\"X[120] <= 4393.0\\\\ngini = 0.198\\\\nsamples = 27\\\\nvalue = [3, 24]\"] ;\\n654 -> 668 ;\\n669 [label=\"X[67] <= 2797.5\\\\ngini = 0.077\\\\nsamples = 25\\\\nvalue = [1, 24]\"] ;\\n668 -> 669 ;\\n670 [label=\"gini = 0.0\\\\nsamples = 24\\\\nvalue = [0, 24]\"] ;\\n669 -> 670 ;\\n671 [label=\"gini = 0.0\\\\nsamples = 1\\\\nvalue = [1, 0]\"] ;\\n669 -> 671 ;\\n672 [label=\"gini = 0.0\\\\nsamples = 2\\\\nvalue = [2, 0]\"] ;\\n668 -> 672 ;\\n673 [label=\"X[60] <= 212.5\\\\ngini = 0.26\\\\nsamples = 13\\\\nvalue = [11, 2]\"] ;\\n653 -> 673 ;\\n674 [label=\"gini = 0.0\\\\nsamples = 2\\\\nvalue = [0, 2]\"] ;\\n673 -> 674 ;\\n675 [label=\"gini = 0.0\\\\nsamples = 11\\\\nvalue = [11, 0]\"] ;\\n673 -> 675 ;\\n676 [label=\"gini = 0.0\\\\nsamples = 28\\\\nvalue = [28, 0]\"] ;\\n618 -> 676 ;\\n677 [label=\"X[0] <= 754.5\\\\ngini = 0.417\\\\nsamples = 27\\\\nvalue = [8, 19]\"] ;\\n583 -> 677 ;\\n678 [label=\"X[86] <= 12.0\\\\ngini = 0.287\\\\nsamples = 23\\\\nvalue = [4, 19]\"] ;\\n677 -> 678 ;\\n679 [label=\"gini = 0.0\\\\nsamples = 3\\\\nvalue = [3, 0]\"] ;\\n678 -> 679 ;\\n680 [label=\"X[56] <= 26379.5\\\\ngini = 0.095\\\\nsamples = 20\\\\nvalue = [1, 19]\"] ;\\n678 -> 680 ;\\n681 [label=\"gini = 0.0\\\\nsamples = 19\\\\nvalue = [0, 19]\"] ;\\n680 -> 681 ;\\n682 [label=\"gini = 0.0\\\\nsamples = 1\\\\nvalue = [1, 0]\"] ;\\n680 -> 682 ;\\n683 [label=\"gini = 0.0\\\\nsamples = 4\\\\nvalue = [4, 0]\"] ;\\n677 -> 683 ;\\n684 [label=\"gini = 0.0\\\\nsamples = 8\\\\nvalue = [0, 8]\"] ;\\n582 -> 684 ;\\n685 [label=\"X[116] <= 365.5\\\\ngini = 0.382\\\\nsamples = 109\\\\nvalue = [81, 28]\"] ;\\n569 -> 685 ;\\n686 [label=\"X[88] <= 1142.0\\\\ngini = 0.224\\\\nsamples = 70\\\\nvalue = [61, 9]\"] ;\\n685 -> 686 ;\\n687 [label=\"X[51] <= 2.5\\\\ngini = 0.098\\\\nsamples = 58\\\\nvalue = [55, 3]\"] ;\\n686 -> 687 ;\\n688 [label=\"X[16] <= 1918.0\\\\ngini = 0.444\\\\nsamples = 3\\\\nvalue = [1, 2]\"] ;\\n687 -> 688 ;\\n689 [label=\"gini = 0.0\\\\nsamples = 2\\\\nvalue = [0, 2]\"] ;\\n688 -> 689 ;\\n690 [label=\"gini = 0.0\\\\nsamples = 1\\\\nvalue = [1, 0]\"] ;\\n688 -> 690 ;\\n691 [label=\"X[103] <= 31227.0\\\\ngini = 0.036\\\\nsamples = 55\\\\nvalue = [54, 1]\"] ;\\n687 -> 691 ;\\n692 [label=\"gini = 0.0\\\\nsamples = 54\\\\nvalue = [54, 0]\"] ;\\n691 -> 692 ;\\n693 [label=\"gini = 0.0\\\\nsamples = 1\\\\nvalue = [0, 1]\"] ;\\n691 -> 693 ;\\n694 [label=\"X[124] <= 77.5\\\\ngini = 0.5\\\\nsamples = 12\\\\nvalue = [6, 6]\"] ;\\n686 -> 694 ;\\n695 [label=\"gini = 0.0\\\\nsamples = 5\\\\nvalue = [5, 0]\"] ;\\n694 -> 695 ;\\n696 [label=\"X[13] <= 1020.0\\\\ngini = 0.245\\\\nsamples = 7\\\\nvalue = [1, 6]\"] ;\\n694 -> 696 ;\\n697 [label=\"gini = 0.0\\\\nsamples = 6\\\\nvalue = [0, 6]\"] ;\\n696 -> 697 ;\\n698 [label=\"gini = 0.0\\\\nsamples = 1\\\\nvalue = [1, 0]\"] ;\\n696 -> 698 ;\\n699 [label=\"X[79] <= 2412.0\\\\ngini = 0.5\\\\nsamples = 39\\\\nvalue = [20, 19]\"] ;\\n685 -> 699 ;\\n700 [label=\"X[40] <= 261.0\\\\ngini = 0.435\\\\nsamples = 25\\\\nvalue = [8, 17]\"] ;\\n699 -> 700 ;\\n701 [label=\"X[35] <= 766.0\\\\ngini = 0.486\\\\nsamples = 12\\\\nvalue = [7, 5]\"] ;\\n700 -> 701 ;\\n702 [label=\"gini = 0.0\\\\nsamples = 6\\\\nvalue = [6, 0]\"] ;\\n701 -> 702 ;\\n703 [label=\"X[22] <= 1478.5\\\\ngini = 0.278\\\\nsamples = 6\\\\nvalue = [1, 5]\"] ;\\n701 -> 703 ;\\n704 [label=\"gini = 0.0\\\\nsamples = 5\\\\nvalue = [0, 5]\"] ;\\n703 -> 704 ;\\n705 [label=\"gini = 0.0\\\\nsamples = 1\\\\nvalue = [1, 0]\"] ;\\n703 -> 705 ;\\n706 [label=\"X[20] <= 15.5\\\\ngini = 0.142\\\\nsamples = 13\\\\nvalue = [1, 12]\"] ;\\n700 -> 706 ;\\n707 [label=\"gini = 0.0\\\\nsamples = 1\\\\nvalue = [1, 0]\"] ;\\n706 -> 707 ;\\n708 [label=\"gini = 0.0\\\\nsamples = 12\\\\nvalue = [0, 12]\"] ;\\n706 -> 708 ;\\n709 [label=\"X[107] <= 26.0\\\\ngini = 0.245\\\\nsamples = 14\\\\nvalue = [12, 2]\"] ;\\n699 -> 709 ;\\n710 [label=\"X[48] <= 2884.0\\\\ngini = 0.444\\\\nsamples = 3\\\\nvalue = [1, 2]\"] ;\\n709 -> 710 ;\\n711 [label=\"gini = 0.0\\\\nsamples = 2\\\\nvalue = [0, 2]\"] ;\\n710 -> 711 ;\\n712 [label=\"gini = 0.0\\\\nsamples = 1\\\\nvalue = [1, 0]\"] ;\\n710 -> 712 ;\\n713 [label=\"gini = 0.0\\\\nsamples = 11\\\\nvalue = [11, 0]\"] ;\\n709 -> 713 ;\\n714 [label=\"X[47] <= 22.5\\\\ngini = 0.165\\\\nsamples = 11\\\\nvalue = [1, 10]\"] ;\\n568 -> 714 ;\\n715 [label=\"gini = 0.0\\\\nsamples = 1\\\\nvalue = [1, 0]\"] ;\\n714 -> 715 ;\\n716 [label=\"gini = 0.0\\\\nsamples = 10\\\\nvalue = [0, 10]\"] ;\\n714 -> 716 ;\\n717 [label=\"X[102] <= 1.0\\\\ngini = 0.175\\\\nsamples = 31\\\\nvalue = [28, 3]\"] ;\\n567 -> 717 ;\\n718 [label=\"gini = 0.0\\\\nsamples = 2\\\\nvalue = [0, 2]\"] ;\\n717 -> 718 ;\\n719 [label=\"X[79] <= 11738.0\\\\ngini = 0.067\\\\nsamples = 29\\\\nvalue = [28, 1]\"] ;\\n717 -> 719 ;\\n720 [label=\"gini = 0.0\\\\nsamples = 28\\\\nvalue = [28, 0]\"] ;\\n719 -> 720 ;\\n721 [label=\"gini = 0.0\\\\nsamples = 1\\\\nvalue = [0, 1]\"] ;\\n719 -> 721 ;\\n722 [label=\"X[108] <= 113.5\\\\ngini = 0.412\\\\nsamples = 334\\\\nvalue = [237, 97]\"] ;\\n558 -> 722 ;\\n723 [label=\"X[12] <= 92.5\\\\ngini = 0.482\\\\nsamples = 131\\\\nvalue = [78, 53]\"] ;\\n722 -> 723 ;\\n724 [label=\"X[44] <= 28.0\\\\ngini = 0.488\\\\nsamples = 52\\\\nvalue = [22, 30]\"] ;\\n723 -> 724 ;\\n725 [label=\"X[59] <= 0.5\\\\ngini = 0.18\\\\nsamples = 10\\\\nvalue = [9, 1]\"] ;\\n724 -> 725 ;\\n726 [label=\"gini = 0.0\\\\nsamples = 1\\\\nvalue = [0, 1]\"] ;\\n725 -> 726 ;\\n727 [label=\"gini = 0.0\\\\nsamples = 9\\\\nvalue = [9, 0]\"] ;\\n725 -> 727 ;\\n728 [label=\"X[100] <= 41.5\\\\ngini = 0.427\\\\nsamples = 42\\\\nvalue = [13, 29]\"] ;\\n724 -> 728 ;\\n729 [label=\"gini = 0.0\\\\nsamples = 6\\\\nvalue = [6, 0]\"] ;\\n728 -> 729 ;\\n730 [label=\"X[104] <= 3524.5\\\\ngini = 0.313\\\\nsamples = 36\\\\nvalue = [7, 29]\"] ;\\n728 -> 730 ;\\n731 [label=\"X[4] <= 1.5\\\\ngini = 0.175\\\\nsamples = 31\\\\nvalue = [3, 28]\"] ;\\n730 -> 731 ;\\n732 [label=\"gini = 0.0\\\\nsamples = 2\\\\nvalue = [2, 0]\"] ;\\n731 -> 732 ;\\n733 [label=\"X[115] <= 14331.0\\\\ngini = 0.067\\\\nsamples = 29\\\\nvalue = [1, 28]\"] ;\\n731 -> 733 ;\\n734 [label=\"gini = 0.0\\\\nsamples = 28\\\\nvalue = [0, 28]\"] ;\\n733 -> 734 ;\\n735 [label=\"gini = 0.0\\\\nsamples = 1\\\\nvalue = [1, 0]\"] ;\\n733 -> 735 ;\\n736 [label=\"X[113] <= 38.5\\\\ngini = 0.32\\\\nsamples = 5\\\\nvalue = [4, 1]\"] ;\\n730 -> 736 ;\\n737 [label=\"gini = 0.0\\\\nsamples = 1\\\\nvalue = [0, 1]\"] ;\\n736 -> 737 ;\\n738 [label=\"gini = 0.0\\\\nsamples = 4\\\\nvalue = [4, 0]\"] ;\\n736 -> 738 ;\\n739 [label=\"X[102] <= 11948.5\\\\ngini = 0.413\\\\nsamples = 79\\\\nvalue = [56, 23]\"] ;\\n723 -> 739 ;\\n740 [label=\"X[105] <= 5334.0\\\\ngini = 0.368\\\\nsamples = 74\\\\nvalue = [56, 18]\"] ;\\n739 -> 740 ;\\n741 [label=\"X[45] <= 12727.0\\\\ngini = 0.333\\\\nsamples = 71\\\\nvalue = [56, 15]\"] ;\\n740 -> 741 ;\\n742 [label=\"X[3] <= 1117.0\\\\ngini = 0.291\\\\nsamples = 68\\\\nvalue = [56, 12]\"] ;\\n741 -> 742 ;\\n743 [label=\"X[39] <= 13083.5\\\\ngini = 0.168\\\\nsamples = 54\\\\nvalue = [49, 5]\"] ;\\n742 -> 743 ;\\n744 [label=\"X[25] <= 7839.0\\\\ngini = 0.078\\\\nsamples = 49\\\\nvalue = [47, 2]\"] ;\\n743 -> 744 ;\\n745 [label=\"gini = 0.0\\\\nsamples = 46\\\\nvalue = [46, 0]\"] ;\\n744 -> 745 ;\\n746 [label=\"X[106] <= 1303.5\\\\ngini = 0.444\\\\nsamples = 3\\\\nvalue = [1, 2]\"] ;\\n744 -> 746 ;\\n747 [label=\"gini = 0.0\\\\nsamples = 2\\\\nvalue = [0, 2]\"] ;\\n746 -> 747 ;\\n748 [label=\"gini = 0.0\\\\nsamples = 1\\\\nvalue = [1, 0]\"] ;\\n746 -> 748 ;\\n749 [label=\"X[43] <= 33.0\\\\ngini = 0.48\\\\nsamples = 5\\\\nvalue = [2, 3]\"] ;\\n743 -> 749 ;\\n750 [label=\"gini = 0.0\\\\nsamples = 2\\\\nvalue = [2, 0]\"] ;\\n749 -> 750 ;\\n751 [label=\"gini = 0.0\\\\nsamples = 3\\\\nvalue = [0, 3]\"] ;\\n749 -> 751 ;\\n752 [label=\"X[88] <= 85.5\\\\ngini = 0.5\\\\nsamples = 14\\\\nvalue = [7, 7]\"] ;\\n742 -> 752 ;\\n753 [label=\"gini = 0.0\\\\nsamples = 6\\\\nvalue = [6, 0]\"] ;\\n752 -> 753 ;\\n754 [label=\"X[14] <= 1003.5\\\\ngini = 0.219\\\\nsamples = 8\\\\nvalue = [1, 7]\"] ;\\n752 -> 754 ;\\n755 [label=\"gini = 0.0\\\\nsamples = 7\\\\nvalue = [0, 7]\"] ;\\n754 -> 755 ;\\n756 [label=\"gini = 0.0\\\\nsamples = 1\\\\nvalue = [1, 0]\"] ;\\n754 -> 756 ;\\n757 [label=\"gini = 0.0\\\\nsamples = 3\\\\nvalue = [0, 3]\"] ;\\n741 -> 757 ;\\n758 [label=\"gini = 0.0\\\\nsamples = 3\\\\nvalue = [0, 3]\"] ;\\n740 -> 758 ;\\n759 [label=\"gini = 0.0\\\\nsamples = 5\\\\nvalue = [0, 5]\"] ;\\n739 -> 759 ;\\n760 [label=\"X[116] <= 8921.5\\\\ngini = 0.34\\\\nsamples = 203\\\\nvalue = [159, 44]\"] ;\\n722 -> 760 ;\\n761 [label=\"X[69] <= 0.5\\\\ngini = 0.299\\\\nsamples = 186\\\\nvalue = [152, 34]\"] ;\\n760 -> 761 ;\\n762 [label=\"gini = 0.0\\\\nsamples = 3\\\\nvalue = [0, 3]\"] ;\\n761 -> 762 ;\\n763 [label=\"X[18] <= 15.0\\\\ngini = 0.281\\\\nsamples = 183\\\\nvalue = [152, 31]\"] ;\\n761 -> 763 ;\\n764 [label=\"X[50] <= 472.5\\\\ngini = 0.495\\\\nsamples = 20\\\\nvalue = [11, 9]\"] ;\\n763 -> 764 ;\\n765 [label=\"X[17] <= 695.0\\\\ngini = 0.298\\\\nsamples = 11\\\\nvalue = [2, 9]\"] ;\\n764 -> 765 ;\\n766 [label=\"gini = 0.0\\\\nsamples = 9\\\\nvalue = [0, 9]\"] ;\\n765 -> 766 ;\\n767 [label=\"gini = 0.0\\\\nsamples = 2\\\\nvalue = [2, 0]\"] ;\\n765 -> 767 ;\\n768 [label=\"gini = 0.0\\\\nsamples = 9\\\\nvalue = [9, 0]\"] ;\\n764 -> 768 ;\\n769 [label=\"X[6] <= 10226.5\\\\ngini = 0.234\\\\nsamples = 163\\\\nvalue = [141, 22]\"] ;\\n763 -> 769 ;\\n770 [label=\"X[14] <= 931.0\\\\ngini = 0.195\\\\nsamples = 155\\\\nvalue = [138, 17]\"] ;\\n769 -> 770 ;\\n771 [label=\"X[72] <= 16823.0\\\\ngini = 0.059\\\\nsamples = 99\\\\nvalue = [96, 3]\"] ;\\n770 -> 771 ;\\n772 [label=\"X[6] <= 0.5\\\\ngini = 0.04\\\\nsamples = 98\\\\nvalue = [96, 2]\"] ;\\n771 -> 772 ;\\n773 [label=\"gini = 0.0\\\\nsamples = 1\\\\nvalue = [0, 1]\"] ;\\n772 -> 773 ;\\n774 [label=\"X[10] <= 0.5\\\\ngini = 0.02\\\\nsamples = 97\\\\nvalue = [96, 1]\"] ;\\n772 -> 774 ;\\n775 [label=\"gini = 0.0\\\\nsamples = 1\\\\nvalue = [0, 1]\"] ;\\n774 -> 775 ;\\n776 [label=\"gini = 0.0\\\\nsamples = 96\\\\nvalue = [96, 0]\"] ;\\n774 -> 776 ;\\n777 [label=\"gini = 0.0\\\\nsamples = 1\\\\nvalue = [0, 1]\"] ;\\n771 -> 777 ;\\n778 [label=\"X[105] <= 154.5\\\\ngini = 0.375\\\\nsamples = 56\\\\nvalue = [42, 14]\"] ;\\n770 -> 778 ;\\n779 [label=\"X[81] <= 263.0\\\\ngini = 0.5\\\\nsamples = 20\\\\nvalue = [10, 10]\"] ;\\n778 -> 779 ;\\n780 [label=\"X[37] <= 8552.5\\\\ngini = 0.375\\\\nsamples = 12\\\\nvalue = [9, 3]\"] ;\\n779 -> 780 ;\\n781 [label=\"gini = 0.0\\\\nsamples = 9\\\\nvalue = [9, 0]\"] ;\\n780 -> 781 ;\\n782 [label=\"gini = 0.0\\\\nsamples = 3\\\\nvalue = [0, 3]\"] ;\\n780 -> 782 ;\\n783 [label=\"X[104] <= 12365.5\\\\ngini = 0.219\\\\nsamples = 8\\\\nvalue = [1, 7]\"] ;\\n779 -> 783 ;\\n784 [label=\"gini = 0.0\\\\nsamples = 7\\\\nvalue = [0, 7]\"] ;\\n783 -> 784 ;\\n785 [label=\"gini = 0.0\\\\nsamples = 1\\\\nvalue = [1, 0]\"] ;\\n783 -> 785 ;\\n786 [label=\"X[12] <= 40.5\\\\ngini = 0.198\\\\nsamples = 36\\\\nvalue = [32, 4]\"] ;\\n778 -> 786 ;\\n787 [label=\"X[16] <= 22.5\\\\ngini = 0.5\\\\nsamples = 8\\\\nvalue = [4, 4]\"] ;\\n786 -> 787 ;\\n788 [label=\"gini = 0.0\\\\nsamples = 4\\\\nvalue = [0, 4]\"] ;\\n787 -> 788 ;\\n789 [label=\"gini = 0.0\\\\nsamples = 4\\\\nvalue = [4, 0]\"] ;\\n787 -> 789 ;\\n790 [label=\"gini = 0.0\\\\nsamples = 28\\\\nvalue = [28, 0]\"] ;\\n786 -> 790 ;\\n791 [label=\"X[15] <= 744.5\\\\ngini = 0.469\\\\nsamples = 8\\\\nvalue = [3, 5]\"] ;\\n769 -> 791 ;\\n792 [label=\"gini = 0.0\\\\nsamples = 5\\\\nvalue = [0, 5]\"] ;\\n791 -> 792 ;\\n793 [label=\"gini = 0.0\\\\nsamples = 3\\\\nvalue = [3, 0]\"] ;\\n791 -> 793 ;\\n794 [label=\"X[71] <= 761.5\\\\ngini = 0.484\\\\nsamples = 17\\\\nvalue = [7, 10]\"] ;\\n760 -> 794 ;\\n795 [label=\"X[43] <= 4088.5\\\\ngini = 0.278\\\\nsamples = 12\\\\nvalue = [2, 10]\"] ;\\n794 -> 795 ;\\n796 [label=\"gini = 0.0\\\\nsamples = 10\\\\nvalue = [0, 10]\"] ;\\n795 -> 796 ;\\n797 [label=\"gini = 0.0\\\\nsamples = 2\\\\nvalue = [2, 0]\"] ;\\n795 -> 797 ;\\n798 [label=\"gini = 0.0\\\\nsamples = 5\\\\nvalue = [5, 0]\"] ;\\n794 -> 798 ;\\n799 [label=\"X[116] <= 3721.0\\\\ngini = 0.499\\\\nsamples = 118\\\\nvalue = [56, 62]\"] ;\\n557 -> 799 ;\\n800 [label=\"X[27] <= 40.0\\\\ngini = 0.476\\\\nsamples = 95\\\\nvalue = [37, 58]\"] ;\\n799 -> 800 ;\\n801 [label=\"X[102] <= 51.5\\\\ngini = 0.453\\\\nsamples = 26\\\\nvalue = [17, 9]\"] ;\\n800 -> 801 ;\\n802 [label=\"gini = 0.0\\\\nsamples = 5\\\\nvalue = [0, 5]\"] ;\\n801 -> 802 ;\\n803 [label=\"X[70] <= 2381.0\\\\ngini = 0.308\\\\nsamples = 21\\\\nvalue = [17, 4]\"] ;\\n801 -> 803 ;\\n804 [label=\"gini = 0.0\\\\nsamples = 16\\\\nvalue = [16, 0]\"] ;\\n803 -> 804 ;\\n805 [label=\"X[41] <= 6301.0\\\\ngini = 0.32\\\\nsamples = 5\\\\nvalue = [1, 4]\"] ;\\n803 -> 805 ;\\n806 [label=\"gini = 0.0\\\\nsamples = 4\\\\nvalue = [0, 4]\"] ;\\n805 -> 806 ;\\n807 [label=\"gini = 0.0\\\\nsamples = 1\\\\nvalue = [1, 0]\"] ;\\n805 -> 807 ;\\n808 [label=\"X[26] <= 35.5\\\\ngini = 0.412\\\\nsamples = 69\\\\nvalue = [20, 49]\"] ;\\n800 -> 808 ;\\n809 [label=\"X[27] <= 509.5\\\\ngini = 0.459\\\\nsamples = 14\\\\nvalue = [9, 5]\"] ;\\n808 -> 809 ;\\n810 [label=\"X[36] <= 1629.5\\\\ngini = 0.278\\\\nsamples = 6\\\\nvalue = [1, 5]\"] ;\\n809 -> 810 ;\\n811 [label=\"gini = 0.0\\\\nsamples = 5\\\\nvalue = [0, 5]\"] ;\\n810 -> 811 ;\\n812 [label=\"gini = 0.0\\\\nsamples = 1\\\\nvalue = [1, 0]\"] ;\\n810 -> 812 ;\\n813 [label=\"gini = 0.0\\\\nsamples = 8\\\\nvalue = [8, 0]\"] ;\\n809 -> 813 ;\\n814 [label=\"X[60] <= 1.5\\\\ngini = 0.32\\\\nsamples = 55\\\\nvalue = [11, 44]\"] ;\\n808 -> 814 ;\\n815 [label=\"gini = 0.0\\\\nsamples = 3\\\\nvalue = [3, 0]\"] ;\\n814 -> 815 ;\\n816 [label=\"X[58] <= 410.0\\\\ngini = 0.26\\\\nsamples = 52\\\\nvalue = [8, 44]\"] ;\\n814 -> 816 ;\\n817 [label=\"X[50] <= 22.0\\\\ngini = 0.435\\\\nsamples = 25\\\\nvalue = [8, 17]\"] ;\\n816 -> 817 ;\\n818 [label=\"gini = 0.0\\\\nsamples = 4\\\\nvalue = [4, 0]\"] ;\\n817 -> 818 ;\\n819 [label=\"X[91] <= 256.0\\\\ngini = 0.308\\\\nsamples = 21\\\\nvalue = [4, 17]\"] ;\\n817 -> 819 ;\\n820 [label=\"gini = 0.0\\\\nsamples = 14\\\\nvalue = [0, 14]\"] ;\\n819 -> 820 ;\\n821 [label=\"X[6] <= 2099.5\\\\ngini = 0.49\\\\nsamples = 7\\\\nvalue = [4, 3]\"] ;\\n819 -> 821 ;\\n822 [label=\"gini = 0.0\\\\nsamples = 4\\\\nvalue = [4, 0]\"] ;\\n821 -> 822 ;\\n823 [label=\"gini = 0.0\\\\nsamples = 3\\\\nvalue = [0, 3]\"] ;\\n821 -> 823 ;\\n824 [label=\"gini = 0.0\\\\nsamples = 27\\\\nvalue = [0, 27]\"] ;\\n816 -> 824 ;\\n825 [label=\"X[0] <= 57.5\\\\ngini = 0.287\\\\nsamples = 23\\\\nvalue = [19, 4]\"] ;\\n799 -> 825 ;\\n826 [label=\"X[94] <= 151.5\\\\ngini = 0.444\\\\nsamples = 6\\\\nvalue = [2, 4]\"] ;\\n825 -> 826 ;\\n827 [label=\"gini = 0.0\\\\nsamples = 4\\\\nvalue = [0, 4]\"] ;\\n826 -> 827 ;\\n828 [label=\"gini = 0.0\\\\nsamples = 2\\\\nvalue = [2, 0]\"] ;\\n826 -> 828 ;\\n829 [label=\"gini = 0.0\\\\nsamples = 17\\\\nvalue = [17, 0]\"] ;\\n825 -> 829 ;\\n830 [label=\"X[44] <= 1658.0\\\\ngini = 0.498\\\\nsamples = 165\\\\nvalue = [77, 88]\"] ;\\n556 -> 830 ;\\n831 [label=\"X[74] <= 758.0\\\\ngini = 0.475\\\\nsamples = 121\\\\nvalue = [47, 74]\"] ;\\n830 -> 831 ;\\n832 [label=\"X[43] <= 434.5\\\\ngini = 0.5\\\\nsamples = 84\\\\nvalue = [42, 42]\"] ;\\n831 -> 832 ;\\n833 [label=\"X[82] <= 356.0\\\\ngini = 0.42\\\\nsamples = 40\\\\nvalue = [12, 28]\"] ;\\n832 -> 833 ;\\n834 [label=\"X[66] <= 11133.5\\\\ngini = 0.165\\\\nsamples = 22\\\\nvalue = [2, 20]\"] ;\\n833 -> 834 ;\\n835 [label=\"gini = 0.0\\\\nsamples = 20\\\\nvalue = [0, 20]\"] ;\\n834 -> 835 ;\\n836 [label=\"gini = 0.0\\\\nsamples = 2\\\\nvalue = [2, 0]\"] ;\\n834 -> 836 ;\\n837 [label=\"X[52] <= 914.5\\\\ngini = 0.494\\\\nsamples = 18\\\\nvalue = [10, 8]\"] ;\\n833 -> 837 ;\\n838 [label=\"X[78] <= 32.5\\\\ngini = 0.278\\\\nsamples = 12\\\\nvalue = [10, 2]\"] ;\\n837 -> 838 ;\\n839 [label=\"gini = 0.0\\\\nsamples = 2\\\\nvalue = [0, 2]\"] ;\\n838 -> 839 ;\\n840 [label=\"gini = 0.0\\\\nsamples = 10\\\\nvalue = [10, 0]\"] ;\\n838 -> 840 ;\\n841 [label=\"gini = 0.0\\\\nsamples = 6\\\\nvalue = [0, 6]\"] ;\\n837 -> 841 ;\\n842 [label=\"X[97] <= 337.0\\\\ngini = 0.434\\\\nsamples = 44\\\\nvalue = [30, 14]\"] ;\\n832 -> 842 ;\\n843 [label=\"X[66] <= 1.5\\\\ngini = 0.091\\\\nsamples = 21\\\\nvalue = [20, 1]\"] ;\\n842 -> 843 ;\\n844 [label=\"gini = 0.0\\\\nsamples = 1\\\\nvalue = [0, 1]\"] ;\\n843 -> 844 ;\\n845 [label=\"gini = 0.0\\\\nsamples = 20\\\\nvalue = [20, 0]\"] ;\\n843 -> 845 ;\\n846 [label=\"X[113] <= 45.5\\\\ngini = 0.491\\\\nsamples = 23\\\\nvalue = [10, 13]\"] ;\\n842 -> 846 ;\\n847 [label=\"X[81] <= 100.0\\\\ngini = 0.298\\\\nsamples = 11\\\\nvalue = [9, 2]\"] ;\\n846 -> 847 ;\\n848 [label=\"gini = 0.0\\\\nsamples = 2\\\\nvalue = [0, 2]\"] ;\\n847 -> 848 ;\\n849 [label=\"gini = 0.0\\\\nsamples = 9\\\\nvalue = [9, 0]\"] ;\\n847 -> 849 ;\\n850 [label=\"X[93] <= 101.0\\\\ngini = 0.153\\\\nsamples = 12\\\\nvalue = [1, 11]\"] ;\\n846 -> 850 ;\\n851 [label=\"gini = 0.0\\\\nsamples = 1\\\\nvalue = [1, 0]\"] ;\\n850 -> 851 ;\\n852 [label=\"gini = 0.0\\\\nsamples = 11\\\\nvalue = [0, 11]\"] ;\\n850 -> 852 ;\\n853 [label=\"X[104] <= 50.0\\\\ngini = 0.234\\\\nsamples = 37\\\\nvalue = [5, 32]\"] ;\\n831 -> 853 ;\\n854 [label=\"X[59] <= 10117.0\\\\ngini = 0.5\\\\nsamples = 10\\\\nvalue = [5, 5]\"] ;\\n853 -> 854 ;\\n855 [label=\"gini = 0.0\\\\nsamples = 4\\\\nvalue = [4, 0]\"] ;\\n854 -> 855 ;\\n856 [label=\"X[39] <= 5009.5\\\\ngini = 0.278\\\\nsamples = 6\\\\nvalue = [1, 5]\"] ;\\n854 -> 856 ;\\n857 [label=\"gini = 0.0\\\\nsamples = 5\\\\nvalue = [0, 5]\"] ;\\n856 -> 857 ;\\n858 [label=\"gini = 0.0\\\\nsamples = 1\\\\nvalue = [1, 0]\"] ;\\n856 -> 858 ;\\n859 [label=\"gini = 0.0\\\\nsamples = 27\\\\nvalue = [0, 27]\"] ;\\n853 -> 859 ;\\n860 [label=\"X[119] <= 9259.5\\\\ngini = 0.434\\\\nsamples = 44\\\\nvalue = [30, 14]\"] ;\\n830 -> 860 ;\\n861 [label=\"X[70] <= 46.0\\\\ngini = 0.355\\\\nsamples = 39\\\\nvalue = [30, 9]\"] ;\\n860 -> 861 ;\\n862 [label=\"X[82] <= 14622.5\\\\ngini = 0.278\\\\nsamples = 6\\\\nvalue = [1, 5]\"] ;\\n861 -> 862 ;\\n863 [label=\"gini = 0.0\\\\nsamples = 5\\\\nvalue = [0, 5]\"] ;\\n862 -> 863 ;\\n864 [label=\"gini = 0.0\\\\nsamples = 1\\\\nvalue = [1, 0]\"] ;\\n862 -> 864 ;\\n865 [label=\"X[33] <= 17674.5\\\\ngini = 0.213\\\\nsamples = 33\\\\nvalue = [29, 4]\"] ;\\n861 -> 865 ;\\n866 [label=\"X[75] <= 12.0\\\\ngini = 0.121\\\\nsamples = 31\\\\nvalue = [29, 2]\"] ;\\n865 -> 866 ;\\n867 [label=\"gini = 0.0\\\\nsamples = 1\\\\nvalue = [0, 1]\"] ;\\n866 -> 867 ;\\n868 [label=\"X[55] <= 4104.0\\\\ngini = 0.064\\\\nsamples = 30\\\\nvalue = [29, 1]\"] ;\\n866 -> 868 ;\\n869 [label=\"gini = 0.0\\\\nsamples = 29\\\\nvalue = [29, 0]\"] ;\\n868 -> 869 ;\\n870 [label=\"gini = 0.0\\\\nsamples = 1\\\\nvalue = [0, 1]\"] ;\\n868 -> 870 ;\\n871 [label=\"gini = 0.0\\\\nsamples = 2\\\\nvalue = [0, 2]\"] ;\\n865 -> 871 ;\\n872 [label=\"gini = 0.0\\\\nsamples = 5\\\\nvalue = [0, 5]\"] ;\\n860 -> 872 ;\\n873 [label=\"X[56] <= 5044.5\\\\ngini = 0.394\\\\nsamples = 37\\\\nvalue = [10, 27]\"] ;\\n555 -> 873 ;\\n874 [label=\"X[57] <= 20981.0\\\\ngini = 0.231\\\\nsamples = 30\\\\nvalue = [4, 26]\"] ;\\n873 -> 874 ;\\n875 [label=\"X[127] <= 22135.5\\\\ngini = 0.133\\\\nsamples = 28\\\\nvalue = [2, 26]\"] ;\\n874 -> 875 ;\\n876 [label=\"X[39] <= 1.5\\\\ngini = 0.071\\\\nsamples = 27\\\\nvalue = [1, 26]\"] ;\\n875 -> 876 ;\\n877 [label=\"gini = 0.0\\\\nsamples = 1\\\\nvalue = [1, 0]\"] ;\\n876 -> 877 ;\\n878 [label=\"gini = 0.0\\\\nsamples = 26\\\\nvalue = [0, 26]\"] ;\\n876 -> 878 ;\\n879 [label=\"gini = 0.0\\\\nsamples = 1\\\\nvalue = [1, 0]\"] ;\\n875 -> 879 ;\\n880 [label=\"gini = 0.0\\\\nsamples = 2\\\\nvalue = [2, 0]\"] ;\\n874 -> 880 ;\\n881 [label=\"X[54] <= 36.0\\\\ngini = 0.245\\\\nsamples = 7\\\\nvalue = [6, 1]\"] ;\\n873 -> 881 ;\\n882 [label=\"gini = 0.0\\\\nsamples = 1\\\\nvalue = [0, 1]\"] ;\\n881 -> 882 ;\\n883 [label=\"gini = 0.0\\\\nsamples = 6\\\\nvalue = [6, 0]\"] ;\\n881 -> 883 ;\\n884 [label=\"X[25] <= 1813.5\\\\ngini = 0.497\\\\nsamples = 764\\\\nvalue = [353, 411]\"] ;\\n400 -> 884 ;\\n885 [label=\"X[41] <= 5558.5\\\\ngini = 0.5\\\\nsamples = 565\\\\nvalue = [287, 278]\"] ;\\n884 -> 885 ;\\n886 [label=\"X[92] <= 545.0\\\\ngini = 0.497\\\\nsamples = 480\\\\nvalue = [259, 221]\"] ;\\n885 -> 886 ;\\n887 [label=\"X[59] <= 320.0\\\\ngini = 0.482\\\\nsamples = 307\\\\nvalue = [183, 124]\"] ;\\n886 -> 887 ;\\n888 [label=\"X[92] <= 111.5\\\\ngini = 0.5\\\\nsamples = 164\\\\nvalue = [82, 82]\"] ;\\n887 -> 888 ;\\n889 [label=\"X[100] <= 55.5\\\\ngini = 0.485\\\\nsamples = 116\\\\nvalue = [48, 68]\"] ;\\n888 -> 889 ;\\n890 [label=\"X[65] <= 15.0\\\\ngini = 0.458\\\\nsamples = 45\\\\nvalue = [29, 16]\"] ;\\n889 -> 890 ;\\n891 [label=\"X[35] <= 1918.0\\\\ngini = 0.245\\\\nsamples = 7\\\\nvalue = [1, 6]\"] ;\\n890 -> 891 ;\\n892 [label=\"gini = 0.0\\\\nsamples = 6\\\\nvalue = [0, 6]\"] ;\\n891 -> 892 ;\\n893 [label=\"gini = 0.0\\\\nsamples = 1\\\\nvalue = [1, 0]\"] ;\\n891 -> 893 ;\\n894 [label=\"X[92] <= 1.5\\\\ngini = 0.388\\\\nsamples = 38\\\\nvalue = [28, 10]\"] ;\\n890 -> 894 ;\\n895 [label=\"X[50] <= 634.5\\\\ngini = 0.278\\\\nsamples = 6\\\\nvalue = [1, 5]\"] ;\\n894 -> 895 ;\\n896 [label=\"gini = 0.0\\\\nsamples = 5\\\\nvalue = [0, 5]\"] ;\\n895 -> 896 ;\\n897 [label=\"gini = 0.0\\\\nsamples = 1\\\\nvalue = [1, 0]\"] ;\\n895 -> 897 ;\\n898 [label=\"X[70] <= 1424.0\\\\ngini = 0.264\\\\nsamples = 32\\\\nvalue = [27, 5]\"] ;\\n894 -> 898 ;\\n899 [label=\"X[87] <= 54.0\\\\ngini = 0.08\\\\nsamples = 24\\\\nvalue = [23, 1]\"] ;\\n898 -> 899 ;\\n900 [label=\"gini = 0.0\\\\nsamples = 1\\\\nvalue = [0, 1]\"] ;\\n899 -> 900 ;\\n901 [label=\"gini = 0.0\\\\nsamples = 23\\\\nvalue = [23, 0]\"] ;\\n899 -> 901 ;\\n902 [label=\"X[14] <= 177.5\\\\ngini = 0.5\\\\nsamples = 8\\\\nvalue = [4, 4]\"] ;\\n898 -> 902 ;\\n903 [label=\"gini = 0.0\\\\nsamples = 4\\\\nvalue = [0, 4]\"] ;\\n902 -> 903 ;\\n904 [label=\"gini = 0.0\\\\nsamples = 4\\\\nvalue = [4, 0]\"] ;\\n902 -> 904 ;\\n905 [label=\"X[122] <= 4419.0\\\\ngini = 0.392\\\\nsamples = 71\\\\nvalue = [19, 52]\"] ;\\n889 -> 905 ;\\n906 [label=\"X[43] <= 5652.0\\\\ngini = 0.299\\\\nsamples = 60\\\\nvalue = [11, 49]\"] ;\\n905 -> 906 ;\\n907 [label=\"X[102] <= 33.5\\\\ngini = 0.153\\\\nsamples = 48\\\\nvalue = [4, 44]\"] ;\\n906 -> 907 ;\\n908 [label=\"X[54] <= 367.5\\\\ngini = 0.494\\\\nsamples = 9\\\\nvalue = [4, 5]\"] ;\\n907 -> 908 ;\\n909 [label=\"gini = 0.0\\\\nsamples = 4\\\\nvalue = [4, 0]\"] ;\\n908 -> 909 ;\\n910 [label=\"gini = 0.0\\\\nsamples = 5\\\\nvalue = [0, 5]\"] ;\\n908 -> 910 ;\\n911 [label=\"gini = 0.0\\\\nsamples = 39\\\\nvalue = [0, 39]\"] ;\\n907 -> 911 ;\\n912 [label=\"X[87] <= 362.0\\\\ngini = 0.486\\\\nsamples = 12\\\\nvalue = [7, 5]\"] ;\\n906 -> 912 ;\\n913 [label=\"gini = 0.0\\\\nsamples = 4\\\\nvalue = [0, 4]\"] ;\\n912 -> 913 ;\\n914 [label=\"X[84] <= 1369.5\\\\ngini = 0.219\\\\nsamples = 8\\\\nvalue = [7, 1]\"] ;\\n912 -> 914 ;\\n915 [label=\"gini = 0.0\\\\nsamples = 7\\\\nvalue = [7, 0]\"] ;\\n914 -> 915 ;\\n916 [label=\"gini = 0.0\\\\nsamples = 1\\\\nvalue = [0, 1]\"] ;\\n914 -> 916 ;\\n917 [label=\"X[64] <= 211.0\\\\ngini = 0.397\\\\nsamples = 11\\\\nvalue = [8, 3]\"] ;\\n905 -> 917 ;\\n918 [label=\"gini = 0.0\\\\nsamples = 7\\\\nvalue = [7, 0]\"] ;\\n917 -> 918 ;\\n919 [label=\"X[42] <= 347.5\\\\ngini = 0.375\\\\nsamples = 4\\\\nvalue = [1, 3]\"] ;\\n917 -> 919 ;\\n920 [label=\"gini = 0.0\\\\nsamples = 3\\\\nvalue = [0, 3]\"] ;\\n919 -> 920 ;\\n921 [label=\"gini = 0.0\\\\nsamples = 1\\\\nvalue = [1, 0]\"] ;\\n919 -> 921 ;\\n922 [label=\"X[120] <= 5617.5\\\\ngini = 0.413\\\\nsamples = 48\\\\nvalue = [34, 14]\"] ;\\n888 -> 922 ;\\n923 [label=\"X[83] <= 13475.0\\\\ngini = 0.32\\\\nsamples = 40\\\\nvalue = [32, 8]\"] ;\\n922 -> 923 ;\\n924 [label=\"X[90] <= 1.5\\\\ngini = 0.234\\\\nsamples = 37\\\\nvalue = [32, 5]\"] ;\\n923 -> 924 ;\\n925 [label=\"gini = 0.0\\\\nsamples = 2\\\\nvalue = [0, 2]\"] ;\\n924 -> 925 ;\\n926 [label=\"X[12] <= 44.0\\\\ngini = 0.157\\\\nsamples = 35\\\\nvalue = [32, 3]\"] ;\\n924 -> 926 ;\\n927 [label=\"X[41] <= 288.0\\\\ngini = 0.469\\\\nsamples = 8\\\\nvalue = [5, 3]\"] ;\\n926 -> 927 ;\\n928 [label=\"gini = 0.0\\\\nsamples = 5\\\\nvalue = [5, 0]\"] ;\\n927 -> 928 ;\\n929 [label=\"gini = 0.0\\\\nsamples = 3\\\\nvalue = [0, 3]\"] ;\\n927 -> 929 ;\\n930 [label=\"gini = 0.0\\\\nsamples = 27\\\\nvalue = [27, 0]\"] ;\\n926 -> 930 ;\\n931 [label=\"gini = 0.0\\\\nsamples = 3\\\\nvalue = [0, 3]\"] ;\\n923 -> 931 ;\\n932 [label=\"X[71] <= 55.0\\\\ngini = 0.375\\\\nsamples = 8\\\\nvalue = [2, 6]\"] ;\\n922 -> 932 ;\\n933 [label=\"gini = 0.0\\\\nsamples = 2\\\\nvalue = [2, 0]\"] ;\\n932 -> 933 ;\\n934 [label=\"gini = 0.0\\\\nsamples = 6\\\\nvalue = [0, 6]\"] ;\\n932 -> 934 ;\\n935 [label=\"X[20] <= 3503.0\\\\ngini = 0.415\\\\nsamples = 143\\\\nvalue = [101, 42]\"] ;\\n887 -> 935 ;\\n936 [label=\"X[102] <= 19524.0\\\\ngini = 0.332\\\\nsamples = 114\\\\nvalue = [90, 24]\"] ;\\n935 -> 936 ;\\n937 [label=\"X[42] <= 38.5\\\\ngini = 0.28\\\\nsamples = 107\\\\nvalue = [89, 18]\"] ;\\n936 -> 937 ;\\n938 [label=\"X[97] <= 4017.0\\\\ngini = 0.471\\\\nsamples = 29\\\\nvalue = [18, 11]\"] ;\\n937 -> 938 ;\\n939 [label=\"X[67] <= 3188.5\\\\ngini = 0.34\\\\nsamples = 23\\\\nvalue = [18, 5]\"] ;\\n938 -> 939 ;\\n940 [label=\"X[113] <= 10.0\\\\ngini = 0.105\\\\nsamples = 18\\\\nvalue = [17, 1]\"] ;\\n939 -> 940 ;\\n941 [label=\"gini = 0.0\\\\nsamples = 1\\\\nvalue = [0, 1]\"] ;\\n940 -> 941 ;\\n942 [label=\"gini = 0.0\\\\nsamples = 17\\\\nvalue = [17, 0]\"] ;\\n940 -> 942 ;\\n943 [label=\"X[47] <= 14811.5\\\\ngini = 0.32\\\\nsamples = 5\\\\nvalue = [1, 4]\"] ;\\n939 -> 943 ;\\n944 [label=\"gini = 0.0\\\\nsamples = 4\\\\nvalue = [0, 4]\"] ;\\n943 -> 944 ;\\n945 [label=\"gini = 0.0\\\\nsamples = 1\\\\nvalue = [1, 0]\"] ;\\n943 -> 945 ;\\n946 [label=\"gini = 0.0\\\\nsamples = 6\\\\nvalue = [0, 6]\"] ;\\n938 -> 946 ;\\n947 [label=\"X[91] <= 1313.0\\\\ngini = 0.163\\\\nsamples = 78\\\\nvalue = [71, 7]\"] ;\\n937 -> 947 ;\\n948 [label=\"gini = 0.0\\\\nsamples = 2\\\\nvalue = [0, 2]\"] ;\\n947 -> 948 ;\\n949 [label=\"X[81] <= 21095.0\\\\ngini = 0.123\\\\nsamples = 76\\\\nvalue = [71, 5]\"] ;\\n947 -> 949 ;\\n950 [label=\"X[58] <= 19165.5\\\\ngini = 0.101\\\\nsamples = 75\\\\nvalue = [71, 4]\"] ;\\n949 -> 950 ;\\n951 [label=\"X[65] <= 19003.5\\\\ngini = 0.078\\\\nsamples = 74\\\\nvalue = [71, 3]\"] ;\\n950 -> 951 ;\\n952 [label=\"X[12] <= 29450.0\\\\ngini = 0.053\\\\nsamples = 73\\\\nvalue = [71, 2]\"] ;\\n951 -> 952 ;\\n953 [label=\"X[70] <= 1.5\\\\ngini = 0.027\\\\nsamples = 72\\\\nvalue = [71, 1]\"] ;\\n952 -> 953 ;\\n954 [label=\"gini = 0.0\\\\nsamples = 1\\\\nvalue = [0, 1]\"] ;\\n953 -> 954 ;\\n955 [label=\"gini = 0.0\\\\nsamples = 71\\\\nvalue = [71, 0]\"] ;\\n953 -> 955 ;\\n956 [label=\"gini = 0.0\\\\nsamples = 1\\\\nvalue = [0, 1]\"] ;\\n952 -> 956 ;\\n957 [label=\"gini = 0.0\\\\nsamples = 1\\\\nvalue = [0, 1]\"] ;\\n951 -> 957 ;\\n958 [label=\"gini = 0.0\\\\nsamples = 1\\\\nvalue = [0, 1]\"] ;\\n950 -> 958 ;\\n959 [label=\"gini = 0.0\\\\nsamples = 1\\\\nvalue = [0, 1]\"] ;\\n949 -> 959 ;\\n960 [label=\"X[6] <= 1576.0\\\\ngini = 0.245\\\\nsamples = 7\\\\nvalue = [1, 6]\"] ;\\n936 -> 960 ;\\n961 [label=\"gini = 0.0\\\\nsamples = 6\\\\nvalue = [0, 6]\"] ;\\n960 -> 961 ;\\n962 [label=\"gini = 0.0\\\\nsamples = 1\\\\nvalue = [1, 0]\"] ;\\n960 -> 962 ;\\n963 [label=\"X[52] <= 2359.5\\\\ngini = 0.471\\\\nsamples = 29\\\\nvalue = [11, 18]\"] ;\\n935 -> 963 ;\\n964 [label=\"X[126] <= 3157.5\\\\ngini = 0.188\\\\nsamples = 19\\\\nvalue = [2, 17]\"] ;\\n963 -> 964 ;\\n965 [label=\"gini = 0.0\\\\nsamples = 17\\\\nvalue = [0, 17]\"] ;\\n964 -> 965 ;\\n966 [label=\"gini = 0.0\\\\nsamples = 2\\\\nvalue = [2, 0]\"] ;\\n964 -> 966 ;\\n967 [label=\"X[28] <= 26.0\\\\ngini = 0.18\\\\nsamples = 10\\\\nvalue = [9, 1]\"] ;\\n963 -> 967 ;\\n968 [label=\"gini = 0.0\\\\nsamples = 1\\\\nvalue = [0, 1]\"] ;\\n967 -> 968 ;\\n969 [label=\"gini = 0.0\\\\nsamples = 9\\\\nvalue = [9, 0]\"] ;\\n967 -> 969 ;\\n970 [label=\"X[32] <= 12.0\\\\ngini = 0.493\\\\nsamples = 173\\\\nvalue = [76, 97]\"] ;\\n886 -> 970 ;\\n971 [label=\"X[81] <= 3903.0\\\\ngini = 0.32\\\\nsamples = 20\\\\nvalue = [16, 4]\"] ;\\n970 -> 971 ;\\n972 [label=\"X[25] <= 1441.0\\\\ngini = 0.111\\\\nsamples = 17\\\\nvalue = [16, 1]\"] ;\\n971 -> 972 ;\\n973 [label=\"gini = 0.0\\\\nsamples = 16\\\\nvalue = [16, 0]\"] ;\\n972 -> 973 ;\\n974 [label=\"gini = 0.0\\\\nsamples = 1\\\\nvalue = [0, 1]\"] ;\\n972 -> 974 ;\\n975 [label=\"gini = 0.0\\\\nsamples = 3\\\\nvalue = [0, 3]\"] ;\\n971 -> 975 ;\\n976 [label=\"X[118] <= 544.0\\\\ngini = 0.477\\\\nsamples = 153\\\\nvalue = [60, 93]\"] ;\\n970 -> 976 ;\\n977 [label=\"X[89] <= 3775.5\\\\ngini = 0.5\\\\nsamples = 99\\\\nvalue = [50, 49]\"] ;\\n976 -> 977 ;\\n978 [label=\"X[109] <= 102.0\\\\ngini = 0.485\\\\nsamples = 82\\\\nvalue = [34, 48]\"] ;\\n977 -> 978 ;\\n979 [label=\"X[65] <= 16562.0\\\\ngini = 0.238\\\\nsamples = 29\\\\nvalue = [4, 25]\"] ;\\n978 -> 979 ;\\n980 [label=\"X[46] <= 3122.5\\\\ngini = 0.137\\\\nsamples = 27\\\\nvalue = [2, 25]\"] ;\\n979 -> 980 ;\\n981 [label=\"gini = 0.0\\\\nsamples = 24\\\\nvalue = [0, 24]\"] ;\\n980 -> 981 ;\\n982 [label=\"X[15] <= 146.0\\\\ngini = 0.444\\\\nsamples = 3\\\\nvalue = [2, 1]\"] ;\\n980 -> 982 ;\\n983 [label=\"gini = 0.0\\\\nsamples = 2\\\\nvalue = [2, 0]\"] ;\\n982 -> 983 ;\\n984 [label=\"gini = 0.0\\\\nsamples = 1\\\\nvalue = [0, 1]\"] ;\\n982 -> 984 ;\\n985 [label=\"gini = 0.0\\\\nsamples = 2\\\\nvalue = [2, 0]\"] ;\\n979 -> 985 ;\\n986 [label=\"X[122] <= 776.0\\\\ngini = 0.491\\\\nsamples = 53\\\\nvalue = [30, 23]\"] ;\\n978 -> 986 ;\\n987 [label=\"X[115] <= 285.5\\\\ngini = 0.401\\\\nsamples = 36\\\\nvalue = [26, 10]\"] ;\\n986 -> 987 ;\\n988 [label=\"X[8] <= 4.0\\\\ngini = 0.105\\\\nsamples = 18\\\\nvalue = [17, 1]\"] ;\\n987 -> 988 ;\\n989 [label=\"gini = 0.0\\\\nsamples = 1\\\\nvalue = [0, 1]\"] ;\\n988 -> 989 ;\\n990 [label=\"gini = 0.0\\\\nsamples = 17\\\\nvalue = [17, 0]\"] ;\\n988 -> 990 ;\\n991 [label=\"X[110] <= 827.0\\\\ngini = 0.5\\\\nsamples = 18\\\\nvalue = [9, 9]\"] ;\\n987 -> 991 ;\\n992 [label=\"X[100] <= 27.5\\\\ngini = 0.375\\\\nsamples = 12\\\\nvalue = [9, 3]\"] ;\\n991 -> 992 ;\\n993 [label=\"gini = 0.0\\\\nsamples = 3\\\\nvalue = [0, 3]\"] ;\\n992 -> 993 ;\\n994 [label=\"gini = 0.0\\\\nsamples = 9\\\\nvalue = [9, 0]\"] ;\\n992 -> 994 ;\\n995 [label=\"gini = 0.0\\\\nsamples = 6\\\\nvalue = [0, 6]\"] ;\\n991 -> 995 ;\\n996 [label=\"X[72] <= 1326.5\\\\ngini = 0.36\\\\nsamples = 17\\\\nvalue = [4, 13]\"] ;\\n986 -> 996 ;\\n997 [label=\"X[118] <= 449.0\\\\ngini = 0.133\\\\nsamples = 14\\\\nvalue = [1, 13]\"] ;\\n996 -> 997 ;\\n998 [label=\"gini = 0.0\\\\nsamples = 13\\\\nvalue = [0, 13]\"] ;\\n997 -> 998 ;\\n999 [label=\"gini = 0.0\\\\nsamples = 1\\\\nvalue = [1, 0]\"] ;\\n997 -> 999 ;\\n1000 [label=\"gini = 0.0\\\\nsamples = 3\\\\nvalue = [3, 0]\"] ;\\n996 -> 1000 ;\\n1001 [label=\"X[68] <= 35.0\\\\ngini = 0.111\\\\nsamples = 17\\\\nvalue = [16, 1]\"] ;\\n977 -> 1001 ;\\n1002 [label=\"gini = 0.0\\\\nsamples = 1\\\\nvalue = [0, 1]\"] ;\\n1001 -> 1002 ;\\n1003 [label=\"gini = 0.0\\\\nsamples = 16\\\\nvalue = [16, 0]\"] ;\\n1001 -> 1003 ;\\n1004 [label=\"X[12] <= 3.5\\\\ngini = 0.302\\\\nsamples = 54\\\\nvalue = [10, 44]\"] ;\\n976 -> 1004 ;\\n1005 [label=\"gini = 0.0\\\\nsamples = 3\\\\nvalue = [3, 0]\"] ;\\n1004 -> 1005 ;\\n1006 [label=\"X[99] <= 10385.0\\\\ngini = 0.237\\\\nsamples = 51\\\\nvalue = [7, 44]\"] ;\\n1004 -> 1006 ;\\n1007 [label=\"X[36] <= 30797.0\\\\ngini = 0.122\\\\nsamples = 46\\\\nvalue = [3, 43]\"] ;\\n1006 -> 1007 ;\\n1008 [label=\"X[61] <= 24764.0\\\\ngini = 0.044\\\\nsamples = 44\\\\nvalue = [1, 43]\"] ;\\n1007 -> 1008 ;\\n1009 [label=\"gini = 0.0\\\\nsamples = 43\\\\nvalue = [0, 43]\"] ;\\n1008 -> 1009 ;\\n1010 [label=\"gini = 0.0\\\\nsamples = 1\\\\nvalue = [1, 0]\"] ;\\n1008 -> 1010 ;\\n1011 [label=\"gini = 0.0\\\\nsamples = 2\\\\nvalue = [2, 0]\"] ;\\n1007 -> 1011 ;\\n1012 [label=\"X[48] <= 220.0\\\\ngini = 0.32\\\\nsamples = 5\\\\nvalue = [4, 1]\"] ;\\n1006 -> 1012 ;\\n1013 [label=\"gini = 0.0\\\\nsamples = 1\\\\nvalue = [0, 1]\"] ;\\n1012 -> 1013 ;\\n1014 [label=\"gini = 0.0\\\\nsamples = 4\\\\nvalue = [4, 0]\"] ;\\n1012 -> 1014 ;\\n1015 [label=\"X[50] <= 29.5\\\\ngini = 0.442\\\\nsamples = 85\\\\nvalue = [28, 57]\"] ;\\n885 -> 1015 ;\\n1016 [label=\"X[37] <= 45.5\\\\ngini = 0.298\\\\nsamples = 11\\\\nvalue = [9, 2]\"] ;\\n1015 -> 1016 ;\\n1017 [label=\"gini = 0.0\\\\nsamples = 2\\\\nvalue = [0, 2]\"] ;\\n1016 -> 1017 ;\\n1018 [label=\"gini = 0.0\\\\nsamples = 9\\\\nvalue = [9, 0]\"] ;\\n1016 -> 1018 ;\\n1019 [label=\"X[16] <= 728.5\\\\ngini = 0.382\\\\nsamples = 74\\\\nvalue = [19, 55]\"] ;\\n1015 -> 1019 ;\\n1020 [label=\"X[102] <= 49.5\\\\ngini = 0.487\\\\nsamples = 43\\\\nvalue = [18, 25]\"] ;\\n1019 -> 1020 ;\\n1021 [label=\"X[44] <= 1499.0\\\\ngini = 0.32\\\\nsamples = 15\\\\nvalue = [12, 3]\"] ;\\n1020 -> 1021 ;\\n1022 [label=\"gini = 0.0\\\\nsamples = 12\\\\nvalue = [12, 0]\"] ;\\n1021 -> 1022 ;\\n1023 [label=\"gini = 0.0\\\\nsamples = 3\\\\nvalue = [0, 3]\"] ;\\n1021 -> 1023 ;\\n1024 [label=\"X[48] <= 64.5\\\\ngini = 0.337\\\\nsamples = 28\\\\nvalue = [6, 22]\"] ;\\n1020 -> 1024 ;\\n1025 [label=\"X[53] <= 2488.5\\\\ngini = 0.32\\\\nsamples = 5\\\\nvalue = [4, 1]\"] ;\\n1024 -> 1025 ;\\n1026 [label=\"gini = 0.0\\\\nsamples = 4\\\\nvalue = [4, 0]\"] ;\\n1025 -> 1026 ;\\n1027 [label=\"gini = 0.0\\\\nsamples = 1\\\\nvalue = [0, 1]\"] ;\\n1025 -> 1027 ;\\n1028 [label=\"X[50] <= 43.0\\\\ngini = 0.159\\\\nsamples = 23\\\\nvalue = [2, 21]\"] ;\\n1024 -> 1028 ;\\n1029 [label=\"gini = 0.0\\\\nsamples = 2\\\\nvalue = [2, 0]\"] ;\\n1028 -> 1029 ;\\n1030 [label=\"gini = 0.0\\\\nsamples = 21\\\\nvalue = [0, 21]\"] ;\\n1028 -> 1030 ;\\n1031 [label=\"X[45] <= 15.5\\\\ngini = 0.062\\\\nsamples = 31\\\\nvalue = [1, 30]\"] ;\\n1019 -> 1031 ;\\n1032 [label=\"gini = 0.0\\\\nsamples = 1\\\\nvalue = [1, 0]\"] ;\\n1031 -> 1032 ;\\n1033 [label=\"gini = 0.0\\\\nsamples = 30\\\\nvalue = [0, 30]\"] ;\\n1031 -> 1033 ;\\n1034 [label=\"X[36] <= 663.0\\\\ngini = 0.443\\\\nsamples = 199\\\\nvalue = [66, 133]\"] ;\\n884 -> 1034 ;\\n1035 [label=\"X[54] <= 3777.0\\\\ngini = 0.488\\\\nsamples = 125\\\\nvalue = [53, 72]\"] ;\\n1034 -> 1035 ;\\n1036 [label=\"X[3] <= 317.5\\\\ngini = 0.457\\\\nsamples = 99\\\\nvalue = [35, 64]\"] ;\\n1035 -> 1036 ;\\n1037 [label=\"X[31] <= 1029.5\\\\ngini = 0.334\\\\nsamples = 52\\\\nvalue = [11, 41]\"] ;\\n1036 -> 1037 ;\\n1038 [label=\"X[51] <= 31389.5\\\\ngini = 0.184\\\\nsamples = 39\\\\nvalue = [4, 35]\"] ;\\n1037 -> 1038 ;\\n1039 [label=\"X[47] <= 1.5\\\\ngini = 0.102\\\\nsamples = 37\\\\nvalue = [2, 35]\"] ;\\n1038 -> 1039 ;\\n1040 [label=\"gini = 0.0\\\\nsamples = 1\\\\nvalue = [1, 0]\"] ;\\n1039 -> 1040 ;\\n1041 [label=\"X[74] <= 0.5\\\\ngini = 0.054\\\\nsamples = 36\\\\nvalue = [1, 35]\"] ;\\n1039 -> 1041 ;\\n1042 [label=\"gini = 0.0\\\\nsamples = 1\\\\nvalue = [1, 0]\"] ;\\n1041 -> 1042 ;\\n1043 [label=\"gini = 0.0\\\\nsamples = 35\\\\nvalue = [0, 35]\"] ;\\n1041 -> 1043 ;\\n1044 [label=\"gini = 0.0\\\\nsamples = 2\\\\nvalue = [2, 0]\"] ;\\n1038 -> 1044 ;\\n1045 [label=\"X[9] <= 900.0\\\\ngini = 0.497\\\\nsamples = 13\\\\nvalue = [7, 6]\"] ;\\n1037 -> 1045 ;\\n1046 [label=\"gini = 0.0\\\\nsamples = 5\\\\nvalue = [0, 5]\"] ;\\n1045 -> 1046 ;\\n1047 [label=\"X[40] <= 74.0\\\\ngini = 0.219\\\\nsamples = 8\\\\nvalue = [7, 1]\"] ;\\n1045 -> 1047 ;\\n1048 [label=\"gini = 0.0\\\\nsamples = 1\\\\nvalue = [0, 1]\"] ;\\n1047 -> 1048 ;\\n1049 [label=\"gini = 0.0\\\\nsamples = 7\\\\nvalue = [7, 0]\"] ;\\n1047 -> 1049 ;\\n1050 [label=\"X[52] <= 82.5\\\\ngini = 0.5\\\\nsamples = 47\\\\nvalue = [24, 23]\"] ;\\n1036 -> 1050 ;\\n1051 [label=\"X[114] <= 1.5\\\\ngini = 0.153\\\\nsamples = 12\\\\nvalue = [11, 1]\"] ;\\n1050 -> 1051 ;\\n1052 [label=\"gini = 0.0\\\\nsamples = 1\\\\nvalue = [0, 1]\"] ;\\n1051 -> 1052 ;\\n1053 [label=\"gini = 0.0\\\\nsamples = 11\\\\nvalue = [11, 0]\"] ;\\n1051 -> 1053 ;\\n1054 [label=\"X[99] <= 111.5\\\\ngini = 0.467\\\\nsamples = 35\\\\nvalue = [13, 22]\"] ;\\n1050 -> 1054 ;\\n1055 [label=\"gini = 0.0\\\\nsamples = 11\\\\nvalue = [0, 11]\"] ;\\n1054 -> 1055 ;\\n1056 [label=\"X[5] <= 370.5\\\\ngini = 0.497\\\\nsamples = 24\\\\nvalue = [13, 11]\"] ;\\n1054 -> 1056 ;\\n1057 [label=\"X[84] <= 1204.0\\\\ngini = 0.298\\\\nsamples = 11\\\\nvalue = [2, 9]\"] ;\\n1056 -> 1057 ;\\n1058 [label=\"gini = 0.0\\\\nsamples = 9\\\\nvalue = [0, 9]\"] ;\\n1057 -> 1058 ;\\n1059 [label=\"gini = 0.0\\\\nsamples = 2\\\\nvalue = [2, 0]\"] ;\\n1057 -> 1059 ;\\n1060 [label=\"X[84] <= 2838.5\\\\ngini = 0.26\\\\nsamples = 13\\\\nvalue = [11, 2]\"] ;\\n1056 -> 1060 ;\\n1061 [label=\"gini = 0.0\\\\nsamples = 11\\\\nvalue = [11, 0]\"] ;\\n1060 -> 1061 ;\\n1062 [label=\"gini = 0.0\\\\nsamples = 2\\\\nvalue = [0, 2]\"] ;\\n1060 -> 1062 ;\\n1063 [label=\"X[114] <= 837.5\\\\ngini = 0.426\\\\nsamples = 26\\\\nvalue = [18, 8]\"] ;\\n1035 -> 1063 ;\\n1064 [label=\"X[86] <= 2978.0\\\\ngini = 0.188\\\\nsamples = 19\\\\nvalue = [17, 2]\"] ;\\n1063 -> 1064 ;\\n1065 [label=\"gini = 0.0\\\\nsamples = 16\\\\nvalue = [16, 0]\"] ;\\n1064 -> 1065 ;\\n1066 [label=\"X[78] <= 1354.0\\\\ngini = 0.444\\\\nsamples = 3\\\\nvalue = [1, 2]\"] ;\\n1064 -> 1066 ;\\n1067 [label=\"gini = 0.0\\\\nsamples = 2\\\\nvalue = [0, 2]\"] ;\\n1066 -> 1067 ;\\n1068 [label=\"gini = 0.0\\\\nsamples = 1\\\\nvalue = [1, 0]\"] ;\\n1066 -> 1068 ;\\n1069 [label=\"X[5] <= 1151.0\\\\ngini = 0.245\\\\nsamples = 7\\\\nvalue = [1, 6]\"] ;\\n1063 -> 1069 ;\\n1070 [label=\"gini = 0.0\\\\nsamples = 6\\\\nvalue = [0, 6]\"] ;\\n1069 -> 1070 ;\\n1071 [label=\"gini = 0.0\\\\nsamples = 1\\\\nvalue = [1, 0]\"] ;\\n1069 -> 1071 ;\\n1072 [label=\"X[44] <= 31.5\\\\ngini = 0.29\\\\nsamples = 74\\\\nvalue = [13, 61]\"] ;\\n1034 -> 1072 ;\\n1073 [label=\"X[1] <= 159.0\\\\ngini = 0.375\\\\nsamples = 8\\\\nvalue = [6, 2]\"] ;\\n1072 -> 1073 ;\\n1074 [label=\"gini = 0.0\\\\nsamples = 2\\\\nvalue = [0, 2]\"] ;\\n1073 -> 1074 ;\\n1075 [label=\"gini = 0.0\\\\nsamples = 6\\\\nvalue = [6, 0]\"] ;\\n1073 -> 1075 ;\\n1076 [label=\"X[2] <= 1.5\\\\ngini = 0.19\\\\nsamples = 66\\\\nvalue = [7, 59]\"] ;\\n1072 -> 1076 ;\\n1077 [label=\"gini = 0.0\\\\nsamples = 2\\\\nvalue = [2, 0]\"] ;\\n1076 -> 1077 ;\\n1078 [label=\"X[54] <= 22.0\\\\ngini = 0.144\\\\nsamples = 64\\\\nvalue = [5, 59]\"] ;\\n1076 -> 1078 ;\\n1079 [label=\"X[5] <= 63.0\\\\ngini = 0.444\\\\nsamples = 12\\\\nvalue = [4, 8]\"] ;\\n1078 -> 1079 ;\\n1080 [label=\"X[101] <= 591.0\\\\ngini = 0.32\\\\nsamples = 5\\\\nvalue = [4, 1]\"] ;\\n1079 -> 1080 ;\\n1081 [label=\"gini = 0.0\\\\nsamples = 1\\\\nvalue = [0, 1]\"] ;\\n1080 -> 1081 ;\\n1082 [label=\"gini = 0.0\\\\nsamples = 4\\\\nvalue = [4, 0]\"] ;\\n1080 -> 1082 ;\\n1083 [label=\"gini = 0.0\\\\nsamples = 7\\\\nvalue = [0, 7]\"] ;\\n1079 -> 1083 ;\\n1084 [label=\"X[111] <= 23142.0\\\\ngini = 0.038\\\\nsamples = 52\\\\nvalue = [1, 51]\"] ;\\n1078 -> 1084 ;\\n1085 [label=\"gini = 0.0\\\\nsamples = 51\\\\nvalue = [0, 51]\"] ;\\n1084 -> 1085 ;\\n1086 [label=\"gini = 0.0\\\\nsamples = 1\\\\nvalue = [1, 0]\"] ;\\n1084 -> 1086 ;\\n}'"
      ]
     },
     "execution_count": 10,
     "metadata": {},
     "output_type": "execute_result"
    }
   ],
   "source": [
    "from sklearn import tree\n",
    "tree.export_graphviz(dt_cls)"
   ]
  },
  {
   "cell_type": "markdown",
   "metadata": {},
   "source": [
    "# Naive Bayes"
   ]
  },
  {
   "cell_type": "code",
   "execution_count": 11,
   "metadata": {},
   "outputs": [],
   "source": [
    "from sklearn.naive_bayes import GaussianNB"
   ]
  },
  {
   "cell_type": "code",
   "execution_count": 12,
   "metadata": {},
   "outputs": [
    {
     "data": {
      "text/plain": [
       "GaussianNB(priors=None, var_smoothing=1e-09)"
      ]
     },
     "execution_count": 12,
     "metadata": {},
     "output_type": "execute_result"
    }
   ],
   "source": [
    "nb_cls = GaussianNB()\n",
    "nb_cls.fit(train_data, train_labels)"
   ]
  },
  {
   "cell_type": "code",
   "execution_count": 13,
   "metadata": {},
   "outputs": [
    {
     "data": {
      "text/plain": [
       "0.5146666666666667"
      ]
     },
     "execution_count": 13,
     "metadata": {},
     "output_type": "execute_result"
    }
   ],
   "source": [
    "preds = nb_cls.predict(test_data)\n",
    "accuracy_score(test_labels, preds)"
   ]
  },
  {
   "cell_type": "markdown",
   "metadata": {},
   "source": [
    "# k-nearest neighbors"
   ]
  },
  {
   "cell_type": "code",
   "execution_count": 14,
   "metadata": {},
   "outputs": [],
   "source": [
    "from sklearn.neighbors import KNeighborsClassifier"
   ]
  },
  {
   "cell_type": "code",
   "execution_count": 15,
   "metadata": {},
   "outputs": [
    {
     "data": {
      "text/plain": [
       "KNeighborsClassifier(algorithm='auto', leaf_size=30, metric='minkowski',\n",
       "           metric_params=None, n_jobs=None, n_neighbors=5, p=2,\n",
       "           weights='uniform')"
      ]
     },
     "execution_count": 15,
     "metadata": {},
     "output_type": "execute_result"
    }
   ],
   "source": [
    "knn_cls = KNeighborsClassifier()\n",
    "knn_cls.fit(train_data, train_labels)"
   ]
  },
  {
   "cell_type": "code",
   "execution_count": 16,
   "metadata": {},
   "outputs": [
    {
     "data": {
      "text/plain": [
       "0.503"
      ]
     },
     "execution_count": 16,
     "metadata": {},
     "output_type": "execute_result"
    }
   ],
   "source": [
    "preds = knn_cls.predict(test_data)\n",
    "accuracy_score(test_labels, preds)"
   ]
  },
  {
   "cell_type": "markdown",
   "metadata": {},
   "source": [
    "# Support Vector Machines"
   ]
  },
  {
   "cell_type": "code",
   "execution_count": 17,
   "metadata": {},
   "outputs": [],
   "source": [
    "from sklearn.svm import LinearSVC"
   ]
  },
  {
   "cell_type": "code",
   "execution_count": 19,
   "metadata": {},
   "outputs": [
    {
     "data": {
      "text/plain": [
       "LinearSVC(C=1.0, class_weight=None, dual=False, fit_intercept=True,\n",
       "     intercept_scaling=1, loss='squared_hinge', max_iter=1000,\n",
       "     multi_class='ovr', penalty='l2', random_state=None, tol=0.0001,\n",
       "     verbose=0)"
      ]
     },
     "execution_count": 19,
     "metadata": {},
     "output_type": "execute_result"
    }
   ],
   "source": [
    "svm_cls = LinearSVC(loss=\"squared_hinge\", C=1.0, dual=False)\n",
    "svm_cls.fit(train_data, train_labels)"
   ]
  },
  {
   "cell_type": "code",
   "execution_count": 20,
   "metadata": {},
   "outputs": [
    {
     "data": {
      "text/plain": [
       "0.5023333333333333"
      ]
     },
     "execution_count": 20,
     "metadata": {},
     "output_type": "execute_result"
    }
   ],
   "source": [
    "preds = svm_cls.predict(test_data)\n",
    "accuracy_score(test_labels, preds)"
   ]
  },
  {
   "cell_type": "markdown",
   "metadata": {},
   "source": [
    "# Random Forest"
   ]
  },
  {
   "cell_type": "code",
   "execution_count": 21,
   "metadata": {},
   "outputs": [],
   "source": [
    "from sklearn.ensemble import RandomForestClassifier"
   ]
  },
  {
   "cell_type": "code",
   "execution_count": 22,
   "metadata": {},
   "outputs": [
    {
     "name": "stderr",
     "output_type": "stream",
     "text": [
      "/home/leto/anaconda3/lib/python3.7/site-packages/sklearn/ensemble/forest.py:246: FutureWarning: The default value of n_estimators will change from 10 in version 0.20 to 100 in 0.22.\n",
      "  \"10 in version 0.20 to 100 in 0.22.\", FutureWarning)\n"
     ]
    },
    {
     "data": {
      "text/plain": [
       "RandomForestClassifier(bootstrap=True, class_weight=None, criterion='gini',\n",
       "            max_depth=2, max_features='auto', max_leaf_nodes=None,\n",
       "            min_impurity_decrease=0.0, min_impurity_split=None,\n",
       "            min_samples_leaf=1, min_samples_split=2,\n",
       "            min_weight_fraction_leaf=0.0, n_estimators=10, n_jobs=None,\n",
       "            oob_score=False, random_state=0, verbose=0, warm_start=False)"
      ]
     },
     "execution_count": 22,
     "metadata": {},
     "output_type": "execute_result"
    }
   ],
   "source": [
    "rf_cls = RandomForestClassifier(max_depth=2, random_state=0)\n",
    "rf_cls.fit(train_data, train_labels)"
   ]
  },
  {
   "cell_type": "code",
   "execution_count": 23,
   "metadata": {},
   "outputs": [
    {
     "data": {
      "text/plain": [
       "0.5173333333333333"
      ]
     },
     "execution_count": 23,
     "metadata": {},
     "output_type": "execute_result"
    }
   ],
   "source": [
    "preds = rf_cls.predict(test_data)\n",
    "accuracy_score(test_labels, preds)"
   ]
  },
  {
   "cell_type": "markdown",
   "metadata": {},
   "source": [
    "# Boosting"
   ]
  },
  {
   "cell_type": "code",
   "execution_count": 24,
   "metadata": {},
   "outputs": [],
   "source": [
    "from sklearn.model_selection import cross_val_score\n",
    "from sklearn.ensemble import AdaBoostClassifier"
   ]
  },
  {
   "cell_type": "code",
   "execution_count": 25,
   "metadata": {},
   "outputs": [
    {
     "data": {
      "text/plain": [
       "AdaBoostClassifier(algorithm='SAMME.R', base_estimator=None,\n",
       "          learning_rate=1.0, n_estimators=100, random_state=None)"
      ]
     },
     "execution_count": 25,
     "metadata": {},
     "output_type": "execute_result"
    }
   ],
   "source": [
    "ab_cls = AdaBoostClassifier(n_estimators=100)\n",
    "ab_cls.fit(train_data, train_labels)"
   ]
  },
  {
   "cell_type": "code",
   "execution_count": 26,
   "metadata": {},
   "outputs": [
    {
     "data": {
      "text/plain": [
       "0.5225"
      ]
     },
     "execution_count": 26,
     "metadata": {},
     "output_type": "execute_result"
    }
   ],
   "source": [
    "preds = ab_cls.predict(test_data)\n",
    "accuracy_score(test_labels, preds)"
   ]
  },
  {
   "cell_type": "markdown",
   "metadata": {},
   "source": [
    "# TF-IDF"
   ]
  },
  {
   "cell_type": "markdown",
   "metadata": {},
   "source": [
    "![alt text](tf-idf.png \"Title\")"
   ]
  },
  {
   "cell_type": "code",
   "execution_count": 27,
   "metadata": {},
   "outputs": [],
   "source": [
    "def load_data_tfidf(filename, delimiter):\n",
    "    samples = []\n",
    "    labels = []\n",
    "    with open(filename, newline='') as csvfile:\n",
    "        reader = csv.reader(csvfile, delimiter=delimiter, quotechar='\"')\n",
    "        next(reader) #skip csv header\n",
    "        for row in reader:\n",
    "            samples += [row[0]]\n",
    "            labels += [row[1]]\n",
    "\n",
    "    preprocessed_samples = []\n",
    "    for sample in samples:\n",
    "        s = sample.lower()\n",
    "        s = re.sub(\"[^а-яА-Яa-zA-Z0-9]\", \" \", s)\n",
    "        s = re.sub(\"\\s+\", \" \", s)\n",
    "        s = s.strip()\n",
    "        preprocessed_samples += [s]\n",
    "\n",
    "        \n",
    "    labels_dict = {\"negative\": 0, \"positive\": 1}\n",
    "\n",
    "    correct_labels = [labels_dict[label] for label in labels]\n",
    "    \n",
    "    train_data = preprocessed_samples[:4000]\n",
    "    train_labels = correct_labels[:4000]\n",
    "    test_data = preprocessed_samples[4000:]\n",
    "    test_labels = correct_labels[4000:]\n",
    "    \n",
    "    return train_data, train_labels, test_data, test_labels"
   ]
  },
  {
   "cell_type": "code",
   "execution_count": 28,
   "metadata": {},
   "outputs": [],
   "source": [
    "text_train_data, tf_idf_train_labels, text_test_data, tf_idf_test_labels = load_data_tfidf('data/imdb/imdb_dataset.csv', ',')"
   ]
  },
  {
   "cell_type": "code",
   "execution_count": 29,
   "metadata": {},
   "outputs": [
    {
     "data": {
      "text/plain": [
       "'one of the other reviewers has mentioned that after watching just 1 oz episode you ll be hooked they are right as this is exactly what happened with me br br the first thing that struck me about oz was its brutality and unflinching scenes of violence which set in right from the word go trust me this is not a show for the faint hearted or timid this show pulls no punches with regards to drugs sex or violence its is hardcore in the classic use of the word br br it is called oz as that is the nickname given to the oswald maximum security state penitentary it focuses mainly on emerald city an experimental section of the prison where all the cells have glass fronts and face inwards so privacy is not high on the agenda em city is home to many aryans muslims gangstas latinos christians italians irish and more so scuffles death stares dodgy dealings and shady agreements are never far away br br i would say the main appeal of the show is due to the fact that it goes where other shows wouldn t dare forget pretty pictures painted for mainstream audiences forget charm forget romance oz doesn t mess around the first episode i ever saw struck me as so nasty it was surreal i couldn t say i was ready for it but as i watched more i developed a taste for oz and got accustomed to the high levels of graphic violence not just violence but injustice crooked guards who ll be sold out for a nickel inmates who ll kill on order and get away with it well mannered middle class inmates being turned into prison bitches due to their lack of street skills or prison experience watching oz you may become comfortable with what is uncomfortable viewing thats if you can get in touch with your darker side'"
      ]
     },
     "execution_count": 29,
     "metadata": {},
     "output_type": "execute_result"
    }
   ],
   "source": [
    "text_train_data[0]"
   ]
  },
  {
   "cell_type": "code",
   "execution_count": 30,
   "metadata": {},
   "outputs": [],
   "source": [
    "from sklearn.feature_extraction.text import TfidfVectorizer"
   ]
  },
  {
   "cell_type": "code",
   "execution_count": 32,
   "metadata": {},
   "outputs": [],
   "source": [
    "tfidf = TfidfVectorizer()\n",
    "tfidf = tfidf.fit(text_train_data)\n",
    "tf_idf_train_data = tfidf.transform(text_train_data)\n",
    "tf_idf_test_data = tfidf.transform(text_test_data)"
   ]
  },
  {
   "cell_type": "code",
   "execution_count": 37,
   "metadata": {},
   "outputs": [
    {
     "data": {
      "text/plain": [
       "<1x35155 sparse matrix of type '<class 'numpy.float64'>'\n",
       "\twith 186 stored elements in Compressed Sparse Row format>"
      ]
     },
     "execution_count": 37,
     "metadata": {},
     "output_type": "execute_result"
    }
   ],
   "source": [
    "tf_idf_train_data[0]"
   ]
  },
  {
   "cell_type": "code",
   "execution_count": 40,
   "metadata": {},
   "outputs": [
    {
     "data": {
      "text/plain": [
       "LinearSVC(C=1.0, class_weight=None, dual=False, fit_intercept=True,\n",
       "     intercept_scaling=1, loss='squared_hinge', max_iter=1000,\n",
       "     multi_class='ovr', penalty='l2', random_state=None, tol=0.0001,\n",
       "     verbose=0)"
      ]
     },
     "execution_count": 40,
     "metadata": {},
     "output_type": "execute_result"
    }
   ],
   "source": [
    "svm_tfid_cls = LinearSVC(loss=\"squared_hinge\", C=1.0, dual=False)\n",
    "svm_tfid_cls.fit(tf_idf_train_data, train_labels)"
   ]
  },
  {
   "cell_type": "code",
   "execution_count": 41,
   "metadata": {},
   "outputs": [
    {
     "data": {
      "text/plain": [
       "0.868"
      ]
     },
     "execution_count": 41,
     "metadata": {},
     "output_type": "execute_result"
    }
   ],
   "source": [
    "preds = svm_tfid_cls.predict(tf_idf_test_data)\n",
    "accuracy_score(tf_idf_test_labels, preds)"
   ]
  },
  {
   "cell_type": "code",
   "execution_count": 42,
   "metadata": {},
   "outputs": [],
   "source": [
    "from sklearn.ensemble import AdaBoostClassifier"
   ]
  },
  {
   "cell_type": "code",
   "execution_count": 46,
   "metadata": {},
   "outputs": [
    {
     "data": {
      "text/plain": [
       "AdaBoostClassifier(algorithm='SAMME.R', base_estimator=None,\n",
       "          learning_rate=1.0, n_estimators=1000, random_state=None)"
      ]
     },
     "execution_count": 46,
     "metadata": {},
     "output_type": "execute_result"
    }
   ],
   "source": [
    "ab_cls = AdaBoostClassifier(n_estimators=1000)\n",
    "ab_cls.fit(tf_idf_train_data, train_labels)"
   ]
  },
  {
   "cell_type": "code",
   "execution_count": 47,
   "metadata": {},
   "outputs": [
    {
     "data": {
      "text/plain": [
       "0.8206666666666667"
      ]
     },
     "execution_count": 47,
     "metadata": {},
     "output_type": "execute_result"
    }
   ],
   "source": [
    "preds = ab_cls.predict(tf_idf_test_data)\n",
    "accuracy_score(test_labels, preds)"
   ]
  },
  {
   "cell_type": "code",
   "execution_count": null,
   "metadata": {},
   "outputs": [],
   "source": []
  }
 ],
 "metadata": {
  "kernelspec": {
   "display_name": "Python 3",
   "language": "python",
   "name": "python3"
  },
  "language_info": {
   "codemirror_mode": {
    "name": "ipython",
    "version": 3
   },
   "file_extension": ".py",
   "mimetype": "text/x-python",
   "name": "python",
   "nbconvert_exporter": "python",
   "pygments_lexer": "ipython3",
   "version": "3.7.2"
  }
 },
 "nbformat": 4,
 "nbformat_minor": 2
}
