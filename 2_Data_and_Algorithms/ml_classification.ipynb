{
 "cells": [
  {
   "cell_type": "markdown",
   "metadata": {},
   "source": [
    "## ML text classification"
   ]
  },
  {
   "cell_type": "markdown",
   "metadata": {},
   "source": [
    "IMDB Dataset: https://www.kaggle.com/lakshmi25npathi/imdb-dataset-of-50k-movie-reviews#IMDB%20Dataset.csv"
   ]
  },
  {
   "cell_type": "markdown",
   "metadata": {},
   "source": [
    "### Load data"
   ]
  },
  {
   "cell_type": "code",
   "execution_count": 1,
   "metadata": {},
   "outputs": [],
   "source": [
    "import re\n",
    "import csv\n",
    "from sklearn.metrics import accuracy_score"
   ]
  },
  {
   "cell_type": "code",
   "execution_count": 2,
   "metadata": {},
   "outputs": [],
   "source": [
    "def load_data(filename, delimiter):\n",
    "    samples = []\n",
    "    labels = []\n",
    "    with open(filename, newline='') as csvfile:\n",
    "        reader = csv.reader(csvfile, delimiter=delimiter, quotechar='\"')\n",
    "        next(reader) #skip csv header\n",
    "        for row in reader:\n",
    "            samples += [row[0]]\n",
    "            labels += [row[1]]\n",
    "\n",
    "    preprocessed_samples = []\n",
    "    for sample in samples:\n",
    "        s = sample.lower()\n",
    "        s = re.sub(\"[^а-яА-Яa-zA-Z0-9]\", \" \", s)\n",
    "        s = re.sub(\"\\s+\", \" \", s)\n",
    "        s = s.strip()\n",
    "        preprocessed_samples += [s]\n",
    "    \n",
    "    tokenized_samples = []\n",
    "    for sample in preprocessed_samples:\n",
    "        s = sample.split()\n",
    "        tokenized_samples += [s]\n",
    "        \n",
    "    word2id = {}\n",
    "    id2word = []\n",
    "\n",
    "    for sample in tokenized_samples:\n",
    "        for token in sample:\n",
    "            if token not in word2id.keys():\n",
    "                word2id[token] = len(id2word)\n",
    "                id2word += [token]\n",
    "    \n",
    "    digitized_samples = []\n",
    "    for sample in tokenized_samples:\n",
    "        s = [word2id[token] for token in sample]\n",
    "        digitized_samples += [s]\n",
    "        \n",
    "    correct_samples = []\n",
    "    max_len = 128\n",
    "\n",
    "    for sample in digitized_samples:\n",
    "        if len(sample) < max_len:\n",
    "            sample += [0] * (max_len - len(sample))\n",
    "\n",
    "        correct_samples += [sample[:max_len]]\n",
    "        \n",
    "    labels_dict = {\"negative\": 0, \"positive\": 1}\n",
    "\n",
    "    correct_labels = [labels_dict[label] for label in labels]\n",
    "    \n",
    "    train_data = correct_samples[:4000]\n",
    "    train_labels = correct_labels[:4000]\n",
    "    test_data = correct_samples[4000:]\n",
    "    test_labels = correct_labels[4000:]\n",
    "    \n",
    "    return train_data, train_labels, test_data, test_labels"
   ]
  },
  {
   "cell_type": "code",
   "execution_count": 3,
   "metadata": {},
   "outputs": [],
   "source": [
    "train_data, train_labels, test_data, test_labels = load_data('data/imdb/imdb_dataset.csv', ',')"
   ]
  },
  {
   "cell_type": "markdown",
   "metadata": {},
   "source": [
    "### Create model and fit"
   ]
  },
  {
   "cell_type": "code",
   "execution_count": 4,
   "metadata": {},
   "outputs": [],
   "source": [
    "from sklearn.linear_model import LogisticRegression"
   ]
  },
  {
   "cell_type": "code",
   "execution_count": 5,
   "metadata": {},
   "outputs": [
    {
     "output_type": "execute_result",
     "data": {
      "text/plain": [
       "LogisticRegression()"
      ]
     },
     "metadata": {},
     "execution_count": 5
    }
   ],
   "source": [
    "lr_cls = LogisticRegression()\n",
    "lr_cls.fit(train_data, train_labels)"
   ]
  },
  {
   "cell_type": "code",
   "execution_count": 6,
   "metadata": {},
   "outputs": [
    {
     "output_type": "execute_result",
     "data": {
      "text/plain": [
       "0.5023333333333333"
      ]
     },
     "metadata": {},
     "execution_count": 6
    }
   ],
   "source": [
    "preds = lr_cls.predict(test_data)\n",
    "accuracy_score(test_labels, preds)"
   ]
  },
  {
   "cell_type": "markdown",
   "metadata": {},
   "source": [
    "# Decision Tree"
   ]
  },
  {
   "cell_type": "code",
   "execution_count": 7,
   "metadata": {},
   "outputs": [],
   "source": [
    "from sklearn.tree import DecisionTreeClassifier"
   ]
  },
  {
   "cell_type": "code",
   "execution_count": 8,
   "metadata": {},
   "outputs": [
    {
     "output_type": "execute_result",
     "data": {
      "text/plain": [
       "DecisionTreeClassifier()"
      ]
     },
     "metadata": {},
     "execution_count": 8
    }
   ],
   "source": [
    "dt_cls = DecisionTreeClassifier()\n",
    "dt_cls.fit(train_data, train_labels)"
   ]
  },
  {
   "cell_type": "code",
   "execution_count": 9,
   "metadata": {},
   "outputs": [
    {
     "output_type": "execute_result",
     "data": {
      "text/plain": [
       "0.497"
      ]
     },
     "metadata": {},
     "execution_count": 9
    }
   ],
   "source": [
    "preds = dt_cls.predict(test_data)\n",
    "accuracy_score(test_labels, preds)"
   ]
  },
  {
   "cell_type": "code",
   "execution_count": 10,
   "metadata": {},
   "outputs": [
    {
     "output_type": "execute_result",
     "data": {
      "text/plain": [
       "'digraph Tree {\\nnode [shape=box] ;\\n0 [label=\"X[87] <= 50.5\\\\ngini = 0.5\\\\nsamples = 4000\\\\nvalue = [2027, 1973]\"] ;\\n1 [label=\"X[78] <= 48.5\\\\ngini = 0.497\\\\nsamples = 1428\\\\nvalue = [658, 770]\"] ;\\n0 -> 1 [labeldistance=2.5, labelangle=45, headlabel=\"True\"] ;\\n2 [label=\"X[24] <= 3015.5\\\\ngini = 0.481\\\\nsamples = 608\\\\nvalue = [245, 363]\"] ;\\n1 -> 2 ;\\n3 [label=\"X[58] <= 65.5\\\\ngini = 0.492\\\\nsamples = 494\\\\nvalue = [216, 278]\"] ;\\n2 -> 3 ;\\n4 [label=\"X[16] <= 429.0\\\\ngini = 0.5\\\\nsamples = 259\\\\nvalue = [132, 127]\"] ;\\n3 -> 4 ;\\n5 [label=\"X[20] <= 4.5\\\\ngini = 0.486\\\\nsamples = 151\\\\nvalue = [63, 88]\"] ;\\n4 -> 5 ;\\n6 [label=\"X[28] <= 1292.5\\\\ngini = 0.305\\\\nsamples = 16\\\\nvalue = [13, 3]\"] ;\\n5 -> 6 ;\\n7 [label=\"gini = 0.0\\\\nsamples = 12\\\\nvalue = [12, 0]\"] ;\\n6 -> 7 ;\\n8 [label=\"X[6] <= 17.5\\\\ngini = 0.375\\\\nsamples = 4\\\\nvalue = [1, 3]\"] ;\\n6 -> 8 ;\\n9 [label=\"gini = 0.0\\\\nsamples = 1\\\\nvalue = [1, 0]\"] ;\\n8 -> 9 ;\\n10 [label=\"gini = 0.0\\\\nsamples = 3\\\\nvalue = [0, 3]\"] ;\\n8 -> 10 ;\\n11 [label=\"X[19] <= 602.5\\\\ngini = 0.466\\\\nsamples = 135\\\\nvalue = [50, 85]\"] ;\\n5 -> 11 ;\\n12 [label=\"X[35] <= 755.5\\\\ngini = 0.403\\\\nsamples = 93\\\\nvalue = [26, 67]\"] ;\\n11 -> 12 ;\\n13 [label=\"X[15] <= 15648.0\\\\ngini = 0.323\\\\nsamples = 74\\\\nvalue = [15, 59]\"] ;\\n12 -> 13 ;\\n14 [label=\"X[28] <= 6165.5\\\\ngini = 0.281\\\\nsamples = 71\\\\nvalue = [12, 59]\"] ;\\n13 -> 14 ;\\n15 [label=\"X[27] <= 8616.5\\\\ngini = 0.213\\\\nsamples = 66\\\\nvalue = [8, 58]\"] ;\\n14 -> 15 ;\\n16 [label=\"X[17] <= 6.0\\\\ngini = 0.17\\\\nsamples = 64\\\\nvalue = [6, 58]\"] ;\\n15 -> 16 ;\\n17 [label=\"X[46] <= 394.0\\\\ngini = 0.48\\\\nsamples = 10\\\\nvalue = [4, 6]\"] ;\\n16 -> 17 ;\\n18 [label=\"gini = 0.0\\\\nsamples = 5\\\\nvalue = [0, 5]\"] ;\\n17 -> 18 ;\\n19 [label=\"X[0] <= 8251.5\\\\ngini = 0.32\\\\nsamples = 5\\\\nvalue = [4, 1]\"] ;\\n17 -> 19 ;\\n20 [label=\"gini = 0.0\\\\nsamples = 4\\\\nvalue = [4, 0]\"] ;\\n19 -> 20 ;\\n21 [label=\"gini = 0.0\\\\nsamples = 1\\\\nvalue = [0, 1]\"] ;\\n19 -> 21 ;\\n22 [label=\"X[32] <= 5045.5\\\\ngini = 0.071\\\\nsamples = 54\\\\nvalue = [2, 52]\"] ;\\n16 -> 22 ;\\n23 [label=\"gini = 0.0\\\\nsamples = 49\\\\nvalue = [0, 49]\"] ;\\n22 -> 23 ;\\n24 [label=\"X[9] <= 281.0\\\\ngini = 0.48\\\\nsamples = 5\\\\nvalue = [2, 3]\"] ;\\n22 -> 24 ;\\n25 [label=\"gini = 0.0\\\\nsamples = 3\\\\nvalue = [0, 3]\"] ;\\n24 -> 25 ;\\n26 [label=\"gini = 0.0\\\\nsamples = 2\\\\nvalue = [2, 0]\"] ;\\n24 -> 26 ;\\n27 [label=\"gini = 0.0\\\\nsamples = 2\\\\nvalue = [2, 0]\"] ;\\n15 -> 27 ;\\n28 [label=\"X[55] <= 689.0\\\\ngini = 0.32\\\\nsamples = 5\\\\nvalue = [4, 1]\"] ;\\n14 -> 28 ;\\n29 [label=\"gini = 0.0\\\\nsamples = 4\\\\nvalue = [4, 0]\"] ;\\n28 -> 29 ;\\n30 [label=\"gini = 0.0\\\\nsamples = 1\\\\nvalue = [0, 1]\"] ;\\n28 -> 30 ;\\n31 [label=\"gini = 0.0\\\\nsamples = 3\\\\nvalue = [3, 0]\"] ;\\n13 -> 31 ;\\n32 [label=\"X[42] <= 67.0\\\\ngini = 0.488\\\\nsamples = 19\\\\nvalue = [11, 8]\"] ;\\n12 -> 32 ;\\n33 [label=\"X[31] <= 8.0\\\\ngini = 0.198\\\\nsamples = 9\\\\nvalue = [8, 1]\"] ;\\n32 -> 33 ;\\n34 [label=\"gini = 0.0\\\\nsamples = 1\\\\nvalue = [0, 1]\"] ;\\n33 -> 34 ;\\n35 [label=\"gini = 0.0\\\\nsamples = 8\\\\nvalue = [8, 0]\"] ;\\n33 -> 35 ;\\n36 [label=\"X[47] <= 797.5\\\\ngini = 0.42\\\\nsamples = 10\\\\nvalue = [3, 7]\"] ;\\n32 -> 36 ;\\n37 [label=\"gini = 0.0\\\\nsamples = 6\\\\nvalue = [0, 6]\"] ;\\n36 -> 37 ;\\n38 [label=\"X[1] <= 17.5\\\\ngini = 0.375\\\\nsamples = 4\\\\nvalue = [3, 1]\"] ;\\n36 -> 38 ;\\n39 [label=\"gini = 0.0\\\\nsamples = 1\\\\nvalue = [0, 1]\"] ;\\n38 -> 39 ;\\n40 [label=\"gini = 0.0\\\\nsamples = 3\\\\nvalue = [3, 0]\"] ;\\n38 -> 40 ;\\n41 [label=\"X[25] <= 226.5\\\\ngini = 0.49\\\\nsamples = 42\\\\nvalue = [24, 18]\"] ;\\n11 -> 41 ;\\n42 [label=\"X[13] <= 916.0\\\\ngini = 0.219\\\\nsamples = 16\\\\nvalue = [14, 2]\"] ;\\n41 -> 42 ;\\n43 [label=\"gini = 0.0\\\\nsamples = 13\\\\nvalue = [13, 0]\"] ;\\n42 -> 43 ;\\n44 [label=\"X[7] <= 256.5\\\\ngini = 0.444\\\\nsamples = 3\\\\nvalue = [1, 2]\"] ;\\n42 -> 44 ;\\n45 [label=\"gini = 0.0\\\\nsamples = 2\\\\nvalue = [0, 2]\"] ;\\n44 -> 45 ;\\n46 [label=\"gini = 0.0\\\\nsamples = 1\\\\nvalue = [1, 0]\"] ;\\n44 -> 46 ;\\n47 [label=\"X[16] <= 15.5\\\\ngini = 0.473\\\\nsamples = 26\\\\nvalue = [10, 16]\"] ;\\n41 -> 47 ;\\n48 [label=\"gini = 0.0\\\\nsamples = 5\\\\nvalue = [5, 0]\"] ;\\n47 -> 48 ;\\n49 [label=\"X[80] <= 77.5\\\\ngini = 0.363\\\\nsamples = 21\\\\nvalue = [5, 16]\"] ;\\n47 -> 49 ;\\n50 [label=\"X[32] <= 18.5\\\\ngini = 0.208\\\\nsamples = 17\\\\nvalue = [2, 15]\"] ;\\n49 -> 50 ;\\n51 [label=\"gini = 0.0\\\\nsamples = 2\\\\nvalue = [2, 0]\"] ;\\n50 -> 51 ;\\n52 [label=\"gini = 0.0\\\\nsamples = 15\\\\nvalue = [0, 15]\"] ;\\n50 -> 52 ;\\n53 [label=\"X[87] <= 33.5\\\\ngini = 0.375\\\\nsamples = 4\\\\nvalue = [3, 1]\"] ;\\n49 -> 53 ;\\n54 [label=\"gini = 0.0\\\\nsamples = 3\\\\nvalue = [3, 0]\"] ;\\n53 -> 54 ;\\n55 [label=\"gini = 0.0\\\\nsamples = 1\\\\nvalue = [0, 1]\"] ;\\n53 -> 55 ;\\n56 [label=\"X[23] <= 361.5\\\\ngini = 0.461\\\\nsamples = 108\\\\nvalue = [69, 39]\"] ;\\n4 -> 56 ;\\n57 [label=\"X[71] <= 173.5\\\\ngini = 0.498\\\\nsamples = 68\\\\nvalue = [36, 32]\"] ;\\n56 -> 57 ;\\n58 [label=\"X[39] <= 122.0\\\\ngini = 0.486\\\\nsamples = 48\\\\nvalue = [20, 28]\"] ;\\n57 -> 58 ;\\n59 [label=\"X[56] <= 116.0\\\\ngini = 0.42\\\\nsamples = 20\\\\nvalue = [14, 6]\"] ;\\n58 -> 59 ;\\n60 [label=\"X[26] <= 941.0\\\\ngini = 0.291\\\\nsamples = 17\\\\nvalue = [14, 3]\"] ;\\n59 -> 60 ;\\n61 [label=\"gini = 0.0\\\\nsamples = 13\\\\nvalue = [13, 0]\"] ;\\n60 -> 61 ;\\n62 [label=\"X[27] <= 239.5\\\\ngini = 0.375\\\\nsamples = 4\\\\nvalue = [1, 3]\"] ;\\n60 -> 62 ;\\n63 [label=\"gini = 0.0\\\\nsamples = 3\\\\nvalue = [0, 3]\"] ;\\n62 -> 63 ;\\n64 [label=\"gini = 0.0\\\\nsamples = 1\\\\nvalue = [1, 0]\"] ;\\n62 -> 64 ;\\n65 [label=\"gini = 0.0\\\\nsamples = 3\\\\nvalue = [0, 3]\"] ;\\n59 -> 65 ;\\n66 [label=\"X[39] <= 1931.5\\\\ngini = 0.337\\\\nsamples = 28\\\\nvalue = [6, 22]\"] ;\\n58 -> 66 ;\\n67 [label=\"gini = 0.0\\\\nsamples = 19\\\\nvalue = [0, 19]\"] ;\\n66 -> 67 ;\\n68 [label=\"X[44] <= 29.5\\\\ngini = 0.444\\\\nsamples = 9\\\\nvalue = [6, 3]\"] ;\\n66 -> 68 ;\\n69 [label=\"gini = 0.0\\\\nsamples = 3\\\\nvalue = [0, 3]\"] ;\\n68 -> 69 ;\\n70 [label=\"gini = 0.0\\\\nsamples = 6\\\\nvalue = [6, 0]\"] ;\\n68 -> 70 ;\\n71 [label=\"X[86] <= 14.0\\\\ngini = 0.32\\\\nsamples = 20\\\\nvalue = [16, 4]\"] ;\\n57 -> 71 ;\\n72 [label=\"X[32] <= 1768.0\\\\ngini = 0.375\\\\nsamples = 4\\\\nvalue = [1, 3]\"] ;\\n71 -> 72 ;\\n73 [label=\"gini = 0.0\\\\nsamples = 3\\\\nvalue = [0, 3]\"] ;\\n72 -> 73 ;\\n74 [label=\"gini = 0.0\\\\nsamples = 1\\\\nvalue = [1, 0]\"] ;\\n72 -> 74 ;\\n75 [label=\"X[34] <= 12.0\\\\ngini = 0.117\\\\nsamples = 16\\\\nvalue = [15, 1]\"] ;\\n71 -> 75 ;\\n76 [label=\"gini = 0.0\\\\nsamples = 1\\\\nvalue = [0, 1]\"] ;\\n75 -> 76 ;\\n77 [label=\"gini = 0.0\\\\nsamples = 15\\\\nvalue = [15, 0]\"] ;\\n75 -> 77 ;\\n78 [label=\"X[31] <= 8430.5\\\\ngini = 0.289\\\\nsamples = 40\\\\nvalue = [33, 7]\"] ;\\n56 -> 78 ;\\n79 [label=\"X[15] <= 17.5\\\\ngini = 0.229\\\\nsamples = 38\\\\nvalue = [33, 5]\"] ;\\n78 -> 79 ;\\n80 [label=\"X[16] <= 3039.0\\\\ngini = 0.49\\\\nsamples = 7\\\\nvalue = [3, 4]\"] ;\\n79 -> 80 ;\\n81 [label=\"gini = 0.0\\\\nsamples = 4\\\\nvalue = [0, 4]\"] ;\\n80 -> 81 ;\\n82 [label=\"gini = 0.0\\\\nsamples = 3\\\\nvalue = [3, 0]\"] ;\\n80 -> 82 ;\\n83 [label=\"X[14] <= 30710.0\\\\ngini = 0.062\\\\nsamples = 31\\\\nvalue = [30, 1]\"] ;\\n79 -> 83 ;\\n84 [label=\"gini = 0.0\\\\nsamples = 30\\\\nvalue = [30, 0]\"] ;\\n83 -> 84 ;\\n85 [label=\"gini = 0.0\\\\nsamples = 1\\\\nvalue = [0, 1]\"] ;\\n83 -> 85 ;\\n86 [label=\"gini = 0.0\\\\nsamples = 2\\\\nvalue = [0, 2]\"] ;\\n78 -> 86 ;\\n87 [label=\"X[37] <= 104.5\\\\ngini = 0.459\\\\nsamples = 235\\\\nvalue = [84, 151]\"] ;\\n3 -> 87 ;\\n88 [label=\"X[18] <= 22.5\\\\ngini = 0.351\\\\nsamples = 97\\\\nvalue = [22, 75]\"] ;\\n87 -> 88 ;\\n89 [label=\"X[27] <= 2985.0\\\\ngini = 0.444\\\\nsamples = 9\\\\nvalue = [6, 3]\"] ;\\n88 -> 89 ;\\n90 [label=\"gini = 0.0\\\\nsamples = 6\\\\nvalue = [6, 0]\"] ;\\n89 -> 90 ;\\n91 [label=\"gini = 0.0\\\\nsamples = 3\\\\nvalue = [0, 3]\"] ;\\n89 -> 91 ;\\n92 [label=\"X[65] <= 2286.5\\\\ngini = 0.298\\\\nsamples = 88\\\\nvalue = [16, 72]\"] ;\\n88 -> 92 ;\\n93 [label=\"X[14] <= 14875.5\\\\ngini = 0.19\\\\nsamples = 66\\\\nvalue = [7, 59]\"] ;\\n92 -> 93 ;\\n94 [label=\"X[94] <= 15455.0\\\\ngini = 0.144\\\\nsamples = 64\\\\nvalue = [5, 59]\"] ;\\n93 -> 94 ;\\n95 [label=\"X[39] <= 1.5\\\\ngini = 0.119\\\\nsamples = 63\\\\nvalue = [4, 59]\"] ;\\n94 -> 95 ;\\n96 [label=\"gini = 0.0\\\\nsamples = 1\\\\nvalue = [1, 0]\"] ;\\n95 -> 96 ;\\n97 [label=\"X[39] <= 20525.0\\\\ngini = 0.092\\\\nsamples = 62\\\\nvalue = [3, 59]\"] ;\\n95 -> 97 ;\\n98 [label=\"X[51] <= 1.5\\\\ngini = 0.063\\\\nsamples = 61\\\\nvalue = [2, 59]\"] ;\\n97 -> 98 ;\\n99 [label=\"gini = 0.0\\\\nsamples = 1\\\\nvalue = [1, 0]\"] ;\\n98 -> 99 ;\\n100 [label=\"X[36] <= 10407.0\\\\ngini = 0.033\\\\nsamples = 60\\\\nvalue = [1, 59]\"] ;\\n98 -> 100 ;\\n101 [label=\"gini = 0.0\\\\nsamples = 57\\\\nvalue = [0, 57]\"] ;\\n100 -> 101 ;\\n102 [label=\"X[9] <= 53.0\\\\ngini = 0.444\\\\nsamples = 3\\\\nvalue = [1, 2]\"] ;\\n100 -> 102 ;\\n103 [label=\"gini = 0.0\\\\nsamples = 1\\\\nvalue = [1, 0]\"] ;\\n102 -> 103 ;\\n104 [label=\"gini = 0.0\\\\nsamples = 2\\\\nvalue = [0, 2]\"] ;\\n102 -> 104 ;\\n105 [label=\"gini = 0.0\\\\nsamples = 1\\\\nvalue = [1, 0]\"] ;\\n97 -> 105 ;\\n106 [label=\"gini = 0.0\\\\nsamples = 1\\\\nvalue = [1, 0]\"] ;\\n94 -> 106 ;\\n107 [label=\"gini = 0.0\\\\nsamples = 2\\\\nvalue = [2, 0]\"] ;\\n93 -> 107 ;\\n108 [label=\"X[84] <= 217.0\\\\ngini = 0.483\\\\nsamples = 22\\\\nvalue = [9, 13]\"] ;\\n92 -> 108 ;\\n109 [label=\"X[15] <= 519.0\\\\ngini = 0.346\\\\nsamples = 9\\\\nvalue = [7, 2]\"] ;\\n108 -> 109 ;\\n110 [label=\"gini = 0.0\\\\nsamples = 7\\\\nvalue = [7, 0]\"] ;\\n109 -> 110 ;\\n111 [label=\"gini = 0.0\\\\nsamples = 2\\\\nvalue = [0, 2]\"] ;\\n109 -> 111 ;\\n112 [label=\"X[96] <= 7006.5\\\\ngini = 0.26\\\\nsamples = 13\\\\nvalue = [2, 11]\"] ;\\n108 -> 112 ;\\n113 [label=\"gini = 0.0\\\\nsamples = 11\\\\nvalue = [0, 11]\"] ;\\n112 -> 113 ;\\n114 [label=\"gini = 0.0\\\\nsamples = 2\\\\nvalue = [2, 0]\"] ;\\n112 -> 114 ;\\n115 [label=\"X[26] <= 46.0\\\\ngini = 0.495\\\\nsamples = 138\\\\nvalue = [62, 76]\"] ;\\n87 -> 115 ;\\n116 [label=\"X[15] <= 46.0\\\\ngini = 0.327\\\\nsamples = 34\\\\nvalue = [7, 27]\"] ;\\n115 -> 116 ;\\n117 [label=\"X[84] <= 443.0\\\\ngini = 0.494\\\\nsamples = 9\\\\nvalue = [5, 4]\"] ;\\n116 -> 117 ;\\n118 [label=\"X[19] <= 848.0\\\\ngini = 0.32\\\\nsamples = 5\\\\nvalue = [1, 4]\"] ;\\n117 -> 118 ;\\n119 [label=\"gini = 0.0\\\\nsamples = 4\\\\nvalue = [0, 4]\"] ;\\n118 -> 119 ;\\n120 [label=\"gini = 0.0\\\\nsamples = 1\\\\nvalue = [1, 0]\"] ;\\n118 -> 120 ;\\n121 [label=\"gini = 0.0\\\\nsamples = 4\\\\nvalue = [4, 0]\"] ;\\n117 -> 121 ;\\n122 [label=\"X[46] <= 12.0\\\\ngini = 0.147\\\\nsamples = 25\\\\nvalue = [2, 23]\"] ;\\n116 -> 122 ;\\n123 [label=\"gini = 0.0\\\\nsamples = 2\\\\nvalue = [2, 0]\"] ;\\n122 -> 123 ;\\n124 [label=\"gini = 0.0\\\\nsamples = 23\\\\nvalue = [0, 23]\"] ;\\n122 -> 124 ;\\n125 [label=\"X[77] <= 1200.0\\\\ngini = 0.498\\\\nsamples = 104\\\\nvalue = [55, 49]\"] ;\\n115 -> 125 ;\\n126 [label=\"X[59] <= 22.5\\\\ngini = 0.46\\\\nsamples = 67\\\\nvalue = [43, 24]\"] ;\\n125 -> 126 ;\\n127 [label=\"X[17] <= 11462.0\\\\ngini = 0.337\\\\nsamples = 14\\\\nvalue = [3, 11]\"] ;\\n126 -> 127 ;\\n128 [label=\"X[107] <= 203.0\\\\ngini = 0.153\\\\nsamples = 12\\\\nvalue = [1, 11]\"] ;\\n127 -> 128 ;\\n129 [label=\"gini = 0.0\\\\nsamples = 11\\\\nvalue = [0, 11]\"] ;\\n128 -> 129 ;\\n130 [label=\"gini = 0.0\\\\nsamples = 1\\\\nvalue = [1, 0]\"] ;\\n128 -> 130 ;\\n131 [label=\"gini = 0.0\\\\nsamples = 2\\\\nvalue = [2, 0]\"] ;\\n127 -> 131 ;\\n132 [label=\"X[2] <= 9776.0\\\\ngini = 0.37\\\\nsamples = 53\\\\nvalue = [40, 13]\"] ;\\n126 -> 132 ;\\n133 [label=\"X[41] <= 1348.0\\\\ngini = 0.32\\\\nsamples = 50\\\\nvalue = [40, 10]\"] ;\\n132 -> 133 ;\\n134 [label=\"X[32] <= 22046.0\\\\ngini = 0.114\\\\nsamples = 33\\\\nvalue = [31, 2]\"] ;\\n133 -> 134 ;\\n135 [label=\"gini = 0.0\\\\nsamples = 31\\\\nvalue = [31, 0]\"] ;\\n134 -> 135 ;\\n136 [label=\"gini = 0.0\\\\nsamples = 2\\\\nvalue = [0, 2]\"] ;\\n134 -> 136 ;\\n137 [label=\"X[43] <= 530.5\\\\ngini = 0.498\\\\nsamples = 17\\\\nvalue = [9, 8]\"] ;\\n133 -> 137 ;\\n138 [label=\"X[99] <= 6634.5\\\\ngini = 0.18\\\\nsamples = 10\\\\nvalue = [9, 1]\"] ;\\n137 -> 138 ;\\n139 [label=\"gini = 0.0\\\\nsamples = 9\\\\nvalue = [9, 0]\"] ;\\n138 -> 139 ;\\n140 [label=\"gini = 0.0\\\\nsamples = 1\\\\nvalue = [0, 1]\"] ;\\n138 -> 140 ;\\n141 [label=\"gini = 0.0\\\\nsamples = 7\\\\nvalue = [0, 7]\"] ;\\n137 -> 141 ;\\n142 [label=\"gini = 0.0\\\\nsamples = 3\\\\nvalue = [0, 3]\"] ;\\n132 -> 142 ;\\n143 [label=\"X[16] <= 43.0\\\\ngini = 0.438\\\\nsamples = 37\\\\nvalue = [12, 25]\"] ;\\n125 -> 143 ;\\n144 [label=\"gini = 0.0\\\\nsamples = 5\\\\nvalue = [5, 0]\"] ;\\n143 -> 144 ;\\n145 [label=\"X[0] <= 18.0\\\\ngini = 0.342\\\\nsamples = 32\\\\nvalue = [7, 25]\"] ;\\n143 -> 145 ;\\n146 [label=\"X[30] <= 17145.0\\\\ngini = 0.32\\\\nsamples = 5\\\\nvalue = [4, 1]\"] ;\\n145 -> 146 ;\\n147 [label=\"gini = 0.0\\\\nsamples = 4\\\\nvalue = [4, 0]\"] ;\\n146 -> 147 ;\\n148 [label=\"gini = 0.0\\\\nsamples = 1\\\\nvalue = [0, 1]\"] ;\\n146 -> 148 ;\\n149 [label=\"X[35] <= 19813.5\\\\ngini = 0.198\\\\nsamples = 27\\\\nvalue = [3, 24]\"] ;\\n145 -> 149 ;\\n150 [label=\"X[52] <= 18917.5\\\\ngini = 0.077\\\\nsamples = 25\\\\nvalue = [1, 24]\"] ;\\n149 -> 150 ;\\n151 [label=\"gini = 0.0\\\\nsamples = 24\\\\nvalue = [0, 24]\"] ;\\n150 -> 151 ;\\n152 [label=\"gini = 0.0\\\\nsamples = 1\\\\nvalue = [1, 0]\"] ;\\n150 -> 152 ;\\n153 [label=\"gini = 0.0\\\\nsamples = 2\\\\nvalue = [2, 0]\"] ;\\n149 -> 153 ;\\n154 [label=\"X[65] <= 163.0\\\\ngini = 0.379\\\\nsamples = 114\\\\nvalue = [29, 85]\"] ;\\n2 -> 154 ;\\n155 [label=\"X[8] <= 4349.5\\\\ngini = 0.263\\\\nsamples = 77\\\\nvalue = [12, 65]\"] ;\\n154 -> 155 ;\\n156 [label=\"X[7] <= 20.0\\\\ngini = 0.165\\\\nsamples = 66\\\\nvalue = [6, 60]\"] ;\\n155 -> 156 ;\\n157 [label=\"X[24] <= 13435.5\\\\ngini = 0.48\\\\nsamples = 5\\\\nvalue = [3, 2]\"] ;\\n156 -> 157 ;\\n158 [label=\"gini = 0.0\\\\nsamples = 3\\\\nvalue = [3, 0]\"] ;\\n157 -> 158 ;\\n159 [label=\"gini = 0.0\\\\nsamples = 2\\\\nvalue = [0, 2]\"] ;\\n157 -> 159 ;\\n160 [label=\"X[19] <= 0.5\\\\ngini = 0.094\\\\nsamples = 61\\\\nvalue = [3, 58]\"] ;\\n156 -> 160 ;\\n161 [label=\"gini = 0.0\\\\nsamples = 1\\\\nvalue = [1, 0]\"] ;\\n160 -> 161 ;\\n162 [label=\"X[33] <= 21.0\\\\ngini = 0.064\\\\nsamples = 60\\\\nvalue = [2, 58]\"] ;\\n160 -> 162 ;\\n163 [label=\"X[47] <= 891.5\\\\ngini = 0.346\\\\nsamples = 9\\\\nvalue = [2, 7]\"] ;\\n162 -> 163 ;\\n164 [label=\"gini = 0.0\\\\nsamples = 7\\\\nvalue = [0, 7]\"] ;\\n163 -> 164 ;\\n165 [label=\"gini = 0.0\\\\nsamples = 2\\\\nvalue = [2, 0]\"] ;\\n163 -> 165 ;\\n166 [label=\"gini = 0.0\\\\nsamples = 51\\\\nvalue = [0, 51]\"] ;\\n162 -> 166 ;\\n167 [label=\"X[38] <= 676.0\\\\ngini = 0.496\\\\nsamples = 11\\\\nvalue = [6, 5]\"] ;\\n155 -> 167 ;\\n168 [label=\"gini = 0.0\\\\nsamples = 5\\\\nvalue = [0, 5]\"] ;\\n167 -> 168 ;\\n169 [label=\"gini = 0.0\\\\nsamples = 6\\\\nvalue = [6, 0]\"] ;\\n167 -> 169 ;\\n170 [label=\"X[44] <= 402.5\\\\ngini = 0.497\\\\nsamples = 37\\\\nvalue = [17, 20]\"] ;\\n154 -> 170 ;\\n171 [label=\"X[26] <= 3.5\\\\ngini = 0.332\\\\nsamples = 19\\\\nvalue = [4, 15]\"] ;\\n170 -> 171 ;\\n172 [label=\"X[46] <= 74.0\\\\ngini = 0.375\\\\nsamples = 4\\\\nvalue = [3, 1]\"] ;\\n171 -> 172 ;\\n173 [label=\"gini = 0.0\\\\nsamples = 1\\\\nvalue = [0, 1]\"] ;\\n172 -> 173 ;\\n174 [label=\"gini = 0.0\\\\nsamples = 3\\\\nvalue = [3, 0]\"] ;\\n172 -> 174 ;\\n175 [label=\"X[12] <= 9725.5\\\\ngini = 0.124\\\\nsamples = 15\\\\nvalue = [1, 14]\"] ;\\n171 -> 175 ;\\n176 [label=\"gini = 0.0\\\\nsamples = 14\\\\nvalue = [0, 14]\"] ;\\n175 -> 176 ;\\n177 [label=\"gini = 0.0\\\\nsamples = 1\\\\nvalue = [1, 0]\"] ;\\n175 -> 177 ;\\n178 [label=\"X[16] <= 63.0\\\\ngini = 0.401\\\\nsamples = 18\\\\nvalue = [13, 5]\"] ;\\n170 -> 178 ;\\n179 [label=\"gini = 0.0\\\\nsamples = 4\\\\nvalue = [0, 4]\"] ;\\n178 -> 179 ;\\n180 [label=\"X[97] <= 8789.0\\\\ngini = 0.133\\\\nsamples = 14\\\\nvalue = [13, 1]\"] ;\\n178 -> 180 ;\\n181 [label=\"gini = 0.0\\\\nsamples = 13\\\\nvalue = [13, 0]\"] ;\\n180 -> 181 ;\\n182 [label=\"gini = 0.0\\\\nsamples = 1\\\\nvalue = [0, 1]\"] ;\\n180 -> 182 ;\\n183 [label=\"X[114] <= 11767.0\\\\ngini = 0.5\\\\nsamples = 820\\\\nvalue = [413, 407]\"] ;\\n1 -> 183 ;\\n184 [label=\"X[79] <= 2.5\\\\ngini = 0.499\\\\nsamples = 779\\\\nvalue = [407, 372]\"] ;\\n183 -> 184 ;\\n185 [label=\"X[122] <= 42.0\\\\ngini = 0.422\\\\nsamples = 86\\\\nvalue = [60, 26]\"] ;\\n184 -> 185 ;\\n186 [label=\"X[56] <= 327.0\\\\ngini = 0.498\\\\nsamples = 34\\\\nvalue = [16, 18]\"] ;\\n185 -> 186 ;\\n187 [label=\"X[41] <= 1241.5\\\\ngini = 0.363\\\\nsamples = 21\\\\nvalue = [5, 16]\"] ;\\n186 -> 187 ;\\n188 [label=\"X[19] <= 29203.5\\\\ngini = 0.117\\\\nsamples = 16\\\\nvalue = [1, 15]\"] ;\\n187 -> 188 ;\\n189 [label=\"gini = 0.0\\\\nsamples = 15\\\\nvalue = [0, 15]\"] ;\\n188 -> 189 ;\\n190 [label=\"gini = 0.0\\\\nsamples = 1\\\\nvalue = [1, 0]\"] ;\\n188 -> 190 ;\\n191 [label=\"X[3] <= 9884.0\\\\ngini = 0.32\\\\nsamples = 5\\\\nvalue = [4, 1]\"] ;\\n187 -> 191 ;\\n192 [label=\"gini = 0.0\\\\nsamples = 4\\\\nvalue = [4, 0]\"] ;\\n191 -> 192 ;\\n193 [label=\"gini = 0.0\\\\nsamples = 1\\\\nvalue = [0, 1]\"] ;\\n191 -> 193 ;\\n194 [label=\"X[55] <= 20501.5\\\\ngini = 0.26\\\\nsamples = 13\\\\nvalue = [11, 2]\"] ;\\n186 -> 194 ;\\n195 [label=\"gini = 0.0\\\\nsamples = 11\\\\nvalue = [11, 0]\"] ;\\n194 -> 195 ;\\n196 [label=\"gini = 0.0\\\\nsamples = 2\\\\nvalue = [0, 2]\"] ;\\n194 -> 196 ;\\n197 [label=\"X[68] <= 5.0\\\\ngini = 0.26\\\\nsamples = 52\\\\nvalue = [44, 8]\"] ;\\n185 -> 197 ;\\n198 [label=\"X[70] <= 709.0\\\\ngini = 0.375\\\\nsamples = 4\\\\nvalue = [1, 3]\"] ;\\n197 -> 198 ;\\n199 [label=\"gini = 0.0\\\\nsamples = 1\\\\nvalue = [1, 0]\"] ;\\n198 -> 199 ;\\n200 [label=\"gini = 0.0\\\\nsamples = 3\\\\nvalue = [0, 3]\"] ;\\n198 -> 200 ;\\n201 [label=\"X[10] <= 36.0\\\\ngini = 0.187\\\\nsamples = 48\\\\nvalue = [43, 5]\"] ;\\n197 -> 201 ;\\n202 [label=\"X[73] <= 504.5\\\\ngini = 0.494\\\\nsamples = 9\\\\nvalue = [5, 4]\"] ;\\n201 -> 202 ;\\n203 [label=\"gini = 0.0\\\\nsamples = 5\\\\nvalue = [5, 0]\"] ;\\n202 -> 203 ;\\n204 [label=\"gini = 0.0\\\\nsamples = 4\\\\nvalue = [0, 4]\"] ;\\n202 -> 204 ;\\n205 [label=\"X[93] <= 1.5\\\\ngini = 0.05\\\\nsamples = 39\\\\nvalue = [38, 1]\"] ;\\n201 -> 205 ;\\n206 [label=\"gini = 0.0\\\\nsamples = 1\\\\nvalue = [0, 1]\"] ;\\n205 -> 206 ;\\n207 [label=\"gini = 0.0\\\\nsamples = 38\\\\nvalue = [38, 0]\"] ;\\n205 -> 207 ;\\n208 [label=\"X[16] <= 1518.5\\\\ngini = 0.5\\\\nsamples = 693\\\\nvalue = [347, 346]\"] ;\\n184 -> 208 ;\\n209 [label=\"X[84] <= 16747.0\\\\ngini = 0.497\\\\nsamples = 516\\\\nvalue = [279, 237]\"] ;\\n208 -> 209 ;\\n210 [label=\"X[51] <= 63.0\\\\ngini = 0.499\\\\nsamples = 500\\\\nvalue = [263, 237]\"] ;\\n209 -> 210 ;\\n211 [label=\"X[35] <= 143.0\\\\ngini = 0.482\\\\nsamples = 143\\\\nvalue = [58, 85]\"] ;\\n210 -> 211 ;\\n212 [label=\"X[60] <= 5842.5\\\\ngini = 0.497\\\\nsamples = 72\\\\nvalue = [39, 33]\"] ;\\n211 -> 212 ;\\n213 [label=\"X[127] <= 254.5\\\\ngini = 0.47\\\\nsamples = 61\\\\nvalue = [38, 23]\"] ;\\n212 -> 213 ;\\n214 [label=\"X[56] <= 615.5\\\\ngini = 0.496\\\\nsamples = 35\\\\nvalue = [16, 19]\"] ;\\n213 -> 214 ;\\n215 [label=\"X[32] <= 73.5\\\\ngini = 0.42\\\\nsamples = 20\\\\nvalue = [14, 6]\"] ;\\n214 -> 215 ;\\n216 [label=\"X[100] <= 36.0\\\\ngini = 0.444\\\\nsamples = 9\\\\nvalue = [3, 6]\"] ;\\n215 -> 216 ;\\n217 [label=\"gini = 0.0\\\\nsamples = 3\\\\nvalue = [3, 0]\"] ;\\n216 -> 217 ;\\n218 [label=\"gini = 0.0\\\\nsamples = 6\\\\nvalue = [0, 6]\"] ;\\n216 -> 218 ;\\n219 [label=\"gini = 0.0\\\\nsamples = 11\\\\nvalue = [11, 0]\"] ;\\n215 -> 219 ;\\n220 [label=\"X[73] <= 5896.5\\\\ngini = 0.231\\\\nsamples = 15\\\\nvalue = [2, 13]\"] ;\\n214 -> 220 ;\\n221 [label=\"gini = 0.0\\\\nsamples = 13\\\\nvalue = [0, 13]\"] ;\\n220 -> 221 ;\\n222 [label=\"gini = 0.0\\\\nsamples = 2\\\\nvalue = [2, 0]\"] ;\\n220 -> 222 ;\\n223 [label=\"X[17] <= 25.5\\\\ngini = 0.26\\\\nsamples = 26\\\\nvalue = [22, 4]\"] ;\\n213 -> 223 ;\\n224 [label=\"gini = 0.0\\\\nsamples = 3\\\\nvalue = [0, 3]\"] ;\\n223 -> 224 ;\\n225 [label=\"X[112] <= 15709.0\\\\ngini = 0.083\\\\nsamples = 23\\\\nvalue = [22, 1]\"] ;\\n223 -> 225 ;\\n226 [label=\"gini = 0.0\\\\nsamples = 22\\\\nvalue = [22, 0]\"] ;\\n225 -> 226 ;\\n227 [label=\"gini = 0.0\\\\nsamples = 1\\\\nvalue = [0, 1]\"] ;\\n225 -> 227 ;\\n228 [label=\"X[56] <= 33.0\\\\ngini = 0.165\\\\nsamples = 11\\\\nvalue = [1, 10]\"] ;\\n212 -> 228 ;\\n229 [label=\"gini = 0.0\\\\nsamples = 1\\\\nvalue = [1, 0]\"] ;\\n228 -> 229 ;\\n230 [label=\"gini = 0.0\\\\nsamples = 10\\\\nvalue = [0, 10]\"] ;\\n228 -> 230 ;\\n231 [label=\"X[62] <= 29.5\\\\ngini = 0.392\\\\nsamples = 71\\\\nvalue = [19, 52]\"] ;\\n211 -> 231 ;\\n232 [label=\"X[42] <= 690.0\\\\ngini = 0.444\\\\nsamples = 15\\\\nvalue = [10, 5]\"] ;\\n231 -> 232 ;\\n233 [label=\"gini = 0.0\\\\nsamples = 10\\\\nvalue = [10, 0]\"] ;\\n232 -> 233 ;\\n234 [label=\"gini = 0.0\\\\nsamples = 5\\\\nvalue = [0, 5]\"] ;\\n232 -> 234 ;\\n235 [label=\"X[59] <= 21355.0\\\\ngini = 0.27\\\\nsamples = 56\\\\nvalue = [9, 47]\"] ;\\n231 -> 235 ;\\n236 [label=\"X[3] <= 3.5\\\\ngini = 0.201\\\\nsamples = 53\\\\nvalue = [6, 47]\"] ;\\n235 -> 236 ;\\n237 [label=\"X[114] <= 695.5\\\\ngini = 0.375\\\\nsamples = 4\\\\nvalue = [3, 1]\"] ;\\n236 -> 237 ;\\n238 [label=\"gini = 0.0\\\\nsamples = 3\\\\nvalue = [3, 0]\"] ;\\n237 -> 238 ;\\n239 [label=\"gini = 0.0\\\\nsamples = 1\\\\nvalue = [0, 1]\"] ;\\n237 -> 239 ;\\n240 [label=\"X[93] <= 2392.0\\\\ngini = 0.115\\\\nsamples = 49\\\\nvalue = [3, 46]\"] ;\\n236 -> 240 ;\\n241 [label=\"gini = 0.0\\\\nsamples = 41\\\\nvalue = [0, 41]\"] ;\\n240 -> 241 ;\\n242 [label=\"X[9] <= 151.0\\\\ngini = 0.469\\\\nsamples = 8\\\\nvalue = [3, 5]\"] ;\\n240 -> 242 ;\\n243 [label=\"gini = 0.0\\\\nsamples = 3\\\\nvalue = [3, 0]\"] ;\\n242 -> 243 ;\\n244 [label=\"gini = 0.0\\\\nsamples = 5\\\\nvalue = [0, 5]\"] ;\\n242 -> 244 ;\\n245 [label=\"gini = 0.0\\\\nsamples = 3\\\\nvalue = [3, 0]\"] ;\\n235 -> 245 ;\\n246 [label=\"X[79] <= 43.5\\\\ngini = 0.489\\\\nsamples = 357\\\\nvalue = [205, 152]\"] ;\\n210 -> 246 ;\\n247 [label=\"X[89] <= 4048.0\\\\ngini = 0.471\\\\nsamples = 79\\\\nvalue = [30, 49]\"] ;\\n246 -> 247 ;\\n248 [label=\"X[36] <= 35.5\\\\ngini = 0.498\\\\nsamples = 64\\\\nvalue = [30, 34]\"] ;\\n247 -> 248 ;\\n249 [label=\"gini = 0.0\\\\nsamples = 12\\\\nvalue = [0, 12]\"] ;\\n248 -> 249 ;\\n250 [label=\"X[100] <= 183.0\\\\ngini = 0.488\\\\nsamples = 52\\\\nvalue = [30, 22]\"] ;\\n248 -> 250 ;\\n251 [label=\"X[42] <= 315.0\\\\ngini = 0.459\\\\nsamples = 28\\\\nvalue = [10, 18]\"] ;\\n250 -> 251 ;\\n252 [label=\"X[119] <= 1430.5\\\\ngini = 0.484\\\\nsamples = 17\\\\nvalue = [10, 7]\"] ;\\n251 -> 252 ;\\n253 [label=\"X[50] <= 1881.5\\\\ngini = 0.278\\\\nsamples = 12\\\\nvalue = [10, 2]\"] ;\\n252 -> 253 ;\\n254 [label=\"gini = 0.0\\\\nsamples = 10\\\\nvalue = [10, 0]\"] ;\\n253 -> 254 ;\\n255 [label=\"gini = 0.0\\\\nsamples = 2\\\\nvalue = [0, 2]\"] ;\\n253 -> 255 ;\\n256 [label=\"gini = 0.0\\\\nsamples = 5\\\\nvalue = [0, 5]\"] ;\\n252 -> 256 ;\\n257 [label=\"gini = 0.0\\\\nsamples = 11\\\\nvalue = [0, 11]\"] ;\\n251 -> 257 ;\\n258 [label=\"X[17] <= 44.0\\\\ngini = 0.278\\\\nsamples = 24\\\\nvalue = [20, 4]\"] ;\\n250 -> 258 ;\\n259 [label=\"X[31] <= 1652.0\\\\ngini = 0.32\\\\nsamples = 5\\\\nvalue = [1, 4]\"] ;\\n258 -> 259 ;\\n260 [label=\"gini = 0.0\\\\nsamples = 4\\\\nvalue = [0, 4]\"] ;\\n259 -> 260 ;\\n261 [label=\"gini = 0.0\\\\nsamples = 1\\\\nvalue = [1, 0]\"] ;\\n259 -> 261 ;\\n262 [label=\"gini = 0.0\\\\nsamples = 19\\\\nvalue = [19, 0]\"] ;\\n258 -> 262 ;\\n263 [label=\"gini = 0.0\\\\nsamples = 15\\\\nvalue = [0, 15]\"] ;\\n247 -> 263 ;\\n264 [label=\"X[110] <= 1042.5\\\\ngini = 0.466\\\\nsamples = 278\\\\nvalue = [175, 103]\"] ;\\n246 -> 264 ;\\n265 [label=\"X[19] <= 846.5\\\\ngini = 0.429\\\\nsamples = 209\\\\nvalue = [144, 65]\"] ;\\n264 -> 265 ;\\n266 [label=\"X[4] <= 1.5\\\\ngini = 0.36\\\\nsamples = 136\\\\nvalue = [104, 32]\"] ;\\n265 -> 266 ;\\n267 [label=\"gini = 0.0\\\\nsamples = 4\\\\nvalue = [0, 4]\"] ;\\n266 -> 267 ;\\n268 [label=\"X[51] <= 372.0\\\\ngini = 0.334\\\\nsamples = 132\\\\nvalue = [104, 28]\"] ;\\n266 -> 268 ;\\n269 [label=\"X[122] <= 3141.5\\\\ngini = 0.462\\\\nsamples = 47\\\\nvalue = [30, 17]\"] ;\\n268 -> 269 ;\\n270 [label=\"X[14] <= 101.0\\\\ngini = 0.393\\\\nsamples = 41\\\\nvalue = [30, 11]\"] ;\\n269 -> 270 ;\\n271 [label=\"gini = 0.0\\\\nsamples = 17\\\\nvalue = [17, 0]\"] ;\\n270 -> 271 ;\\n272 [label=\"X[73] <= 63.0\\\\ngini = 0.497\\\\nsamples = 24\\\\nvalue = [13, 11]\"] ;\\n270 -> 272 ;\\n273 [label=\"X[33] <= 35.0\\\\ngini = 0.219\\\\nsamples = 8\\\\nvalue = [1, 7]\"] ;\\n272 -> 273 ;\\n274 [label=\"gini = 0.0\\\\nsamples = 1\\\\nvalue = [1, 0]\"] ;\\n273 -> 274 ;\\n275 [label=\"gini = 0.0\\\\nsamples = 7\\\\nvalue = [0, 7]\"] ;\\n273 -> 275 ;\\n276 [label=\"X[44] <= 725.5\\\\ngini = 0.375\\\\nsamples = 16\\\\nvalue = [12, 4]\"] ;\\n272 -> 276 ;\\n277 [label=\"gini = 0.0\\\\nsamples = 10\\\\nvalue = [10, 0]\"] ;\\n276 -> 277 ;\\n278 [label=\"X[125] <= 26.5\\\\ngini = 0.444\\\\nsamples = 6\\\\nvalue = [2, 4]\"] ;\\n276 -> 278 ;\\n279 [label=\"gini = 0.0\\\\nsamples = 4\\\\nvalue = [0, 4]\"] ;\\n278 -> 279 ;\\n280 [label=\"gini = 0.0\\\\nsamples = 2\\\\nvalue = [2, 0]\"] ;\\n278 -> 280 ;\\n281 [label=\"gini = 0.0\\\\nsamples = 6\\\\nvalue = [0, 6]\"] ;\\n269 -> 281 ;\\n282 [label=\"X[13] <= 1.5\\\\ngini = 0.225\\\\nsamples = 85\\\\nvalue = [74, 11]\"] ;\\n268 -> 282 ;\\n283 [label=\"gini = 0.0\\\\nsamples = 2\\\\nvalue = [0, 2]\"] ;\\n282 -> 283 ;\\n284 [label=\"X[40] <= 1400.5\\\\ngini = 0.193\\\\nsamples = 83\\\\nvalue = [74, 9]\"] ;\\n282 -> 284 ;\\n285 [label=\"X[38] <= 17676.0\\\\ngini = 0.087\\\\nsamples = 66\\\\nvalue = [63, 3]\"] ;\\n284 -> 285 ;\\n286 [label=\"X[10] <= 9.0\\\\ngini = 0.06\\\\nsamples = 65\\\\nvalue = [63, 2]\"] ;\\n285 -> 286 ;\\n287 [label=\"X[125] <= 208.5\\\\ngini = 0.5\\\\nsamples = 2\\\\nvalue = [1, 1]\"] ;\\n286 -> 287 ;\\n288 [label=\"gini = 0.0\\\\nsamples = 1\\\\nvalue = [1, 0]\"] ;\\n287 -> 288 ;\\n289 [label=\"gini = 0.0\\\\nsamples = 1\\\\nvalue = [0, 1]\"] ;\\n287 -> 289 ;\\n290 [label=\"X[82] <= 1.5\\\\ngini = 0.031\\\\nsamples = 63\\\\nvalue = [62, 1]\"] ;\\n286 -> 290 ;\\n291 [label=\"X[53] <= 296.0\\\\ngini = 0.444\\\\nsamples = 3\\\\nvalue = [2, 1]\"] ;\\n290 -> 291 ;\\n292 [label=\"gini = 0.0\\\\nsamples = 1\\\\nvalue = [0, 1]\"] ;\\n291 -> 292 ;\\n293 [label=\"gini = 0.0\\\\nsamples = 2\\\\nvalue = [2, 0]\"] ;\\n291 -> 293 ;\\n294 [label=\"gini = 0.0\\\\nsamples = 60\\\\nvalue = [60, 0]\"] ;\\n290 -> 294 ;\\n295 [label=\"gini = 0.0\\\\nsamples = 1\\\\nvalue = [0, 1]\"] ;\\n285 -> 295 ;\\n296 [label=\"X[50] <= 143.0\\\\ngini = 0.457\\\\nsamples = 17\\\\nvalue = [11, 6]\"] ;\\n284 -> 296 ;\\n297 [label=\"gini = 0.0\\\\nsamples = 5\\\\nvalue = [0, 5]\"] ;\\n296 -> 297 ;\\n298 [label=\"X[69] <= 6.0\\\\ngini = 0.153\\\\nsamples = 12\\\\nvalue = [11, 1]\"] ;\\n296 -> 298 ;\\n299 [label=\"gini = 0.0\\\\nsamples = 1\\\\nvalue = [0, 1]\"] ;\\n298 -> 299 ;\\n300 [label=\"gini = 0.0\\\\nsamples = 11\\\\nvalue = [11, 0]\"] ;\\n298 -> 300 ;\\n301 [label=\"X[110] <= 360.5\\\\ngini = 0.495\\\\nsamples = 73\\\\nvalue = [40, 33]\"] ;\\n265 -> 301 ;\\n302 [label=\"X[32] <= 54.5\\\\ngini = 0.493\\\\nsamples = 59\\\\nvalue = [26, 33]\"] ;\\n301 -> 302 ;\\n303 [label=\"X[41] <= 36.0\\\\ngini = 0.287\\\\nsamples = 23\\\\nvalue = [4, 19]\"] ;\\n302 -> 303 ;\\n304 [label=\"X[15] <= 33.5\\\\ngini = 0.32\\\\nsamples = 5\\\\nvalue = [4, 1]\"] ;\\n303 -> 304 ;\\n305 [label=\"gini = 0.0\\\\nsamples = 1\\\\nvalue = [0, 1]\"] ;\\n304 -> 305 ;\\n306 [label=\"gini = 0.0\\\\nsamples = 4\\\\nvalue = [4, 0]\"] ;\\n304 -> 306 ;\\n307 [label=\"gini = 0.0\\\\nsamples = 18\\\\nvalue = [0, 18]\"] ;\\n303 -> 307 ;\\n308 [label=\"X[36] <= 495.5\\\\ngini = 0.475\\\\nsamples = 36\\\\nvalue = [22, 14]\"] ;\\n302 -> 308 ;\\n309 [label=\"X[61] <= 885.0\\\\ngini = 0.391\\\\nsamples = 15\\\\nvalue = [4, 11]\"] ;\\n308 -> 309 ;\\n310 [label=\"gini = 0.0\\\\nsamples = 10\\\\nvalue = [0, 10]\"] ;\\n309 -> 310 ;\\n311 [label=\"X[24] <= 1247.0\\\\ngini = 0.32\\\\nsamples = 5\\\\nvalue = [4, 1]\"] ;\\n309 -> 311 ;\\n312 [label=\"gini = 0.0\\\\nsamples = 4\\\\nvalue = [4, 0]\"] ;\\n311 -> 312 ;\\n313 [label=\"gini = 0.0\\\\nsamples = 1\\\\nvalue = [0, 1]\"] ;\\n311 -> 313 ;\\n314 [label=\"X[28] <= 8171.5\\\\ngini = 0.245\\\\nsamples = 21\\\\nvalue = [18, 3]\"] ;\\n308 -> 314 ;\\n315 [label=\"X[5] <= 12596.5\\\\ngini = 0.1\\\\nsamples = 19\\\\nvalue = [18, 1]\"] ;\\n314 -> 315 ;\\n316 [label=\"gini = 0.0\\\\nsamples = 18\\\\nvalue = [18, 0]\"] ;\\n315 -> 316 ;\\n317 [label=\"gini = 0.0\\\\nsamples = 1\\\\nvalue = [0, 1]\"] ;\\n315 -> 317 ;\\n318 [label=\"gini = 0.0\\\\nsamples = 2\\\\nvalue = [0, 2]\"] ;\\n314 -> 318 ;\\n319 [label=\"gini = 0.0\\\\nsamples = 14\\\\nvalue = [14, 0]\"] ;\\n301 -> 319 ;\\n320 [label=\"X[66] <= 454.5\\\\ngini = 0.495\\\\nsamples = 69\\\\nvalue = [31, 38]\"] ;\\n264 -> 320 ;\\n321 [label=\"X[34] <= 22.0\\\\ngini = 0.382\\\\nsamples = 35\\\\nvalue = [9, 26]\"] ;\\n320 -> 321 ;\\n322 [label=\"X[35] <= 77.5\\\\ngini = 0.444\\\\nsamples = 9\\\\nvalue = [6, 3]\"] ;\\n321 -> 322 ;\\n323 [label=\"gini = 0.0\\\\nsamples = 3\\\\nvalue = [0, 3]\"] ;\\n322 -> 323 ;\\n324 [label=\"gini = 0.0\\\\nsamples = 6\\\\nvalue = [6, 0]\"] ;\\n322 -> 324 ;\\n325 [label=\"X[21] <= 16221.0\\\\ngini = 0.204\\\\nsamples = 26\\\\nvalue = [3, 23]\"] ;\\n321 -> 325 ;\\n326 [label=\"gini = 0.0\\\\nsamples = 22\\\\nvalue = [0, 22]\"] ;\\n325 -> 326 ;\\n327 [label=\"X[55] <= 815.5\\\\ngini = 0.375\\\\nsamples = 4\\\\nvalue = [3, 1]\"] ;\\n325 -> 327 ;\\n328 [label=\"gini = 0.0\\\\nsamples = 3\\\\nvalue = [3, 0]\"] ;\\n327 -> 328 ;\\n329 [label=\"gini = 0.0\\\\nsamples = 1\\\\nvalue = [0, 1]\"] ;\\n327 -> 329 ;\\n330 [label=\"X[28] <= 7777.0\\\\ngini = 0.457\\\\nsamples = 34\\\\nvalue = [22, 12]\"] ;\\n320 -> 330 ;\\n331 [label=\"X[104] <= 184.0\\\\ngini = 0.391\\\\nsamples = 30\\\\nvalue = [22, 8]\"] ;\\n330 -> 331 ;\\n332 [label=\"X[66] <= 4112.0\\\\ngini = 0.498\\\\nsamples = 15\\\\nvalue = [7, 8]\"] ;\\n331 -> 332 ;\\n333 [label=\"X[96] <= 3065.5\\\\ngini = 0.346\\\\nsamples = 9\\\\nvalue = [7, 2]\"] ;\\n332 -> 333 ;\\n334 [label=\"gini = 0.0\\\\nsamples = 7\\\\nvalue = [7, 0]\"] ;\\n333 -> 334 ;\\n335 [label=\"gini = 0.0\\\\nsamples = 2\\\\nvalue = [0, 2]\"] ;\\n333 -> 335 ;\\n336 [label=\"gini = 0.0\\\\nsamples = 6\\\\nvalue = [0, 6]\"] ;\\n332 -> 336 ;\\n337 [label=\"gini = 0.0\\\\nsamples = 15\\\\nvalue = [15, 0]\"] ;\\n331 -> 337 ;\\n338 [label=\"gini = 0.0\\\\nsamples = 4\\\\nvalue = [0, 4]\"] ;\\n330 -> 338 ;\\n339 [label=\"gini = 0.0\\\\nsamples = 16\\\\nvalue = [16, 0]\"] ;\\n209 -> 339 ;\\n340 [label=\"X[41] <= 5807.0\\\\ngini = 0.473\\\\nsamples = 177\\\\nvalue = [68, 109]\"] ;\\n208 -> 340 ;\\n341 [label=\"X[59] <= 624.0\\\\ngini = 0.493\\\\nsamples = 145\\\\nvalue = [64, 81]\"] ;\\n340 -> 341 ;\\n342 [label=\"X[112] <= 328.0\\\\ngini = 0.444\\\\nsamples = 90\\\\nvalue = [30, 60]\"] ;\\n341 -> 342 ;\\n343 [label=\"X[79] <= 449.5\\\\ngini = 0.32\\\\nsamples = 55\\\\nvalue = [11, 44]\"] ;\\n342 -> 343 ;\\n344 [label=\"X[21] <= 11461.0\\\\ngini = 0.102\\\\nsamples = 37\\\\nvalue = [2, 35]\"] ;\\n343 -> 344 ;\\n345 [label=\"X[6] <= 1.5\\\\ngini = 0.054\\\\nsamples = 36\\\\nvalue = [1, 35]\"] ;\\n344 -> 345 ;\\n346 [label=\"gini = 0.0\\\\nsamples = 1\\\\nvalue = [1, 0]\"] ;\\n345 -> 346 ;\\n347 [label=\"gini = 0.0\\\\nsamples = 35\\\\nvalue = [0, 35]\"] ;\\n345 -> 347 ;\\n348 [label=\"gini = 0.0\\\\nsamples = 1\\\\nvalue = [1, 0]\"] ;\\n344 -> 348 ;\\n349 [label=\"X[115] <= 4.5\\\\ngini = 0.5\\\\nsamples = 18\\\\nvalue = [9, 9]\"] ;\\n343 -> 349 ;\\n350 [label=\"gini = 0.0\\\\nsamples = 6\\\\nvalue = [0, 6]\"] ;\\n349 -> 350 ;\\n351 [label=\"X[111] <= 458.5\\\\ngini = 0.375\\\\nsamples = 12\\\\nvalue = [9, 3]\"] ;\\n349 -> 351 ;\\n352 [label=\"gini = 0.0\\\\nsamples = 8\\\\nvalue = [8, 0]\"] ;\\n351 -> 352 ;\\n353 [label=\"X[40] <= 12254.0\\\\ngini = 0.375\\\\nsamples = 4\\\\nvalue = [1, 3]\"] ;\\n351 -> 353 ;\\n354 [label=\"gini = 0.0\\\\nsamples = 3\\\\nvalue = [0, 3]\"] ;\\n353 -> 354 ;\\n355 [label=\"gini = 0.0\\\\nsamples = 1\\\\nvalue = [1, 0]\"] ;\\n353 -> 355 ;\\n356 [label=\"X[76] <= 46.0\\\\ngini = 0.496\\\\nsamples = 35\\\\nvalue = [19, 16]\"] ;\\n342 -> 356 ;\\n357 [label=\"X[39] <= 12.0\\\\ngini = 0.142\\\\nsamples = 13\\\\nvalue = [12, 1]\"] ;\\n356 -> 357 ;\\n358 [label=\"gini = 0.0\\\\nsamples = 1\\\\nvalue = [0, 1]\"] ;\\n357 -> 358 ;\\n359 [label=\"gini = 0.0\\\\nsamples = 12\\\\nvalue = [12, 0]\"] ;\\n357 -> 359 ;\\n360 [label=\"X[111] <= 4060.0\\\\ngini = 0.434\\\\nsamples = 22\\\\nvalue = [7, 15]\"] ;\\n356 -> 360 ;\\n361 [label=\"X[124] <= 5.0\\\\ngini = 0.219\\\\nsamples = 16\\\\nvalue = [2, 14]\"] ;\\n360 -> 361 ;\\n362 [label=\"X[33] <= 4410.0\\\\ngini = 0.444\\\\nsamples = 3\\\\nvalue = [2, 1]\"] ;\\n361 -> 362 ;\\n363 [label=\"gini = 0.0\\\\nsamples = 2\\\\nvalue = [2, 0]\"] ;\\n362 -> 363 ;\\n364 [label=\"gini = 0.0\\\\nsamples = 1\\\\nvalue = [0, 1]\"] ;\\n362 -> 364 ;\\n365 [label=\"gini = 0.0\\\\nsamples = 13\\\\nvalue = [0, 13]\"] ;\\n361 -> 365 ;\\n366 [label=\"X[90] <= 5318.5\\\\ngini = 0.278\\\\nsamples = 6\\\\nvalue = [5, 1]\"] ;\\n360 -> 366 ;\\n367 [label=\"gini = 0.0\\\\nsamples = 5\\\\nvalue = [5, 0]\"] ;\\n366 -> 367 ;\\n368 [label=\"gini = 0.0\\\\nsamples = 1\\\\nvalue = [0, 1]\"] ;\\n366 -> 368 ;\\n369 [label=\"X[4] <= 841.0\\\\ngini = 0.472\\\\nsamples = 55\\\\nvalue = [34, 21]\"] ;\\n341 -> 369 ;\\n370 [label=\"X[15] <= 203.5\\\\ngini = 0.499\\\\nsamples = 38\\\\nvalue = [18, 20]\"] ;\\n369 -> 370 ;\\n371 [label=\"X[119] <= 156.0\\\\ngini = 0.375\\\\nsamples = 16\\\\nvalue = [12, 4]\"] ;\\n370 -> 371 ;\\n372 [label=\"gini = 0.0\\\\nsamples = 10\\\\nvalue = [10, 0]\"] ;\\n371 -> 372 ;\\n373 [label=\"X[20] <= 44.0\\\\ngini = 0.444\\\\nsamples = 6\\\\nvalue = [2, 4]\"] ;\\n371 -> 373 ;\\n374 [label=\"gini = 0.0\\\\nsamples = 2\\\\nvalue = [2, 0]\"] ;\\n373 -> 374 ;\\n375 [label=\"gini = 0.0\\\\nsamples = 4\\\\nvalue = [0, 4]\"] ;\\n373 -> 375 ;\\n376 [label=\"X[9] <= 1672.5\\\\ngini = 0.397\\\\nsamples = 22\\\\nvalue = [6, 16]\"] ;\\n370 -> 376 ;\\n377 [label=\"X[60] <= 4877.0\\\\ngini = 0.208\\\\nsamples = 17\\\\nvalue = [2, 15]\"] ;\\n376 -> 377 ;\\n378 [label=\"gini = 0.0\\\\nsamples = 15\\\\nvalue = [0, 15]\"] ;\\n377 -> 378 ;\\n379 [label=\"gini = 0.0\\\\nsamples = 2\\\\nvalue = [2, 0]\"] ;\\n377 -> 379 ;\\n380 [label=\"X[72] <= 273.5\\\\ngini = 0.32\\\\nsamples = 5\\\\nvalue = [4, 1]\"] ;\\n376 -> 380 ;\\n381 [label=\"gini = 0.0\\\\nsamples = 1\\\\nvalue = [0, 1]\"] ;\\n380 -> 381 ;\\n382 [label=\"gini = 0.0\\\\nsamples = 4\\\\nvalue = [4, 0]\"] ;\\n380 -> 382 ;\\n383 [label=\"X[69] <= 1.5\\\\ngini = 0.111\\\\nsamples = 17\\\\nvalue = [16, 1]\"] ;\\n369 -> 383 ;\\n384 [label=\"gini = 0.0\\\\nsamples = 1\\\\nvalue = [0, 1]\"] ;\\n383 -> 384 ;\\n385 [label=\"gini = 0.0\\\\nsamples = 16\\\\nvalue = [16, 0]\"] ;\\n383 -> 385 ;\\n386 [label=\"X[25] <= 27.0\\\\ngini = 0.219\\\\nsamples = 32\\\\nvalue = [4, 28]\"] ;\\n340 -> 386 ;\\n387 [label=\"gini = 0.0\\\\nsamples = 2\\\\nvalue = [2, 0]\"] ;\\n386 -> 387 ;\\n388 [label=\"X[81] <= 1.0\\\\ngini = 0.124\\\\nsamples = 30\\\\nvalue = [2, 28]\"] ;\\n386 -> 388 ;\\n389 [label=\"gini = 0.0\\\\nsamples = 1\\\\nvalue = [1, 0]\"] ;\\n388 -> 389 ;\\n390 [label=\"X[47] <= 12733.0\\\\ngini = 0.067\\\\nsamples = 29\\\\nvalue = [1, 28]\"] ;\\n388 -> 390 ;\\n391 [label=\"gini = 0.0\\\\nsamples = 28\\\\nvalue = [0, 28]\"] ;\\n390 -> 391 ;\\n392 [label=\"gini = 0.0\\\\nsamples = 1\\\\nvalue = [1, 0]\"] ;\\n390 -> 392 ;\\n393 [label=\"X[74] <= 12.0\\\\ngini = 0.25\\\\nsamples = 41\\\\nvalue = [6, 35]\"] ;\\n183 -> 393 ;\\n394 [label=\"gini = 0.0\\\\nsamples = 3\\\\nvalue = [3, 0]\"] ;\\n393 -> 394 ;\\n395 [label=\"X[79] <= 14532.0\\\\ngini = 0.145\\\\nsamples = 38\\\\nvalue = [3, 35]\"] ;\\n393 -> 395 ;\\n396 [label=\"X[92] <= 20468.0\\\\ngini = 0.054\\\\nsamples = 36\\\\nvalue = [1, 35]\"] ;\\n395 -> 396 ;\\n397 [label=\"gini = 0.0\\\\nsamples = 35\\\\nvalue = [0, 35]\"] ;\\n396 -> 397 ;\\n398 [label=\"gini = 0.0\\\\nsamples = 1\\\\nvalue = [1, 0]\"] ;\\n396 -> 398 ;\\n399 [label=\"gini = 0.0\\\\nsamples = 2\\\\nvalue = [2, 0]\"] ;\\n395 -> 399 ;\\n400 [label=\"X[91] <= 1282.0\\\\ngini = 0.498\\\\nsamples = 2572\\\\nvalue = [1369, 1203]\"] ;\\n0 -> 400 [labeldistance=2.5, labelangle=-45, headlabel=\"False\"] ;\\n401 [label=\"X[93] <= 54.5\\\\ngini = 0.492\\\\nsamples = 1808\\\\nvalue = [1016, 792]\"] ;\\n400 -> 401 ;\\n402 [label=\"X[50] <= 1057.0\\\\ngini = 0.5\\\\nsamples = 541\\\\nvalue = [268, 273]\"] ;\\n401 -> 402 ;\\n403 [label=\"X[5] <= 10838.0\\\\ngini = 0.496\\\\nsamples = 379\\\\nvalue = [207, 172]\"] ;\\n402 -> 403 ;\\n404 [label=\"X[10] <= 4.0\\\\ngini = 0.499\\\\nsamples = 357\\\\nvalue = [187, 170]\"] ;\\n403 -> 404 ;\\n405 [label=\"X[59] <= 3769.5\\\\ngini = 0.358\\\\nsamples = 30\\\\nvalue = [7, 23]\"] ;\\n404 -> 405 ;\\n406 [label=\"X[112] <= 1046.5\\\\ngini = 0.252\\\\nsamples = 27\\\\nvalue = [4, 23]\"] ;\\n405 -> 406 ;\\n407 [label=\"gini = 0.0\\\\nsamples = 19\\\\nvalue = [0, 19]\"] ;\\n406 -> 407 ;\\n408 [label=\"X[47] <= 175.5\\\\ngini = 0.5\\\\nsamples = 8\\\\nvalue = [4, 4]\"] ;\\n406 -> 408 ;\\n409 [label=\"gini = 0.0\\\\nsamples = 3\\\\nvalue = [3, 0]\"] ;\\n408 -> 409 ;\\n410 [label=\"X[51] <= 5915.0\\\\ngini = 0.32\\\\nsamples = 5\\\\nvalue = [1, 4]\"] ;\\n408 -> 410 ;\\n411 [label=\"gini = 0.0\\\\nsamples = 4\\\\nvalue = [0, 4]\"] ;\\n410 -> 411 ;\\n412 [label=\"gini = 0.0\\\\nsamples = 1\\\\nvalue = [1, 0]\"] ;\\n410 -> 412 ;\\n413 [label=\"gini = 0.0\\\\nsamples = 3\\\\nvalue = [3, 0]\"] ;\\n405 -> 413 ;\\n414 [label=\"X[62] <= 33.5\\\\ngini = 0.495\\\\nsamples = 327\\\\nvalue = [180, 147]\"] ;\\n404 -> 414 ;\\n415 [label=\"X[34] <= 9216.5\\\\ngini = 0.366\\\\nsamples = 58\\\\nvalue = [44, 14]\"] ;\\n414 -> 415 ;\\n416 [label=\"X[26] <= 1954.0\\\\ngini = 0.302\\\\nsamples = 54\\\\nvalue = [44, 10]\"] ;\\n415 -> 416 ;\\n417 [label=\"X[50] <= 4.5\\\\ngini = 0.136\\\\nsamples = 41\\\\nvalue = [38, 3]\"] ;\\n416 -> 417 ;\\n418 [label=\"gini = 0.0\\\\nsamples = 2\\\\nvalue = [0, 2]\"] ;\\n417 -> 418 ;\\n419 [label=\"X[15] <= 11017.5\\\\ngini = 0.05\\\\nsamples = 39\\\\nvalue = [38, 1]\"] ;\\n417 -> 419 ;\\n420 [label=\"gini = 0.0\\\\nsamples = 37\\\\nvalue = [37, 0]\"] ;\\n419 -> 420 ;\\n421 [label=\"X[30] <= 1907.5\\\\ngini = 0.5\\\\nsamples = 2\\\\nvalue = [1, 1]\"] ;\\n419 -> 421 ;\\n422 [label=\"gini = 0.0\\\\nsamples = 1\\\\nvalue = [0, 1]\"] ;\\n421 -> 422 ;\\n423 [label=\"gini = 0.0\\\\nsamples = 1\\\\nvalue = [1, 0]\"] ;\\n421 -> 423 ;\\n424 [label=\"X[64] <= 240.0\\\\ngini = 0.497\\\\nsamples = 13\\\\nvalue = [6, 7]\"] ;\\n416 -> 424 ;\\n425 [label=\"X[110] <= 4520.0\\\\ngini = 0.245\\\\nsamples = 7\\\\nvalue = [6, 1]\"] ;\\n424 -> 425 ;\\n426 [label=\"gini = 0.0\\\\nsamples = 6\\\\nvalue = [6, 0]\"] ;\\n425 -> 426 ;\\n427 [label=\"gini = 0.0\\\\nsamples = 1\\\\nvalue = [0, 1]\"] ;\\n425 -> 427 ;\\n428 [label=\"gini = 0.0\\\\nsamples = 6\\\\nvalue = [0, 6]\"] ;\\n424 -> 428 ;\\n429 [label=\"gini = 0.0\\\\nsamples = 4\\\\nvalue = [0, 4]\"] ;\\n415 -> 429 ;\\n430 [label=\"X[11] <= 3439.5\\\\ngini = 0.5\\\\nsamples = 269\\\\nvalue = [136, 133]\"] ;\\n414 -> 430 ;\\n431 [label=\"X[57] <= 745.5\\\\ngini = 0.493\\\\nsamples = 220\\\\nvalue = [123, 97]\"] ;\\n430 -> 431 ;\\n432 [label=\"X[72] <= 605.0\\\\ngini = 0.464\\\\nsamples = 156\\\\nvalue = [99, 57]\"] ;\\n431 -> 432 ;\\n433 [label=\"X[31] <= 32.0\\\\ngini = 0.403\\\\nsamples = 111\\\\nvalue = [80, 31]\"] ;\\n432 -> 433 ;\\n434 [label=\"X[29] <= 310.0\\\\ngini = 0.476\\\\nsamples = 23\\\\nvalue = [9, 14]\"] ;\\n433 -> 434 ;\\n435 [label=\"gini = 0.0\\\\nsamples = 10\\\\nvalue = [0, 10]\"] ;\\n434 -> 435 ;\\n436 [label=\"X[42] <= 320.0\\\\ngini = 0.426\\\\nsamples = 13\\\\nvalue = [9, 4]\"] ;\\n434 -> 436 ;\\n437 [label=\"gini = 0.0\\\\nsamples = 4\\\\nvalue = [0, 4]\"] ;\\n436 -> 437 ;\\n438 [label=\"gini = 0.0\\\\nsamples = 9\\\\nvalue = [9, 0]\"] ;\\n436 -> 438 ;\\n439 [label=\"X[68] <= 1.5\\\\ngini = 0.312\\\\nsamples = 88\\\\nvalue = [71, 17]\"] ;\\n433 -> 439 ;\\n440 [label=\"gini = 0.0\\\\nsamples = 4\\\\nvalue = [0, 4]\"] ;\\n439 -> 440 ;\\n441 [label=\"X[94] <= 7570.0\\\\ngini = 0.262\\\\nsamples = 84\\\\nvalue = [71, 13]\"] ;\\n439 -> 441 ;\\n442 [label=\"X[1] <= 9466.5\\\\ngini = 0.204\\\\nsamples = 78\\\\nvalue = [69, 9]\"] ;\\n441 -> 442 ;\\n443 [label=\"X[48] <= 21366.0\\\\ngini = 0.149\\\\nsamples = 74\\\\nvalue = [68, 6]\"] ;\\n442 -> 443 ;\\n444 [label=\"X[74] <= 1.5\\\\ngini = 0.105\\\\nsamples = 72\\\\nvalue = [68, 4]\"] ;\\n443 -> 444 ;\\n445 [label=\"gini = 0.0\\\\nsamples = 1\\\\nvalue = [0, 1]\"] ;\\n444 -> 445 ;\\n446 [label=\"X[34] <= 1.0\\\\ngini = 0.081\\\\nsamples = 71\\\\nvalue = [68, 3]\"] ;\\n444 -> 446 ;\\n447 [label=\"gini = 0.0\\\\nsamples = 1\\\\nvalue = [0, 1]\"] ;\\n446 -> 447 ;\\n448 [label=\"X[110] <= 25807.0\\\\ngini = 0.056\\\\nsamples = 70\\\\nvalue = [68, 2]\"] ;\\n446 -> 448 ;\\n449 [label=\"X[46] <= 9681.0\\\\ngini = 0.029\\\\nsamples = 69\\\\nvalue = [68, 1]\"] ;\\n448 -> 449 ;\\n450 [label=\"gini = 0.0\\\\nsamples = 67\\\\nvalue = [67, 0]\"] ;\\n449 -> 450 ;\\n451 [label=\"X[20] <= 83.0\\\\ngini = 0.5\\\\nsamples = 2\\\\nvalue = [1, 1]\"] ;\\n449 -> 451 ;\\n452 [label=\"gini = 0.0\\\\nsamples = 1\\\\nvalue = [1, 0]\"] ;\\n451 -> 452 ;\\n453 [label=\"gini = 0.0\\\\nsamples = 1\\\\nvalue = [0, 1]\"] ;\\n451 -> 453 ;\\n454 [label=\"gini = 0.0\\\\nsamples = 1\\\\nvalue = [0, 1]\"] ;\\n448 -> 454 ;\\n455 [label=\"gini = 0.0\\\\nsamples = 2\\\\nvalue = [0, 2]\"] ;\\n443 -> 455 ;\\n456 [label=\"X[39] <= 672.5\\\\ngini = 0.375\\\\nsamples = 4\\\\nvalue = [1, 3]\"] ;\\n442 -> 456 ;\\n457 [label=\"gini = 0.0\\\\nsamples = 3\\\\nvalue = [0, 3]\"] ;\\n456 -> 457 ;\\n458 [label=\"gini = 0.0\\\\nsamples = 1\\\\nvalue = [1, 0]\"] ;\\n456 -> 458 ;\\n459 [label=\"X[27] <= 102.0\\\\ngini = 0.444\\\\nsamples = 6\\\\nvalue = [2, 4]\"] ;\\n441 -> 459 ;\\n460 [label=\"gini = 0.0\\\\nsamples = 2\\\\nvalue = [2, 0]\"] ;\\n459 -> 460 ;\\n461 [label=\"gini = 0.0\\\\nsamples = 4\\\\nvalue = [0, 4]\"] ;\\n459 -> 461 ;\\n462 [label=\"X[7] <= 348.5\\\\ngini = 0.488\\\\nsamples = 45\\\\nvalue = [19, 26]\"] ;\\n432 -> 462 ;\\n463 [label=\"X[109] <= 24.0\\\\ngini = 0.473\\\\nsamples = 26\\\\nvalue = [16, 10]\"] ;\\n462 -> 463 ;\\n464 [label=\"gini = 0.0\\\\nsamples = 6\\\\nvalue = [0, 6]\"] ;\\n463 -> 464 ;\\n465 [label=\"X[106] <= 721.0\\\\ngini = 0.32\\\\nsamples = 20\\\\nvalue = [16, 4]\"] ;\\n463 -> 465 ;\\n466 [label=\"X[72] <= 23964.5\\\\ngini = 0.117\\\\nsamples = 16\\\\nvalue = [15, 1]\"] ;\\n465 -> 466 ;\\n467 [label=\"gini = 0.0\\\\nsamples = 15\\\\nvalue = [15, 0]\"] ;\\n466 -> 467 ;\\n468 [label=\"gini = 0.0\\\\nsamples = 1\\\\nvalue = [0, 1]\"] ;\\n466 -> 468 ;\\n469 [label=\"X[86] <= 14.0\\\\ngini = 0.375\\\\nsamples = 4\\\\nvalue = [1, 3]\"] ;\\n465 -> 469 ;\\n470 [label=\"gini = 0.0\\\\nsamples = 1\\\\nvalue = [1, 0]\"] ;\\n469 -> 470 ;\\n471 [label=\"gini = 0.0\\\\nsamples = 3\\\\nvalue = [0, 3]\"] ;\\n469 -> 471 ;\\n472 [label=\"X[126] <= 10.5\\\\ngini = 0.266\\\\nsamples = 19\\\\nvalue = [3, 16]\"] ;\\n462 -> 472 ;\\n473 [label=\"X[82] <= 32.5\\\\ngini = 0.375\\\\nsamples = 4\\\\nvalue = [3, 1]\"] ;\\n472 -> 473 ;\\n474 [label=\"gini = 0.0\\\\nsamples = 1\\\\nvalue = [0, 1]\"] ;\\n473 -> 474 ;\\n475 [label=\"gini = 0.0\\\\nsamples = 3\\\\nvalue = [3, 0]\"] ;\\n473 -> 475 ;\\n476 [label=\"gini = 0.0\\\\nsamples = 15\\\\nvalue = [0, 15]\"] ;\\n472 -> 476 ;\\n477 [label=\"X[83] <= 35.5\\\\ngini = 0.469\\\\nsamples = 64\\\\nvalue = [24, 40]\"] ;\\n431 -> 477 ;\\n478 [label=\"gini = 0.0\\\\nsamples = 13\\\\nvalue = [0, 13]\"] ;\\n477 -> 478 ;\\n479 [label=\"X[124] <= 86.0\\\\ngini = 0.498\\\\nsamples = 51\\\\nvalue = [24, 27]\"] ;\\n477 -> 479 ;\\n480 [label=\"X[72] <= 21.5\\\\ngini = 0.384\\\\nsamples = 27\\\\nvalue = [7, 20]\"] ;\\n479 -> 480 ;\\n481 [label=\"gini = 0.0\\\\nsamples = 3\\\\nvalue = [3, 0]\"] ;\\n480 -> 481 ;\\n482 [label=\"X[90] <= 3502.5\\\\ngini = 0.278\\\\nsamples = 24\\\\nvalue = [4, 20]\"] ;\\n480 -> 482 ;\\n483 [label=\"X[28] <= 17288.5\\\\ngini = 0.095\\\\nsamples = 20\\\\nvalue = [1, 19]\"] ;\\n482 -> 483 ;\\n484 [label=\"gini = 0.0\\\\nsamples = 19\\\\nvalue = [0, 19]\"] ;\\n483 -> 484 ;\\n485 [label=\"gini = 0.0\\\\nsamples = 1\\\\nvalue = [1, 0]\"] ;\\n483 -> 485 ;\\n486 [label=\"X[59] <= 6310.0\\\\ngini = 0.375\\\\nsamples = 4\\\\nvalue = [3, 1]\"] ;\\n482 -> 486 ;\\n487 [label=\"gini = 0.0\\\\nsamples = 3\\\\nvalue = [3, 0]\"] ;\\n486 -> 487 ;\\n488 [label=\"gini = 0.0\\\\nsamples = 1\\\\nvalue = [0, 1]\"] ;\\n486 -> 488 ;\\n489 [label=\"X[112] <= 110.5\\\\ngini = 0.413\\\\nsamples = 24\\\\nvalue = [17, 7]\"] ;\\n479 -> 489 ;\\n490 [label=\"X[52] <= 117.0\\\\ngini = 0.463\\\\nsamples = 11\\\\nvalue = [4, 7]\"] ;\\n489 -> 490 ;\\n491 [label=\"gini = 0.0\\\\nsamples = 4\\\\nvalue = [4, 0]\"] ;\\n490 -> 491 ;\\n492 [label=\"gini = 0.0\\\\nsamples = 7\\\\nvalue = [0, 7]\"] ;\\n490 -> 492 ;\\n493 [label=\"gini = 0.0\\\\nsamples = 13\\\\nvalue = [13, 0]\"] ;\\n489 -> 493 ;\\n494 [label=\"X[28] <= 457.5\\\\ngini = 0.39\\\\nsamples = 49\\\\nvalue = [13, 36]\"] ;\\n430 -> 494 ;\\n495 [label=\"gini = 0.0\\\\nsamples = 24\\\\nvalue = [0, 24]\"] ;\\n494 -> 495 ;\\n496 [label=\"X[106] <= 54.0\\\\ngini = 0.499\\\\nsamples = 25\\\\nvalue = [13, 12]\"] ;\\n494 -> 496 ;\\n497 [label=\"X[23] <= 160.5\\\\ngini = 0.153\\\\nsamples = 12\\\\nvalue = [1, 11]\"] ;\\n496 -> 497 ;\\n498 [label=\"gini = 0.0\\\\nsamples = 1\\\\nvalue = [1, 0]\"] ;\\n497 -> 498 ;\\n499 [label=\"gini = 0.0\\\\nsamples = 11\\\\nvalue = [0, 11]\"] ;\\n497 -> 499 ;\\n500 [label=\"X[24] <= 2308.0\\\\ngini = 0.142\\\\nsamples = 13\\\\nvalue = [12, 1]\"] ;\\n496 -> 500 ;\\n501 [label=\"gini = 0.0\\\\nsamples = 12\\\\nvalue = [12, 0]\"] ;\\n500 -> 501 ;\\n502 [label=\"gini = 0.0\\\\nsamples = 1\\\\nvalue = [0, 1]\"] ;\\n500 -> 502 ;\\n503 [label=\"X[23] <= 0.5\\\\ngini = 0.165\\\\nsamples = 22\\\\nvalue = [20, 2]\"] ;\\n403 -> 503 ;\\n504 [label=\"gini = 0.0\\\\nsamples = 1\\\\nvalue = [0, 1]\"] ;\\n503 -> 504 ;\\n505 [label=\"X[103] <= 18912.5\\\\ngini = 0.091\\\\nsamples = 21\\\\nvalue = [20, 1]\"] ;\\n503 -> 505 ;\\n506 [label=\"gini = 0.0\\\\nsamples = 20\\\\nvalue = [20, 0]\"] ;\\n505 -> 506 ;\\n507 [label=\"gini = 0.0\\\\nsamples = 1\\\\nvalue = [0, 1]\"] ;\\n505 -> 507 ;\\n508 [label=\"X[10] <= 40.0\\\\ngini = 0.47\\\\nsamples = 162\\\\nvalue = [61, 101]\"] ;\\n402 -> 508 ;\\n509 [label=\"X[6] <= 1185.0\\\\ngini = 0.475\\\\nsamples = 36\\\\nvalue = [22, 14]\"] ;\\n508 -> 509 ;\\n510 [label=\"X[117] <= 25.0\\\\ngini = 0.375\\\\nsamples = 28\\\\nvalue = [21, 7]\"] ;\\n509 -> 510 ;\\n511 [label=\"X[91] <= 305.5\\\\ngini = 0.408\\\\nsamples = 7\\\\nvalue = [2, 5]\"] ;\\n510 -> 511 ;\\n512 [label=\"gini = 0.0\\\\nsamples = 5\\\\nvalue = [0, 5]\"] ;\\n511 -> 512 ;\\n513 [label=\"gini = 0.0\\\\nsamples = 2\\\\nvalue = [2, 0]\"] ;\\n511 -> 513 ;\\n514 [label=\"X[89] <= 44.5\\\\ngini = 0.172\\\\nsamples = 21\\\\nvalue = [19, 2]\"] ;\\n510 -> 514 ;\\n515 [label=\"gini = 0.0\\\\nsamples = 2\\\\nvalue = [0, 2]\"] ;\\n514 -> 515 ;\\n516 [label=\"gini = 0.0\\\\nsamples = 19\\\\nvalue = [19, 0]\"] ;\\n514 -> 516 ;\\n517 [label=\"X[19] <= 817.5\\\\ngini = 0.219\\\\nsamples = 8\\\\nvalue = [1, 7]\"] ;\\n509 -> 517 ;\\n518 [label=\"gini = 0.0\\\\nsamples = 1\\\\nvalue = [1, 0]\"] ;\\n517 -> 518 ;\\n519 [label=\"gini = 0.0\\\\nsamples = 7\\\\nvalue = [0, 7]\"] ;\\n517 -> 519 ;\\n520 [label=\"X[84] <= 22205.0\\\\ngini = 0.427\\\\nsamples = 126\\\\nvalue = [39, 87]\"] ;\\n508 -> 520 ;\\n521 [label=\"X[74] <= 5913.5\\\\ngini = 0.404\\\\nsamples = 121\\\\nvalue = [34, 87]\"] ;\\n520 -> 521 ;\\n522 [label=\"X[107] <= 13313.0\\\\ngini = 0.338\\\\nsamples = 102\\\\nvalue = [22, 80]\"] ;\\n521 -> 522 ;\\n523 [label=\"X[34] <= 3781.5\\\\ngini = 0.291\\\\nsamples = 96\\\\nvalue = [17, 79]\"] ;\\n522 -> 523 ;\\n524 [label=\"X[61] <= 1.5\\\\ngini = 0.212\\\\nsamples = 83\\\\nvalue = [10, 73]\"] ;\\n523 -> 524 ;\\n525 [label=\"gini = 0.0\\\\nsamples = 2\\\\nvalue = [2, 0]\"] ;\\n524 -> 525 ;\\n526 [label=\"X[41] <= 1.5\\\\ngini = 0.178\\\\nsamples = 81\\\\nvalue = [8, 73]\"] ;\\n524 -> 526 ;\\n527 [label=\"X[18] <= 65.0\\\\ngini = 0.49\\\\nsamples = 7\\\\nvalue = [3, 4]\"] ;\\n526 -> 527 ;\\n528 [label=\"gini = 0.0\\\\nsamples = 4\\\\nvalue = [0, 4]\"] ;\\n527 -> 528 ;\\n529 [label=\"gini = 0.0\\\\nsamples = 3\\\\nvalue = [3, 0]\"] ;\\n527 -> 529 ;\\n530 [label=\"X[16] <= 30057.0\\\\ngini = 0.126\\\\nsamples = 74\\\\nvalue = [5, 69]\"] ;\\n526 -> 530 ;\\n531 [label=\"X[2] <= 19400.5\\\\ngini = 0.104\\\\nsamples = 73\\\\nvalue = [4, 69]\"] ;\\n530 -> 531 ;\\n532 [label=\"X[53] <= 0.5\\\\ngini = 0.08\\\\nsamples = 72\\\\nvalue = [3, 69]\"] ;\\n531 -> 532 ;\\n533 [label=\"gini = 0.0\\\\nsamples = 1\\\\nvalue = [1, 0]\"] ;\\n532 -> 533 ;\\n534 [label=\"X[74] <= 4392.0\\\\ngini = 0.055\\\\nsamples = 71\\\\nvalue = [2, 69]\"] ;\\n532 -> 534 ;\\n535 [label=\"X[85] <= 8095.0\\\\ngini = 0.029\\\\nsamples = 69\\\\nvalue = [1, 68]\"] ;\\n534 -> 535 ;\\n536 [label=\"gini = 0.0\\\\nsamples = 68\\\\nvalue = [0, 68]\"] ;\\n535 -> 536 ;\\n537 [label=\"gini = 0.0\\\\nsamples = 1\\\\nvalue = [1, 0]\"] ;\\n535 -> 537 ;\\n538 [label=\"X[10] <= 343.0\\\\ngini = 0.5\\\\nsamples = 2\\\\nvalue = [1, 1]\"] ;\\n534 -> 538 ;\\n539 [label=\"gini = 0.0\\\\nsamples = 1\\\\nvalue = [0, 1]\"] ;\\n538 -> 539 ;\\n540 [label=\"gini = 0.0\\\\nsamples = 1\\\\nvalue = [1, 0]\"] ;\\n538 -> 540 ;\\n541 [label=\"gini = 0.0\\\\nsamples = 1\\\\nvalue = [1, 0]\"] ;\\n531 -> 541 ;\\n542 [label=\"gini = 0.0\\\\nsamples = 1\\\\nvalue = [1, 0]\"] ;\\n530 -> 542 ;\\n543 [label=\"X[41] <= 353.0\\\\ngini = 0.497\\\\nsamples = 13\\\\nvalue = [7, 6]\"] ;\\n523 -> 543 ;\\n544 [label=\"gini = 0.0\\\\nsamples = 6\\\\nvalue = [6, 0]\"] ;\\n543 -> 544 ;\\n545 [label=\"X[57] <= 46.5\\\\ngini = 0.245\\\\nsamples = 7\\\\nvalue = [1, 6]\"] ;\\n543 -> 545 ;\\n546 [label=\"gini = 0.0\\\\nsamples = 1\\\\nvalue = [1, 0]\"] ;\\n545 -> 546 ;\\n547 [label=\"gini = 0.0\\\\nsamples = 6\\\\nvalue = [0, 6]\"] ;\\n545 -> 547 ;\\n548 [label=\"X[21] <= 54.5\\\\ngini = 0.278\\\\nsamples = 6\\\\nvalue = [5, 1]\"] ;\\n522 -> 548 ;\\n549 [label=\"gini = 0.0\\\\nsamples = 5\\\\nvalue = [5, 0]\"] ;\\n548 -> 549 ;\\n550 [label=\"gini = 0.0\\\\nsamples = 1\\\\nvalue = [0, 1]\"] ;\\n548 -> 550 ;\\n551 [label=\"X[43] <= 3051.0\\\\ngini = 0.465\\\\nsamples = 19\\\\nvalue = [12, 7]\"] ;\\n521 -> 551 ;\\n552 [label=\"X[6] <= 19.0\\\\ngini = 0.245\\\\nsamples = 14\\\\nvalue = [12, 2]\"] ;\\n551 -> 552 ;\\n553 [label=\"gini = 0.0\\\\nsamples = 2\\\\nvalue = [0, 2]\"] ;\\n552 -> 553 ;\\n554 [label=\"gini = 0.0\\\\nsamples = 12\\\\nvalue = [12, 0]\"] ;\\n552 -> 554 ;\\n555 [label=\"gini = 0.0\\\\nsamples = 5\\\\nvalue = [0, 5]\"] ;\\n551 -> 555 ;\\n556 [label=\"gini = 0.0\\\\nsamples = 5\\\\nvalue = [5, 0]\"] ;\\n520 -> 556 ;\\n557 [label=\"X[6] <= 18942.5\\\\ngini = 0.484\\\\nsamples = 1267\\\\nvalue = [748, 519]\"] ;\\n401 -> 557 ;\\n558 [label=\"X[59] <= 4773.5\\\\ngini = 0.48\\\\nsamples = 1230\\\\nvalue = [738, 492]\"] ;\\n557 -> 558 ;\\n559 [label=\"X[124] <= 5345.5\\\\ngini = 0.471\\\\nsamples = 1065\\\\nvalue = [661, 404]\"] ;\\n558 -> 559 ;\\n560 [label=\"X[2] <= 541.0\\\\ngini = 0.461\\\\nsamples = 947\\\\nvalue = [605, 342]\"] ;\\n559 -> 560 ;\\n561 [label=\"X[34] <= 1.5\\\\ngini = 0.48\\\\nsamples = 613\\\\nvalue = [368, 245]\"] ;\\n560 -> 561 ;\\n562 [label=\"X[123] <= 25.5\\\\ngini = 0.397\\\\nsamples = 22\\\\nvalue = [6, 16]\"] ;\\n561 -> 562 ;\\n563 [label=\"X[29] <= 35.5\\\\ngini = 0.408\\\\nsamples = 7\\\\nvalue = [5, 2]\"] ;\\n562 -> 563 ;\\n564 [label=\"gini = 0.0\\\\nsamples = 2\\\\nvalue = [0, 2]\"] ;\\n563 -> 564 ;\\n565 [label=\"gini = 0.0\\\\nsamples = 5\\\\nvalue = [5, 0]\"] ;\\n563 -> 565 ;\\n566 [label=\"X[27] <= 4.5\\\\ngini = 0.124\\\\nsamples = 15\\\\nvalue = [1, 14]\"] ;\\n562 -> 566 ;\\n567 [label=\"gini = 0.0\\\\nsamples = 1\\\\nvalue = [1, 0]\"] ;\\n566 -> 567 ;\\n568 [label=\"gini = 0.0\\\\nsamples = 14\\\\nvalue = [0, 14]\"] ;\\n566 -> 568 ;\\n569 [label=\"X[74] <= 10670.0\\\\ngini = 0.475\\\\nsamples = 591\\\\nvalue = [362, 229]\"] ;\\n561 -> 569 ;\\n570 [label=\"X[109] <= 20609.5\\\\ngini = 0.481\\\\nsamples = 560\\\\nvalue = [334, 226]\"] ;\\n569 -> 570 ;\\n571 [label=\"X[18] <= 2183.0\\\\ngini = 0.477\\\\nsamples = 549\\\\nvalue = [333, 216]\"] ;\\n570 -> 571 ;\\n572 [label=\"X[10] <= 6.0\\\\ngini = 0.489\\\\nsamples = 440\\\\nvalue = [252, 188]\"] ;\\n571 -> 572 ;\\n573 [label=\"X[62] <= 463.5\\\\ngini = 0.432\\\\nsamples = 38\\\\nvalue = [12, 26]\"] ;\\n572 -> 573 ;\\n574 [label=\"X[127] <= 588.5\\\\ngini = 0.495\\\\nsamples = 20\\\\nvalue = [11, 9]\"] ;\\n573 -> 574 ;\\n575 [label=\"X[85] <= 21.0\\\\ngini = 0.426\\\\nsamples = 13\\\\nvalue = [4, 9]\"] ;\\n574 -> 575 ;\\n576 [label=\"X[103] <= 18.0\\\\ngini = 0.444\\\\nsamples = 6\\\\nvalue = [4, 2]\"] ;\\n575 -> 576 ;\\n577 [label=\"gini = 0.0\\\\nsamples = 2\\\\nvalue = [0, 2]\"] ;\\n576 -> 577 ;\\n578 [label=\"gini = 0.0\\\\nsamples = 4\\\\nvalue = [4, 0]\"] ;\\n576 -> 578 ;\\n579 [label=\"gini = 0.0\\\\nsamples = 7\\\\nvalue = [0, 7]\"] ;\\n575 -> 579 ;\\n580 [label=\"gini = 0.0\\\\nsamples = 7\\\\nvalue = [7, 0]\"] ;\\n574 -> 580 ;\\n581 [label=\"X[45] <= 22007.0\\\\ngini = 0.105\\\\nsamples = 18\\\\nvalue = [1, 17]\"] ;\\n573 -> 581 ;\\n582 [label=\"gini = 0.0\\\\nsamples = 17\\\\nvalue = [0, 17]\"] ;\\n581 -> 582 ;\\n583 [label=\"gini = 0.0\\\\nsamples = 1\\\\nvalue = [1, 0]\"] ;\\n581 -> 583 ;\\n584 [label=\"X[18] <= 1700.5\\\\ngini = 0.481\\\\nsamples = 402\\\\nvalue = [240, 162]\"] ;\\n572 -> 584 ;\\n585 [label=\"X[60] <= 9628.0\\\\ngini = 0.476\\\\nsamples = 394\\\\nvalue = [240, 154]\"] ;\\n584 -> 585 ;\\n586 [label=\"X[86] <= 52.5\\\\ngini = 0.465\\\\nsamples = 367\\\\nvalue = [232, 135]\"] ;\\n585 -> 586 ;\\n587 [label=\"X[122] <= 224.0\\\\ngini = 0.499\\\\nsamples = 122\\\\nvalue = [63, 59]\"] ;\\n586 -> 587 ;\\n588 [label=\"X[53] <= 8502.5\\\\ngini = 0.433\\\\nsamples = 63\\\\nvalue = [43, 20]\"] ;\\n587 -> 588 ;\\n589 [label=\"X[44] <= 30.0\\\\ngini = 0.375\\\\nsamples = 56\\\\nvalue = [42, 14]\"] ;\\n588 -> 589 ;\\n590 [label=\"X[7] <= 160.0\\\\ngini = 0.375\\\\nsamples = 8\\\\nvalue = [2, 6]\"] ;\\n589 -> 590 ;\\n591 [label=\"gini = 0.0\\\\nsamples = 2\\\\nvalue = [2, 0]\"] ;\\n590 -> 591 ;\\n592 [label=\"gini = 0.0\\\\nsamples = 6\\\\nvalue = [0, 6]\"] ;\\n590 -> 592 ;\\n593 [label=\"X[54] <= 6369.0\\\\ngini = 0.278\\\\nsamples = 48\\\\nvalue = [40, 8]\"] ;\\n589 -> 593 ;\\n594 [label=\"X[91] <= 8.5\\\\ngini = 0.172\\\\nsamples = 42\\\\nvalue = [38, 4]\"] ;\\n593 -> 594 ;\\n595 [label=\"X[19] <= 2788.5\\\\ngini = 0.375\\\\nsamples = 4\\\\nvalue = [1, 3]\"] ;\\n594 -> 595 ;\\n596 [label=\"gini = 0.0\\\\nsamples = 3\\\\nvalue = [0, 3]\"] ;\\n595 -> 596 ;\\n597 [label=\"gini = 0.0\\\\nsamples = 1\\\\nvalue = [1, 0]\"] ;\\n595 -> 597 ;\\n598 [label=\"X[34] <= 15130.5\\\\ngini = 0.051\\\\nsamples = 38\\\\nvalue = [37, 1]\"] ;\\n594 -> 598 ;\\n599 [label=\"gini = 0.0\\\\nsamples = 37\\\\nvalue = [37, 0]\"] ;\\n598 -> 599 ;\\n600 [label=\"gini = 0.0\\\\nsamples = 1\\\\nvalue = [0, 1]\"] ;\\n598 -> 600 ;\\n601 [label=\"X[75] <= 9211.5\\\\ngini = 0.444\\\\nsamples = 6\\\\nvalue = [2, 4]\"] ;\\n593 -> 601 ;\\n602 [label=\"gini = 0.0\\\\nsamples = 4\\\\nvalue = [0, 4]\"] ;\\n601 -> 602 ;\\n603 [label=\"gini = 0.0\\\\nsamples = 2\\\\nvalue = [2, 0]\"] ;\\n601 -> 603 ;\\n604 [label=\"X[47] <= 22485.0\\\\ngini = 0.245\\\\nsamples = 7\\\\nvalue = [1, 6]\"] ;\\n588 -> 604 ;\\n605 [label=\"gini = 0.0\\\\nsamples = 6\\\\nvalue = [0, 6]\"] ;\\n604 -> 605 ;\\n606 [label=\"gini = 0.0\\\\nsamples = 1\\\\nvalue = [1, 0]\"] ;\\n604 -> 606 ;\\n607 [label=\"X[1] <= 585.5\\\\ngini = 0.448\\\\nsamples = 59\\\\nvalue = [20, 39]\"] ;\\n587 -> 607 ;\\n608 [label=\"X[114] <= 5112.5\\\\ngini = 0.295\\\\nsamples = 39\\\\nvalue = [7, 32]\"] ;\\n607 -> 608 ;\\n609 [label=\"X[51] <= 12486.0\\\\ngini = 0.124\\\\nsamples = 30\\\\nvalue = [2, 28]\"] ;\\n608 -> 609 ;\\n610 [label=\"gini = 0.0\\\\nsamples = 28\\\\nvalue = [0, 28]\"] ;\\n609 -> 610 ;\\n611 [label=\"gini = 0.0\\\\nsamples = 2\\\\nvalue = [2, 0]\"] ;\\n609 -> 611 ;\\n612 [label=\"X[78] <= 103.0\\\\ngini = 0.494\\\\nsamples = 9\\\\nvalue = [5, 4]\"] ;\\n608 -> 612 ;\\n613 [label=\"gini = 0.0\\\\nsamples = 4\\\\nvalue = [0, 4]\"] ;\\n612 -> 613 ;\\n614 [label=\"gini = 0.0\\\\nsamples = 5\\\\nvalue = [5, 0]\"] ;\\n612 -> 614 ;\\n615 [label=\"X[3] <= 846.0\\\\ngini = 0.455\\\\nsamples = 20\\\\nvalue = [13, 7]\"] ;\\n607 -> 615 ;\\n616 [label=\"gini = 0.0\\\\nsamples = 11\\\\nvalue = [11, 0]\"] ;\\n615 -> 616 ;\\n617 [label=\"X[70] <= 95.0\\\\ngini = 0.346\\\\nsamples = 9\\\\nvalue = [2, 7]\"] ;\\n615 -> 617 ;\\n618 [label=\"gini = 0.0\\\\nsamples = 2\\\\nvalue = [2, 0]\"] ;\\n617 -> 618 ;\\n619 [label=\"gini = 0.0\\\\nsamples = 7\\\\nvalue = [0, 7]\"] ;\\n617 -> 619 ;\\n620 [label=\"X[93] <= 6907.5\\\\ngini = 0.428\\\\nsamples = 245\\\\nvalue = [169, 76]\"] ;\\n586 -> 620 ;\\n621 [label=\"X[58] <= 104.5\\\\ngini = 0.455\\\\nsamples = 217\\\\nvalue = [141, 76]\"] ;\\n620 -> 621 ;\\n622 [label=\"X[42] <= 6319.0\\\\ngini = 0.35\\\\nsamples = 84\\\\nvalue = [65, 19]\"] ;\\n621 -> 622 ;\\n623 [label=\"X[93] <= 3700.0\\\\ngini = 0.305\\\\nsamples = 80\\\\nvalue = [65, 15]\"] ;\\n622 -> 623 ;\\n624 [label=\"X[21] <= 3580.5\\\\ngini = 0.221\\\\nsamples = 71\\\\nvalue = [62, 9]\"] ;\\n623 -> 624 ;\\n625 [label=\"X[118] <= 7654.5\\\\ngini = 0.121\\\\nsamples = 62\\\\nvalue = [58, 4]\"] ;\\n624 -> 625 ;\\n626 [label=\"X[82] <= 1.5\\\\ngini = 0.064\\\\nsamples = 60\\\\nvalue = [58, 2]\"] ;\\n625 -> 626 ;\\n627 [label=\"gini = 0.0\\\\nsamples = 1\\\\nvalue = [0, 1]\"] ;\\n626 -> 627 ;\\n628 [label=\"X[97] <= 19365.5\\\\ngini = 0.033\\\\nsamples = 59\\\\nvalue = [58, 1]\"] ;\\n626 -> 628 ;\\n629 [label=\"gini = 0.0\\\\nsamples = 57\\\\nvalue = [57, 0]\"] ;\\n628 -> 629 ;\\n630 [label=\"X[0] <= 71.0\\\\ngini = 0.5\\\\nsamples = 2\\\\nvalue = [1, 1]\"] ;\\n628 -> 630 ;\\n631 [label=\"gini = 0.0\\\\nsamples = 1\\\\nvalue = [1, 0]\"] ;\\n630 -> 631 ;\\n632 [label=\"gini = 0.0\\\\nsamples = 1\\\\nvalue = [0, 1]\"] ;\\n630 -> 632 ;\\n633 [label=\"gini = 0.0\\\\nsamples = 2\\\\nvalue = [0, 2]\"] ;\\n625 -> 633 ;\\n634 [label=\"X[127] <= 7.0\\\\ngini = 0.494\\\\nsamples = 9\\\\nvalue = [4, 5]\"] ;\\n624 -> 634 ;\\n635 [label=\"gini = 0.0\\\\nsamples = 4\\\\nvalue = [4, 0]\"] ;\\n634 -> 635 ;\\n636 [label=\"gini = 0.0\\\\nsamples = 5\\\\nvalue = [0, 5]\"] ;\\n634 -> 636 ;\\n637 [label=\"X[17] <= 189.0\\\\ngini = 0.444\\\\nsamples = 9\\\\nvalue = [3, 6]\"] ;\\n623 -> 637 ;\\n638 [label=\"gini = 0.0\\\\nsamples = 6\\\\nvalue = [0, 6]\"] ;\\n637 -> 638 ;\\n639 [label=\"gini = 0.0\\\\nsamples = 3\\\\nvalue = [3, 0]\"] ;\\n637 -> 639 ;\\n640 [label=\"gini = 0.0\\\\nsamples = 4\\\\nvalue = [0, 4]\"] ;\\n622 -> 640 ;\\n641 [label=\"X[60] <= 122.0\\\\ngini = 0.49\\\\nsamples = 133\\\\nvalue = [76, 57]\"] ;\\n621 -> 641 ;\\n642 [label=\"X[116] <= 680.0\\\\ngini = 0.388\\\\nsamples = 57\\\\nvalue = [42, 15]\"] ;\\n641 -> 642 ;\\n643 [label=\"X[55] <= 2486.0\\\\ngini = 0.234\\\\nsamples = 37\\\\nvalue = [32, 5]\"] ;\\n642 -> 643 ;\\n644 [label=\"X[79] <= 6884.0\\\\ngini = 0.064\\\\nsamples = 30\\\\nvalue = [29, 1]\"] ;\\n643 -> 644 ;\\n645 [label=\"gini = 0.0\\\\nsamples = 29\\\\nvalue = [29, 0]\"] ;\\n644 -> 645 ;\\n646 [label=\"gini = 0.0\\\\nsamples = 1\\\\nvalue = [0, 1]\"] ;\\n644 -> 646 ;\\n647 [label=\"X[42] <= 257.5\\\\ngini = 0.49\\\\nsamples = 7\\\\nvalue = [3, 4]\"] ;\\n643 -> 647 ;\\n648 [label=\"gini = 0.0\\\\nsamples = 4\\\\nvalue = [0, 4]\"] ;\\n647 -> 648 ;\\n649 [label=\"gini = 0.0\\\\nsamples = 3\\\\nvalue = [3, 0]\"] ;\\n647 -> 649 ;\\n650 [label=\"X[6] <= 343.5\\\\ngini = 0.5\\\\nsamples = 20\\\\nvalue = [10, 10]\"] ;\\n642 -> 650 ;\\n651 [label=\"X[29] <= 6610.0\\\\ngini = 0.278\\\\nsamples = 12\\\\nvalue = [2, 10]\"] ;\\n650 -> 651 ;\\n652 [label=\"gini = 0.0\\\\nsamples = 10\\\\nvalue = [0, 10]\"] ;\\n651 -> 652 ;\\n653 [label=\"gini = 0.0\\\\nsamples = 2\\\\nvalue = [2, 0]\"] ;\\n651 -> 653 ;\\n654 [label=\"gini = 0.0\\\\nsamples = 8\\\\nvalue = [8, 0]\"] ;\\n650 -> 654 ;\\n655 [label=\"X[28] <= 3065.5\\\\ngini = 0.494\\\\nsamples = 76\\\\nvalue = [34, 42]\"] ;\\n641 -> 655 ;\\n656 [label=\"X[28] <= 146.5\\\\ngini = 0.464\\\\nsamples = 63\\\\nvalue = [23, 40]\"] ;\\n655 -> 656 ;\\n657 [label=\"X[76] <= 127.5\\\\ngini = 0.494\\\\nsamples = 36\\\\nvalue = [20, 16]\"] ;\\n656 -> 657 ;\\n658 [label=\"X[15] <= 1.0\\\\ngini = 0.18\\\\nsamples = 10\\\\nvalue = [1, 9]\"] ;\\n657 -> 658 ;\\n659 [label=\"gini = 0.0\\\\nsamples = 1\\\\nvalue = [1, 0]\"] ;\\n658 -> 659 ;\\n660 [label=\"gini = 0.0\\\\nsamples = 9\\\\nvalue = [0, 9]\"] ;\\n658 -> 660 ;\\n661 [label=\"X[28] <= 4.5\\\\ngini = 0.393\\\\nsamples = 26\\\\nvalue = [19, 7]\"] ;\\n657 -> 661 ;\\n662 [label=\"gini = 0.0\\\\nsamples = 3\\\\nvalue = [0, 3]\"] ;\\n661 -> 662 ;\\n663 [label=\"X[70] <= 36.0\\\\ngini = 0.287\\\\nsamples = 23\\\\nvalue = [19, 4]\"] ;\\n661 -> 663 ;\\n664 [label=\"gini = 0.0\\\\nsamples = 2\\\\nvalue = [0, 2]\"] ;\\n663 -> 664 ;\\n665 [label=\"X[21] <= 8.0\\\\ngini = 0.172\\\\nsamples = 21\\\\nvalue = [19, 2]\"] ;\\n663 -> 665 ;\\n666 [label=\"gini = 0.0\\\\nsamples = 2\\\\nvalue = [0, 2]\"] ;\\n665 -> 666 ;\\n667 [label=\"gini = 0.0\\\\nsamples = 19\\\\nvalue = [19, 0]\"] ;\\n665 -> 667 ;\\n668 [label=\"X[120] <= 4393.0\\\\ngini = 0.198\\\\nsamples = 27\\\\nvalue = [3, 24]\"] ;\\n656 -> 668 ;\\n669 [label=\"X[62] <= 22.5\\\\ngini = 0.077\\\\nsamples = 25\\\\nvalue = [1, 24]\"] ;\\n668 -> 669 ;\\n670 [label=\"gini = 0.0\\\\nsamples = 1\\\\nvalue = [1, 0]\"] ;\\n669 -> 670 ;\\n671 [label=\"gini = 0.0\\\\nsamples = 24\\\\nvalue = [0, 24]\"] ;\\n669 -> 671 ;\\n672 [label=\"gini = 0.0\\\\nsamples = 2\\\\nvalue = [2, 0]\"] ;\\n668 -> 672 ;\\n673 [label=\"X[60] <= 212.5\\\\ngini = 0.26\\\\nsamples = 13\\\\nvalue = [11, 2]\"] ;\\n655 -> 673 ;\\n674 [label=\"gini = 0.0\\\\nsamples = 2\\\\nvalue = [0, 2]\"] ;\\n673 -> 674 ;\\n675 [label=\"gini = 0.0\\\\nsamples = 11\\\\nvalue = [11, 0]\"] ;\\n673 -> 675 ;\\n676 [label=\"gini = 0.0\\\\nsamples = 28\\\\nvalue = [28, 0]\"] ;\\n620 -> 676 ;\\n677 [label=\"X[0] <= 754.5\\\\ngini = 0.417\\\\nsamples = 27\\\\nvalue = [8, 19]\"] ;\\n585 -> 677 ;\\n678 [label=\"X[59] <= 2581.5\\\\ngini = 0.287\\\\nsamples = 23\\\\nvalue = [4, 19]\"] ;\\n677 -> 678 ;\\n679 [label=\"X[42] <= 11.5\\\\ngini = 0.095\\\\nsamples = 20\\\\nvalue = [1, 19]\"] ;\\n678 -> 679 ;\\n680 [label=\"gini = 0.0\\\\nsamples = 1\\\\nvalue = [1, 0]\"] ;\\n679 -> 680 ;\\n681 [label=\"gini = 0.0\\\\nsamples = 19\\\\nvalue = [0, 19]\"] ;\\n679 -> 681 ;\\n682 [label=\"gini = 0.0\\\\nsamples = 3\\\\nvalue = [3, 0]\"] ;\\n678 -> 682 ;\\n683 [label=\"gini = 0.0\\\\nsamples = 4\\\\nvalue = [4, 0]\"] ;\\n677 -> 683 ;\\n684 [label=\"gini = 0.0\\\\nsamples = 8\\\\nvalue = [0, 8]\"] ;\\n584 -> 684 ;\\n685 [label=\"X[116] <= 365.5\\\\ngini = 0.382\\\\nsamples = 109\\\\nvalue = [81, 28]\"] ;\\n571 -> 685 ;\\n686 [label=\"X[88] <= 1142.0\\\\ngini = 0.224\\\\nsamples = 70\\\\nvalue = [61, 9]\"] ;\\n685 -> 686 ;\\n687 [label=\"X[51] <= 2.5\\\\ngini = 0.098\\\\nsamples = 58\\\\nvalue = [55, 3]\"] ;\\n686 -> 687 ;\\n688 [label=\"X[45] <= 3198.5\\\\ngini = 0.444\\\\nsamples = 3\\\\nvalue = [1, 2]\"] ;\\n687 -> 688 ;\\n689 [label=\"gini = 0.0\\\\nsamples = 2\\\\nvalue = [0, 2]\"] ;\\n688 -> 689 ;\\n690 [label=\"gini = 0.0\\\\nsamples = 1\\\\nvalue = [1, 0]\"] ;\\n688 -> 690 ;\\n691 [label=\"X[12] <= 21284.0\\\\ngini = 0.036\\\\nsamples = 55\\\\nvalue = [54, 1]\"] ;\\n687 -> 691 ;\\n692 [label=\"gini = 0.0\\\\nsamples = 54\\\\nvalue = [54, 0]\"] ;\\n691 -> 692 ;\\n693 [label=\"gini = 0.0\\\\nsamples = 1\\\\nvalue = [0, 1]\"] ;\\n691 -> 693 ;\\n694 [label=\"X[124] <= 77.5\\\\ngini = 0.5\\\\nsamples = 12\\\\nvalue = [6, 6]\"] ;\\n686 -> 694 ;\\n695 [label=\"gini = 0.0\\\\nsamples = 5\\\\nvalue = [5, 0]\"] ;\\n694 -> 695 ;\\n696 [label=\"X[102] <= 21.5\\\\ngini = 0.245\\\\nsamples = 7\\\\nvalue = [1, 6]\"] ;\\n694 -> 696 ;\\n697 [label=\"gini = 0.0\\\\nsamples = 1\\\\nvalue = [1, 0]\"] ;\\n696 -> 697 ;\\n698 [label=\"gini = 0.0\\\\nsamples = 6\\\\nvalue = [0, 6]\"] ;\\n696 -> 698 ;\\n699 [label=\"X[79] <= 2412.0\\\\ngini = 0.5\\\\nsamples = 39\\\\nvalue = [20, 19]\"] ;\\n685 -> 699 ;\\n700 [label=\"X[27] <= 137.0\\\\ngini = 0.435\\\\nsamples = 25\\\\nvalue = [8, 17]\"] ;\\n699 -> 700 ;\\n701 [label=\"X[106] <= 736.0\\\\ngini = 0.486\\\\nsamples = 12\\\\nvalue = [7, 5]\"] ;\\n700 -> 701 ;\\n702 [label=\"X[12] <= 9068.5\\\\ngini = 0.219\\\\nsamples = 8\\\\nvalue = [7, 1]\"] ;\\n701 -> 702 ;\\n703 [label=\"gini = 0.0\\\\nsamples = 7\\\\nvalue = [7, 0]\"] ;\\n702 -> 703 ;\\n704 [label=\"gini = 0.0\\\\nsamples = 1\\\\nvalue = [0, 1]\"] ;\\n702 -> 704 ;\\n705 [label=\"gini = 0.0\\\\nsamples = 4\\\\nvalue = [0, 4]\"] ;\\n701 -> 705 ;\\n706 [label=\"X[1] <= 28.5\\\\ngini = 0.142\\\\nsamples = 13\\\\nvalue = [1, 12]\"] ;\\n700 -> 706 ;\\n707 [label=\"gini = 0.0\\\\nsamples = 1\\\\nvalue = [1, 0]\"] ;\\n706 -> 707 ;\\n708 [label=\"gini = 0.0\\\\nsamples = 12\\\\nvalue = [0, 12]\"] ;\\n706 -> 708 ;\\n709 [label=\"X[127] <= 25.5\\\\ngini = 0.245\\\\nsamples = 14\\\\nvalue = [12, 2]\"] ;\\n699 -> 709 ;\\n710 [label=\"X[14] <= 113.5\\\\ngini = 0.444\\\\nsamples = 3\\\\nvalue = [1, 2]\"] ;\\n709 -> 710 ;\\n711 [label=\"gini = 0.0\\\\nsamples = 2\\\\nvalue = [0, 2]\"] ;\\n710 -> 711 ;\\n712 [label=\"gini = 0.0\\\\nsamples = 1\\\\nvalue = [1, 0]\"] ;\\n710 -> 712 ;\\n713 [label=\"gini = 0.0\\\\nsamples = 11\\\\nvalue = [11, 0]\"] ;\\n709 -> 713 ;\\n714 [label=\"X[85] <= 5201.0\\\\ngini = 0.165\\\\nsamples = 11\\\\nvalue = [1, 10]\"] ;\\n570 -> 714 ;\\n715 [label=\"gini = 0.0\\\\nsamples = 10\\\\nvalue = [0, 10]\"] ;\\n714 -> 715 ;\\n716 [label=\"gini = 0.0\\\\nsamples = 1\\\\nvalue = [1, 0]\"] ;\\n714 -> 716 ;\\n717 [label=\"X[106] <= 1.0\\\\ngini = 0.175\\\\nsamples = 31\\\\nvalue = [28, 3]\"] ;\\n569 -> 717 ;\\n718 [label=\"gini = 0.0\\\\nsamples = 2\\\\nvalue = [0, 2]\"] ;\\n717 -> 718 ;\\n719 [label=\"X[67] <= 13710.0\\\\ngini = 0.067\\\\nsamples = 29\\\\nvalue = [28, 1]\"] ;\\n717 -> 719 ;\\n720 [label=\"gini = 0.0\\\\nsamples = 28\\\\nvalue = [28, 0]\"] ;\\n719 -> 720 ;\\n721 [label=\"gini = 0.0\\\\nsamples = 1\\\\nvalue = [0, 1]\"] ;\\n719 -> 721 ;\\n722 [label=\"X[108] <= 113.5\\\\ngini = 0.412\\\\nsamples = 334\\\\nvalue = [237, 97]\"] ;\\n560 -> 722 ;\\n723 [label=\"X[12] <= 92.5\\\\ngini = 0.482\\\\nsamples = 131\\\\nvalue = [78, 53]\"] ;\\n722 -> 723 ;\\n724 [label=\"X[44] <= 28.0\\\\ngini = 0.488\\\\nsamples = 52\\\\nvalue = [22, 30]\"] ;\\n723 -> 724 ;\\n725 [label=\"X[77] <= 43.5\\\\ngini = 0.18\\\\nsamples = 10\\\\nvalue = [9, 1]\"] ;\\n724 -> 725 ;\\n726 [label=\"gini = 0.0\\\\nsamples = 1\\\\nvalue = [0, 1]\"] ;\\n725 -> 726 ;\\n727 [label=\"gini = 0.0\\\\nsamples = 9\\\\nvalue = [9, 0]\"] ;\\n725 -> 727 ;\\n728 [label=\"X[100] <= 41.5\\\\ngini = 0.427\\\\nsamples = 42\\\\nvalue = [13, 29]\"] ;\\n724 -> 728 ;\\n729 [label=\"gini = 0.0\\\\nsamples = 6\\\\nvalue = [6, 0]\"] ;\\n728 -> 729 ;\\n730 [label=\"X[104] <= 3524.5\\\\ngini = 0.313\\\\nsamples = 36\\\\nvalue = [7, 29]\"] ;\\n728 -> 730 ;\\n731 [label=\"X[4] <= 1.5\\\\ngini = 0.175\\\\nsamples = 31\\\\nvalue = [3, 28]\"] ;\\n730 -> 731 ;\\n732 [label=\"gini = 0.0\\\\nsamples = 2\\\\nvalue = [2, 0]\"] ;\\n731 -> 732 ;\\n733 [label=\"X[56] <= 1.0\\\\ngini = 0.067\\\\nsamples = 29\\\\nvalue = [1, 28]\"] ;\\n731 -> 733 ;\\n734 [label=\"gini = 0.0\\\\nsamples = 1\\\\nvalue = [1, 0]\"] ;\\n733 -> 734 ;\\n735 [label=\"gini = 0.0\\\\nsamples = 28\\\\nvalue = [0, 28]\"] ;\\n733 -> 735 ;\\n736 [label=\"X[66] <= 289.0\\\\ngini = 0.32\\\\nsamples = 5\\\\nvalue = [4, 1]\"] ;\\n730 -> 736 ;\\n737 [label=\"gini = 0.0\\\\nsamples = 1\\\\nvalue = [0, 1]\"] ;\\n736 -> 737 ;\\n738 [label=\"gini = 0.0\\\\nsamples = 4\\\\nvalue = [4, 0]\"] ;\\n736 -> 738 ;\\n739 [label=\"X[102] <= 11948.5\\\\ngini = 0.413\\\\nsamples = 79\\\\nvalue = [56, 23]\"] ;\\n723 -> 739 ;\\n740 [label=\"X[45] <= 12727.0\\\\ngini = 0.368\\\\nsamples = 74\\\\nvalue = [56, 18]\"] ;\\n739 -> 740 ;\\n741 [label=\"X[105] <= 5334.0\\\\ngini = 0.333\\\\nsamples = 71\\\\nvalue = [56, 15]\"] ;\\n740 -> 741 ;\\n742 [label=\"X[3] <= 1117.0\\\\ngini = 0.291\\\\nsamples = 68\\\\nvalue = [56, 12]\"] ;\\n741 -> 742 ;\\n743 [label=\"X[39] <= 13083.5\\\\ngini = 0.168\\\\nsamples = 54\\\\nvalue = [49, 5]\"] ;\\n742 -> 743 ;\\n744 [label=\"X[25] <= 7839.0\\\\ngini = 0.078\\\\nsamples = 49\\\\nvalue = [47, 2]\"] ;\\n743 -> 744 ;\\n745 [label=\"gini = 0.0\\\\nsamples = 46\\\\nvalue = [46, 0]\"] ;\\n744 -> 745 ;\\n746 [label=\"X[108] <= 12.0\\\\ngini = 0.444\\\\nsamples = 3\\\\nvalue = [1, 2]\"] ;\\n744 -> 746 ;\\n747 [label=\"gini = 0.0\\\\nsamples = 1\\\\nvalue = [1, 0]\"] ;\\n746 -> 747 ;\\n748 [label=\"gini = 0.0\\\\nsamples = 2\\\\nvalue = [0, 2]\"] ;\\n746 -> 748 ;\\n749 [label=\"X[102] <= 25.5\\\\ngini = 0.48\\\\nsamples = 5\\\\nvalue = [2, 3]\"] ;\\n743 -> 749 ;\\n750 [label=\"gini = 0.0\\\\nsamples = 3\\\\nvalue = [0, 3]\"] ;\\n749 -> 750 ;\\n751 [label=\"gini = 0.0\\\\nsamples = 2\\\\nvalue = [2, 0]\"] ;\\n749 -> 751 ;\\n752 [label=\"X[88] <= 85.5\\\\ngini = 0.5\\\\nsamples = 14\\\\nvalue = [7, 7]\"] ;\\n742 -> 752 ;\\n753 [label=\"gini = 0.0\\\\nsamples = 6\\\\nvalue = [6, 0]\"] ;\\n752 -> 753 ;\\n754 [label=\"X[123] <= 612.5\\\\ngini = 0.219\\\\nsamples = 8\\\\nvalue = [1, 7]\"] ;\\n752 -> 754 ;\\n755 [label=\"gini = 0.0\\\\nsamples = 7\\\\nvalue = [0, 7]\"] ;\\n754 -> 755 ;\\n756 [label=\"gini = 0.0\\\\nsamples = 1\\\\nvalue = [1, 0]\"] ;\\n754 -> 756 ;\\n757 [label=\"gini = 0.0\\\\nsamples = 3\\\\nvalue = [0, 3]\"] ;\\n741 -> 757 ;\\n758 [label=\"gini = 0.0\\\\nsamples = 3\\\\nvalue = [0, 3]\"] ;\\n740 -> 758 ;\\n759 [label=\"gini = 0.0\\\\nsamples = 5\\\\nvalue = [0, 5]\"] ;\\n739 -> 759 ;\\n760 [label=\"X[116] <= 8921.5\\\\ngini = 0.34\\\\nsamples = 203\\\\nvalue = [159, 44]\"] ;\\n722 -> 760 ;\\n761 [label=\"X[21] <= 27276.0\\\\ngini = 0.299\\\\nsamples = 186\\\\nvalue = [152, 34]\"] ;\\n760 -> 761 ;\\n762 [label=\"X[37] <= 3067.0\\\\ngini = 0.281\\\\nsamples = 183\\\\nvalue = [152, 31]\"] ;\\n761 -> 762 ;\\n763 [label=\"X[13] <= 9760.5\\\\ngini = 0.199\\\\nsamples = 143\\\\nvalue = [127, 16]\"] ;\\n762 -> 763 ;\\n764 [label=\"X[43] <= 18310.5\\\\ngini = 0.143\\\\nsamples = 129\\\\nvalue = [119, 10]\"] ;\\n763 -> 764 ;\\n765 [label=\"X[8] <= 31524.0\\\\ngini = 0.119\\\\nsamples = 126\\\\nvalue = [118, 8]\"] ;\\n764 -> 765 ;\\n766 [label=\"X[83] <= 19614.5\\\\ngini = 0.106\\\\nsamples = 125\\\\nvalue = [118, 7]\"] ;\\n765 -> 766 ;\\n767 [label=\"X[111] <= 27388.0\\\\ngini = 0.092\\\\nsamples = 124\\\\nvalue = [118, 6]\"] ;\\n766 -> 767 ;\\n768 [label=\"X[40] <= 29246.0\\\\ngini = 0.078\\\\nsamples = 123\\\\nvalue = [118, 5]\"] ;\\n767 -> 768 ;\\n769 [label=\"X[72] <= 16823.0\\\\ngini = 0.063\\\\nsamples = 122\\\\nvalue = [118, 4]\"] ;\\n768 -> 769 ;\\n770 [label=\"X[6] <= 0.5\\\\ngini = 0.048\\\\nsamples = 121\\\\nvalue = [118, 3]\"] ;\\n769 -> 770 ;\\n771 [label=\"gini = 0.0\\\\nsamples = 1\\\\nvalue = [0, 1]\"] ;\\n770 -> 771 ;\\n772 [label=\"X[10] <= 0.5\\\\ngini = 0.033\\\\nsamples = 120\\\\nvalue = [118, 2]\"] ;\\n770 -> 772 ;\\n773 [label=\"gini = 0.0\\\\nsamples = 1\\\\nvalue = [0, 1]\"] ;\\n772 -> 773 ;\\n774 [label=\"X[111] <= 1.5\\\\ngini = 0.017\\\\nsamples = 119\\\\nvalue = [118, 1]\"] ;\\n772 -> 774 ;\\n775 [label=\"X[53] <= 32.5\\\\ngini = 0.444\\\\nsamples = 3\\\\nvalue = [2, 1]\"] ;\\n774 -> 775 ;\\n776 [label=\"gini = 0.0\\\\nsamples = 1\\\\nvalue = [0, 1]\"] ;\\n775 -> 776 ;\\n777 [label=\"gini = 0.0\\\\nsamples = 2\\\\nvalue = [2, 0]\"] ;\\n775 -> 777 ;\\n778 [label=\"gini = 0.0\\\\nsamples = 116\\\\nvalue = [116, 0]\"] ;\\n774 -> 778 ;\\n779 [label=\"gini = 0.0\\\\nsamples = 1\\\\nvalue = [0, 1]\"] ;\\n769 -> 779 ;\\n780 [label=\"gini = 0.0\\\\nsamples = 1\\\\nvalue = [0, 1]\"] ;\\n768 -> 780 ;\\n781 [label=\"gini = 0.0\\\\nsamples = 1\\\\nvalue = [0, 1]\"] ;\\n767 -> 781 ;\\n782 [label=\"gini = 0.0\\\\nsamples = 1\\\\nvalue = [0, 1]\"] ;\\n766 -> 782 ;\\n783 [label=\"gini = 0.0\\\\nsamples = 1\\\\nvalue = [0, 1]\"] ;\\n765 -> 783 ;\\n784 [label=\"X[13] <= 83.0\\\\ngini = 0.444\\\\nsamples = 3\\\\nvalue = [1, 2]\"] ;\\n764 -> 784 ;\\n785 [label=\"gini = 0.0\\\\nsamples = 1\\\\nvalue = [1, 0]\"] ;\\n784 -> 785 ;\\n786 [label=\"gini = 0.0\\\\nsamples = 2\\\\nvalue = [0, 2]\"] ;\\n784 -> 786 ;\\n787 [label=\"X[73] <= 55.5\\\\ngini = 0.49\\\\nsamples = 14\\\\nvalue = [8, 6]\"] ;\\n763 -> 787 ;\\n788 [label=\"gini = 0.0\\\\nsamples = 5\\\\nvalue = [0, 5]\"] ;\\n787 -> 788 ;\\n789 [label=\"X[74] <= 17.0\\\\ngini = 0.198\\\\nsamples = 9\\\\nvalue = [8, 1]\"] ;\\n787 -> 789 ;\\n790 [label=\"gini = 0.0\\\\nsamples = 1\\\\nvalue = [0, 1]\"] ;\\n789 -> 790 ;\\n791 [label=\"gini = 0.0\\\\nsamples = 8\\\\nvalue = [8, 0]\"] ;\\n789 -> 791 ;\\n792 [label=\"X[113] <= 97.0\\\\ngini = 0.469\\\\nsamples = 40\\\\nvalue = [25, 15]\"] ;\\n762 -> 792 ;\\n793 [label=\"X[56] <= 8235.5\\\\ngini = 0.227\\\\nsamples = 23\\\\nvalue = [20, 3]\"] ;\\n792 -> 793 ;\\n794 [label=\"X[87] <= 63.0\\\\ngini = 0.091\\\\nsamples = 21\\\\nvalue = [20, 1]\"] ;\\n793 -> 794 ;\\n795 [label=\"gini = 0.0\\\\nsamples = 1\\\\nvalue = [0, 1]\"] ;\\n794 -> 795 ;\\n796 [label=\"gini = 0.0\\\\nsamples = 20\\\\nvalue = [20, 0]\"] ;\\n794 -> 796 ;\\n797 [label=\"gini = 0.0\\\\nsamples = 2\\\\nvalue = [0, 2]\"] ;\\n793 -> 797 ;\\n798 [label=\"X[26] <= 33.5\\\\ngini = 0.415\\\\nsamples = 17\\\\nvalue = [5, 12]\"] ;\\n792 -> 798 ;\\n799 [label=\"gini = 0.0\\\\nsamples = 4\\\\nvalue = [4, 0]\"] ;\\n798 -> 799 ;\\n800 [label=\"X[10] <= 10116.0\\\\ngini = 0.142\\\\nsamples = 13\\\\nvalue = [1, 12]\"] ;\\n798 -> 800 ;\\n801 [label=\"gini = 0.0\\\\nsamples = 12\\\\nvalue = [0, 12]\"] ;\\n800 -> 801 ;\\n802 [label=\"gini = 0.0\\\\nsamples = 1\\\\nvalue = [1, 0]\"] ;\\n800 -> 802 ;\\n803 [label=\"gini = 0.0\\\\nsamples = 3\\\\nvalue = [0, 3]\"] ;\\n761 -> 803 ;\\n804 [label=\"X[71] <= 761.5\\\\ngini = 0.484\\\\nsamples = 17\\\\nvalue = [7, 10]\"] ;\\n760 -> 804 ;\\n805 [label=\"X[43] <= 4088.5\\\\ngini = 0.278\\\\nsamples = 12\\\\nvalue = [2, 10]\"] ;\\n804 -> 805 ;\\n806 [label=\"gini = 0.0\\\\nsamples = 10\\\\nvalue = [0, 10]\"] ;\\n805 -> 806 ;\\n807 [label=\"gini = 0.0\\\\nsamples = 2\\\\nvalue = [2, 0]\"] ;\\n805 -> 807 ;\\n808 [label=\"gini = 0.0\\\\nsamples = 5\\\\nvalue = [5, 0]\"] ;\\n804 -> 808 ;\\n809 [label=\"X[116] <= 3721.0\\\\ngini = 0.499\\\\nsamples = 118\\\\nvalue = [56, 62]\"] ;\\n559 -> 809 ;\\n810 [label=\"X[27] <= 40.0\\\\ngini = 0.476\\\\nsamples = 95\\\\nvalue = [37, 58]\"] ;\\n809 -> 810 ;\\n811 [label=\"X[102] <= 51.5\\\\ngini = 0.453\\\\nsamples = 26\\\\nvalue = [17, 9]\"] ;\\n810 -> 811 ;\\n812 [label=\"gini = 0.0\\\\nsamples = 5\\\\nvalue = [0, 5]\"] ;\\n811 -> 812 ;\\n813 [label=\"X[70] <= 2381.0\\\\ngini = 0.308\\\\nsamples = 21\\\\nvalue = [17, 4]\"] ;\\n811 -> 813 ;\\n814 [label=\"gini = 0.0\\\\nsamples = 16\\\\nvalue = [16, 0]\"] ;\\n813 -> 814 ;\\n815 [label=\"X[126] <= 313.0\\\\ngini = 0.32\\\\nsamples = 5\\\\nvalue = [1, 4]\"] ;\\n813 -> 815 ;\\n816 [label=\"gini = 0.0\\\\nsamples = 1\\\\nvalue = [1, 0]\"] ;\\n815 -> 816 ;\\n817 [label=\"gini = 0.0\\\\nsamples = 4\\\\nvalue = [0, 4]\"] ;\\n815 -> 817 ;\\n818 [label=\"X[26] <= 35.5\\\\ngini = 0.412\\\\nsamples = 69\\\\nvalue = [20, 49]\"] ;\\n810 -> 818 ;\\n819 [label=\"X[27] <= 509.5\\\\ngini = 0.459\\\\nsamples = 14\\\\nvalue = [9, 5]\"] ;\\n818 -> 819 ;\\n820 [label=\"X[117] <= 1996.0\\\\ngini = 0.278\\\\nsamples = 6\\\\nvalue = [1, 5]\"] ;\\n819 -> 820 ;\\n821 [label=\"gini = 0.0\\\\nsamples = 5\\\\nvalue = [0, 5]\"] ;\\n820 -> 821 ;\\n822 [label=\"gini = 0.0\\\\nsamples = 1\\\\nvalue = [1, 0]\"] ;\\n820 -> 822 ;\\n823 [label=\"gini = 0.0\\\\nsamples = 8\\\\nvalue = [8, 0]\"] ;\\n819 -> 823 ;\\n824 [label=\"X[55] <= 9495.0\\\\ngini = 0.32\\\\nsamples = 55\\\\nvalue = [11, 44]\"] ;\\n818 -> 824 ;\\n825 [label=\"X[125] <= 46.5\\\\ngini = 0.26\\\\nsamples = 52\\\\nvalue = [8, 44]\"] ;\\n824 -> 825 ;\\n826 [label=\"X[58] <= 448.5\\\\ngini = 0.484\\\\nsamples = 17\\\\nvalue = [7, 10]\"] ;\\n825 -> 826 ;\\n827 [label=\"X[101] <= 156.0\\\\ngini = 0.42\\\\nsamples = 10\\\\nvalue = [7, 3]\"] ;\\n826 -> 827 ;\\n828 [label=\"gini = 0.0\\\\nsamples = 3\\\\nvalue = [0, 3]\"] ;\\n827 -> 828 ;\\n829 [label=\"gini = 0.0\\\\nsamples = 7\\\\nvalue = [7, 0]\"] ;\\n827 -> 829 ;\\n830 [label=\"gini = 0.0\\\\nsamples = 7\\\\nvalue = [0, 7]\"] ;\\n826 -> 830 ;\\n831 [label=\"X[78] <= 11.5\\\\ngini = 0.056\\\\nsamples = 35\\\\nvalue = [1, 34]\"] ;\\n825 -> 831 ;\\n832 [label=\"X[16] <= 35.0\\\\ngini = 0.5\\\\nsamples = 2\\\\nvalue = [1, 1]\"] ;\\n831 -> 832 ;\\n833 [label=\"gini = 0.0\\\\nsamples = 1\\\\nvalue = [1, 0]\"] ;\\n832 -> 833 ;\\n834 [label=\"gini = 0.0\\\\nsamples = 1\\\\nvalue = [0, 1]\"] ;\\n832 -> 834 ;\\n835 [label=\"gini = 0.0\\\\nsamples = 33\\\\nvalue = [0, 33]\"] ;\\n831 -> 835 ;\\n836 [label=\"gini = 0.0\\\\nsamples = 3\\\\nvalue = [3, 0]\"] ;\\n824 -> 836 ;\\n837 [label=\"X[0] <= 57.5\\\\ngini = 0.287\\\\nsamples = 23\\\\nvalue = [19, 4]\"] ;\\n809 -> 837 ;\\n838 [label=\"X[21] <= 32.0\\\\ngini = 0.444\\\\nsamples = 6\\\\nvalue = [2, 4]\"] ;\\n837 -> 838 ;\\n839 [label=\"gini = 0.0\\\\nsamples = 2\\\\nvalue = [2, 0]\"] ;\\n838 -> 839 ;\\n840 [label=\"gini = 0.0\\\\nsamples = 4\\\\nvalue = [0, 4]\"] ;\\n838 -> 840 ;\\n841 [label=\"gini = 0.0\\\\nsamples = 17\\\\nvalue = [17, 0]\"] ;\\n837 -> 841 ;\\n842 [label=\"X[44] <= 1658.0\\\\ngini = 0.498\\\\nsamples = 165\\\\nvalue = [77, 88]\"] ;\\n558 -> 842 ;\\n843 [label=\"X[74] <= 758.0\\\\ngini = 0.475\\\\nsamples = 121\\\\nvalue = [47, 74]\"] ;\\n842 -> 843 ;\\n844 [label=\"X[43] <= 434.5\\\\ngini = 0.5\\\\nsamples = 84\\\\nvalue = [42, 42]\"] ;\\n843 -> 844 ;\\n845 [label=\"X[82] <= 356.0\\\\ngini = 0.42\\\\nsamples = 40\\\\nvalue = [12, 28]\"] ;\\n844 -> 845 ;\\n846 [label=\"X[66] <= 11133.5\\\\ngini = 0.165\\\\nsamples = 22\\\\nvalue = [2, 20]\"] ;\\n845 -> 846 ;\\n847 [label=\"gini = 0.0\\\\nsamples = 20\\\\nvalue = [0, 20]\"] ;\\n846 -> 847 ;\\n848 [label=\"gini = 0.0\\\\nsamples = 2\\\\nvalue = [2, 0]\"] ;\\n846 -> 848 ;\\n849 [label=\"X[78] <= 41.5\\\\ngini = 0.494\\\\nsamples = 18\\\\nvalue = [10, 8]\"] ;\\n845 -> 849 ;\\n850 [label=\"gini = 0.0\\\\nsamples = 6\\\\nvalue = [0, 6]\"] ;\\n849 -> 850 ;\\n851 [label=\"X[53] <= 43.0\\\\ngini = 0.278\\\\nsamples = 12\\\\nvalue = [10, 2]\"] ;\\n849 -> 851 ;\\n852 [label=\"gini = 0.0\\\\nsamples = 2\\\\nvalue = [0, 2]\"] ;\\n851 -> 852 ;\\n853 [label=\"gini = 0.0\\\\nsamples = 10\\\\nvalue = [10, 0]\"] ;\\n851 -> 853 ;\\n854 [label=\"X[97] <= 337.0\\\\ngini = 0.434\\\\nsamples = 44\\\\nvalue = [30, 14]\"] ;\\n844 -> 854 ;\\n855 [label=\"X[15] <= 1.5\\\\ngini = 0.091\\\\nsamples = 21\\\\nvalue = [20, 1]\"] ;\\n854 -> 855 ;\\n856 [label=\"gini = 0.0\\\\nsamples = 1\\\\nvalue = [0, 1]\"] ;\\n855 -> 856 ;\\n857 [label=\"gini = 0.0\\\\nsamples = 20\\\\nvalue = [20, 0]\"] ;\\n855 -> 857 ;\\n858 [label=\"X[113] <= 45.5\\\\ngini = 0.491\\\\nsamples = 23\\\\nvalue = [10, 13]\"] ;\\n854 -> 858 ;\\n859 [label=\"X[35] <= 2047.0\\\\ngini = 0.298\\\\nsamples = 11\\\\nvalue = [9, 2]\"] ;\\n858 -> 859 ;\\n860 [label=\"gini = 0.0\\\\nsamples = 9\\\\nvalue = [9, 0]\"] ;\\n859 -> 860 ;\\n861 [label=\"gini = 0.0\\\\nsamples = 2\\\\nvalue = [0, 2]\"] ;\\n859 -> 861 ;\\n862 [label=\"X[93] <= 101.0\\\\ngini = 0.153\\\\nsamples = 12\\\\nvalue = [1, 11]\"] ;\\n858 -> 862 ;\\n863 [label=\"gini = 0.0\\\\nsamples = 1\\\\nvalue = [1, 0]\"] ;\\n862 -> 863 ;\\n864 [label=\"gini = 0.0\\\\nsamples = 11\\\\nvalue = [0, 11]\"] ;\\n862 -> 864 ;\\n865 [label=\"X[104] <= 50.0\\\\ngini = 0.234\\\\nsamples = 37\\\\nvalue = [5, 32]\"] ;\\n843 -> 865 ;\\n866 [label=\"X[59] <= 10117.0\\\\ngini = 0.5\\\\nsamples = 10\\\\nvalue = [5, 5]\"] ;\\n865 -> 866 ;\\n867 [label=\"gini = 0.0\\\\nsamples = 4\\\\nvalue = [4, 0]\"] ;\\n866 -> 867 ;\\n868 [label=\"X[117] <= 5168.0\\\\ngini = 0.278\\\\nsamples = 6\\\\nvalue = [1, 5]\"] ;\\n866 -> 868 ;\\n869 [label=\"gini = 0.0\\\\nsamples = 5\\\\nvalue = [0, 5]\"] ;\\n868 -> 869 ;\\n870 [label=\"gini = 0.0\\\\nsamples = 1\\\\nvalue = [1, 0]\"] ;\\n868 -> 870 ;\\n871 [label=\"gini = 0.0\\\\nsamples = 27\\\\nvalue = [0, 27]\"] ;\\n865 -> 871 ;\\n872 [label=\"X[119] <= 9259.5\\\\ngini = 0.434\\\\nsamples = 44\\\\nvalue = [30, 14]\"] ;\\n842 -> 872 ;\\n873 [label=\"X[70] <= 46.0\\\\ngini = 0.355\\\\nsamples = 39\\\\nvalue = [30, 9]\"] ;\\n872 -> 873 ;\\n874 [label=\"X[119] <= 25.5\\\\ngini = 0.278\\\\nsamples = 6\\\\nvalue = [1, 5]\"] ;\\n873 -> 874 ;\\n875 [label=\"gini = 0.0\\\\nsamples = 1\\\\nvalue = [1, 0]\"] ;\\n874 -> 875 ;\\n876 [label=\"gini = 0.0\\\\nsamples = 5\\\\nvalue = [0, 5]\"] ;\\n874 -> 876 ;\\n877 [label=\"X[33] <= 17674.5\\\\ngini = 0.213\\\\nsamples = 33\\\\nvalue = [29, 4]\"] ;\\n873 -> 877 ;\\n878 [label=\"X[55] <= 4104.0\\\\ngini = 0.121\\\\nsamples = 31\\\\nvalue = [29, 2]\"] ;\\n877 -> 878 ;\\n879 [label=\"X[75] <= 12.0\\\\ngini = 0.064\\\\nsamples = 30\\\\nvalue = [29, 1]\"] ;\\n878 -> 879 ;\\n880 [label=\"gini = 0.0\\\\nsamples = 1\\\\nvalue = [0, 1]\"] ;\\n879 -> 880 ;\\n881 [label=\"gini = 0.0\\\\nsamples = 29\\\\nvalue = [29, 0]\"] ;\\n879 -> 881 ;\\n882 [label=\"gini = 0.0\\\\nsamples = 1\\\\nvalue = [0, 1]\"] ;\\n878 -> 882 ;\\n883 [label=\"gini = 0.0\\\\nsamples = 2\\\\nvalue = [0, 2]\"] ;\\n877 -> 883 ;\\n884 [label=\"gini = 0.0\\\\nsamples = 5\\\\nvalue = [0, 5]\"] ;\\n872 -> 884 ;\\n885 [label=\"X[56] <= 5044.5\\\\ngini = 0.394\\\\nsamples = 37\\\\nvalue = [10, 27]\"] ;\\n557 -> 885 ;\\n886 [label=\"X[57] <= 20981.0\\\\ngini = 0.231\\\\nsamples = 30\\\\nvalue = [4, 26]\"] ;\\n885 -> 886 ;\\n887 [label=\"X[62] <= 26046.5\\\\ngini = 0.133\\\\nsamples = 28\\\\nvalue = [2, 26]\"] ;\\n886 -> 887 ;\\n888 [label=\"X[24] <= 21548.5\\\\ngini = 0.071\\\\nsamples = 27\\\\nvalue = [1, 26]\"] ;\\n887 -> 888 ;\\n889 [label=\"gini = 0.0\\\\nsamples = 26\\\\nvalue = [0, 26]\"] ;\\n888 -> 889 ;\\n890 [label=\"gini = 0.0\\\\nsamples = 1\\\\nvalue = [1, 0]\"] ;\\n888 -> 890 ;\\n891 [label=\"gini = 0.0\\\\nsamples = 1\\\\nvalue = [1, 0]\"] ;\\n887 -> 891 ;\\n892 [label=\"gini = 0.0\\\\nsamples = 2\\\\nvalue = [2, 0]\"] ;\\n886 -> 892 ;\\n893 [label=\"X[9] <= 12.5\\\\ngini = 0.245\\\\nsamples = 7\\\\nvalue = [6, 1]\"] ;\\n885 -> 893 ;\\n894 [label=\"gini = 0.0\\\\nsamples = 1\\\\nvalue = [0, 1]\"] ;\\n893 -> 894 ;\\n895 [label=\"gini = 0.0\\\\nsamples = 6\\\\nvalue = [6, 0]\"] ;\\n893 -> 895 ;\\n896 [label=\"X[25] <= 1813.5\\\\ngini = 0.497\\\\nsamples = 764\\\\nvalue = [353, 411]\"] ;\\n400 -> 896 ;\\n897 [label=\"X[41] <= 5558.5\\\\ngini = 0.5\\\\nsamples = 565\\\\nvalue = [287, 278]\"] ;\\n896 -> 897 ;\\n898 [label=\"X[92] <= 545.0\\\\ngini = 0.497\\\\nsamples = 480\\\\nvalue = [259, 221]\"] ;\\n897 -> 898 ;\\n899 [label=\"X[59] <= 320.0\\\\ngini = 0.482\\\\nsamples = 307\\\\nvalue = [183, 124]\"] ;\\n898 -> 899 ;\\n900 [label=\"X[92] <= 111.5\\\\ngini = 0.5\\\\nsamples = 164\\\\nvalue = [82, 82]\"] ;\\n899 -> 900 ;\\n901 [label=\"X[100] <= 55.5\\\\ngini = 0.485\\\\nsamples = 116\\\\nvalue = [48, 68]\"] ;\\n900 -> 901 ;\\n902 [label=\"X[65] <= 15.0\\\\ngini = 0.458\\\\nsamples = 45\\\\nvalue = [29, 16]\"] ;\\n901 -> 902 ;\\n903 [label=\"X[105] <= 4.0\\\\ngini = 0.245\\\\nsamples = 7\\\\nvalue = [1, 6]\"] ;\\n902 -> 903 ;\\n904 [label=\"gini = 0.0\\\\nsamples = 1\\\\nvalue = [1, 0]\"] ;\\n903 -> 904 ;\\n905 [label=\"gini = 0.0\\\\nsamples = 6\\\\nvalue = [0, 6]\"] ;\\n903 -> 905 ;\\n906 [label=\"X[92] <= 1.5\\\\ngini = 0.388\\\\nsamples = 38\\\\nvalue = [28, 10]\"] ;\\n902 -> 906 ;\\n907 [label=\"X[52] <= 429.5\\\\ngini = 0.278\\\\nsamples = 6\\\\nvalue = [1, 5]\"] ;\\n906 -> 907 ;\\n908 [label=\"gini = 0.0\\\\nsamples = 5\\\\nvalue = [0, 5]\"] ;\\n907 -> 908 ;\\n909 [label=\"gini = 0.0\\\\nsamples = 1\\\\nvalue = [1, 0]\"] ;\\n907 -> 909 ;\\n910 [label=\"X[53] <= 3886.5\\\\ngini = 0.264\\\\nsamples = 32\\\\nvalue = [27, 5]\"] ;\\n906 -> 910 ;\\n911 [label=\"X[87] <= 54.0\\\\ngini = 0.08\\\\nsamples = 24\\\\nvalue = [23, 1]\"] ;\\n910 -> 911 ;\\n912 [label=\"gini = 0.0\\\\nsamples = 1\\\\nvalue = [0, 1]\"] ;\\n911 -> 912 ;\\n913 [label=\"gini = 0.0\\\\nsamples = 23\\\\nvalue = [23, 0]\"] ;\\n911 -> 913 ;\\n914 [label=\"X[116] <= 1390.0\\\\ngini = 0.5\\\\nsamples = 8\\\\nvalue = [4, 4]\"] ;\\n910 -> 914 ;\\n915 [label=\"gini = 0.0\\\\nsamples = 4\\\\nvalue = [4, 0]\"] ;\\n914 -> 915 ;\\n916 [label=\"gini = 0.0\\\\nsamples = 4\\\\nvalue = [0, 4]\"] ;\\n914 -> 916 ;\\n917 [label=\"X[122] <= 4419.0\\\\ngini = 0.392\\\\nsamples = 71\\\\nvalue = [19, 52]\"] ;\\n901 -> 917 ;\\n918 [label=\"X[43] <= 5652.0\\\\ngini = 0.299\\\\nsamples = 60\\\\nvalue = [11, 49]\"] ;\\n917 -> 918 ;\\n919 [label=\"X[102] <= 33.5\\\\ngini = 0.153\\\\nsamples = 48\\\\nvalue = [4, 44]\"] ;\\n918 -> 919 ;\\n920 [label=\"X[54] <= 367.5\\\\ngini = 0.494\\\\nsamples = 9\\\\nvalue = [4, 5]\"] ;\\n919 -> 920 ;\\n921 [label=\"gini = 0.0\\\\nsamples = 4\\\\nvalue = [4, 0]\"] ;\\n920 -> 921 ;\\n922 [label=\"gini = 0.0\\\\nsamples = 5\\\\nvalue = [0, 5]\"] ;\\n920 -> 922 ;\\n923 [label=\"gini = 0.0\\\\nsamples = 39\\\\nvalue = [0, 39]\"] ;\\n919 -> 923 ;\\n924 [label=\"X[105] <= 110.5\\\\ngini = 0.486\\\\nsamples = 12\\\\nvalue = [7, 5]\"] ;\\n918 -> 924 ;\\n925 [label=\"gini = 0.0\\\\nsamples = 4\\\\nvalue = [0, 4]\"] ;\\n924 -> 925 ;\\n926 [label=\"X[59] <= 162.0\\\\ngini = 0.219\\\\nsamples = 8\\\\nvalue = [7, 1]\"] ;\\n924 -> 926 ;\\n927 [label=\"gini = 0.0\\\\nsamples = 7\\\\nvalue = [7, 0]\"] ;\\n926 -> 927 ;\\n928 [label=\"gini = 0.0\\\\nsamples = 1\\\\nvalue = [0, 1]\"] ;\\n926 -> 928 ;\\n929 [label=\"X[28] <= 613.0\\\\ngini = 0.397\\\\nsamples = 11\\\\nvalue = [8, 3]\"] ;\\n917 -> 929 ;\\n930 [label=\"gini = 0.0\\\\nsamples = 7\\\\nvalue = [7, 0]\"] ;\\n929 -> 930 ;\\n931 [label=\"X[61] <= 97.0\\\\ngini = 0.375\\\\nsamples = 4\\\\nvalue = [1, 3]\"] ;\\n929 -> 931 ;\\n932 [label=\"gini = 0.0\\\\nsamples = 1\\\\nvalue = [1, 0]\"] ;\\n931 -> 932 ;\\n933 [label=\"gini = 0.0\\\\nsamples = 3\\\\nvalue = [0, 3]\"] ;\\n931 -> 933 ;\\n934 [label=\"X[127] <= 1271.0\\\\ngini = 0.413\\\\nsamples = 48\\\\nvalue = [34, 14]\"] ;\\n900 -> 934 ;\\n935 [label=\"X[40] <= 2890.0\\\\ngini = 0.32\\\\nsamples = 40\\\\nvalue = [32, 8]\"] ;\\n934 -> 935 ;\\n936 [label=\"X[72] <= 11104.0\\\\ngini = 0.234\\\\nsamples = 37\\\\nvalue = [32, 5]\"] ;\\n935 -> 936 ;\\n937 [label=\"X[26] <= 37.0\\\\ngini = 0.157\\\\nsamples = 35\\\\nvalue = [32, 3]\"] ;\\n936 -> 937 ;\\n938 [label=\"X[23] <= 310.0\\\\ngini = 0.469\\\\nsamples = 8\\\\nvalue = [5, 3]\"] ;\\n937 -> 938 ;\\n939 [label=\"gini = 0.0\\\\nsamples = 3\\\\nvalue = [0, 3]\"] ;\\n938 -> 939 ;\\n940 [label=\"gini = 0.0\\\\nsamples = 5\\\\nvalue = [5, 0]\"] ;\\n938 -> 940 ;\\n941 [label=\"gini = 0.0\\\\nsamples = 27\\\\nvalue = [27, 0]\"] ;\\n937 -> 941 ;\\n942 [label=\"gini = 0.0\\\\nsamples = 2\\\\nvalue = [0, 2]\"] ;\\n936 -> 942 ;\\n943 [label=\"gini = 0.0\\\\nsamples = 3\\\\nvalue = [0, 3]\"] ;\\n935 -> 943 ;\\n944 [label=\"X[59] <= 8.0\\\\ngini = 0.375\\\\nsamples = 8\\\\nvalue = [2, 6]\"] ;\\n934 -> 944 ;\\n945 [label=\"gini = 0.0\\\\nsamples = 2\\\\nvalue = [2, 0]\"] ;\\n944 -> 945 ;\\n946 [label=\"gini = 0.0\\\\nsamples = 6\\\\nvalue = [0, 6]\"] ;\\n944 -> 946 ;\\n947 [label=\"X[20] <= 3503.0\\\\ngini = 0.415\\\\nsamples = 143\\\\nvalue = [101, 42]\"] ;\\n899 -> 947 ;\\n948 [label=\"X[102] <= 19524.0\\\\ngini = 0.332\\\\nsamples = 114\\\\nvalue = [90, 24]\"] ;\\n947 -> 948 ;\\n949 [label=\"X[42] <= 38.5\\\\ngini = 0.28\\\\nsamples = 107\\\\nvalue = [89, 18]\"] ;\\n948 -> 949 ;\\n950 [label=\"X[97] <= 4017.0\\\\ngini = 0.471\\\\nsamples = 29\\\\nvalue = [18, 11]\"] ;\\n949 -> 950 ;\\n951 [label=\"X[67] <= 3188.5\\\\ngini = 0.34\\\\nsamples = 23\\\\nvalue = [18, 5]\"] ;\\n950 -> 951 ;\\n952 [label=\"X[107] <= 9.0\\\\ngini = 0.105\\\\nsamples = 18\\\\nvalue = [17, 1]\"] ;\\n951 -> 952 ;\\n953 [label=\"gini = 0.0\\\\nsamples = 1\\\\nvalue = [0, 1]\"] ;\\n952 -> 953 ;\\n954 [label=\"gini = 0.0\\\\nsamples = 17\\\\nvalue = [17, 0]\"] ;\\n952 -> 954 ;\\n955 [label=\"X[98] <= 24.5\\\\ngini = 0.32\\\\nsamples = 5\\\\nvalue = [1, 4]\"] ;\\n951 -> 955 ;\\n956 [label=\"gini = 0.0\\\\nsamples = 1\\\\nvalue = [1, 0]\"] ;\\n955 -> 956 ;\\n957 [label=\"gini = 0.0\\\\nsamples = 4\\\\nvalue = [0, 4]\"] ;\\n955 -> 957 ;\\n958 [label=\"gini = 0.0\\\\nsamples = 6\\\\nvalue = [0, 6]\"] ;\\n950 -> 958 ;\\n959 [label=\"X[91] <= 1313.0\\\\ngini = 0.163\\\\nsamples = 78\\\\nvalue = [71, 7]\"] ;\\n949 -> 959 ;\\n960 [label=\"gini = 0.0\\\\nsamples = 2\\\\nvalue = [0, 2]\"] ;\\n959 -> 960 ;\\n961 [label=\"X[70] <= 1.5\\\\ngini = 0.123\\\\nsamples = 76\\\\nvalue = [71, 5]\"] ;\\n959 -> 961 ;\\n962 [label=\"gini = 0.0\\\\nsamples = 1\\\\nvalue = [0, 1]\"] ;\\n961 -> 962 ;\\n963 [label=\"X[90] <= 25655.5\\\\ngini = 0.101\\\\nsamples = 75\\\\nvalue = [71, 4]\"] ;\\n961 -> 963 ;\\n964 [label=\"X[22] <= 16455.0\\\\ngini = 0.078\\\\nsamples = 74\\\\nvalue = [71, 3]\"] ;\\n963 -> 964 ;\\n965 [label=\"X[65] <= 19003.5\\\\ngini = 0.053\\\\nsamples = 73\\\\nvalue = [71, 2]\"] ;\\n964 -> 965 ;\\n966 [label=\"X[12] <= 29450.0\\\\ngini = 0.027\\\\nsamples = 72\\\\nvalue = [71, 1]\"] ;\\n965 -> 966 ;\\n967 [label=\"gini = 0.0\\\\nsamples = 71\\\\nvalue = [71, 0]\"] ;\\n966 -> 967 ;\\n968 [label=\"gini = 0.0\\\\nsamples = 1\\\\nvalue = [0, 1]\"] ;\\n966 -> 968 ;\\n969 [label=\"gini = 0.0\\\\nsamples = 1\\\\nvalue = [0, 1]\"] ;\\n965 -> 969 ;\\n970 [label=\"gini = 0.0\\\\nsamples = 1\\\\nvalue = [0, 1]\"] ;\\n964 -> 970 ;\\n971 [label=\"gini = 0.0\\\\nsamples = 1\\\\nvalue = [0, 1]\"] ;\\n963 -> 971 ;\\n972 [label=\"X[48] <= 7164.5\\\\ngini = 0.245\\\\nsamples = 7\\\\nvalue = [1, 6]\"] ;\\n948 -> 972 ;\\n973 [label=\"gini = 0.0\\\\nsamples = 6\\\\nvalue = [0, 6]\"] ;\\n972 -> 973 ;\\n974 [label=\"gini = 0.0\\\\nsamples = 1\\\\nvalue = [1, 0]\"] ;\\n972 -> 974 ;\\n975 [label=\"X[52] <= 2359.5\\\\ngini = 0.471\\\\nsamples = 29\\\\nvalue = [11, 18]\"] ;\\n947 -> 975 ;\\n976 [label=\"X[77] <= 10.5\\\\ngini = 0.188\\\\nsamples = 19\\\\nvalue = [2, 17]\"] ;\\n975 -> 976 ;\\n977 [label=\"gini = 0.0\\\\nsamples = 2\\\\nvalue = [2, 0]\"] ;\\n976 -> 977 ;\\n978 [label=\"gini = 0.0\\\\nsamples = 17\\\\nvalue = [0, 17]\"] ;\\n976 -> 978 ;\\n979 [label=\"X[30] <= 3389.5\\\\ngini = 0.18\\\\nsamples = 10\\\\nvalue = [9, 1]\"] ;\\n975 -> 979 ;\\n980 [label=\"gini = 0.0\\\\nsamples = 9\\\\nvalue = [9, 0]\"] ;\\n979 -> 980 ;\\n981 [label=\"gini = 0.0\\\\nsamples = 1\\\\nvalue = [0, 1]\"] ;\\n979 -> 981 ;\\n982 [label=\"X[32] <= 12.0\\\\ngini = 0.493\\\\nsamples = 173\\\\nvalue = [76, 97]\"] ;\\n898 -> 982 ;\\n983 [label=\"X[81] <= 3903.0\\\\ngini = 0.32\\\\nsamples = 20\\\\nvalue = [16, 4]\"] ;\\n982 -> 983 ;\\n984 [label=\"X[109] <= 11.5\\\\ngini = 0.111\\\\nsamples = 17\\\\nvalue = [16, 1]\"] ;\\n983 -> 984 ;\\n985 [label=\"gini = 0.0\\\\nsamples = 1\\\\nvalue = [0, 1]\"] ;\\n984 -> 985 ;\\n986 [label=\"gini = 0.0\\\\nsamples = 16\\\\nvalue = [16, 0]\"] ;\\n984 -> 986 ;\\n987 [label=\"gini = 0.0\\\\nsamples = 3\\\\nvalue = [0, 3]\"] ;\\n983 -> 987 ;\\n988 [label=\"X[118] <= 544.0\\\\ngini = 0.477\\\\nsamples = 153\\\\nvalue = [60, 93]\"] ;\\n982 -> 988 ;\\n989 [label=\"X[89] <= 3775.5\\\\ngini = 0.5\\\\nsamples = 99\\\\nvalue = [50, 49]\"] ;\\n988 -> 989 ;\\n990 [label=\"X[109] <= 102.0\\\\ngini = 0.485\\\\nsamples = 82\\\\nvalue = [34, 48]\"] ;\\n989 -> 990 ;\\n991 [label=\"X[65] <= 16562.0\\\\ngini = 0.238\\\\nsamples = 29\\\\nvalue = [4, 25]\"] ;\\n990 -> 991 ;\\n992 [label=\"X[46] <= 3122.5\\\\ngini = 0.137\\\\nsamples = 27\\\\nvalue = [2, 25]\"] ;\\n991 -> 992 ;\\n993 [label=\"gini = 0.0\\\\nsamples = 24\\\\nvalue = [0, 24]\"] ;\\n992 -> 993 ;\\n994 [label=\"X[28] <= 462.0\\\\ngini = 0.444\\\\nsamples = 3\\\\nvalue = [2, 1]\"] ;\\n992 -> 994 ;\\n995 [label=\"gini = 0.0\\\\nsamples = 1\\\\nvalue = [0, 1]\"] ;\\n994 -> 995 ;\\n996 [label=\"gini = 0.0\\\\nsamples = 2\\\\nvalue = [2, 0]\"] ;\\n994 -> 996 ;\\n997 [label=\"gini = 0.0\\\\nsamples = 2\\\\nvalue = [2, 0]\"] ;\\n991 -> 997 ;\\n998 [label=\"X[122] <= 776.0\\\\ngini = 0.491\\\\nsamples = 53\\\\nvalue = [30, 23]\"] ;\\n990 -> 998 ;\\n999 [label=\"X[115] <= 285.5\\\\ngini = 0.401\\\\nsamples = 36\\\\nvalue = [26, 10]\"] ;\\n998 -> 999 ;\\n1000 [label=\"X[5] <= 11067.0\\\\ngini = 0.105\\\\nsamples = 18\\\\nvalue = [17, 1]\"] ;\\n999 -> 1000 ;\\n1001 [label=\"gini = 0.0\\\\nsamples = 17\\\\nvalue = [17, 0]\"] ;\\n1000 -> 1001 ;\\n1002 [label=\"gini = 0.0\\\\nsamples = 1\\\\nvalue = [0, 1]\"] ;\\n1000 -> 1002 ;\\n1003 [label=\"X[52] <= 51.5\\\\ngini = 0.5\\\\nsamples = 18\\\\nvalue = [9, 9]\"] ;\\n999 -> 1003 ;\\n1004 [label=\"gini = 0.0\\\\nsamples = 6\\\\nvalue = [6, 0]\"] ;\\n1003 -> 1004 ;\\n1005 [label=\"X[39] <= 12.5\\\\ngini = 0.375\\\\nsamples = 12\\\\nvalue = [3, 9]\"] ;\\n1003 -> 1005 ;\\n1006 [label=\"X[126] <= 253.5\\\\ngini = 0.375\\\\nsamples = 4\\\\nvalue = [3, 1]\"] ;\\n1005 -> 1006 ;\\n1007 [label=\"gini = 0.0\\\\nsamples = 1\\\\nvalue = [0, 1]\"] ;\\n1006 -> 1007 ;\\n1008 [label=\"gini = 0.0\\\\nsamples = 3\\\\nvalue = [3, 0]\"] ;\\n1006 -> 1008 ;\\n1009 [label=\"gini = 0.0\\\\nsamples = 8\\\\nvalue = [0, 8]\"] ;\\n1005 -> 1009 ;\\n1010 [label=\"X[72] <= 1326.5\\\\ngini = 0.36\\\\nsamples = 17\\\\nvalue = [4, 13]\"] ;\\n998 -> 1010 ;\\n1011 [label=\"X[52] <= 27119.5\\\\ngini = 0.133\\\\nsamples = 14\\\\nvalue = [1, 13]\"] ;\\n1010 -> 1011 ;\\n1012 [label=\"gini = 0.0\\\\nsamples = 13\\\\nvalue = [0, 13]\"] ;\\n1011 -> 1012 ;\\n1013 [label=\"gini = 0.0\\\\nsamples = 1\\\\nvalue = [1, 0]\"] ;\\n1011 -> 1013 ;\\n1014 [label=\"gini = 0.0\\\\nsamples = 3\\\\nvalue = [3, 0]\"] ;\\n1010 -> 1014 ;\\n1015 [label=\"X[68] <= 35.0\\\\ngini = 0.111\\\\nsamples = 17\\\\nvalue = [16, 1]\"] ;\\n989 -> 1015 ;\\n1016 [label=\"gini = 0.0\\\\nsamples = 1\\\\nvalue = [0, 1]\"] ;\\n1015 -> 1016 ;\\n1017 [label=\"gini = 0.0\\\\nsamples = 16\\\\nvalue = [16, 0]\"] ;\\n1015 -> 1017 ;\\n1018 [label=\"X[12] <= 3.5\\\\ngini = 0.302\\\\nsamples = 54\\\\nvalue = [10, 44]\"] ;\\n988 -> 1018 ;\\n1019 [label=\"gini = 0.0\\\\nsamples = 3\\\\nvalue = [3, 0]\"] ;\\n1018 -> 1019 ;\\n1020 [label=\"X[99] <= 10385.0\\\\ngini = 0.237\\\\nsamples = 51\\\\nvalue = [7, 44]\"] ;\\n1018 -> 1020 ;\\n1021 [label=\"X[36] <= 30797.0\\\\ngini = 0.122\\\\nsamples = 46\\\\nvalue = [3, 43]\"] ;\\n1020 -> 1021 ;\\n1022 [label=\"X[108] <= 25855.0\\\\ngini = 0.044\\\\nsamples = 44\\\\nvalue = [1, 43]\"] ;\\n1021 -> 1022 ;\\n1023 [label=\"gini = 0.0\\\\nsamples = 43\\\\nvalue = [0, 43]\"] ;\\n1022 -> 1023 ;\\n1024 [label=\"gini = 0.0\\\\nsamples = 1\\\\nvalue = [1, 0]\"] ;\\n1022 -> 1024 ;\\n1025 [label=\"gini = 0.0\\\\nsamples = 2\\\\nvalue = [2, 0]\"] ;\\n1021 -> 1025 ;\\n1026 [label=\"X[42] <= 1319.5\\\\ngini = 0.32\\\\nsamples = 5\\\\nvalue = [4, 1]\"] ;\\n1020 -> 1026 ;\\n1027 [label=\"gini = 0.0\\\\nsamples = 4\\\\nvalue = [4, 0]\"] ;\\n1026 -> 1027 ;\\n1028 [label=\"gini = 0.0\\\\nsamples = 1\\\\nvalue = [0, 1]\"] ;\\n1026 -> 1028 ;\\n1029 [label=\"X[50] <= 29.5\\\\ngini = 0.442\\\\nsamples = 85\\\\nvalue = [28, 57]\"] ;\\n897 -> 1029 ;\\n1030 [label=\"X[107] <= 29.0\\\\ngini = 0.298\\\\nsamples = 11\\\\nvalue = [9, 2]\"] ;\\n1029 -> 1030 ;\\n1031 [label=\"gini = 0.0\\\\nsamples = 2\\\\nvalue = [0, 2]\"] ;\\n1030 -> 1031 ;\\n1032 [label=\"gini = 0.0\\\\nsamples = 9\\\\nvalue = [9, 0]\"] ;\\n1030 -> 1032 ;\\n1033 [label=\"X[16] <= 728.5\\\\ngini = 0.382\\\\nsamples = 74\\\\nvalue = [19, 55]\"] ;\\n1029 -> 1033 ;\\n1034 [label=\"X[102] <= 49.5\\\\ngini = 0.487\\\\nsamples = 43\\\\nvalue = [18, 25]\"] ;\\n1033 -> 1034 ;\\n1035 [label=\"X[44] <= 1499.0\\\\ngini = 0.32\\\\nsamples = 15\\\\nvalue = [12, 3]\"] ;\\n1034 -> 1035 ;\\n1036 [label=\"gini = 0.0\\\\nsamples = 12\\\\nvalue = [12, 0]\"] ;\\n1035 -> 1036 ;\\n1037 [label=\"gini = 0.0\\\\nsamples = 3\\\\nvalue = [0, 3]\"] ;\\n1035 -> 1037 ;\\n1038 [label=\"X[48] <= 64.5\\\\ngini = 0.337\\\\nsamples = 28\\\\nvalue = [6, 22]\"] ;\\n1034 -> 1038 ;\\n1039 [label=\"X[101] <= 555.0\\\\ngini = 0.32\\\\nsamples = 5\\\\nvalue = [4, 1]\"] ;\\n1038 -> 1039 ;\\n1040 [label=\"gini = 0.0\\\\nsamples = 4\\\\nvalue = [4, 0]\"] ;\\n1039 -> 1040 ;\\n1041 [label=\"gini = 0.0\\\\nsamples = 1\\\\nvalue = [0, 1]\"] ;\\n1039 -> 1041 ;\\n1042 [label=\"X[50] <= 43.0\\\\ngini = 0.159\\\\nsamples = 23\\\\nvalue = [2, 21]\"] ;\\n1038 -> 1042 ;\\n1043 [label=\"gini = 0.0\\\\nsamples = 2\\\\nvalue = [2, 0]\"] ;\\n1042 -> 1043 ;\\n1044 [label=\"gini = 0.0\\\\nsamples = 21\\\\nvalue = [0, 21]\"] ;\\n1042 -> 1044 ;\\n1045 [label=\"X[93] <= 1.5\\\\ngini = 0.062\\\\nsamples = 31\\\\nvalue = [1, 30]\"] ;\\n1033 -> 1045 ;\\n1046 [label=\"gini = 0.0\\\\nsamples = 1\\\\nvalue = [1, 0]\"] ;\\n1045 -> 1046 ;\\n1047 [label=\"gini = 0.0\\\\nsamples = 30\\\\nvalue = [0, 30]\"] ;\\n1045 -> 1047 ;\\n1048 [label=\"X[36] <= 663.0\\\\ngini = 0.443\\\\nsamples = 199\\\\nvalue = [66, 133]\"] ;\\n896 -> 1048 ;\\n1049 [label=\"X[54] <= 3777.0\\\\ngini = 0.488\\\\nsamples = 125\\\\nvalue = [53, 72]\"] ;\\n1048 -> 1049 ;\\n1050 [label=\"X[3] <= 317.5\\\\ngini = 0.457\\\\nsamples = 99\\\\nvalue = [35, 64]\"] ;\\n1049 -> 1050 ;\\n1051 [label=\"X[31] <= 1029.5\\\\ngini = 0.334\\\\nsamples = 52\\\\nvalue = [11, 41]\"] ;\\n1050 -> 1051 ;\\n1052 [label=\"X[33] <= 16554.5\\\\ngini = 0.184\\\\nsamples = 39\\\\nvalue = [4, 35]\"] ;\\n1051 -> 1052 ;\\n1053 [label=\"X[74] <= 0.5\\\\ngini = 0.102\\\\nsamples = 37\\\\nvalue = [2, 35]\"] ;\\n1052 -> 1053 ;\\n1054 [label=\"gini = 0.0\\\\nsamples = 1\\\\nvalue = [1, 0]\"] ;\\n1053 -> 1054 ;\\n1055 [label=\"X[47] <= 1.5\\\\ngini = 0.054\\\\nsamples = 36\\\\nvalue = [1, 35]\"] ;\\n1053 -> 1055 ;\\n1056 [label=\"gini = 0.0\\\\nsamples = 1\\\\nvalue = [1, 0]\"] ;\\n1055 -> 1056 ;\\n1057 [label=\"gini = 0.0\\\\nsamples = 35\\\\nvalue = [0, 35]\"] ;\\n1055 -> 1057 ;\\n1058 [label=\"gini = 0.0\\\\nsamples = 2\\\\nvalue = [2, 0]\"] ;\\n1052 -> 1058 ;\\n1059 [label=\"X[9] <= 900.0\\\\ngini = 0.497\\\\nsamples = 13\\\\nvalue = [7, 6]\"] ;\\n1051 -> 1059 ;\\n1060 [label=\"gini = 0.0\\\\nsamples = 5\\\\nvalue = [0, 5]\"] ;\\n1059 -> 1060 ;\\n1061 [label=\"X[3] <= 218.0\\\\ngini = 0.219\\\\nsamples = 8\\\\nvalue = [7, 1]\"] ;\\n1059 -> 1061 ;\\n1062 [label=\"gini = 0.0\\\\nsamples = 7\\\\nvalue = [7, 0]\"] ;\\n1061 -> 1062 ;\\n1063 [label=\"gini = 0.0\\\\nsamples = 1\\\\nvalue = [0, 1]\"] ;\\n1061 -> 1063 ;\\n1064 [label=\"X[52] <= 82.5\\\\ngini = 0.5\\\\nsamples = 47\\\\nvalue = [24, 23]\"] ;\\n1050 -> 1064 ;\\n1065 [label=\"X[58] <= 19179.5\\\\ngini = 0.153\\\\nsamples = 12\\\\nvalue = [11, 1]\"] ;\\n1064 -> 1065 ;\\n1066 [label=\"gini = 0.0\\\\nsamples = 11\\\\nvalue = [11, 0]\"] ;\\n1065 -> 1066 ;\\n1067 [label=\"gini = 0.0\\\\nsamples = 1\\\\nvalue = [0, 1]\"] ;\\n1065 -> 1067 ;\\n1068 [label=\"X[99] <= 111.5\\\\ngini = 0.467\\\\nsamples = 35\\\\nvalue = [13, 22]\"] ;\\n1064 -> 1068 ;\\n1069 [label=\"gini = 0.0\\\\nsamples = 11\\\\nvalue = [0, 11]\"] ;\\n1068 -> 1069 ;\\n1070 [label=\"X[5] <= 370.5\\\\ngini = 0.497\\\\nsamples = 24\\\\nvalue = [13, 11]\"] ;\\n1068 -> 1070 ;\\n1071 [label=\"X[84] <= 1204.0\\\\ngini = 0.298\\\\nsamples = 11\\\\nvalue = [2, 9]\"] ;\\n1070 -> 1071 ;\\n1072 [label=\"gini = 0.0\\\\nsamples = 9\\\\nvalue = [0, 9]\"] ;\\n1071 -> 1072 ;\\n1073 [label=\"gini = 0.0\\\\nsamples = 2\\\\nvalue = [2, 0]\"] ;\\n1071 -> 1073 ;\\n1074 [label=\"X[84] <= 2838.5\\\\ngini = 0.26\\\\nsamples = 13\\\\nvalue = [11, 2]\"] ;\\n1070 -> 1074 ;\\n1075 [label=\"gini = 0.0\\\\nsamples = 11\\\\nvalue = [11, 0]\"] ;\\n1074 -> 1075 ;\\n1076 [label=\"gini = 0.0\\\\nsamples = 2\\\\nvalue = [0, 2]\"] ;\\n1074 -> 1076 ;\\n1077 [label=\"X[114] <= 837.5\\\\ngini = 0.426\\\\nsamples = 26\\\\nvalue = [18, 8]\"] ;\\n1049 -> 1077 ;\\n1078 [label=\"X[38] <= 17.5\\\\ngini = 0.188\\\\nsamples = 19\\\\nvalue = [17, 2]\"] ;\\n1077 -> 1078 ;\\n1079 [label=\"X[11] <= 1288.0\\\\ngini = 0.444\\\\nsamples = 3\\\\nvalue = [1, 2]\"] ;\\n1078 -> 1079 ;\\n1080 [label=\"gini = 0.0\\\\nsamples = 1\\\\nvalue = [1, 0]\"] ;\\n1079 -> 1080 ;\\n1081 [label=\"gini = 0.0\\\\nsamples = 2\\\\nvalue = [0, 2]\"] ;\\n1079 -> 1081 ;\\n1082 [label=\"gini = 0.0\\\\nsamples = 16\\\\nvalue = [16, 0]\"] ;\\n1078 -> 1082 ;\\n1083 [label=\"X[52] <= 468.0\\\\ngini = 0.245\\\\nsamples = 7\\\\nvalue = [1, 6]\"] ;\\n1077 -> 1083 ;\\n1084 [label=\"gini = 0.0\\\\nsamples = 6\\\\nvalue = [0, 6]\"] ;\\n1083 -> 1084 ;\\n1085 [label=\"gini = 0.0\\\\nsamples = 1\\\\nvalue = [1, 0]\"] ;\\n1083 -> 1085 ;\\n1086 [label=\"X[44] <= 31.5\\\\ngini = 0.29\\\\nsamples = 74\\\\nvalue = [13, 61]\"] ;\\n1048 -> 1086 ;\\n1087 [label=\"X[73] <= 2237.5\\\\ngini = 0.375\\\\nsamples = 8\\\\nvalue = [6, 2]\"] ;\\n1086 -> 1087 ;\\n1088 [label=\"gini = 0.0\\\\nsamples = 6\\\\nvalue = [6, 0]\"] ;\\n1087 -> 1088 ;\\n1089 [label=\"gini = 0.0\\\\nsamples = 2\\\\nvalue = [0, 2]\"] ;\\n1087 -> 1089 ;\\n1090 [label=\"X[118] <= 13639.5\\\\ngini = 0.19\\\\nsamples = 66\\\\nvalue = [7, 59]\"] ;\\n1086 -> 1090 ;\\n1091 [label=\"X[78] <= 8169.5\\\\ngini = 0.144\\\\nsamples = 64\\\\nvalue = [5, 59]\"] ;\\n1090 -> 1091 ;\\n1092 [label=\"X[23] <= 26906.5\\\\ngini = 0.068\\\\nsamples = 57\\\\nvalue = [2, 55]\"] ;\\n1091 -> 1092 ;\\n1093 [label=\"X[86] <= 1.5\\\\ngini = 0.035\\\\nsamples = 56\\\\nvalue = [1, 55]\"] ;\\n1092 -> 1093 ;\\n1094 [label=\"gini = 0.0\\\\nsamples = 1\\\\nvalue = [1, 0]\"] ;\\n1093 -> 1094 ;\\n1095 [label=\"gini = 0.0\\\\nsamples = 55\\\\nvalue = [0, 55]\"] ;\\n1093 -> 1095 ;\\n1096 [label=\"gini = 0.0\\\\nsamples = 1\\\\nvalue = [1, 0]\"] ;\\n1092 -> 1096 ;\\n1097 [label=\"X[100] <= 500.5\\\\ngini = 0.49\\\\nsamples = 7\\\\nvalue = [3, 4]\"] ;\\n1091 -> 1097 ;\\n1098 [label=\"gini = 0.0\\\\nsamples = 4\\\\nvalue = [0, 4]\"] ;\\n1097 -> 1098 ;\\n1099 [label=\"gini = 0.0\\\\nsamples = 3\\\\nvalue = [3, 0]\"] ;\\n1097 -> 1099 ;\\n1100 [label=\"gini = 0.0\\\\nsamples = 2\\\\nvalue = [2, 0]\"] ;\\n1090 -> 1100 ;\\n}'"
      ]
     },
     "metadata": {},
     "execution_count": 10
    }
   ],
   "source": [
    "from sklearn import tree\n",
    "tree.export_graphviz(dt_cls)"
   ]
  },
  {
   "cell_type": "markdown",
   "metadata": {},
   "source": [
    "# Naive Bayes"
   ]
  },
  {
   "cell_type": "code",
   "execution_count": 11,
   "metadata": {},
   "outputs": [],
   "source": [
    "from sklearn.naive_bayes import GaussianNB"
   ]
  },
  {
   "cell_type": "code",
   "execution_count": 12,
   "metadata": {},
   "outputs": [
    {
     "output_type": "execute_result",
     "data": {
      "text/plain": [
       "GaussianNB()"
      ]
     },
     "metadata": {},
     "execution_count": 12
    }
   ],
   "source": [
    "nb_cls = GaussianNB()\n",
    "nb_cls.fit(train_data, train_labels)"
   ]
  },
  {
   "cell_type": "code",
   "execution_count": 13,
   "metadata": {},
   "outputs": [
    {
     "output_type": "execute_result",
     "data": {
      "text/plain": [
       "0.5146666666666667"
      ]
     },
     "metadata": {},
     "execution_count": 13
    }
   ],
   "source": [
    "preds = nb_cls.predict(test_data)\n",
    "accuracy_score(test_labels, preds)"
   ]
  },
  {
   "cell_type": "markdown",
   "metadata": {},
   "source": [
    "# k-nearest neighbors"
   ]
  },
  {
   "cell_type": "code",
   "execution_count": 14,
   "metadata": {},
   "outputs": [],
   "source": [
    "from sklearn.neighbors import KNeighborsClassifier"
   ]
  },
  {
   "cell_type": "code",
   "execution_count": 15,
   "metadata": {},
   "outputs": [
    {
     "output_type": "execute_result",
     "data": {
      "text/plain": [
       "KNeighborsClassifier()"
      ]
     },
     "metadata": {},
     "execution_count": 15
    }
   ],
   "source": [
    "knn_cls = KNeighborsClassifier()\n",
    "knn_cls.fit(train_data, train_labels)"
   ]
  },
  {
   "cell_type": "code",
   "execution_count": 16,
   "metadata": {},
   "outputs": [
    {
     "output_type": "execute_result",
     "data": {
      "text/plain": [
       "0.503"
      ]
     },
     "metadata": {},
     "execution_count": 16
    }
   ],
   "source": [
    "preds = knn_cls.predict(test_data)\n",
    "accuracy_score(test_labels, preds)"
   ]
  },
  {
   "cell_type": "markdown",
   "metadata": {},
   "source": [
    "# Support Vector Machines"
   ]
  },
  {
   "cell_type": "code",
   "execution_count": 17,
   "metadata": {},
   "outputs": [],
   "source": [
    "from sklearn.svm import LinearSVC"
   ]
  },
  {
   "cell_type": "code",
   "execution_count": 18,
   "metadata": {},
   "outputs": [
    {
     "output_type": "execute_result",
     "data": {
      "text/plain": [
       "LinearSVC(dual=False)"
      ]
     },
     "metadata": {},
     "execution_count": 18
    }
   ],
   "source": [
    "svm_cls = LinearSVC(loss=\"squared_hinge\", C=1.0, dual=False)\n",
    "svm_cls.fit(train_data, train_labels)"
   ]
  },
  {
   "cell_type": "code",
   "execution_count": 19,
   "metadata": {},
   "outputs": [
    {
     "output_type": "execute_result",
     "data": {
      "text/plain": [
       "0.5023333333333333"
      ]
     },
     "metadata": {},
     "execution_count": 19
    }
   ],
   "source": [
    "preds = svm_cls.predict(test_data)\n",
    "accuracy_score(test_labels, preds)"
   ]
  },
  {
   "cell_type": "markdown",
   "metadata": {},
   "source": [
    "# Random Forest"
   ]
  },
  {
   "cell_type": "code",
   "execution_count": 20,
   "metadata": {},
   "outputs": [],
   "source": [
    "from sklearn.ensemble import RandomForestClassifier"
   ]
  },
  {
   "cell_type": "code",
   "execution_count": 21,
   "metadata": {},
   "outputs": [
    {
     "output_type": "execute_result",
     "data": {
      "text/plain": [
       "RandomForestClassifier(max_depth=2, random_state=0)"
      ]
     },
     "metadata": {},
     "execution_count": 21
    }
   ],
   "source": [
    "rf_cls = RandomForestClassifier(max_depth=2, random_state=0)\n",
    "rf_cls.fit(train_data, train_labels)"
   ]
  },
  {
   "cell_type": "code",
   "execution_count": 22,
   "metadata": {},
   "outputs": [
    {
     "output_type": "execute_result",
     "data": {
      "text/plain": [
       "0.5273333333333333"
      ]
     },
     "metadata": {},
     "execution_count": 22
    }
   ],
   "source": [
    "preds = rf_cls.predict(test_data)\n",
    "accuracy_score(test_labels, preds)"
   ]
  },
  {
   "cell_type": "markdown",
   "metadata": {},
   "source": [
    "# Boosting"
   ]
  },
  {
   "cell_type": "code",
   "execution_count": 23,
   "metadata": {},
   "outputs": [],
   "source": [
    "from sklearn.model_selection import cross_val_score\n",
    "from sklearn.ensemble import AdaBoostClassifier"
   ]
  },
  {
   "cell_type": "code",
   "execution_count": 24,
   "metadata": {},
   "outputs": [
    {
     "output_type": "execute_result",
     "data": {
      "text/plain": [
       "AdaBoostClassifier(n_estimators=100)"
      ]
     },
     "metadata": {},
     "execution_count": 24
    }
   ],
   "source": [
    "ab_cls = AdaBoostClassifier(n_estimators=100)\n",
    "ab_cls.fit(train_data, train_labels)"
   ]
  },
  {
   "cell_type": "code",
   "execution_count": 25,
   "metadata": {},
   "outputs": [
    {
     "output_type": "execute_result",
     "data": {
      "text/plain": [
       "0.5225"
      ]
     },
     "metadata": {},
     "execution_count": 25
    }
   ],
   "source": [
    "preds = ab_cls.predict(test_data)\n",
    "accuracy_score(test_labels, preds)"
   ]
  },
  {
   "source": [
    "# One-Hot"
   ],
   "cell_type": "markdown",
   "metadata": {}
  },
  {
   "cell_type": "code",
   "execution_count": 31,
   "metadata": {},
   "outputs": [],
   "source": [
    "def load_data_onehot(filename, delimiter):\n",
    "    samples = []\n",
    "    labels = []\n",
    "    with open(filename, newline='') as csvfile:\n",
    "        reader = csv.reader(csvfile, delimiter=delimiter, quotechar='\"')\n",
    "        next(reader) #skip csv header\n",
    "        for row in reader:\n",
    "            samples += [row[0]]\n",
    "            labels += [row[1]]\n",
    "\n",
    "    preprocessed_samples = []\n",
    "    for sample in samples:\n",
    "        s = sample.lower()\n",
    "        s = re.sub(\"[^а-яА-Яa-zA-Z0-9]\", \" \", s)\n",
    "        s = re.sub(\"\\s+\", \" \", s)\n",
    "        s = s.strip()\n",
    "        preprocessed_samples += [s]\n",
    "\n",
    "        \n",
    "    labels_dict = {\"negative\": 0, \"positive\": 1}\n",
    "\n",
    "    correct_labels = [labels_dict[label] for label in labels]\n",
    "    \n",
    "    train_data = preprocessed_samples[:4000]\n",
    "    train_labels = correct_labels[:4000]\n",
    "    test_data = preprocessed_samples[4000:]\n",
    "    test_labels = correct_labels[4000:]\n",
    "    \n",
    "    return train_data, train_labels, test_data, test_labels"
   ]
  },
  {
   "cell_type": "code",
   "execution_count": 36,
   "metadata": {},
   "outputs": [],
   "source": [
    "oh_train_data, oh_train_labels, oh_test_data, oh_test_labels = load_data_onehot('data/imdb/imdb_dataset.csv', ',')"
   ]
  },
  {
   "cell_type": "code",
   "execution_count": 37,
   "metadata": {},
   "outputs": [],
   "source": [
    "from sklearn.feature_extraction.text import CountVectorizer  "
   ]
  },
  {
   "cell_type": "code",
   "execution_count": 38,
   "metadata": {},
   "outputs": [],
   "source": [
    "oh_vectorizer = CountVectorizer(binary=True)\n",
    "oh_vectorizer = oh_vectorizer.fit(oh_train_data)\n",
    "\n",
    "oh_train_data = oh_vectorizer.transform(oh_train_data)\n",
    "oh_test_data = oh_vectorizer.transform(oh_test_data)"
   ]
  },
  {
   "cell_type": "code",
   "execution_count": 39,
   "metadata": {},
   "outputs": [
    {
     "output_type": "execute_result",
     "data": {
      "text/plain": [
       "LinearSVC(dual=False)"
      ]
     },
     "metadata": {},
     "execution_count": 39
    }
   ],
   "source": [
    "svm_oh_cls = LinearSVC(loss=\"squared_hinge\", C=1.0, dual=False)\n",
    "svm_oh_cls.fit(oh_train_data, oh_train_labels)"
   ]
  },
  {
   "cell_type": "code",
   "execution_count": 40,
   "metadata": {},
   "outputs": [
    {
     "output_type": "execute_result",
     "data": {
      "text/plain": [
       "0.8441666666666666"
      ]
     },
     "metadata": {},
     "execution_count": 40
    }
   ],
   "source": [
    "preds = svm_oh_cls.predict(oh_test_data)\n",
    "accuracy_score(oh_test_labels, preds)"
   ]
  },
  {
   "cell_type": "markdown",
   "metadata": {},
   "source": [
    "# TF-IDF"
   ]
  },
  {
   "cell_type": "markdown",
   "metadata": {},
   "source": [
    "![alt text](tf-idf.png \"Title\")"
   ]
  },
  {
   "cell_type": "code",
   "execution_count": 41,
   "metadata": {},
   "outputs": [],
   "source": [
    "def load_data_tfidf(filename, delimiter):\n",
    "    samples = []\n",
    "    labels = []\n",
    "    with open(filename, newline='') as csvfile:\n",
    "        reader = csv.reader(csvfile, delimiter=delimiter, quotechar='\"')\n",
    "        next(reader) #skip csv header\n",
    "        for row in reader:\n",
    "            samples += [row[0]]\n",
    "            labels += [row[1]]\n",
    "\n",
    "    preprocessed_samples = []\n",
    "    for sample in samples:\n",
    "        s = sample.lower()\n",
    "        s = re.sub(\"[^а-яА-Яa-zA-Z0-9]\", \" \", s)\n",
    "        s = re.sub(\"\\s+\", \" \", s)\n",
    "        s = s.strip()\n",
    "        preprocessed_samples += [s]\n",
    "\n",
    "        \n",
    "    labels_dict = {\"negative\": 0, \"positive\": 1}\n",
    "\n",
    "    correct_labels = [labels_dict[label] for label in labels]\n",
    "    \n",
    "    train_data = preprocessed_samples[:4000]\n",
    "    train_labels = correct_labels[:4000]\n",
    "    test_data = preprocessed_samples[4000:]\n",
    "    test_labels = correct_labels[4000:]\n",
    "    \n",
    "    return train_data, train_labels, test_data, test_labels"
   ]
  },
  {
   "cell_type": "code",
   "execution_count": 42,
   "metadata": {},
   "outputs": [],
   "source": [
    "text_train_data, tf_idf_train_labels, text_test_data, tf_idf_test_labels = load_data_tfidf('data/imdb/imdb_dataset.csv', ',')"
   ]
  },
  {
   "cell_type": "code",
   "execution_count": 43,
   "metadata": {},
   "outputs": [
    {
     "output_type": "execute_result",
     "data": {
      "text/plain": [
       "'one of the other reviewers has mentioned that after watching just 1 oz episode you ll be hooked they are right as this is exactly what happened with me br br the first thing that struck me about oz was its brutality and unflinching scenes of violence which set in right from the word go trust me this is not a show for the faint hearted or timid this show pulls no punches with regards to drugs sex or violence its is hardcore in the classic use of the word br br it is called oz as that is the nickname given to the oswald maximum security state penitentary it focuses mainly on emerald city an experimental section of the prison where all the cells have glass fronts and face inwards so privacy is not high on the agenda em city is home to many aryans muslims gangstas latinos christians italians irish and more so scuffles death stares dodgy dealings and shady agreements are never far away br br i would say the main appeal of the show is due to the fact that it goes where other shows wouldn t dare forget pretty pictures painted for mainstream audiences forget charm forget romance oz doesn t mess around the first episode i ever saw struck me as so nasty it was surreal i couldn t say i was ready for it but as i watched more i developed a taste for oz and got accustomed to the high levels of graphic violence not just violence but injustice crooked guards who ll be sold out for a nickel inmates who ll kill on order and get away with it well mannered middle class inmates being turned into prison bitches due to their lack of street skills or prison experience watching oz you may become comfortable with what is uncomfortable viewing thats if you can get in touch with your darker side'"
      ]
     },
     "metadata": {},
     "execution_count": 43
    }
   ],
   "source": [
    "text_train_data[0]"
   ]
  },
  {
   "cell_type": "code",
   "execution_count": 44,
   "metadata": {},
   "outputs": [],
   "source": [
    "from sklearn.feature_extraction.text import TfidfVectorizer"
   ]
  },
  {
   "cell_type": "code",
   "execution_count": 45,
   "metadata": {},
   "outputs": [],
   "source": [
    "tfidf = TfidfVectorizer()\n",
    "tfidf = tfidf.fit(text_train_data)\n",
    "tf_idf_train_data = tfidf.transform(text_train_data)\n",
    "tf_idf_test_data = tfidf.transform(text_test_data)"
   ]
  },
  {
   "cell_type": "code",
   "execution_count": 46,
   "metadata": {},
   "outputs": [
    {
     "output_type": "execute_result",
     "data": {
      "text/plain": [
       "<1x35155 sparse matrix of type '<class 'numpy.float64'>'\n",
       "\twith 186 stored elements in Compressed Sparse Row format>"
      ]
     },
     "metadata": {},
     "execution_count": 46
    }
   ],
   "source": [
    "tf_idf_train_data[0]"
   ]
  },
  {
   "cell_type": "code",
   "execution_count": 47,
   "metadata": {},
   "outputs": [
    {
     "output_type": "execute_result",
     "data": {
      "text/plain": [
       "LinearSVC(dual=False)"
      ]
     },
     "metadata": {},
     "execution_count": 47
    }
   ],
   "source": [
    "svm_tfid_cls = LinearSVC(loss=\"squared_hinge\", C=1.0, dual=False)\n",
    "svm_tfid_cls.fit(tf_idf_train_data, train_labels)"
   ]
  },
  {
   "cell_type": "code",
   "execution_count": 48,
   "metadata": {},
   "outputs": [
    {
     "output_type": "execute_result",
     "data": {
      "text/plain": [
       "0.868"
      ]
     },
     "metadata": {},
     "execution_count": 48
    }
   ],
   "source": [
    "preds = svm_tfid_cls.predict(tf_idf_test_data)\n",
    "accuracy_score(tf_idf_test_labels, preds)"
   ]
  },
  {
   "cell_type": "code",
   "execution_count": 49,
   "metadata": {},
   "outputs": [],
   "source": [
    "from sklearn.ensemble import AdaBoostClassifier"
   ]
  },
  {
   "cell_type": "code",
   "execution_count": 50,
   "metadata": {},
   "outputs": [
    {
     "output_type": "execute_result",
     "data": {
      "text/plain": [
       "AdaBoostClassifier(n_estimators=1000)"
      ]
     },
     "metadata": {},
     "execution_count": 50
    }
   ],
   "source": [
    "ab_cls = AdaBoostClassifier(n_estimators=1000)\n",
    "ab_cls.fit(tf_idf_train_data, train_labels)"
   ]
  },
  {
   "cell_type": "code",
   "execution_count": 51,
   "metadata": {},
   "outputs": [
    {
     "output_type": "execute_result",
     "data": {
      "text/plain": [
       "0.8206666666666667"
      ]
     },
     "metadata": {},
     "execution_count": 51
    }
   ],
   "source": [
    "preds = ab_cls.predict(tf_idf_test_data)\n",
    "accuracy_score(test_labels, preds)"
   ]
  },
  {
   "cell_type": "code",
   "execution_count": null,
   "metadata": {},
   "outputs": [],
   "source": []
  }
 ],
 "metadata": {
  "kernelspec": {
   "name": "python385jvsc74a57bd03d6d5fd2fb38453288589e14f048737744449d9db008b446de425433580f6da9",
   "display_name": "Python 3.8.5 64-bit ('base': conda)"
  },
  "language_info": {
   "codemirror_mode": {
    "name": "ipython",
    "version": 3
   },
   "file_extension": ".py",
   "mimetype": "text/x-python",
   "name": "python",
   "nbconvert_exporter": "python",
   "pygments_lexer": "ipython3",
   "version": "3.8.5"
  }
 },
 "nbformat": 4,
 "nbformat_minor": 2
}