{
  "cells": [
    {
      "cell_type": "markdown",
      "id": "5cd6bd1e29330f4b",
      "metadata": {
        "collapsed": false,
        "id": "5cd6bd1e29330f4b"
      },
      "source": [
        "# Задание\n",
        "\n",
        "Обучить 2 диалоговые модели (decoder-only и encoder-decoder) предсказывать ответ системы на запрос пользователя.\n",
        "\n",
        "1. Выбрать подходящую модель https://huggingface.co/models.\n",
        "2. Выбрать подходящий датасет https://huggingface.co/datasets.\n",
        "\n",
        "Выполнить шаги 3-8 для decoder-only и для encoder-decoder модели.\n",
        "\n",
        "3. Проверить работу модели в сценарии близком к выбранному датасету в zero-shot режиме.\n",
        "4. Посчитать метрики bleu и meteor исходной модели на валидационном сабсете выбранного датасета.\n",
        "5. Дообучить модель на обучающем сабсете выбранного датасета.\n",
        "6. Проверить работу модели в сценарии близком к выбранному датасету.\n",
        "7. Посчитать метрики bleu и meteor обученной модели на валидационном сабсете выбранного датасета.\n",
        "8. Сравнить метрики обученной и исходной моделей."
      ]
    },
    {
      "cell_type": "markdown",
      "id": "kOYRkzgf84Ke",
      "metadata": {
        "id": "kOYRkzgf84Ke"
      },
      "source": [
        "# Imports"
      ]
    },
    {
      "cell_type": "code",
      "execution_count": 1,
      "id": "--70AF6S8-dB",
      "metadata": {
        "id": "--70AF6S8-dB"
      },
      "outputs": [],
      "source": [
        "from transformers import T5Tokenizer, T5ForConditionalGeneration\n",
        "import torch\n",
        "import datasets\n",
        "from sklearn.model_selection import train_test_split\n",
        "import pandas as pd\n",
        "from torch.utils.data import TensorDataset\n",
        "import evaluate\n",
        "from torch.utils.data import DataLoader\n",
        "import re\n",
        "from torchmetrics.text import BLEUScore\n",
        "from transformers import AutoTokenizer, AutoModelForCausalLM\n"
      ]
    },
    {
      "cell_type": "markdown",
      "id": "udvNuzD3ypaG",
      "metadata": {
        "id": "udvNuzD3ypaG"
      },
      "source": [
        "# Dataset"
      ]
    },
    {
      "cell_type": "code",
      "execution_count": 2,
      "id": "rzQhRPdtzLsr",
      "metadata": {
        "colab": {
          "base_uri": "https://localhost:8080/",
          "height": 332,
          "referenced_widgets": [
            "91b0ac0e1dc84ea5b84fbf3bd63e5688",
            "3f952579340448fca83c12b1681c9d88",
            "fc09daae5b364e2ba0ca604bc8831bb2",
            "2a34e6091dab4d75942ec534e5a89247",
            "b04c211c1eb1468682f108d6f283874b",
            "27fcbb9c55c54950959e93da1b858678",
            "034d3bb2d3904287818ee88f763091f5",
            "712f1a243bef42b1ba1a109e584cf485",
            "6186aaddca0a4166baf376212bf8ee04",
            "e5d1817d30934376ad26201388d9be8f",
            "faaee368b119433ab25ce0c19f4551a8",
            "564a047b4ed74af489d8e524868d21fb",
            "16166aa1e3784df99033fa4872fb908d",
            "39a7f847fb1b445aab7708653c92a20d",
            "bc174b6a3b2d4721821aa78819e88613",
            "900722a069084468a42eae44761a67d2",
            "d7ff0ae7c0c84e6981d26c2e4ef9b22b",
            "2dc8233cce494f1c88b79410b8a77dc3",
            "fb43ad1e9de24d6493b646dc95e7ed94",
            "c35aa360a0c646358f5bb0ff4518887c",
            "1cb67f92387345b1a899e3af417eff34",
            "4321dcfd16944e928d58e28967472b3a",
            "6a37243d493c42438a6248335098f1ec",
            "c44eace1efba4b7a9a16bf319f6586d7",
            "e2d39f04ccbd4584b7f4af0ffb600189",
            "84b5cda04b144037ba5a37250a6b5b9d",
            "6907f6ab92394cbea42df9bff27e3946",
            "a8a64ebfa4164b428495961e4205f5cf",
            "489b789027bb4b21953e9a37fd8226e8",
            "2d287b53de3843c8a00964945062f17c",
            "58d611ad0aa3454c902f5d26156eff93",
            "d7133044206c4605840ec71a96eed2b6",
            "cc4f48e2952542038a42ab62d9fc801d"
          ]
        },
        "id": "rzQhRPdtzLsr",
        "outputId": "57575660-4a28-421c-b5b7-022d379bfe54"
      },
      "outputs": [
        {
          "data": {
            "text/plain": [
              "DatasetDict({\n",
              "    train: Dataset({\n",
              "        features: ['parsed', 'total_mark'],\n",
              "        num_rows: 100834\n",
              "    })\n",
              "})"
            ]
          },
          "execution_count": 2,
          "metadata": {},
          "output_type": "execute_result"
        }
      ],
      "source": [
        "ds = datasets.load_dataset(\"igorktech/anekdots_dialogs\")\n",
        "ds = ds.remove_columns(['original','date', 'downvote', 'total_votes', 'upvote', 'hash', 'alpha_frac', 'LDR', 'days_since_publication', 'time_decay', 'LDR_time_decay'])\n",
        "ds"
      ]
    },
    {
      "cell_type": "code",
      "execution_count": 3,
      "id": "faa6c6cd",
      "metadata": {},
      "outputs": [
        {
          "data": {
            "text/plain": [
              "[{'turns': [{'speaker_name': '', 'phrase': 'Вы в цирк пойдете?'},\n",
              "   {'speaker_name': '', 'phrase': 'Нет, я новости смотрел.'}]},\n",
              " {'turns': [{'speaker_name': '', 'phrase': 'Моряки не плавают, а ходят.'},\n",
              "   {'speaker_name': '',\n",
              "    'phrase': 'Нет, по воде ходил только Иисуc Христос.'}]},\n"
            ]
          },
          "execution_count": 3,
          "metadata": {},
          "output_type": "execute_result"
        }
      ],
      "source": [
        "ds[\"train\"][\"parsed\"][:2]"
      ]
    },
    {
      "cell_type": "code",
      "execution_count": 4,
      "id": "orl9nLCS2c0x",
      "metadata": {
        "colab": {
          "base_uri": "https://localhost:8080/"
        },
        "id": "orl9nLCS2c0x",
        "outputId": "6b3cc5e6-27ea-4fc6-ec54-c3da1f1349cc"
      },
      "outputs": [
        {
          "name": "stdout",
          "output_type": "stream",
          "text": [
            "48032\n"
          ]
        }
      ],
      "source": [
        "filtered_ds = [i for i in ds['train'] if len(i['parsed']['turns']) == 2]\n",
        "print(len(filtered_ds))"
      ]
    },
    {
      "cell_type": "code",
      "execution_count": 5,
      "id": "h-I9-h2XzX_w",
      "metadata": {
        "colab": {
          "base_uri": "https://localhost:8080/",
          "height": 206
        },
        "id": "h-I9-h2XzX_w",
        "outputId": "81c09973-6634-4f14-d617-f4491b5f9cf4"
      },
      "outputs": [
        {
          "data": {
            "text/html": [
              "<div>\n",
              "<style scoped>\n",
              "    .dataframe tbody tr th:only-of-type {\n",
              "        vertical-align: middle;\n",
              "    }\n",
              "\n",
              "    .dataframe tbody tr th {\n",
              "        vertical-align: top;\n",
              "    }\n",
              "\n",
              "    .dataframe thead th {\n",
              "        text-align: right;\n",
              "    }\n",
              "</style>\n",
              "<table border=\"1\" class=\"dataframe\">\n",
              "  <thead>\n",
              "    <tr style=\"text-align: right;\">\n",
              "      <th></th>\n",
              "      <th>parsed</th>\n",
              "      <th>total_mark</th>\n",
              "    </tr>\n",
              "  </thead>\n",
              "  <tbody>\n",
              "    <tr>\n",
              "      <th>0</th>\n",
              "      <td>{'turns': [{'speaker_name': '', 'phrase': 'Вы ...</td>\n",
              "      <td>227</td>\n",
              "    </tr>\n",
              "    <tr>\n",
              "      <th>1</th>\n",
              "      <td>{'turns': [{'speaker_name': '', 'phrase': 'Мор...</td>\n",
              "      <td>4</td>\n",
              "    </tr>\n",
              "    <tr>\n",
              "      <th>2</th>\n",
              "      <td>{'turns': [{'speaker_name': '', 'phrase': 'Как...</td>\n",
              "      <td>-3</td>\n",
              "    </tr>\n",
              "    <tr>\n",
              "      <th>3</th>\n",
              "      <td>{'turns': [{'speaker_name': '', 'phrase': 'Слы...</td>\n",
              "      <td>-5</td>\n",
              "    </tr>\n",
              "    <tr>\n",
              "      <th>4</th>\n",
              "      <td>{'turns': [{'speaker_name': '', 'phrase': 'Что...</td>\n",
              "      <td>-9</td>\n",
              "    </tr>\n",
              "  </tbody>\n",
              "</table>\n",
              "</div>"
            ],
            "text/plain": [
              "                                              parsed  total_mark\n",
              "0  {'turns': [{'speaker_name': '', 'phrase': 'Вы ...         227\n",
              "1  {'turns': [{'speaker_name': '', 'phrase': 'Мор...           4\n",
              "2  {'turns': [{'speaker_name': '', 'phrase': 'Как...          -3\n",
              "3  {'turns': [{'speaker_name': '', 'phrase': 'Слы...          -5\n",
              "4  {'turns': [{'speaker_name': '', 'phrase': 'Что...          -9"
            ]
          },
          "execution_count": 5,
          "metadata": {},
          "output_type": "execute_result"
        }
      ],
      "source": [
        "df = pd.DataFrame.from_dict(filtered_ds)\n",
        "df.head()"
      ]
    },
    {
      "cell_type": "code",
      "execution_count": 6,
      "id": "KzOOn5b20hme",
      "metadata": {
        "colab": {
          "base_uri": "https://localhost:8080/",
          "height": 206
        },
        "id": "KzOOn5b20hme",
        "outputId": "2475a5f6-291c-49a7-b411-f11945ae5a6d"
      },
      "outputs": [
        {
          "data": {
            "text/html": [
              "<div>\n",
              "<style scoped>\n",
              "    .dataframe tbody tr th:only-of-type {\n",
              "        vertical-align: middle;\n",
              "    }\n",
              "\n",
              "    .dataframe tbody tr th {\n",
              "        vertical-align: top;\n",
              "    }\n",
              "\n",
              "    .dataframe thead th {\n",
              "        text-align: right;\n",
              "    }\n",
              "</style>\n",
              "<table border=\"1\" class=\"dataframe\">\n",
              "  <thead>\n",
              "    <tr style=\"text-align: right;\">\n",
              "      <th></th>\n",
              "      <th>parsed</th>\n",
              "      <th>total_mark</th>\n",
              "    </tr>\n",
              "  </thead>\n",
              "  <tbody>\n",
              "    <tr>\n",
              "      <th>4673</th>\n",
              "      <td>{'turns': [{'speaker_name': 'Дворецкий', 'phra...</td>\n",
              "      <td>4060</td>\n",
              "    </tr>\n",
              "    <tr>\n",
              "      <th>9514</th>\n",
              "      <td>{'turns': [{'speaker_name': 'Ученики', 'phrase...</td>\n",
              "      <td>3145</td>\n",
              "    </tr>\n",
              "    <tr>\n",
              "      <th>28556</th>\n",
              "      <td>{'turns': [{'speaker_name': 'Москвичка', 'phra...</td>\n",
              "      <td>3061</td>\n",
              "    </tr>\n",
              "    <tr>\n",
              "      <th>5395</th>\n",
              "      <td>{'turns': [{'speaker_name': 'Водитель', 'phras...</td>\n",
              "      <td>2376</td>\n",
              "    </tr>\n",
              "    <tr>\n",
              "      <th>38011</th>\n",
              "      <td>{'turns': [{'speaker_name': '', 'phrase': 'У в...</td>\n",
              "      <td>2295</td>\n",
              "    </tr>\n",
              "  </tbody>\n",
              "</table>\n",
              "</div>"
            ],
            "text/plain": [
              "                                                  parsed  total_mark\n",
              "4673   {'turns': [{'speaker_name': 'Дворецкий', 'phra...        4060\n",
              "9514   {'turns': [{'speaker_name': 'Ученики', 'phrase...        3145\n",
              "28556  {'turns': [{'speaker_name': 'Москвичка', 'phra...        3061\n",
              "5395   {'turns': [{'speaker_name': 'Водитель', 'phras...        2376\n",
              "38011  {'turns': [{'speaker_name': '', 'phrase': 'У в...        2295"
            ]
          },
          "execution_count": 6,
          "metadata": {},
          "output_type": "execute_result"
        }
      ],
      "source": [
        "top_df = df.sort_values('total_mark',ascending=False).iloc[0:30000]\n",
        "top_df.head()"
      ]
    },
    {
      "cell_type": "code",
      "execution_count": 7,
      "id": "ceb77ddd",
      "metadata": {},
      "outputs": [
        {
          "data": {
            "text/plain": [
              "{'turns': [{'speaker_name': '', 'phrase': 'Вы в цирк пойдете?'},\n",
              "  {'speaker_name': '', 'phrase': 'Нет, я новости смотрел.'}]}"
            ]
          },
          "execution_count": 7,
          "metadata": {},
          "output_type": "execute_result"
        }
      ],
      "source": [
        "top_df[\"parsed\"][0]"
      ]
    },
    {
      "cell_type": "markdown",
      "id": "bUnGZ5BkEEXg",
      "metadata": {
        "id": "bUnGZ5BkEEXg"
      },
      "source": [
        "# Decoder only"
      ]
    },
    {
      "cell_type": "markdown",
      "id": "-yJy9q9mEMfF",
      "metadata": {
        "id": "-yJy9q9mEMfF"
      },
      "source": [
        "## Model"
      ]
    },
    {
      "cell_type": "code",
      "execution_count": 8,
      "id": "oHJlwa6JEMfO",
      "metadata": {
        "id": "oHJlwa6JEMfO"
      },
      "outputs": [],
      "source": [
        "model_path = 'ai-forever/rugpt3small_based_on_gpt2'"
      ]
    },
    {
      "cell_type": "code",
      "execution_count": 9,
      "id": "5rAckMrtEjc_",
      "metadata": {
        "id": "5rAckMrtEjc_"
      },
      "outputs": [],
      "source": [
        "tokenizer = AutoTokenizer.from_pretrained(model_path)\n",
        "model = AutoModelForCausalLM.from_pretrained(model_path)"
      ]
    },
    {
      "cell_type": "markdown",
      "id": "eqpidFNrEMfP",
      "metadata": {
        "collapsed": false,
        "id": "eqpidFNrEMfP"
      },
      "source": [
        "## Test run"
      ]
    },
    {
      "cell_type": "code",
      "execution_count": 10,
      "id": "wCbk4FJeEMfP",
      "metadata": {
        "ExecuteTime": {
          "end_time": "2024-03-25T22:53:46.011070Z",
          "start_time": "2024-03-25T22:53:46.004069Z"
        },
        "id": "wCbk4FJeEMfP"
      },
      "outputs": [],
      "source": [
        "text = 'Сколько человек нужно, чтобы закрутить лампочку?'\n",
        "inputs = tokenizer(text, return_tensors='pt')"
      ]
    },
    {
      "cell_type": "code",
      "execution_count": 11,
      "id": "SFf_V75qEMfP",
      "metadata": {
        "ExecuteTime": {
          "end_time": "2024-03-25T22:53:48.039738Z",
          "start_time": "2024-03-25T22:53:47.872437Z"
        },
        "id": "SFf_V75qEMfP"
      },
      "outputs": [],
      "source": [
        "with torch.no_grad():\n",
        "    # https://huggingface.co/docs/transformers/main/en/main_classes/text_generation\n",
        "    hypotheses = model.generate(\n",
        "        **inputs,\n",
        "        temperature=0.9,\n",
        "        do_sample=True,  # sampling or greedy decoding\n",
        "        # (at each decoding step selects the token with the highest prob without considering the impact on future tokens)\n",
        "        top_p=0.7,\n",
        "        num_return_sequences=3,\n",
        "        repetition_penalty=2.5,  # https://arxiv.org/pdf/1909.05858.pdf\n",
        "        max_length=32,\n",
        "    )"
      ]
    },
    {
      "cell_type": "code",
      "execution_count": 12,
      "id": "Pu1x5_uqEMfQ",
      "metadata": {
        "ExecuteTime": {
          "end_time": "2024-03-25T22:53:49.360299Z",
          "start_time": "2024-03-25T22:53:49.345792Z"
        },
        "colab": {
          "base_uri": "https://localhost:8080/"
        },
        "id": "Pu1x5_uqEMfQ",
        "outputId": "e92ae964-629e-4c53-bf53-269055726ed4"
      },
      "outputs": [
        {
          "name": "stdout",
          "output_type": "stream",
          "text": [
            "Сколько человек нужно, чтобы закрутить лампочку?\n",
            "Для начала определитесь с тем в какой квартире проводите свет. Есть ли у вас место для ночника\n",
            "\n",
            "Сколько человек нужно, чтобы закрутить лампочку?\n",
            "А я думаю что не больше 10. И это если лампочки установлены в помещении или на улице - и то\n",
            "\n",
            "Сколько человек нужно, чтобы закрутить лампочку?\n",
            "У меня есть 3 лампы накаливания. А вообще я считаю что лампочки надо крутиться по часовой стрел\n",
            "\n"
          ]
        }
      ],
      "source": [
        "for h in hypotheses:\n",
        "    print(tokenizer.decode(h, skip_special_tokens=True), end='\\n\\n')"
      ]
    },
    {
      "cell_type": "markdown",
      "id": "uu-40wRgEMfQ",
      "metadata": {
        "id": "uu-40wRgEMfQ"
      },
      "source": [
        "## Data Prep"
      ]
    },
    {
      "cell_type": "code",
      "execution_count": 13,
      "id": "3W3RiPPdEMfQ",
      "metadata": {
        "ExecuteTime": {
          "end_time": "2024-03-25T22:54:05.334241Z",
          "start_time": "2024-03-25T22:54:05.327685Z"
        },
        "id": "3W3RiPPdEMfQ"
      },
      "outputs": [],
      "source": [
        "def tokenize_data(tokenizer, data, column_name, max_length=128):\n",
        "    source_texts = data[column_name].tolist()\n",
        "    tokens = tokenizer(\n",
        "        source_texts,\n",
        "        max_length=max_length,\n",
        "        padding='max_length',\n",
        "        padding_side=\"right\",\n",
        "        truncation=True,\n",
        "        add_special_tokens=True,\n",
        "        return_tensors='pt',\n",
        "    )\n",
        "    return tokens"
      ]
    },
    {
      "cell_type": "code",
      "execution_count": 14,
      "id": "WV-ywVdYSirU",
      "metadata": {
        "id": "WV-ywVdYSirU"
      },
      "outputs": [],
      "source": [
        "train, other = train_test_split(top_df, test_size=0.2, random_state=42)\n",
        "test, valid = train_test_split(other, test_size=0.5, random_state=42)"
      ]
    },
    {
      "cell_type": "code",
      "execution_count": 15,
      "id": "39325w8GR5zN",
      "metadata": {
        "id": "39325w8GR5zN"
      },
      "outputs": [],
      "source": [
        "train['text'] = train.apply(lambda x: '<s> Первый: ' + x['parsed']['turns'][0]['phrase'] + ' Второй: ' + x['parsed']['turns'][1]['phrase'] + '</s>', axis=1)\n",
        "valid['text'] = valid.apply(lambda x: '<s> Первый: ' + x['parsed']['turns'][0]['phrase'] + ' Второй: ' + x['parsed']['turns'][1]['phrase'] + '</s>', axis=1)\n",
        "test['text'] = test.apply(lambda x: '<s> Первый: ' + x['parsed']['turns'][0]['phrase'] + ' Второй: ' + x['parsed']['turns'][1]['phrase'] + '</s>', axis=1)"
      ]
    },
    {
      "cell_type": "code",
      "execution_count": 16,
      "id": "LtE8fac3TJk9",
      "metadata": {
        "colab": {
          "base_uri": "https://localhost:8080/",
          "height": 36
        },
        "id": "LtE8fac3TJk9",
        "outputId": "8d50e2ca-9949-4071-d6ee-638c6be9e7f3"
      },
      "outputs": [
        {
          "data": {
            "text/plain": [
              "'<s> Первый: блядь, кто ни будь может объяснить, почему у нас  не регистрируют лекарства, которые необходимы детям,  ежедневно показываемым по телевизору с просьбой к населению скинутся  на эти лекарства? Второй: ждут, наверное, когда потерявшее терпение население скинется в бюджет на регистрацию этих лекарств...</s>'"
            ]
          },
          "execution_count": 16,
          "metadata": {},
          "output_type": "execute_result"
        }
      ],
      "source": [
        "valid['text'].iloc[1]"
      ]
    },
    {
      "cell_type": "code",
      "execution_count": 17,
      "id": "0ef5ff9c",
      "metadata": {},
      "outputs": [
        {
          "data": {
            "text/plain": [
              "9045     {'turns': [{'speaker_name': '', 'phrase': 'Про...\n",
              "34853    {'turns': [{'speaker_name': '', 'phrase': 'бля...\n",
              "45580    {'turns': [{'speaker_name': '', 'phrase': 'А г...\n",
              "20927    {'turns': [{'speaker_name': 'Пациент', 'phrase...\n",
              "32292    {'turns': [{'speaker_name': '', 'phrase': 'Слы...\n",
              "35362    {'turns': [{'speaker_name': '', 'phrase': 'Бэр...\n",
              "22546    {'turns': [{'speaker_name': '', 'phrase': 'Дол...\n",
              "8898     {'turns': [{'speaker_name': '', 'phrase': 'А т...\n",
              "4805     {'turns': [{'speaker_name': '', 'phrase': 'От ...\n",
              "19228    {'turns': [{'speaker_name': 'Учитель', 'phrase...\n",
              "Name: parsed, dtype: object"
            ]
          },
          "execution_count": 17,
          "metadata": {},
          "output_type": "execute_result"
        }
      ],
      "source": [
        "valid[\"parsed\"].head(10)"
      ]
    },
    {
      "cell_type": "code",
      "execution_count": 18,
      "id": "v_7zBPUfEMfQ",
      "metadata": {
        "ExecuteTime": {
          "end_time": "2024-03-25T22:54:09.234538Z",
          "start_time": "2024-03-25T22:54:06.421363Z"
        },
        "id": "v_7zBPUfEMfQ"
      },
      "outputs": [],
      "source": [
        "train_tokens = tokenize_data(tokenizer, train, column_name='text')\n",
        "val_tokens = tokenize_data(tokenizer, valid, column_name='text')\n",
        "test_tokens = tokenize_data(tokenizer, test, column_name='text')"
      ]
    },
    {
      "cell_type": "code",
      "execution_count": 19,
      "id": "78ff1b78",
      "metadata": {},
      "outputs": [
        {
          "data": {
            "text/plain": [
              "tensor([    1,  7200,    30,   439,  2006,   282,  1175,  1003,   478, 35959,\n",
              "          308,   414,   318,  9519,  7409,    30, 16345, 14113, 43508,     5,\n",
              "            2,     0,     0,     0,     0,     0,     0,     0,     0,     0,\n",
              "            0,     0,     0,     0,     0,     0,     0,     0,     0,     0,\n",
              "            0,     0,     0,     0,     0,     0,     0,     0,     0,     0,\n",
              "            0,     0,     0,     0,     0,     0,     0,     0,     0,     0,\n",
              "            0,     0,     0,     0,     0,     0,     0,     0,     0,     0,\n",
              "            0,     0,     0,     0,     0,     0,     0,     0,     0,     0,\n",
              "            0,     0,     0,     0,     0,     0,     0,     0,     0,     0,\n",
              "            0,     0,     0,     0,     0,     0,     0,     0,     0,     0,\n",
              "            0,     0,     0,     0,     0,     0,     0,     0,     0,     0,\n",
              "            0,     0,     0,     0,     0,     0,     0,     0,     0,     0,\n",
              "            0,     0,     0,     0,     0,     0,     0,     0])"
            ]
          },
          "execution_count": 19,
          "metadata": {},
          "output_type": "execute_result"
        }
      ],
      "source": [
        "train_tokens['input_ids'][125]"
      ]
    },
    {
      "cell_type": "code",
      "execution_count": 20,
      "id": "AcpY0WrWEMfR",
      "metadata": {
        "ExecuteTime": {
          "end_time": "2024-03-25T22:54:10.016632Z",
          "start_time": "2024-03-25T22:54:10.009961Z"
        },
        "id": "AcpY0WrWEMfR"
      },
      "outputs": [],
      "source": [
        "train_dataset = TensorDataset(\n",
        "    train_tokens['input_ids'],\n",
        "    train_tokens['attention_mask'],\n",
        ")\n",
        "\n",
        "val_dataset = TensorDataset(\n",
        "    val_tokens['input_ids'],\n",
        "    val_tokens['attention_mask'],\n",
        ")\n",
        "\n",
        "test_dataset = TensorDataset(\n",
        "    test_tokens['input_ids'],\n",
        "    test_tokens['attention_mask'],\n",
        ")"
      ]
    },
    {
      "cell_type": "code",
      "execution_count": 21,
      "id": "Ke0iQe_VEMfR",
      "metadata": {
        "ExecuteTime": {
          "end_time": "2024-03-25T22:54:11.330202Z",
          "start_time": "2024-03-25T22:54:11.321267Z"
        },
        "id": "Ke0iQe_VEMfR"
      },
      "outputs": [],
      "source": [
        "train_loader = DataLoader(train_dataset, batch_size=8, shuffle=True)\n",
        "val_loader = DataLoader(val_dataset, batch_size=8, shuffle=False)\n",
        "test_loader = DataLoader(test_dataset, batch_size=8, shuffle=False)"
      ]
    },
    {
      "cell_type": "markdown",
      "id": "iRQ32zq_EMfR",
      "metadata": {
        "collapsed": false,
        "id": "iRQ32zq_EMfR"
      },
      "source": [
        "## Fine-Tuning"
      ]
    },
    {
      "cell_type": "code",
      "execution_count": 22,
      "id": "sgYBn4OIEMfR",
      "metadata": {
        "ExecuteTime": {
          "end_time": "2024-03-25T22:54:12.026130Z",
          "start_time": "2024-03-25T22:54:12.021146Z"
        },
        "colab": {
          "base_uri": "https://localhost:8080/"
        },
        "id": "sgYBn4OIEMfR",
        "outputId": "b9d512cb-ee55-419d-8c77-cdd3803537cb"
      },
      "outputs": [
        {
          "name": "stdout",
          "output_type": "stream",
          "text": [
            "cuda\n"
          ]
        }
      ],
      "source": [
        "device = 'mps' if torch.backends.mps.is_built() else 'cuda' if torch.cuda.is_available() else 'cpu'\n",
        "\n",
        "print(device)"
      ]
    },
    {
      "cell_type": "code",
      "execution_count": 23,
      "id": "KpFMNrvtEMfR",
      "metadata": {
        "ExecuteTime": {
          "end_time": "2024-03-25T22:54:13.876977Z",
          "start_time": "2024-03-25T22:54:13.732487Z"
        },
        "colab": {
          "base_uri": "https://localhost:8080/"
        },
        "id": "KpFMNrvtEMfR",
        "outputId": "dac0c18b-c439-4025-c18f-42d80d1f7758"
      },
      "outputs": [
        {
          "data": {
            "text/plain": [
              "GPT2LMHeadModel(\n",
              "  (transformer): GPT2Model(\n",
              "    (wte): Embedding(50264, 768)\n",
              "    (wpe): Embedding(2048, 768)\n",
              "    (drop): Dropout(p=0.1, inplace=False)\n",
              "    (h): ModuleList(\n",
              "      (0-11): 12 x GPT2Block(\n",
              "        (ln_1): LayerNorm((768,), eps=1e-05, elementwise_affine=True)\n",
              "        (attn): GPT2SdpaAttention(\n",
              "          (c_attn): Conv1D(nf=2304, nx=768)\n",
              "          (c_proj): Conv1D(nf=768, nx=768)\n",
              "          (attn_dropout): Dropout(p=0.1, inplace=False)\n",
              "          (resid_dropout): Dropout(p=0.1, inplace=False)\n",
              "        )\n",
              "        (ln_2): LayerNorm((768,), eps=1e-05, elementwise_affine=True)\n",
              "        (mlp): GPT2MLP(\n",
              "          (c_fc): Conv1D(nf=3072, nx=768)\n",
              "          (c_proj): Conv1D(nf=768, nx=3072)\n",
              "          (act): NewGELUActivation()\n",
              "          (dropout): Dropout(p=0.1, inplace=False)\n",
              "        )\n",
              "      )\n",
              "    )\n",
              "    (ln_f): LayerNorm((768,), eps=1e-05, elementwise_affine=True)\n",
              "  )\n",
              "  (lm_head): Linear(in_features=768, out_features=50264, bias=False)\n",
              ")"
            ]
          },
          "execution_count": 23,
          "metadata": {},
          "output_type": "execute_result"
        }
      ],
      "source": [
        "model.to(device)"
      ]
    },
    {
      "cell_type": "code",
      "execution_count": 24,
      "id": "ad_OVASCEMfS",
      "metadata": {
        "ExecuteTime": {
          "end_time": "2024-03-25T22:54:19.249082Z",
          "start_time": "2024-03-25T22:54:18.853220Z"
        },
        "id": "ad_OVASCEMfS"
      },
      "outputs": [],
      "source": [
        "optimizer = torch.optim.AdamW(model.parameters(), lr=1e-5)"
      ]
    },
    {
      "cell_type": "code",
      "execution_count": 25,
      "id": "owzk6RiOEMfS",
      "metadata": {
        "ExecuteTime": {
          "end_time": "2024-03-26T12:15:05.202897Z",
          "start_time": "2024-03-26T12:15:05.195129Z"
        },
        "id": "owzk6RiOEMfS"
      },
      "outputs": [],
      "source": [
        "from torch.utils.data import DataLoader\n",
        "from tqdm import tqdm\n",
        "\n",
        "\n",
        "def train_epoch(\n",
        "        model,\n",
        "        loader: DataLoader,\n",
        "        epoch,\n",
        "        num_epochs,\n",
        "        optimizer,\n",
        "        mode,\n",
        "):\n",
        "    total_loss = 0\n",
        "\n",
        "    for x_input_ids, x_attention_mask in tqdm(loader, desc=f'{mode} epoch {epoch}/{num_epochs}...'):\n",
        "        if mode == 'Training':\n",
        "            optimizer.zero_grad()\n",
        "\n",
        "        x_input_ids = x_input_ids.to(device)\n",
        "        x_attention_mask = x_attention_mask.to(device)\n",
        "\n",
        "        outputs = model(\n",
        "            input_ids=x_input_ids,\n",
        "            attention_mask=x_attention_mask,\n",
        "            labels=x_input_ids,\n",
        "            return_dict=True,\n",
        "        )\n",
        "        outputs_loss = outputs.loss\n",
        "        total_loss += outputs_loss.item()\n",
        "\n",
        "        if mode == 'Training':\n",
        "            outputs_loss.backward()\n",
        "            optimizer.step()\n",
        "\n",
        "    loss = total_loss / len(loader)\n",
        "    print(f'{mode} epoch {epoch + 1}/{num_epochs}: {mode} Loss: {loss:.4f}')"
      ]
    },
    {
      "cell_type": "code",
      "execution_count": 26,
      "id": "yrqacQIrEMfS",
      "metadata": {
        "ExecuteTime": {
          "end_time": "2024-03-25T22:54:35.463895Z",
          "start_time": "2024-03-25T22:54:35.453001Z"
        },
        "id": "yrqacQIrEMfS"
      },
      "outputs": [],
      "source": [
        "def train(\n",
        "        model,\n",
        "        train_loader,\n",
        "        val_loader,\n",
        "        optimizer,\n",
        "        num_epochs=5,\n",
        "):\n",
        "    for epoch in range(num_epochs):\n",
        "        model.train()\n",
        "\n",
        "        train_epoch(model, train_loader, epoch, num_epochs, optimizer, mode='Training')\n",
        "\n",
        "        model.eval()\n",
        "\n",
        "        with torch.no_grad():\n",
        "            train_epoch(model, val_loader, epoch, num_epochs, optimizer, mode='Validating')"
      ]
    },
    {
      "cell_type": "code",
      "execution_count": 27,
      "id": "YXYLsCaNEMfS",
      "metadata": {
        "ExecuteTime": {
          "end_time": "2024-03-25T23:30:29.590033Z",
          "start_time": "2024-03-25T22:54:38.334902Z"
        },
        "colab": {
          "base_uri": "https://localhost:8080/"
        },
        "id": "YXYLsCaNEMfS",
        "outputId": "4f607e4c-ec7a-4cc7-b841-0ee376fe755e"
      },
      "outputs": [
        {
          "name": "stderr",
          "output_type": "stream",
          "text": [
            "Training epoch 0/4...:   0%|          | 0/3000 [00:00<?, ?it/s]c:\\Users\\user\\miniconda3\\Lib\\site-packages\\transformers\\models\\gpt2\\modeling_gpt2.py:545: UserWarning: 1Torch was not compiled with flash attention. (Triggered internally at ..\\aten\\src\\ATen\\native\\transformers\\cuda\\sdp_utils.cpp:263.)\n",
            "  attn_output = torch.nn.functional.scaled_dot_product_attention(\n",
            "Training epoch 0/4...: 100%|██████████| 3000/3000 [09:01<00:00,  5.54it/s]\n"
          ]
        },
        {
          "name": "stdout",
          "output_type": "stream",
          "text": [
            "Training epoch 1/4: Training Loss: 0.9524\n"
          ]
        },
        {
          "name": "stderr",
          "output_type": "stream",
          "text": [
            "Validating epoch 0/4...: 100%|██████████| 375/375 [00:17<00:00, 21.15it/s]\n"
          ]
        },
        {
          "name": "stdout",
          "output_type": "stream",
          "text": [
            "Validating epoch 1/4: Validating Loss: 0.7873\n"
          ]
        },
        {
          "name": "stderr",
          "output_type": "stream",
          "text": [
            "Training epoch 1/4...: 100%|██████████| 3000/3000 [09:03<00:00,  5.52it/s]\n"
          ]
        },
        {
          "name": "stdout",
          "output_type": "stream",
          "text": [
            "Training epoch 2/4: Training Loss: 0.7948\n"
          ]
        },
        {
          "name": "stderr",
          "output_type": "stream",
          "text": [
            "Validating epoch 1/4...: 100%|██████████| 375/375 [00:18<00:00, 20.72it/s]\n"
          ]
        },
        {
          "name": "stdout",
          "output_type": "stream",
          "text": [
            "Validating epoch 2/4: Validating Loss: 0.7817\n"
          ]
        },
        {
          "name": "stderr",
          "output_type": "stream",
          "text": [
            "Training epoch 2/4...: 100%|██████████| 3000/3000 [09:03<00:00,  5.52it/s]\n"
          ]
        },
        {
          "name": "stdout",
          "output_type": "stream",
          "text": [
            "Training epoch 3/4: Training Loss: 0.7579\n"
          ]
        },
        {
          "name": "stderr",
          "output_type": "stream",
          "text": [
            "Validating epoch 2/4...: 100%|██████████| 375/375 [00:18<00:00, 20.79it/s]\n"
          ]
        },
        {
          "name": "stdout",
          "output_type": "stream",
          "text": [
            "Validating epoch 3/4: Validating Loss: 0.7820\n"
          ]
        },
        {
          "name": "stderr",
          "output_type": "stream",
          "text": [
            "Training epoch 3/4...: 100%|██████████| 3000/3000 [08:56<00:00,  5.59it/s]\n"
          ]
        },
        {
          "name": "stdout",
          "output_type": "stream",
          "text": [
            "Training epoch 4/4: Training Loss: 0.7255\n"
          ]
        },
        {
          "name": "stderr",
          "output_type": "stream",
          "text": [
            "Validating epoch 3/4...: 100%|██████████| 375/375 [00:17<00:00, 21.34it/s]"
          ]
        },
        {
          "name": "stdout",
          "output_type": "stream",
          "text": [
            "Validating epoch 4/4: Validating Loss: 0.7865\n"
          ]
        },
        {
          "name": "stderr",
          "output_type": "stream",
          "text": [
            "\n"
          ]
        }
      ],
      "source": [
        "train(model, train_loader, val_loader, optimizer, num_epochs=4)"
      ]
    },
    {
      "cell_type": "code",
      "execution_count": 28,
      "id": "o1kD3qOtat_I",
      "metadata": {
        "id": "o1kD3qOtat_I"
      },
      "outputs": [],
      "source": [
        "text = '<s> Первый: Сколько человек нужно, чтобы закрутить лампочку? Второй: '\n",
        "# inputs = tokenizer(text, return_tensors='pt',padding_side=\"right\",)\n",
        "inputs = tokenizer(\n",
        "        text,\n",
        "        add_special_tokens=True,\n",
        "        return_tensors='pt',    )"
      ]
    },
    {
      "cell_type": "code",
      "execution_count": 29,
      "id": "6c54Ne2kOV9k",
      "metadata": {
        "id": "6c54Ne2kOV9k"
      },
      "outputs": [],
      "source": [
        "inputs['input_ids'] = inputs['input_ids'].cuda()\n",
        "inputs['attention_mask'] = inputs['attention_mask'].cuda()"
      ]
    },
    {
      "cell_type": "code",
      "execution_count": 30,
      "id": "5a7cd0a0",
      "metadata": {},
      "outputs": [
        {
          "data": {
            "text/plain": [
              "tensor([[    1,  7200,    30,  7883,  1135,  1513,    16,   753, 30629,  1938,\n",
              "          7721, 39778,    35,  7409,    30,   225]], device='cuda:0')"
            ]
          },
          "execution_count": 30,
          "metadata": {},
          "output_type": "execute_result"
        }
      ],
      "source": [
        "inputs['input_ids']"
      ]
    },
    {
      "cell_type": "code",
      "execution_count": 31,
      "id": "Bhr-LmVOEMfS",
      "metadata": {
        "id": "Bhr-LmVOEMfS"
      },
      "outputs": [],
      "source": [
        "with torch.no_grad():\n",
        "    # https://huggingface.co/docs/transformers/main/en/main_classes/text_generation\n",
        "    hypotheses = model.generate(\n",
        "        **inputs,\n",
        "        temperature=0.8,\n",
        "        do_sample=True,  # sampling or greedy decoding\n",
        "        # (at each decoding step selects the token with the highest prob without considering the impact on future tokens)\n",
        "        top_p=0.7,\n",
        "        num_return_sequences=3,\n",
        "        repetition_penalty=2.5,  # https://arxiv.org/pdf/1909.05858.pdf\n",
        "        max_new_tokens=128,\n",
        "    )"
      ]
    },
    {
      "cell_type": "code",
      "execution_count": 32,
      "id": "qGFV9FyuEMfT",
      "metadata": {
        "colab": {
          "base_uri": "https://localhost:8080/"
        },
        "id": "qGFV9FyuEMfT",
        "outputId": "ec60e7bb-4cc7-49d4-94e1-a88299432885"
      },
      "outputs": [
        {
          "name": "stdout",
          "output_type": "stream",
          "text": [
            "\n",
            " Первый: Сколько человек нужно, чтобы закрутить лампочку? Второй:  Пять.\n",
            "\n",
            " Первый: Сколько человек нужно, чтобы закрутить лампочку? Второй:  Достаточно одного.\n",
            "\n",
            " Первый: Сколько человек нужно, чтобы закрутить лампочку? Второй:  Не знаю. Я не специалист по этой части...\n"
          ]
        }
      ],
      "source": [
        "for h in hypotheses:\n",
        "    print()\n",
        "    print(tokenizer.decode(h, skip_special_tokens=True))"
      ]
    },
    {
      "cell_type": "markdown",
      "id": "ArFkq0JYEMfT",
      "metadata": {
        "collapsed": false,
        "id": "ArFkq0JYEMfT"
      },
      "source": [
        "## Evaluating BLEU on val dataset"
      ]
    },
    {
      "cell_type": "code",
      "execution_count": 33,
      "id": "v96J65ETEMfT",
      "metadata": {
        "id": "v96J65ETEMfT"
      },
      "outputs": [],
      "source": [
        "def generate(\n",
        "        model,\n",
        "        inputs,\n",
        "        num_return_sequences=5,\n",
        "):\n",
        "    return model.generate(\n",
        "        **inputs,\n",
        "        temperature=0.9,\n",
        "        do_sample=True,\n",
        "        top_p=0.7,\n",
        "        num_return_sequences=num_return_sequences,\n",
        "        repetition_penalty=2.5,\n",
        "        max_length=128,\n",
        "    )"
      ]
    },
    {
      "cell_type": "code",
      "execution_count": 34,
      "id": "HBfUOVHiEMfT",
      "metadata": {
        "id": "HBfUOVHiEMfT"
      },
      "outputs": [],
      "source": [
        "initial_model = AutoModelForCausalLM.from_pretrained(model_path)\n",
        "initial_model = initial_model.to(device)"
      ]
    },
    {
      "cell_type": "code",
      "execution_count": 35,
      "id": "169a7e82",
      "metadata": {},
      "outputs": [
        {
          "data": {
            "text/plain": [
              "{'speaker_name': '',\n",
              " 'phrase': 'блядь, кто ни будь может объяснить, почему у нас  не регистрируют лекарства, которые необходимы детям,  ежедневно показываемым по телевизору с просьбой к населению скинутся  на эти лекарства?'}"
            ]
          },
          "execution_count": 35,
          "metadata": {},
          "output_type": "execute_result"
        }
      ],
      "source": [
        "valid[\"parsed\"].iloc[1][\"turns\"][0]"
      ]
    },
    {
      "cell_type": "code",
      "execution_count": 36,
      "id": "0fc5bdf9",
      "metadata": {},
      "outputs": [
        {
          "data": {
            "text/plain": [
              "9045     {'turns': [{'speaker_name': '', 'phrase': 'Про...\n",
              "34853    {'turns': [{'speaker_name': '', 'phrase': 'бля...\n",
              "45580    {'turns': [{'speaker_name': '', 'phrase': 'А г...\n",
              "20927    {'turns': [{'speaker_name': 'Пациент', 'phrase...\n",
              "32292    {'turns': [{'speaker_name': '', 'phrase': 'Слы...\n",
              "35362    {'turns': [{'speaker_name': '', 'phrase': 'Бэр...\n",
              "22546    {'turns': [{'speaker_name': '', 'phrase': 'Дол...\n",
              "8898     {'turns': [{'speaker_name': '', 'phrase': 'А т...\n",
              "4805     {'turns': [{'speaker_name': '', 'phrase': 'От ...\n",
              "19228    {'turns': [{'speaker_name': 'Учитель', 'phrase...\n",
              "Name: parsed, dtype: object"
            ]
          },
          "execution_count": 36,
          "metadata": {},
          "output_type": "execute_result"
        }
      ],
      "source": [
        "valid[\"parsed\"].head(10)"
      ]
    },
    {
      "cell_type": "code",
      "execution_count": 37,
      "id": "F5-SRuIPEMfT",
      "metadata": {
        "ExecuteTime": {
          "end_time": "2024-03-26T13:01:51.831041Z",
          "start_time": "2024-03-26T13:01:40.367030Z"
        },
        "colab": {
          "base_uri": "https://localhost:8080/"
        },
        "id": "F5-SRuIPEMfT",
        "outputId": "41fe6950-f2a2-4fb0-948d-28765b511f7f"
      },
      "outputs": [
        {
          "name": "stderr",
          "output_type": "stream",
          "text": [
            "100%|██████████| 100/100 [02:52<00:00,  1.72s/it]"
          ]
        },
        {
          "name": "stdout",
          "output_type": "stream",
          "text": [
            "\n",
            "avg bleu: 0.7447457104921341\n",
            "avg initial bleu: 0.6172576893866062\n"
          ]
        },
        {
          "name": "stderr",
          "output_type": "stream",
          "text": [
            "\n"
          ]
        }
      ],
      "source": [
        "bleu = BLEUScore(n_gram=1)\n",
        "avg_bleu_score = 0.\n",
        "avg_blue_score_org = 0.\n",
        "\n",
        "cnt = 100\n",
        "with torch.no_grad():\n",
        "    for _, row in tqdm(valid[\"parsed\"].head(cnt).items(), total=cnt):\n",
        "        source = 'Первый: ' + row['turns'][0]['phrase'] + ' Второй: '\n",
        "        target = 'Первый: ' + row['turns'][0]['phrase'] + ' Второй: ' + row['turns'][1]['phrase']  \n",
        "\n",
        "        inputs = tokenizer(source, return_tensors='pt')\n",
        "        for key in inputs.keys():\n",
        "            inputs[key] = inputs[key].to(device)\n",
        "\n",
        "        hypotheses = generate(model, inputs, num_return_sequences=1)\n",
        "        pred = tokenizer.decode(hypotheses[0], skip_special_tokens=True)\n",
        "\n",
        "        # shrinked_target = re.split('\\.|\\?', target)[0]\n",
        "        # shrinked_pred = re.split('\\.|\\?', pred)[0]\n",
        "\n",
        "        # metric = bleu(shrinked_pred, shrinked_target)\n",
        "        metric = bleu(target, pred)\n",
        "        avg_bleu_score += metric.item()\n",
        "\n",
        "\n",
        "        hypotheses = generate(initial_model, inputs, num_return_sequences=1)\n",
        "        pred = tokenizer.decode(hypotheses[0], skip_special_tokens=True)\n",
        "\n",
        "        # shrinked_target = re.split('\\.|\\?', target)[0]\n",
        "        # shrinked_pred = re.split('\\.|\\?', pred)[0]\n",
        "\n",
        "        # metric = bleu(shrinked_pred, shrinked_target)\n",
        "        metric = bleu(target, pred)\n",
        "        avg_blue_score_org += metric.item()\n",
        "\n",
        "print()\n",
        "print('avg bleu:', avg_bleu_score * 1. / cnt)\n",
        "print('avg initial bleu:', avg_blue_score_org * 1. / cnt)"
      ]
    },
    {
      "cell_type": "code",
      "execution_count": 38,
      "id": "4d547afb",
      "metadata": {},
      "outputs": [
        {
          "data": {
            "text/plain": [
              "'Первый: Мужики, у нас есть повод выпить? Второй: Повод - да! Выпить - нет!'"
            ]
          },
          "execution_count": 38,
          "metadata": {},
          "output_type": "execute_result"
        }
      ],
      "source": [
        "target"
      ]
    },
    {
      "cell_type": "code",
      "execution_count": 39,
      "id": "09bdb805",
      "metadata": {},
      "outputs": [
        {
          "data": {
            "text/plain": [
              "'Первый: Мужики, у нас есть повод выпить? Второй: ))))\\nЯ вот тоже... но я не пью. А то что сейчас все пьют и говорят - это хорошо!))))) ) Вот так-то... Но когда мы с женой выпили по рюмочке водки за здоровье мужа в этом году (с мужем), он сразу сказал мне \"давай!\" :-) И если бы она сказала еще раз на том же месте где была вчера или позавчера...а может быть вообще ничего этого тогда сказать было нельзя!!!А сегодня муж пьет водку как пьяный! Я его спрашиваю зачем? Он говорит а ты куда собрался??!! Да'"
            ]
          },
          "execution_count": 39,
          "metadata": {},
          "output_type": "execute_result"
        }
      ],
      "source": [
        "pred"
      ]
    },
    {
      "cell_type": "markdown",
      "id": "Ewhpeq1iEMfU",
      "metadata": {
        "collapsed": false,
        "id": "Ewhpeq1iEMfU"
      },
      "source": [
        "## Evaluating METEOR on val dataset"
      ]
    },
    {
      "cell_type": "code",
      "execution_count": 40,
      "id": "w3VWFwuAEMfU",
      "metadata": {
        "colab": {
          "base_uri": "https://localhost:8080/"
        },
        "id": "w3VWFwuAEMfU",
        "outputId": "18c895b1-d587-4ce0-b782-95c3365b0fd6"
      },
      "outputs": [
        {
          "name": "stderr",
          "output_type": "stream",
          "text": [
            "[nltk_data] Downloading package wordnet to\n",
            "[nltk_data]     C:\\Users\\user\\AppData\\Roaming\\nltk_data...\n",
            "[nltk_data]   Package wordnet is already up-to-date!\n",
            "[nltk_data] Downloading package punkt_tab to\n",
            "[nltk_data]     C:\\Users\\user\\AppData\\Roaming\\nltk_data...\n",
            "[nltk_data]   Package punkt_tab is already up-to-date!\n",
            "[nltk_data] Downloading package omw-1.4 to\n",
            "[nltk_data]     C:\\Users\\user\\AppData\\Roaming\\nltk_data...\n",
            "[nltk_data]   Package omw-1.4 is already up-to-date!\n"
          ]
        }
      ],
      "source": [
        "meteor = evaluate.load('meteor')"
      ]
    },
    {
      "cell_type": "code",
      "execution_count": 41,
      "id": "3epU7hNuEMfU",
      "metadata": {
        "ExecuteTime": {
          "end_time": "2024-03-26T20:57:22.051224Z",
          "start_time": "2024-03-26T20:57:02.860421Z"
        },
        "colab": {
          "base_uri": "https://localhost:8080/"
        },
        "id": "3epU7hNuEMfU",
        "outputId": "d8da8c51-9dc1-4835-9eb4-cc96686820e1"
      },
      "outputs": [
        {
          "name": "stderr",
          "output_type": "stream",
          "text": [
            "100%|██████████| 100/100 [03:00<00:00,  1.81s/it]"
          ]
        },
        {
          "name": "stdout",
          "output_type": "stream",
          "text": [
            "\n",
            "avg meteor: 0.6292897793398825\n",
            "avg initial meteor: 0.4643352057585915\n"
          ]
        },
        {
          "name": "stderr",
          "output_type": "stream",
          "text": [
            "\n"
          ]
        }
      ],
      "source": [
        "avg_meteor_score = 0.\n",
        "initial_meteor_score = 0.\n",
        "\n",
        "cnt = 100\n",
        "with torch.no_grad():\n",
        "    for _, row in tqdm(valid[\"parsed\"].head(cnt).items(), total=cnt):\n",
        "        source = 'Первый: ' + row['turns'][0]['phrase'] + ' Второй: '\n",
        "        target = 'Первый: ' + row['turns'][0]['phrase'] + ' Второй: ' + row['turns'][1]['phrase']  \n",
        "\n",
        "        inputs = tokenizer(source, return_tensors='pt')\n",
        "        for key in inputs.keys():\n",
        "            inputs[key] = inputs[key].to(device)\n",
        "        hypotheses = generate(model, inputs, num_return_sequences=1)\n",
        "        not_fine_tuned_hypotheses = generate(initial_model, inputs, num_return_sequences=1)\n",
        "\n",
        "        pred = tokenizer.decode(hypotheses[0], skip_special_tokens=True)\n",
        "        not_fine_tuned_preds = tokenizer.decode(not_fine_tuned_hypotheses[0], skip_special_tokens=True)\n",
        "\n",
        "\n",
        "\n",
        "        # shrinked_target = re.split('\\.|\\?', target)[0]\n",
        "        # shrinked_pred = re.split('\\.|\\?', pred)[0]\n",
        "        # shinked_initial_preds = re.split('\\.|\\?', not_fine_tuned_preds)[0]\n",
        "        \n",
        "\n",
        "        # metric = meteor.compute(predictions=[shrinked_pred], references=[shrinked_target])\n",
        "        # initial_metric = meteor.compute(predictions=[shinked_initial_preds], references=[shrinked_target])\n",
        "\n",
        "        metric = meteor.compute(predictions=[pred], references=[target])\n",
        "        initial_metric = meteor.compute(predictions=[not_fine_tuned_preds], references=[target])\n",
        "\n",
        "        avg_meteor_score += metric['meteor']\n",
        "        initial_meteor_score += initial_metric['meteor']\n",
        "\n",
        "print()\n",
        "print('avg meteor:', avg_meteor_score * 1. / cnt)\n",
        "print('avg initial meteor:', initial_meteor_score * 1. / cnt)"
      ]
    },
    {
      "cell_type": "code",
      "execution_count": 42,
      "id": "jC4wGpB0EMfU",
      "metadata": {
        "id": "jC4wGpB0EMfU"
      },
      "outputs": [],
      "source": [
        "results_dict = {}\n",
        "results_dict.update({\n",
        "    \"Decoder_only_initial\": {\"METEOR\": initial_meteor_score * 1. / cnt, \"BLEU\":avg_blue_score_org * 1. / cnt},\n",
        "    \"Decoder_only_tuned\": {\"METEOR\": avg_meteor_score * 1. / cnt, \"BLEU\":avg_bleu_score * 1. / cnt}\n",
        "})"
      ]
    },
    {
      "cell_type": "markdown",
      "id": "9ndHr3-KdgFp",
      "metadata": {
        "id": "9ndHr3-KdgFp"
      },
      "source": [
        "# Итоги"
      ]
    },
    {
      "cell_type": "code",
      "execution_count": 43,
      "id": "fux7XCBbbUrL",
      "metadata": {
        "colab": {
          "base_uri": "https://localhost:8080/",
          "height": 112
        },
        "id": "fux7XCBbbUrL",
        "outputId": "4eeb3f77-6f95-478a-83ac-353d06da6339"
      },
      "outputs": [
        {
          "data": {
            "text/html": [
              "<div>\n",
              "<style scoped>\n",
              "    .dataframe tbody tr th:only-of-type {\n",
              "        vertical-align: middle;\n",
              "    }\n",
              "\n",
              "    .dataframe tbody tr th {\n",
              "        vertical-align: top;\n",
              "    }\n",
              "\n",
              "    .dataframe thead th {\n",
              "        text-align: right;\n",
              "    }\n",
              "</style>\n",
              "<table border=\"1\" class=\"dataframe\">\n",
              "  <thead>\n",
              "    <tr style=\"text-align: right;\">\n",
              "      <th></th>\n",
              "      <th>Decoder_only_initial</th>\n",
              "      <th>Decoder_only_tuned</th>\n",
              "    </tr>\n",
              "  </thead>\n",
              "  <tbody>\n",
              "    <tr>\n",
              "      <th>METEOR</th>\n",
              "      <td>0.464335</td>\n",
              "      <td>0.629290</td>\n",
              "    </tr>\n",
              "    <tr>\n",
              "      <th>BLEU</th>\n",
              "      <td>0.617258</td>\n",
              "      <td>0.744746</td>\n",
              "    </tr>\n",
              "  </tbody>\n",
              "</table>\n",
              "</div>"
            ],
            "text/plain": [
              "        Decoder_only_initial  Decoder_only_tuned\n",
              "METEOR              0.464335            0.629290\n",
              "BLEU                0.617258            0.744746"
            ]
          },
          "execution_count": 43,
          "metadata": {},
          "output_type": "execute_result"
        }
      ],
      "source": [
        "pd.DataFrame.from_dict(results_dict)"
      ]
    }
  ],
  "metadata": {
    "accelerator": "GPU",
    "colab": {
      "collapsed_sections": [
        "kOYRkzgf84Ke",
        "udvNuzD3ypaG",
        "3SgJXLDS_scV",
        "e92b8c495dc023a3",
        "wfqeTeXr-HY5",
        "a525955449fae8f5",
        "6ebb2982462fb9b",
        "e359e73a2b5ad983",
        "bUnGZ5BkEEXg",
        "-yJy9q9mEMfF",
        "eqpidFNrEMfP",
        "uu-40wRgEMfQ",
        "iRQ32zq_EMfR"
      ],
      "gpuType": "T4",
      "provenance": []
    },
    "kernelspec": {
      "display_name": "base",
      "language": "python",
      "name": "python3"
    },
    "language_info": {
      "codemirror_mode": {
        "name": "ipython",
        "version": 3
      },
      "file_extension": ".py",
      "mimetype": "text/x-python",
      "name": "python",
      "nbconvert_exporter": "python",
      "pygments_lexer": "ipython3",
      "version": "3.11.5"
    },
    "widgets": {
      "application/vnd.jupyter.widget-state+json": {
        "00d92f0fe5d2402a86d214ae5b8b0366": {
          "model_module": "@jupyter-widgets/controls",
          "model_module_version": "1.5.0",
          "model_name": "HTMLModel",
          "state": {
            "_dom_classes": [],
            "_model_module": "@jupyter-widgets/controls",
            "_model_module_version": "1.5.0",
            "_model_name": "HTMLModel",
            "_view_count": null,
            "_view_module": "@jupyter-widgets/controls",
            "_view_module_version": "1.5.0",
            "_view_name": "HTMLView",
            "description": "",
            "description_tooltip": null,
            "layout": "IPY_MODEL_99acefdcadea4e30ad883ee2546da84e",
            "placeholder": "​",
            "style": "IPY_MODEL_e1a2b003964c4c048724628f218a0aa5",
            "value": " 640k/640k [00:00&lt;00:00, 5.01MB/s]"
          }
        },
        "01d114c793064fc9890203779d628bbf": {
          "model_module": "@jupyter-widgets/controls",
          "model_module_version": "1.5.0",
          "model_name": "HBoxModel",
          "state": {
            "_dom_classes": [],
            "_model_module": "@jupyter-widgets/controls",
            "_model_module_version": "1.5.0",
            "_model_name": "HBoxModel",
            "_view_count": null,
            "_view_module": "@jupyter-widgets/controls",
            "_view_module_version": "1.5.0",
            "_view_name": "HBoxView",
            "box_style": "",
            "children": [
              "IPY_MODEL_0c2c69d33d204b7eb11e6600b37cb972",
              "IPY_MODEL_e55fe0132ef5430c9eae77825a5c57e0",
              "IPY_MODEL_00d92f0fe5d2402a86d214ae5b8b0366"
            ],
            "layout": "IPY_MODEL_cf33184c69fc48a78bce65d12c243636"
          }
        },
        "034c0a791b85423a84318e1947f26305": {
          "model_module": "@jupyter-widgets/controls",
          "model_module_version": "1.5.0",
          "model_name": "FloatProgressModel",
          "state": {
            "_dom_classes": [],
            "_model_module": "@jupyter-widgets/controls",
            "_model_module_version": "1.5.0",
            "_model_name": "FloatProgressModel",
            "_view_count": null,
            "_view_module": "@jupyter-widgets/controls",
            "_view_module_version": "1.5.0",
            "_view_name": "ProgressView",
            "bar_style": "success",
            "description": "",
            "description_tooltip": null,
            "layout": "IPY_MODEL_21e78edca4fb49758826269b944f30f3",
            "max": 2201,
            "min": 0,
            "orientation": "horizontal",
            "style": "IPY_MODEL_e527037e8e44444fa2a255638108ad15",
            "value": 2201
          }
        },
        "034d3bb2d3904287818ee88f763091f5": {
          "model_module": "@jupyter-widgets/controls",
          "model_module_version": "1.5.0",
          "model_name": "DescriptionStyleModel",
          "state": {
            "_model_module": "@jupyter-widgets/controls",
            "_model_module_version": "1.5.0",
            "_model_name": "DescriptionStyleModel",
            "_view_count": null,
            "_view_module": "@jupyter-widgets/base",
            "_view_module_version": "1.2.0",
            "_view_name": "StyleView",
            "description_width": ""
          }
        },
        "04837d3e7c4c44ed82dde781df6cee4b": {
          "model_module": "@jupyter-widgets/controls",
          "model_module_version": "1.5.0",
          "model_name": "FloatProgressModel",
          "state": {
            "_dom_classes": [],
            "_model_module": "@jupyter-widgets/controls",
            "_model_module_version": "1.5.0",
            "_model_name": "FloatProgressModel",
            "_view_count": null,
            "_view_module": "@jupyter-widgets/controls",
            "_view_module_version": "1.5.0",
            "_view_name": "ProgressView",
            "bar_style": "success",
            "description": "",
            "description_tooltip": null,
            "layout": "IPY_MODEL_2317d7af7831407c921bcae81d4aa566",
            "max": 258600360,
            "min": 0,
            "orientation": "horizontal",
            "style": "IPY_MODEL_786f8b0d74634ee28d5659cbc840ff62",
            "value": 258600360
          }
        },
        "0657a3ea32aa49a2b5f1963d83ba80b8": {
          "model_module": "@jupyter-widgets/controls",
          "model_module_version": "1.5.0",
          "model_name": "HTMLModel",
          "state": {
            "_dom_classes": [],
            "_model_module": "@jupyter-widgets/controls",
            "_model_module_version": "1.5.0",
            "_model_name": "HTMLModel",
            "_view_count": null,
            "_view_module": "@jupyter-widgets/controls",
            "_view_module_version": "1.5.0",
            "_view_name": "HTMLView",
            "description": "",
            "description_tooltip": null,
            "layout": "IPY_MODEL_74b71257517a49e7b809c8d74f74d0a4",
            "placeholder": "​",
            "style": "IPY_MODEL_da92109a81904b9aa4d2e90e024f38d4",
            "value": "config.json: 100%"
          }
        },
        "0c2c69d33d204b7eb11e6600b37cb972": {
          "model_module": "@jupyter-widgets/controls",
          "model_module_version": "1.5.0",
          "model_name": "HTMLModel",
          "state": {
            "_dom_classes": [],
            "_model_module": "@jupyter-widgets/controls",
            "_model_module_version": "1.5.0",
            "_model_name": "HTMLModel",
            "_view_count": null,
            "_view_module": "@jupyter-widgets/controls",
            "_view_module_version": "1.5.0",
            "_view_name": "HTMLView",
            "description": "",
            "description_tooltip": null,
            "layout": "IPY_MODEL_628a4898a4b64c0fbbdf5776ad9f6823",
            "placeholder": "​",
            "style": "IPY_MODEL_5b5c6fb01ccc4e39a448565a8902c2f2",
            "value": "spiece.model: 100%"
          }
        },
        "0fe99e5a58b943f5b37a2431ca9fef19": {
          "model_module": "@jupyter-widgets/base",
          "model_module_version": "1.2.0",
          "model_name": "LayoutModel",
          "state": {
            "_model_module": "@jupyter-widgets/base",
            "_model_module_version": "1.2.0",
            "_model_name": "LayoutModel",
            "_view_count": null,
            "_view_module": "@jupyter-widgets/base",
            "_view_module_version": "1.2.0",
            "_view_name": "LayoutView",
            "align_content": null,
            "align_items": null,
            "align_self": null,
            "border": null,
            "bottom": null,
            "display": null,
            "flex": null,
            "flex_flow": null,
            "grid_area": null,
            "grid_auto_columns": null,
            "grid_auto_flow": null,
            "grid_auto_rows": null,
            "grid_column": null,
            "grid_gap": null,
            "grid_row": null,
            "grid_template_areas": null,
            "grid_template_columns": null,
            "grid_template_rows": null,
            "height": null,
            "justify_content": null,
            "justify_items": null,
            "left": null,
            "margin": null,
            "max_height": null,
            "max_width": null,
            "min_height": null,
            "min_width": null,
            "object_fit": null,
            "object_position": null,
            "order": null,
            "overflow": null,
            "overflow_x": null,
            "overflow_y": null,
            "padding": null,
            "right": null,
            "top": null,
            "visibility": null,
            "width": null
          }
        },
        "10d390274605476aa40077e85a007599": {
          "model_module": "@jupyter-widgets/base",
          "model_module_version": "1.2.0",
          "model_name": "LayoutModel",
          "state": {
            "_model_module": "@jupyter-widgets/base",
            "_model_module_version": "1.2.0",
            "_model_name": "LayoutModel",
            "_view_count": null,
            "_view_module": "@jupyter-widgets/base",
            "_view_module_version": "1.2.0",
            "_view_name": "LayoutView",
            "align_content": null,
            "align_items": null,
            "align_self": null,
            "border": null,
            "bottom": null,
            "display": null,
            "flex": null,
            "flex_flow": null,
            "grid_area": null,
            "grid_auto_columns": null,
            "grid_auto_flow": null,
            "grid_auto_rows": null,
            "grid_column": null,
            "grid_gap": null,
            "grid_row": null,
            "grid_template_areas": null,
            "grid_template_columns": null,
            "grid_template_rows": null,
            "height": null,
            "justify_content": null,
            "justify_items": null,
            "left": null,
            "margin": null,
            "max_height": null,
            "max_width": null,
            "min_height": null,
            "min_width": null,
            "object_fit": null,
            "object_position": null,
            "order": null,
            "overflow": null,
            "overflow_x": null,
            "overflow_y": null,
            "padding": null,
            "right": null,
            "top": null,
            "visibility": null,
            "width": null
          }
        },
        "16166aa1e3784df99033fa4872fb908d": {
          "model_module": "@jupyter-widgets/controls",
          "model_module_version": "1.5.0",
          "model_name": "HTMLModel",
          "state": {
            "_dom_classes": [],
            "_model_module": "@jupyter-widgets/controls",
            "_model_module_version": "1.5.0",
            "_model_name": "HTMLModel",
            "_view_count": null,
            "_view_module": "@jupyter-widgets/controls",
            "_view_module_version": "1.5.0",
            "_view_name": "HTMLView",
            "description": "",
            "description_tooltip": null,
            "layout": "IPY_MODEL_d7ff0ae7c0c84e6981d26c2e4ef9b22b",
            "placeholder": "​",
            "style": "IPY_MODEL_2dc8233cce494f1c88b79410b8a77dc3",
            "value": "train-00000-of-00001.parquet: 100%"
          }
        },
        "182f42a3fbe646a99573de734dae333d": {
          "model_module": "@jupyter-widgets/controls",
          "model_module_version": "1.5.0",
          "model_name": "DescriptionStyleModel",
          "state": {
            "_model_module": "@jupyter-widgets/controls",
            "_model_module_version": "1.5.0",
            "_model_name": "DescriptionStyleModel",
            "_view_count": null,
            "_view_module": "@jupyter-widgets/base",
            "_view_module_version": "1.2.0",
            "_view_name": "StyleView",
            "description_width": ""
          }
        },
        "1bcb56961704407f9f889b4edac81598": {
          "model_module": "@jupyter-widgets/controls",
          "model_module_version": "1.5.0",
          "model_name": "DescriptionStyleModel",
          "state": {
            "_model_module": "@jupyter-widgets/controls",
            "_model_module_version": "1.5.0",
            "_model_name": "DescriptionStyleModel",
            "_view_count": null,
            "_view_module": "@jupyter-widgets/base",
            "_view_module_version": "1.2.0",
            "_view_name": "StyleView",
            "description_width": ""
          }
        },
        "1cb67f92387345b1a899e3af417eff34": {
          "model_module": "@jupyter-widgets/base",
          "model_module_version": "1.2.0",
          "model_name": "LayoutModel",
          "state": {
            "_model_module": "@jupyter-widgets/base",
            "_model_module_version": "1.2.0",
            "_model_name": "LayoutModel",
            "_view_count": null,
            "_view_module": "@jupyter-widgets/base",
            "_view_module_version": "1.2.0",
            "_view_name": "LayoutView",
            "align_content": null,
            "align_items": null,
            "align_self": null,
            "border": null,
            "bottom": null,
            "display": null,
            "flex": null,
            "flex_flow": null,
            "grid_area": null,
            "grid_auto_columns": null,
            "grid_auto_flow": null,
            "grid_auto_rows": null,
            "grid_column": null,
            "grid_gap": null,
            "grid_row": null,
            "grid_template_areas": null,
            "grid_template_columns": null,
            "grid_template_rows": null,
            "height": null,
            "justify_content": null,
            "justify_items": null,
            "left": null,
            "margin": null,
            "max_height": null,
            "max_width": null,
            "min_height": null,
            "min_width": null,
            "object_fit": null,
            "object_position": null,
            "order": null,
            "overflow": null,
            "overflow_x": null,
            "overflow_y": null,
            "padding": null,
            "right": null,
            "top": null,
            "visibility": null,
            "width": null
          }
        },
        "21e78edca4fb49758826269b944f30f3": {
          "model_module": "@jupyter-widgets/base",
          "model_module_version": "1.2.0",
          "model_name": "LayoutModel",
          "state": {
            "_model_module": "@jupyter-widgets/base",
            "_model_module_version": "1.2.0",
            "_model_name": "LayoutModel",
            "_view_count": null,
            "_view_module": "@jupyter-widgets/base",
            "_view_module_version": "1.2.0",
            "_view_name": "LayoutView",
            "align_content": null,
            "align_items": null,
            "align_self": null,
            "border": null,
            "bottom": null,
            "display": null,
            "flex": null,
            "flex_flow": null,
            "grid_area": null,
            "grid_auto_columns": null,
            "grid_auto_flow": null,
            "grid_auto_rows": null,
            "grid_column": null,
            "grid_gap": null,
            "grid_row": null,
            "grid_template_areas": null,
            "grid_template_columns": null,
            "grid_template_rows": null,
            "height": null,
            "justify_content": null,
            "justify_items": null,
            "left": null,
            "margin": null,
            "max_height": null,
            "max_width": null,
            "min_height": null,
            "min_width": null,
            "object_fit": null,
            "object_position": null,
            "order": null,
            "overflow": null,
            "overflow_x": null,
            "overflow_y": null,
            "padding": null,
            "right": null,
            "top": null,
            "visibility": null,
            "width": null
          }
        },
        "2317d7af7831407c921bcae81d4aa566": {
          "model_module": "@jupyter-widgets/base",
          "model_module_version": "1.2.0",
          "model_name": "LayoutModel",
          "state": {
            "_model_module": "@jupyter-widgets/base",
            "_model_module_version": "1.2.0",
            "_model_name": "LayoutModel",
            "_view_count": null,
            "_view_module": "@jupyter-widgets/base",
            "_view_module_version": "1.2.0",
            "_view_name": "LayoutView",
            "align_content": null,
            "align_items": null,
            "align_self": null,
            "border": null,
            "bottom": null,
            "display": null,
            "flex": null,
            "flex_flow": null,
            "grid_area": null,
            "grid_auto_columns": null,
            "grid_auto_flow": null,
            "grid_auto_rows": null,
            "grid_column": null,
            "grid_gap": null,
            "grid_row": null,
            "grid_template_areas": null,
            "grid_template_columns": null,
            "grid_template_rows": null,
            "height": null,
            "justify_content": null,
            "justify_items": null,
            "left": null,
            "margin": null,
            "max_height": null,
            "max_width": null,
            "min_height": null,
            "min_width": null,
            "object_fit": null,
            "object_position": null,
            "order": null,
            "overflow": null,
            "overflow_x": null,
            "overflow_y": null,
            "padding": null,
            "right": null,
            "top": null,
            "visibility": null,
            "width": null
          }
        },
        "27fcbb9c55c54950959e93da1b858678": {
          "model_module": "@jupyter-widgets/base",
          "model_module_version": "1.2.0",
          "model_name": "LayoutModel",
          "state": {
            "_model_module": "@jupyter-widgets/base",
            "_model_module_version": "1.2.0",
            "_model_name": "LayoutModel",
            "_view_count": null,
            "_view_module": "@jupyter-widgets/base",
            "_view_module_version": "1.2.0",
            "_view_name": "LayoutView",
            "align_content": null,
            "align_items": null,
            "align_self": null,
            "border": null,
            "bottom": null,
            "display": null,
            "flex": null,
            "flex_flow": null,
            "grid_area": null,
            "grid_auto_columns": null,
            "grid_auto_flow": null,
            "grid_auto_rows": null,
            "grid_column": null,
            "grid_gap": null,
            "grid_row": null,
            "grid_template_areas": null,
            "grid_template_columns": null,
            "grid_template_rows": null,
            "height": null,
            "justify_content": null,
            "justify_items": null,
            "left": null,
            "margin": null,
            "max_height": null,
            "max_width": null,
            "min_height": null,
            "min_width": null,
            "object_fit": null,
            "object_position": null,
            "order": null,
            "overflow": null,
            "overflow_x": null,
            "overflow_y": null,
            "padding": null,
            "right": null,
            "top": null,
            "visibility": null,
            "width": null
          }
        },
        "28935652c69f423aa8a59d67129ad7fa": {
          "model_module": "@jupyter-widgets/controls",
          "model_module_version": "1.5.0",
          "model_name": "DescriptionStyleModel",
          "state": {
            "_model_module": "@jupyter-widgets/controls",
            "_model_module_version": "1.5.0",
            "_model_name": "DescriptionStyleModel",
            "_view_count": null,
            "_view_module": "@jupyter-widgets/base",
            "_view_module_version": "1.2.0",
            "_view_name": "StyleView",
            "description_width": ""
          }
        },
        "28af7174d7444010bacf888f37fe59c7": {
          "model_module": "@jupyter-widgets/base",
          "model_module_version": "1.2.0",
          "model_name": "LayoutModel",
          "state": {
            "_model_module": "@jupyter-widgets/base",
            "_model_module_version": "1.2.0",
            "_model_name": "LayoutModel",
            "_view_count": null,
            "_view_module": "@jupyter-widgets/base",
            "_view_module_version": "1.2.0",
            "_view_name": "LayoutView",
            "align_content": null,
            "align_items": null,
            "align_self": null,
            "border": null,
            "bottom": null,
            "display": null,
            "flex": null,
            "flex_flow": null,
            "grid_area": null,
            "grid_auto_columns": null,
            "grid_auto_flow": null,
            "grid_auto_rows": null,
            "grid_column": null,
            "grid_gap": null,
            "grid_row": null,
            "grid_template_areas": null,
            "grid_template_columns": null,
            "grid_template_rows": null,
            "height": null,
            "justify_content": null,
            "justify_items": null,
            "left": null,
            "margin": null,
            "max_height": null,
            "max_width": null,
            "min_height": null,
            "min_width": null,
            "object_fit": null,
            "object_position": null,
            "order": null,
            "overflow": null,
            "overflow_x": null,
            "overflow_y": null,
            "padding": null,
            "right": null,
            "top": null,
            "visibility": null,
            "width": null
          }
        },
        "29266ef691b945848255860fcd2b0430": {
          "model_module": "@jupyter-widgets/controls",
          "model_module_version": "1.5.0",
          "model_name": "HTMLModel",
          "state": {
            "_dom_classes": [],
            "_model_module": "@jupyter-widgets/controls",
            "_model_module_version": "1.5.0",
            "_model_name": "HTMLModel",
            "_view_count": null,
            "_view_module": "@jupyter-widgets/controls",
            "_view_module_version": "1.5.0",
            "_view_name": "HTMLView",
            "description": "",
            "description_tooltip": null,
            "layout": "IPY_MODEL_10d390274605476aa40077e85a007599",
            "placeholder": "​",
            "style": "IPY_MODEL_a9781ce2f5e846c5be64c8d8f8eb42b3",
            "value": "Downloading builder script: 100%"
          }
        },
        "2a34e6091dab4d75942ec534e5a89247": {
          "model_module": "@jupyter-widgets/controls",
          "model_module_version": "1.5.0",
          "model_name": "HTMLModel",
          "state": {
            "_dom_classes": [],
            "_model_module": "@jupyter-widgets/controls",
            "_model_module_version": "1.5.0",
            "_model_name": "HTMLModel",
            "_view_count": null,
            "_view_module": "@jupyter-widgets/controls",
            "_view_module_version": "1.5.0",
            "_view_name": "HTMLView",
            "description": "",
            "description_tooltip": null,
            "layout": "IPY_MODEL_e5d1817d30934376ad26201388d9be8f",
            "placeholder": "​",
            "style": "IPY_MODEL_faaee368b119433ab25ce0c19f4551a8",
            "value": " 3.47k/3.47k [00:00&lt;00:00, 82.3kB/s]"
          }
        },
        "2d287b53de3843c8a00964945062f17c": {
          "model_module": "@jupyter-widgets/base",
          "model_module_version": "1.2.0",
          "model_name": "LayoutModel",
          "state": {
            "_model_module": "@jupyter-widgets/base",
            "_model_module_version": "1.2.0",
            "_model_name": "LayoutModel",
            "_view_count": null,
            "_view_module": "@jupyter-widgets/base",
            "_view_module_version": "1.2.0",
            "_view_name": "LayoutView",
            "align_content": null,
            "align_items": null,
            "align_self": null,
            "border": null,
            "bottom": null,
            "display": null,
            "flex": null,
            "flex_flow": null,
            "grid_area": null,
            "grid_auto_columns": null,
            "grid_auto_flow": null,
            "grid_auto_rows": null,
            "grid_column": null,
            "grid_gap": null,
            "grid_row": null,
            "grid_template_areas": null,
            "grid_template_columns": null,
            "grid_template_rows": null,
            "height": null,
            "justify_content": null,
            "justify_items": null,
            "left": null,
            "margin": null,
            "max_height": null,
            "max_width": null,
            "min_height": null,
            "min_width": null,
            "object_fit": null,
            "object_position": null,
            "order": null,
            "overflow": null,
            "overflow_x": null,
            "overflow_y": null,
            "padding": null,
            "right": null,
            "top": null,
            "visibility": null,
            "width": null
          }
        },
        "2dc8233cce494f1c88b79410b8a77dc3": {
          "model_module": "@jupyter-widgets/controls",
          "model_module_version": "1.5.0",
          "model_name": "DescriptionStyleModel",
          "state": {
            "_model_module": "@jupyter-widgets/controls",
            "_model_module_version": "1.5.0",
            "_model_name": "DescriptionStyleModel",
            "_view_count": null,
            "_view_module": "@jupyter-widgets/base",
            "_view_module_version": "1.2.0",
            "_view_name": "StyleView",
            "description_width": ""
          }
        },
        "325793ea9cc4407f8f7ce1d82ca28b1c": {
          "model_module": "@jupyter-widgets/controls",
          "model_module_version": "1.5.0",
          "model_name": "HTMLModel",
          "state": {
            "_dom_classes": [],
            "_model_module": "@jupyter-widgets/controls",
            "_model_module_version": "1.5.0",
            "_model_name": "HTMLModel",
            "_view_count": null,
            "_view_module": "@jupyter-widgets/controls",
            "_view_module_version": "1.5.0",
            "_view_name": "HTMLView",
            "description": "",
            "description_tooltip": null,
            "layout": "IPY_MODEL_8c34f66e053d45bdb3512cece9c7b6dc",
            "placeholder": "​",
            "style": "IPY_MODEL_4c9cd00a93d3426e8d99f169f373e4b0",
            "value": "special_tokens_map.json: 100%"
          }
        },
        "3908158e2428493bba420ec28a2ad831": {
          "model_module": "@jupyter-widgets/base",
          "model_module_version": "1.2.0",
          "model_name": "LayoutModel",
          "state": {
            "_model_module": "@jupyter-widgets/base",
            "_model_module_version": "1.2.0",
            "_model_name": "LayoutModel",
            "_view_count": null,
            "_view_module": "@jupyter-widgets/base",
            "_view_module_version": "1.2.0",
            "_view_name": "LayoutView",
            "align_content": null,
            "align_items": null,
            "align_self": null,
            "border": null,
            "bottom": null,
            "display": null,
            "flex": null,
            "flex_flow": null,
            "grid_area": null,
            "grid_auto_columns": null,
            "grid_auto_flow": null,
            "grid_auto_rows": null,
            "grid_column": null,
            "grid_gap": null,
            "grid_row": null,
            "grid_template_areas": null,
            "grid_template_columns": null,
            "grid_template_rows": null,
            "height": null,
            "justify_content": null,
            "justify_items": null,
            "left": null,
            "margin": null,
            "max_height": null,
            "max_width": null,
            "min_height": null,
            "min_width": null,
            "object_fit": null,
            "object_position": null,
            "order": null,
            "overflow": null,
            "overflow_x": null,
            "overflow_y": null,
            "padding": null,
            "right": null,
            "top": null,
            "visibility": null,
            "width": null
          }
        },
        "39a7f847fb1b445aab7708653c92a20d": {
          "model_module": "@jupyter-widgets/controls",
          "model_module_version": "1.5.0",
          "model_name": "FloatProgressModel",
          "state": {
            "_dom_classes": [],
            "_model_module": "@jupyter-widgets/controls",
            "_model_module_version": "1.5.0",
            "_model_name": "FloatProgressModel",
            "_view_count": null,
            "_view_module": "@jupyter-widgets/controls",
            "_view_module_version": "1.5.0",
            "_view_name": "ProgressView",
            "bar_style": "success",
            "description": "",
            "description_tooltip": null,
            "layout": "IPY_MODEL_fb43ad1e9de24d6493b646dc95e7ed94",
            "max": 41832902,
            "min": 0,
            "orientation": "horizontal",
            "style": "IPY_MODEL_c35aa360a0c646358f5bb0ff4518887c",
            "value": 41832902
          }
        },
        "3e517eceffdd45f080da0708b0436e9e": {
          "model_module": "@jupyter-widgets/base",
          "model_module_version": "1.2.0",
          "model_name": "LayoutModel",
          "state": {
            "_model_module": "@jupyter-widgets/base",
            "_model_module_version": "1.2.0",
            "_model_name": "LayoutModel",
            "_view_count": null,
            "_view_module": "@jupyter-widgets/base",
            "_view_module_version": "1.2.0",
            "_view_name": "LayoutView",
            "align_content": null,
            "align_items": null,
            "align_self": null,
            "border": null,
            "bottom": null,
            "display": null,
            "flex": null,
            "flex_flow": null,
            "grid_area": null,
            "grid_auto_columns": null,
            "grid_auto_flow": null,
            "grid_auto_rows": null,
            "grid_column": null,
            "grid_gap": null,
            "grid_row": null,
            "grid_template_areas": null,
            "grid_template_columns": null,
            "grid_template_rows": null,
            "height": null,
            "justify_content": null,
            "justify_items": null,
            "left": null,
            "margin": null,
            "max_height": null,
            "max_width": null,
            "min_height": null,
            "min_width": null,
            "object_fit": null,
            "object_position": null,
            "order": null,
            "overflow": null,
            "overflow_x": null,
            "overflow_y": null,
            "padding": null,
            "right": null,
            "top": null,
            "visibility": null,
            "width": null
          }
        },
        "3f952579340448fca83c12b1681c9d88": {
          "model_module": "@jupyter-widgets/controls",
          "model_module_version": "1.5.0",
          "model_name": "HTMLModel",
          "state": {
            "_dom_classes": [],
            "_model_module": "@jupyter-widgets/controls",
            "_model_module_version": "1.5.0",
            "_model_name": "HTMLModel",
            "_view_count": null,
            "_view_module": "@jupyter-widgets/controls",
            "_view_module_version": "1.5.0",
            "_view_name": "HTMLView",
            "description": "",
            "description_tooltip": null,
            "layout": "IPY_MODEL_27fcbb9c55c54950959e93da1b858678",
            "placeholder": "​",
            "style": "IPY_MODEL_034d3bb2d3904287818ee88f763091f5",
            "value": "README.md: 100%"
          }
        },
        "4174cdc5dcc94bec8f6c9194b0d9d7f8": {
          "model_module": "@jupyter-widgets/controls",
          "model_module_version": "1.5.0",
          "model_name": "HTMLModel",
          "state": {
            "_dom_classes": [],
            "_model_module": "@jupyter-widgets/controls",
            "_model_module_version": "1.5.0",
            "_model_name": "HTMLModel",
            "_view_count": null,
            "_view_module": "@jupyter-widgets/controls",
            "_view_module_version": "1.5.0",
            "_view_name": "HTMLView",
            "description": "",
            "description_tooltip": null,
            "layout": "IPY_MODEL_b291d28f581a418fa1fd770344d31ea6",
            "placeholder": "​",
            "style": "IPY_MODEL_28935652c69f423aa8a59d67129ad7fa",
            "value": " 259M/259M [00:07&lt;00:00, 33.6MB/s]"
          }
        },
        "4321dcfd16944e928d58e28967472b3a": {
          "model_module": "@jupyter-widgets/controls",
          "model_module_version": "1.5.0",
          "model_name": "DescriptionStyleModel",
          "state": {
            "_model_module": "@jupyter-widgets/controls",
            "_model_module_version": "1.5.0",
            "_model_name": "DescriptionStyleModel",
            "_view_count": null,
            "_view_module": "@jupyter-widgets/base",
            "_view_module_version": "1.2.0",
            "_view_name": "StyleView",
            "description_width": ""
          }
        },
        "489b789027bb4b21953e9a37fd8226e8": {
          "model_module": "@jupyter-widgets/controls",
          "model_module_version": "1.5.0",
          "model_name": "DescriptionStyleModel",
          "state": {
            "_model_module": "@jupyter-widgets/controls",
            "_model_module_version": "1.5.0",
            "_model_name": "DescriptionStyleModel",
            "_view_count": null,
            "_view_module": "@jupyter-widgets/base",
            "_view_module_version": "1.2.0",
            "_view_name": "StyleView",
            "description_width": ""
          }
        },
        "4c9cd00a93d3426e8d99f169f373e4b0": {
          "model_module": "@jupyter-widgets/controls",
          "model_module_version": "1.5.0",
          "model_name": "DescriptionStyleModel",
          "state": {
            "_model_module": "@jupyter-widgets/controls",
            "_model_module_version": "1.5.0",
            "_model_name": "DescriptionStyleModel",
            "_view_count": null,
            "_view_module": "@jupyter-widgets/base",
            "_view_module_version": "1.2.0",
            "_view_name": "StyleView",
            "description_width": ""
          }
        },
        "55fc7da23e954f2390b9985a21ed486c": {
          "model_module": "@jupyter-widgets/controls",
          "model_module_version": "1.5.0",
          "model_name": "HBoxModel",
          "state": {
            "_dom_classes": [],
            "_model_module": "@jupyter-widgets/controls",
            "_model_module_version": "1.5.0",
            "_model_name": "HBoxModel",
            "_view_count": null,
            "_view_module": "@jupyter-widgets/controls",
            "_view_module_version": "1.5.0",
            "_view_name": "HBoxView",
            "box_style": "",
            "children": [
              "IPY_MODEL_0657a3ea32aa49a2b5f1963d83ba80b8",
              "IPY_MODEL_7971d8d9b59b4def984045142273d381",
              "IPY_MODEL_cc4f2c56d4ac4a3696743dbcc242e8bc"
            ],
            "layout": "IPY_MODEL_cd67b92ac03e48f0b9cac1c5b6e873da"
          }
        },
        "564a047b4ed74af489d8e524868d21fb": {
          "model_module": "@jupyter-widgets/controls",
          "model_module_version": "1.5.0",
          "model_name": "HBoxModel",
          "state": {
            "_dom_classes": [],
            "_model_module": "@jupyter-widgets/controls",
            "_model_module_version": "1.5.0",
            "_model_name": "HBoxModel",
            "_view_count": null,
            "_view_module": "@jupyter-widgets/controls",
            "_view_module_version": "1.5.0",
            "_view_name": "HBoxView",
            "box_style": "",
            "children": [
              "IPY_MODEL_16166aa1e3784df99033fa4872fb908d",
              "IPY_MODEL_39a7f847fb1b445aab7708653c92a20d",
              "IPY_MODEL_bc174b6a3b2d4721821aa78819e88613"
            ],
            "layout": "IPY_MODEL_900722a069084468a42eae44761a67d2"
          }
        },
        "58d611ad0aa3454c902f5d26156eff93": {
          "model_module": "@jupyter-widgets/controls",
          "model_module_version": "1.5.0",
          "model_name": "ProgressStyleModel",
          "state": {
            "_model_module": "@jupyter-widgets/controls",
            "_model_module_version": "1.5.0",
            "_model_name": "ProgressStyleModel",
            "_view_count": null,
            "_view_module": "@jupyter-widgets/base",
            "_view_module_version": "1.2.0",
            "_view_name": "StyleView",
            "bar_color": null,
            "description_width": ""
          }
        },
        "5b031ed70748410d953d02f1bbe6bd54": {
          "model_module": "@jupyter-widgets/controls",
          "model_module_version": "1.5.0",
          "model_name": "HBoxModel",
          "state": {
            "_dom_classes": [],
            "_model_module": "@jupyter-widgets/controls",
            "_model_module_version": "1.5.0",
            "_model_name": "HBoxModel",
            "_view_count": null,
            "_view_module": "@jupyter-widgets/controls",
            "_view_module_version": "1.5.0",
            "_view_name": "HBoxView",
            "box_style": "",
            "children": [
              "IPY_MODEL_bc53642d0b7546ba899b30d90c903d80",
              "IPY_MODEL_04837d3e7c4c44ed82dde781df6cee4b",
              "IPY_MODEL_4174cdc5dcc94bec8f6c9194b0d9d7f8"
            ],
            "layout": "IPY_MODEL_9d2821458cb143439ced37b5b3f62e50"
          }
        },
        "5b5c6fb01ccc4e39a448565a8902c2f2": {
          "model_module": "@jupyter-widgets/controls",
          "model_module_version": "1.5.0",
          "model_name": "DescriptionStyleModel",
          "state": {
            "_model_module": "@jupyter-widgets/controls",
            "_model_module_version": "1.5.0",
            "_model_name": "DescriptionStyleModel",
            "_view_count": null,
            "_view_module": "@jupyter-widgets/base",
            "_view_module_version": "1.2.0",
            "_view_name": "StyleView",
            "description_width": ""
          }
        },
        "6186aaddca0a4166baf376212bf8ee04": {
          "model_module": "@jupyter-widgets/controls",
          "model_module_version": "1.5.0",
          "model_name": "ProgressStyleModel",
          "state": {
            "_model_module": "@jupyter-widgets/controls",
            "_model_module_version": "1.5.0",
            "_model_name": "ProgressStyleModel",
            "_view_count": null,
            "_view_module": "@jupyter-widgets/base",
            "_view_module_version": "1.2.0",
            "_view_name": "StyleView",
            "bar_color": null,
            "description_width": ""
          }
        },
        "628a4898a4b64c0fbbdf5776ad9f6823": {
          "model_module": "@jupyter-widgets/base",
          "model_module_version": "1.2.0",
          "model_name": "LayoutModel",
          "state": {
            "_model_module": "@jupyter-widgets/base",
            "_model_module_version": "1.2.0",
            "_model_name": "LayoutModel",
            "_view_count": null,
            "_view_module": "@jupyter-widgets/base",
            "_view_module_version": "1.2.0",
            "_view_name": "LayoutView",
            "align_content": null,
            "align_items": null,
            "align_self": null,
            "border": null,
            "bottom": null,
            "display": null,
            "flex": null,
            "flex_flow": null,
            "grid_area": null,
            "grid_auto_columns": null,
            "grid_auto_flow": null,
            "grid_auto_rows": null,
            "grid_column": null,
            "grid_gap": null,
            "grid_row": null,
            "grid_template_areas": null,
            "grid_template_columns": null,
            "grid_template_rows": null,
            "height": null,
            "justify_content": null,
            "justify_items": null,
            "left": null,
            "margin": null,
            "max_height": null,
            "max_width": null,
            "min_height": null,
            "min_width": null,
            "object_fit": null,
            "object_position": null,
            "order": null,
            "overflow": null,
            "overflow_x": null,
            "overflow_y": null,
            "padding": null,
            "right": null,
            "top": null,
            "visibility": null,
            "width": null
          }
        },
        "6907f6ab92394cbea42df9bff27e3946": {
          "model_module": "@jupyter-widgets/base",
          "model_module_version": "1.2.0",
          "model_name": "LayoutModel",
          "state": {
            "_model_module": "@jupyter-widgets/base",
            "_model_module_version": "1.2.0",
            "_model_name": "LayoutModel",
            "_view_count": null,
            "_view_module": "@jupyter-widgets/base",
            "_view_module_version": "1.2.0",
            "_view_name": "LayoutView",
            "align_content": null,
            "align_items": null,
            "align_self": null,
            "border": null,
            "bottom": null,
            "display": null,
            "flex": null,
            "flex_flow": null,
            "grid_area": null,
            "grid_auto_columns": null,
            "grid_auto_flow": null,
            "grid_auto_rows": null,
            "grid_column": null,
            "grid_gap": null,
            "grid_row": null,
            "grid_template_areas": null,
            "grid_template_columns": null,
            "grid_template_rows": null,
            "height": null,
            "justify_content": null,
            "justify_items": null,
            "left": null,
            "margin": null,
            "max_height": null,
            "max_width": null,
            "min_height": null,
            "min_width": null,
            "object_fit": null,
            "object_position": null,
            "order": null,
            "overflow": null,
            "overflow_x": null,
            "overflow_y": null,
            "padding": null,
            "right": null,
            "top": null,
            "visibility": null,
            "width": null
          }
        },
        "6a37243d493c42438a6248335098f1ec": {
          "model_module": "@jupyter-widgets/controls",
          "model_module_version": "1.5.0",
          "model_name": "HBoxModel",
          "state": {
            "_dom_classes": [],
            "_model_module": "@jupyter-widgets/controls",
            "_model_module_version": "1.5.0",
            "_model_name": "HBoxModel",
            "_view_count": null,
            "_view_module": "@jupyter-widgets/controls",
            "_view_module_version": "1.5.0",
            "_view_name": "HBoxView",
            "box_style": "",
            "children": [
              "IPY_MODEL_c44eace1efba4b7a9a16bf319f6586d7",
              "IPY_MODEL_e2d39f04ccbd4584b7f4af0ffb600189",
              "IPY_MODEL_84b5cda04b144037ba5a37250a6b5b9d"
            ],
            "layout": "IPY_MODEL_6907f6ab92394cbea42df9bff27e3946"
          }
        },
        "6c0b6aad09be4eae867486b990cc79af": {
          "model_module": "@jupyter-widgets/base",
          "model_module_version": "1.2.0",
          "model_name": "LayoutModel",
          "state": {
            "_model_module": "@jupyter-widgets/base",
            "_model_module_version": "1.2.0",
            "_model_name": "LayoutModel",
            "_view_count": null,
            "_view_module": "@jupyter-widgets/base",
            "_view_module_version": "1.2.0",
            "_view_name": "LayoutView",
            "align_content": null,
            "align_items": null,
            "align_self": null,
            "border": null,
            "bottom": null,
            "display": null,
            "flex": null,
            "flex_flow": null,
            "grid_area": null,
            "grid_auto_columns": null,
            "grid_auto_flow": null,
            "grid_auto_rows": null,
            "grid_column": null,
            "grid_gap": null,
            "grid_row": null,
            "grid_template_areas": null,
            "grid_template_columns": null,
            "grid_template_rows": null,
            "height": null,
            "justify_content": null,
            "justify_items": null,
            "left": null,
            "margin": null,
            "max_height": null,
            "max_width": null,
            "min_height": null,
            "min_width": null,
            "object_fit": null,
            "object_position": null,
            "order": null,
            "overflow": null,
            "overflow_x": null,
            "overflow_y": null,
            "padding": null,
            "right": null,
            "top": null,
            "visibility": null,
            "width": null
          }
        },
        "6c44290a086645158b2b8988f42be651": {
          "model_module": "@jupyter-widgets/base",
          "model_module_version": "1.2.0",
          "model_name": "LayoutModel",
          "state": {
            "_model_module": "@jupyter-widgets/base",
            "_model_module_version": "1.2.0",
            "_model_name": "LayoutModel",
            "_view_count": null,
            "_view_module": "@jupyter-widgets/base",
            "_view_module_version": "1.2.0",
            "_view_name": "LayoutView",
            "align_content": null,
            "align_items": null,
            "align_self": null,
            "border": null,
            "bottom": null,
            "display": null,
            "flex": null,
            "flex_flow": null,
            "grid_area": null,
            "grid_auto_columns": null,
            "grid_auto_flow": null,
            "grid_auto_rows": null,
            "grid_column": null,
            "grid_gap": null,
            "grid_row": null,
            "grid_template_areas": null,
            "grid_template_columns": null,
            "grid_template_rows": null,
            "height": null,
            "justify_content": null,
            "justify_items": null,
            "left": null,
            "margin": null,
            "max_height": null,
            "max_width": null,
            "min_height": null,
            "min_width": null,
            "object_fit": null,
            "object_position": null,
            "order": null,
            "overflow": null,
            "overflow_x": null,
            "overflow_y": null,
            "padding": null,
            "right": null,
            "top": null,
            "visibility": null,
            "width": null
          }
        },
        "712f1a243bef42b1ba1a109e584cf485": {
          "model_module": "@jupyter-widgets/base",
          "model_module_version": "1.2.0",
          "model_name": "LayoutModel",
          "state": {
            "_model_module": "@jupyter-widgets/base",
            "_model_module_version": "1.2.0",
            "_model_name": "LayoutModel",
            "_view_count": null,
            "_view_module": "@jupyter-widgets/base",
            "_view_module_version": "1.2.0",
            "_view_name": "LayoutView",
            "align_content": null,
            "align_items": null,
            "align_self": null,
            "border": null,
            "bottom": null,
            "display": null,
            "flex": null,
            "flex_flow": null,
            "grid_area": null,
            "grid_auto_columns": null,
            "grid_auto_flow": null,
            "grid_auto_rows": null,
            "grid_column": null,
            "grid_gap": null,
            "grid_row": null,
            "grid_template_areas": null,
            "grid_template_columns": null,
            "grid_template_rows": null,
            "height": null,
            "justify_content": null,
            "justify_items": null,
            "left": null,
            "margin": null,
            "max_height": null,
            "max_width": null,
            "min_height": null,
            "min_width": null,
            "object_fit": null,
            "object_position": null,
            "order": null,
            "overflow": null,
            "overflow_x": null,
            "overflow_y": null,
            "padding": null,
            "right": null,
            "top": null,
            "visibility": null,
            "width": null
          }
        },
        "71c1a137ce174e5d8e3b0a71c532a29e": {
          "model_module": "@jupyter-widgets/controls",
          "model_module_version": "1.5.0",
          "model_name": "DescriptionStyleModel",
          "state": {
            "_model_module": "@jupyter-widgets/controls",
            "_model_module_version": "1.5.0",
            "_model_name": "DescriptionStyleModel",
            "_view_count": null,
            "_view_module": "@jupyter-widgets/base",
            "_view_module_version": "1.2.0",
            "_view_name": "StyleView",
            "description_width": ""
          }
        },
        "74b71257517a49e7b809c8d74f74d0a4": {
          "model_module": "@jupyter-widgets/base",
          "model_module_version": "1.2.0",
          "model_name": "LayoutModel",
          "state": {
            "_model_module": "@jupyter-widgets/base",
            "_model_module_version": "1.2.0",
            "_model_name": "LayoutModel",
            "_view_count": null,
            "_view_module": "@jupyter-widgets/base",
            "_view_module_version": "1.2.0",
            "_view_name": "LayoutView",
            "align_content": null,
            "align_items": null,
            "align_self": null,
            "border": null,
            "bottom": null,
            "display": null,
            "flex": null,
            "flex_flow": null,
            "grid_area": null,
            "grid_auto_columns": null,
            "grid_auto_flow": null,
            "grid_auto_rows": null,
            "grid_column": null,
            "grid_gap": null,
            "grid_row": null,
            "grid_template_areas": null,
            "grid_template_columns": null,
            "grid_template_rows": null,
            "height": null,
            "justify_content": null,
            "justify_items": null,
            "left": null,
            "margin": null,
            "max_height": null,
            "max_width": null,
            "min_height": null,
            "min_width": null,
            "object_fit": null,
            "object_position": null,
            "order": null,
            "overflow": null,
            "overflow_x": null,
            "overflow_y": null,
            "padding": null,
            "right": null,
            "top": null,
            "visibility": null,
            "width": null
          }
        },
        "786f8b0d74634ee28d5659cbc840ff62": {
          "model_module": "@jupyter-widgets/controls",
          "model_module_version": "1.5.0",
          "model_name": "ProgressStyleModel",
          "state": {
            "_model_module": "@jupyter-widgets/controls",
            "_model_module_version": "1.5.0",
            "_model_name": "ProgressStyleModel",
            "_view_count": null,
            "_view_module": "@jupyter-widgets/base",
            "_view_module_version": "1.2.0",
            "_view_name": "StyleView",
            "bar_color": null,
            "description_width": ""
          }
        },
        "7971d8d9b59b4def984045142273d381": {
          "model_module": "@jupyter-widgets/controls",
          "model_module_version": "1.5.0",
          "model_name": "FloatProgressModel",
          "state": {
            "_dom_classes": [],
            "_model_module": "@jupyter-widgets/controls",
            "_model_module_version": "1.5.0",
            "_model_name": "FloatProgressModel",
            "_view_count": null,
            "_view_module": "@jupyter-widgets/controls",
            "_view_module_version": "1.5.0",
            "_view_name": "ProgressView",
            "bar_style": "success",
            "description": "",
            "description_tooltip": null,
            "layout": "IPY_MODEL_0fe99e5a58b943f5b37a2431ca9fef19",
            "max": 822,
            "min": 0,
            "orientation": "horizontal",
            "style": "IPY_MODEL_d2afa3648a5043a1b399811166a800c5",
            "value": 822
          }
        },
        "84b0173fb2c74cd789f974262f649d2e": {
          "model_module": "@jupyter-widgets/controls",
          "model_module_version": "1.5.0",
          "model_name": "HTMLModel",
          "state": {
            "_dom_classes": [],
            "_model_module": "@jupyter-widgets/controls",
            "_model_module_version": "1.5.0",
            "_model_name": "HTMLModel",
            "_view_count": null,
            "_view_module": "@jupyter-widgets/controls",
            "_view_module_version": "1.5.0",
            "_view_name": "HTMLView",
            "description": "",
            "description_tooltip": null,
            "layout": "IPY_MODEL_ac0f31a806764b90934afe2f96c9a06b",
            "placeholder": "​",
            "style": "IPY_MODEL_1bcb56961704407f9f889b4edac81598",
            "value": " 7.02k/7.02k [00:00&lt;00:00, 451kB/s]"
          }
        },
        "84b5cda04b144037ba5a37250a6b5b9d": {
          "model_module": "@jupyter-widgets/controls",
          "model_module_version": "1.5.0",
          "model_name": "HTMLModel",
          "state": {
            "_dom_classes": [],
            "_model_module": "@jupyter-widgets/controls",
            "_model_module_version": "1.5.0",
            "_model_name": "HTMLModel",
            "_view_count": null,
            "_view_module": "@jupyter-widgets/controls",
            "_view_module_version": "1.5.0",
            "_view_name": "HTMLView",
            "description": "",
            "description_tooltip": null,
            "layout": "IPY_MODEL_d7133044206c4605840ec71a96eed2b6",
            "placeholder": "​",
            "style": "IPY_MODEL_cc4f48e2952542038a42ab62d9fc801d",
            "value": " 100834/100834 [00:00&lt;00:00, 140836.69 examples/s]"
          }
        },
        "874bfe55f89641afba6eef653ccbada3": {
          "model_module": "@jupyter-widgets/controls",
          "model_module_version": "1.5.0",
          "model_name": "HTMLModel",
          "state": {
            "_dom_classes": [],
            "_model_module": "@jupyter-widgets/controls",
            "_model_module_version": "1.5.0",
            "_model_name": "HTMLModel",
            "_view_count": null,
            "_view_module": "@jupyter-widgets/controls",
            "_view_module_version": "1.5.0",
            "_view_name": "HTMLView",
            "description": "",
            "description_tooltip": null,
            "layout": "IPY_MODEL_6c0b6aad09be4eae867486b990cc79af",
            "placeholder": "​",
            "style": "IPY_MODEL_71c1a137ce174e5d8e3b0a71c532a29e",
            "value": " 2.59k/2.59k [00:00&lt;00:00, 195kB/s]"
          }
        },
        "8c34f66e053d45bdb3512cece9c7b6dc": {
          "model_module": "@jupyter-widgets/base",
          "model_module_version": "1.2.0",
          "model_name": "LayoutModel",
          "state": {
            "_model_module": "@jupyter-widgets/base",
            "_model_module_version": "1.2.0",
            "_model_name": "LayoutModel",
            "_view_count": null,
            "_view_module": "@jupyter-widgets/base",
            "_view_module_version": "1.2.0",
            "_view_name": "LayoutView",
            "align_content": null,
            "align_items": null,
            "align_self": null,
            "border": null,
            "bottom": null,
            "display": null,
            "flex": null,
            "flex_flow": null,
            "grid_area": null,
            "grid_auto_columns": null,
            "grid_auto_flow": null,
            "grid_auto_rows": null,
            "grid_column": null,
            "grid_gap": null,
            "grid_row": null,
            "grid_template_areas": null,
            "grid_template_columns": null,
            "grid_template_rows": null,
            "height": null,
            "justify_content": null,
            "justify_items": null,
            "left": null,
            "margin": null,
            "max_height": null,
            "max_width": null,
            "min_height": null,
            "min_width": null,
            "object_fit": null,
            "object_position": null,
            "order": null,
            "overflow": null,
            "overflow_x": null,
            "overflow_y": null,
            "padding": null,
            "right": null,
            "top": null,
            "visibility": null,
            "width": null
          }
        },
        "900722a069084468a42eae44761a67d2": {
          "model_module": "@jupyter-widgets/base",
          "model_module_version": "1.2.0",
          "model_name": "LayoutModel",
          "state": {
            "_model_module": "@jupyter-widgets/base",
            "_model_module_version": "1.2.0",
            "_model_name": "LayoutModel",
            "_view_count": null,
            "_view_module": "@jupyter-widgets/base",
            "_view_module_version": "1.2.0",
            "_view_name": "LayoutView",
            "align_content": null,
            "align_items": null,
            "align_self": null,
            "border": null,
            "bottom": null,
            "display": null,
            "flex": null,
            "flex_flow": null,
            "grid_area": null,
            "grid_auto_columns": null,
            "grid_auto_flow": null,
            "grid_auto_rows": null,
            "grid_column": null,
            "grid_gap": null,
            "grid_row": null,
            "grid_template_areas": null,
            "grid_template_columns": null,
            "grid_template_rows": null,
            "height": null,
            "justify_content": null,
            "justify_items": null,
            "left": null,
            "margin": null,
            "max_height": null,
            "max_width": null,
            "min_height": null,
            "min_width": null,
            "object_fit": null,
            "object_position": null,
            "order": null,
            "overflow": null,
            "overflow_x": null,
            "overflow_y": null,
            "padding": null,
            "right": null,
            "top": null,
            "visibility": null,
            "width": null
          }
        },
        "91b0ac0e1dc84ea5b84fbf3bd63e5688": {
          "model_module": "@jupyter-widgets/controls",
          "model_module_version": "1.5.0",
          "model_name": "HBoxModel",
          "state": {
            "_dom_classes": [],
            "_model_module": "@jupyter-widgets/controls",
            "_model_module_version": "1.5.0",
            "_model_name": "HBoxModel",
            "_view_count": null,
            "_view_module": "@jupyter-widgets/controls",
            "_view_module_version": "1.5.0",
            "_view_name": "HBoxView",
            "box_style": "",
            "children": [
              "IPY_MODEL_3f952579340448fca83c12b1681c9d88",
              "IPY_MODEL_fc09daae5b364e2ba0ca604bc8831bb2",
              "IPY_MODEL_2a34e6091dab4d75942ec534e5a89247"
            ],
            "layout": "IPY_MODEL_b04c211c1eb1468682f108d6f283874b"
          }
        },
        "977a7a30e281436bb539c7f14bb93f7a": {
          "model_module": "@jupyter-widgets/base",
          "model_module_version": "1.2.0",
          "model_name": "LayoutModel",
          "state": {
            "_model_module": "@jupyter-widgets/base",
            "_model_module_version": "1.2.0",
            "_model_name": "LayoutModel",
            "_view_count": null,
            "_view_module": "@jupyter-widgets/base",
            "_view_module_version": "1.2.0",
            "_view_name": "LayoutView",
            "align_content": null,
            "align_items": null,
            "align_self": null,
            "border": null,
            "bottom": null,
            "display": null,
            "flex": null,
            "flex_flow": null,
            "grid_area": null,
            "grid_auto_columns": null,
            "grid_auto_flow": null,
            "grid_auto_rows": null,
            "grid_column": null,
            "grid_gap": null,
            "grid_row": null,
            "grid_template_areas": null,
            "grid_template_columns": null,
            "grid_template_rows": null,
            "height": null,
            "justify_content": null,
            "justify_items": null,
            "left": null,
            "margin": null,
            "max_height": null,
            "max_width": null,
            "min_height": null,
            "min_width": null,
            "object_fit": null,
            "object_position": null,
            "order": null,
            "overflow": null,
            "overflow_x": null,
            "overflow_y": null,
            "padding": null,
            "right": null,
            "top": null,
            "visibility": null,
            "width": null
          }
        },
        "99acefdcadea4e30ad883ee2546da84e": {
          "model_module": "@jupyter-widgets/base",
          "model_module_version": "1.2.0",
          "model_name": "LayoutModel",
          "state": {
            "_model_module": "@jupyter-widgets/base",
            "_model_module_version": "1.2.0",
            "_model_name": "LayoutModel",
            "_view_count": null,
            "_view_module": "@jupyter-widgets/base",
            "_view_module_version": "1.2.0",
            "_view_name": "LayoutView",
            "align_content": null,
            "align_items": null,
            "align_self": null,
            "border": null,
            "bottom": null,
            "display": null,
            "flex": null,
            "flex_flow": null,
            "grid_area": null,
            "grid_auto_columns": null,
            "grid_auto_flow": null,
            "grid_auto_rows": null,
            "grid_column": null,
            "grid_gap": null,
            "grid_row": null,
            "grid_template_areas": null,
            "grid_template_columns": null,
            "grid_template_rows": null,
            "height": null,
            "justify_content": null,
            "justify_items": null,
            "left": null,
            "margin": null,
            "max_height": null,
            "max_width": null,
            "min_height": null,
            "min_width": null,
            "object_fit": null,
            "object_position": null,
            "order": null,
            "overflow": null,
            "overflow_x": null,
            "overflow_y": null,
            "padding": null,
            "right": null,
            "top": null,
            "visibility": null,
            "width": null
          }
        },
        "9d2821458cb143439ced37b5b3f62e50": {
          "model_module": "@jupyter-widgets/base",
          "model_module_version": "1.2.0",
          "model_name": "LayoutModel",
          "state": {
            "_model_module": "@jupyter-widgets/base",
            "_model_module_version": "1.2.0",
            "_model_name": "LayoutModel",
            "_view_count": null,
            "_view_module": "@jupyter-widgets/base",
            "_view_module_version": "1.2.0",
            "_view_name": "LayoutView",
            "align_content": null,
            "align_items": null,
            "align_self": null,
            "border": null,
            "bottom": null,
            "display": null,
            "flex": null,
            "flex_flow": null,
            "grid_area": null,
            "grid_auto_columns": null,
            "grid_auto_flow": null,
            "grid_auto_rows": null,
            "grid_column": null,
            "grid_gap": null,
            "grid_row": null,
            "grid_template_areas": null,
            "grid_template_columns": null,
            "grid_template_rows": null,
            "height": null,
            "justify_content": null,
            "justify_items": null,
            "left": null,
            "margin": null,
            "max_height": null,
            "max_width": null,
            "min_height": null,
            "min_width": null,
            "object_fit": null,
            "object_position": null,
            "order": null,
            "overflow": null,
            "overflow_x": null,
            "overflow_y": null,
            "padding": null,
            "right": null,
            "top": null,
            "visibility": null,
            "width": null
          }
        },
        "a35ec05c10c0400982b5e4769a97f0f0": {
          "model_module": "@jupyter-widgets/controls",
          "model_module_version": "1.5.0",
          "model_name": "FloatProgressModel",
          "state": {
            "_dom_classes": [],
            "_model_module": "@jupyter-widgets/controls",
            "_model_module_version": "1.5.0",
            "_model_name": "FloatProgressModel",
            "_view_count": null,
            "_view_module": "@jupyter-widgets/controls",
            "_view_module_version": "1.5.0",
            "_view_name": "ProgressView",
            "bar_style": "success",
            "description": "",
            "description_tooltip": null,
            "layout": "IPY_MODEL_977a7a30e281436bb539c7f14bb93f7a",
            "max": 2592,
            "min": 0,
            "orientation": "horizontal",
            "style": "IPY_MODEL_d341e8762fd84e9288de1cf6aa0279ac",
            "value": 2592
          }
        },
        "a7a31aecb336418e9794f4fd348c0174": {
          "model_module": "@jupyter-widgets/controls",
          "model_module_version": "1.5.0",
          "model_name": "ProgressStyleModel",
          "state": {
            "_model_module": "@jupyter-widgets/controls",
            "_model_module_version": "1.5.0",
            "_model_name": "ProgressStyleModel",
            "_view_count": null,
            "_view_module": "@jupyter-widgets/base",
            "_view_module_version": "1.2.0",
            "_view_name": "StyleView",
            "bar_color": null,
            "description_width": ""
          }
        },
        "a8a64ebfa4164b428495961e4205f5cf": {
          "model_module": "@jupyter-widgets/base",
          "model_module_version": "1.2.0",
          "model_name": "LayoutModel",
          "state": {
            "_model_module": "@jupyter-widgets/base",
            "_model_module_version": "1.2.0",
            "_model_name": "LayoutModel",
            "_view_count": null,
            "_view_module": "@jupyter-widgets/base",
            "_view_module_version": "1.2.0",
            "_view_name": "LayoutView",
            "align_content": null,
            "align_items": null,
            "align_self": null,
            "border": null,
            "bottom": null,
            "display": null,
            "flex": null,
            "flex_flow": null,
            "grid_area": null,
            "grid_auto_columns": null,
            "grid_auto_flow": null,
            "grid_auto_rows": null,
            "grid_column": null,
            "grid_gap": null,
            "grid_row": null,
            "grid_template_areas": null,
            "grid_template_columns": null,
            "grid_template_rows": null,
            "height": null,
            "justify_content": null,
            "justify_items": null,
            "left": null,
            "margin": null,
            "max_height": null,
            "max_width": null,
            "min_height": null,
            "min_width": null,
            "object_fit": null,
            "object_position": null,
            "order": null,
            "overflow": null,
            "overflow_x": null,
            "overflow_y": null,
            "padding": null,
            "right": null,
            "top": null,
            "visibility": null,
            "width": null
          }
        },
        "a9781ce2f5e846c5be64c8d8f8eb42b3": {
          "model_module": "@jupyter-widgets/controls",
          "model_module_version": "1.5.0",
          "model_name": "DescriptionStyleModel",
          "state": {
            "_model_module": "@jupyter-widgets/controls",
            "_model_module_version": "1.5.0",
            "_model_name": "DescriptionStyleModel",
            "_view_count": null,
            "_view_module": "@jupyter-widgets/base",
            "_view_module_version": "1.2.0",
            "_view_name": "StyleView",
            "description_width": ""
          }
        },
        "ac0f31a806764b90934afe2f96c9a06b": {
          "model_module": "@jupyter-widgets/base",
          "model_module_version": "1.2.0",
          "model_name": "LayoutModel",
          "state": {
            "_model_module": "@jupyter-widgets/base",
            "_model_module_version": "1.2.0",
            "_model_name": "LayoutModel",
            "_view_count": null,
            "_view_module": "@jupyter-widgets/base",
            "_view_module_version": "1.2.0",
            "_view_name": "LayoutView",
            "align_content": null,
            "align_items": null,
            "align_self": null,
            "border": null,
            "bottom": null,
            "display": null,
            "flex": null,
            "flex_flow": null,
            "grid_area": null,
            "grid_auto_columns": null,
            "grid_auto_flow": null,
            "grid_auto_rows": null,
            "grid_column": null,
            "grid_gap": null,
            "grid_row": null,
            "grid_template_areas": null,
            "grid_template_columns": null,
            "grid_template_rows": null,
            "height": null,
            "justify_content": null,
            "justify_items": null,
            "left": null,
            "margin": null,
            "max_height": null,
            "max_width": null,
            "min_height": null,
            "min_width": null,
            "object_fit": null,
            "object_position": null,
            "order": null,
            "overflow": null,
            "overflow_x": null,
            "overflow_y": null,
            "padding": null,
            "right": null,
            "top": null,
            "visibility": null,
            "width": null
          }
        },
        "ad6e4451d08d48ec8b6f91de396e9188": {
          "model_module": "@jupyter-widgets/controls",
          "model_module_version": "1.5.0",
          "model_name": "ProgressStyleModel",
          "state": {
            "_model_module": "@jupyter-widgets/controls",
            "_model_module_version": "1.5.0",
            "_model_name": "ProgressStyleModel",
            "_view_count": null,
            "_view_module": "@jupyter-widgets/base",
            "_view_module_version": "1.2.0",
            "_view_name": "StyleView",
            "bar_color": null,
            "description_width": ""
          }
        },
        "ae2b84a358714cac908d9f5b5555b58e": {
          "model_module": "@jupyter-widgets/controls",
          "model_module_version": "1.5.0",
          "model_name": "HBoxModel",
          "state": {
            "_dom_classes": [],
            "_model_module": "@jupyter-widgets/controls",
            "_model_module_version": "1.5.0",
            "_model_name": "HBoxModel",
            "_view_count": null,
            "_view_module": "@jupyter-widgets/controls",
            "_view_module_version": "1.5.0",
            "_view_name": "HBoxView",
            "box_style": "",
            "children": [
              "IPY_MODEL_29266ef691b945848255860fcd2b0430",
              "IPY_MODEL_c7f66ddd05a44fc2bb0f98d379dc998b",
              "IPY_MODEL_84b0173fb2c74cd789f974262f649d2e"
            ],
            "layout": "IPY_MODEL_cf5ffa9f115e47efb7214fe94dfdd107"
          }
        },
        "b04c211c1eb1468682f108d6f283874b": {
          "model_module": "@jupyter-widgets/base",
          "model_module_version": "1.2.0",
          "model_name": "LayoutModel",
          "state": {
            "_model_module": "@jupyter-widgets/base",
            "_model_module_version": "1.2.0",
            "_model_name": "LayoutModel",
            "_view_count": null,
            "_view_module": "@jupyter-widgets/base",
            "_view_module_version": "1.2.0",
            "_view_name": "LayoutView",
            "align_content": null,
            "align_items": null,
            "align_self": null,
            "border": null,
            "bottom": null,
            "display": null,
            "flex": null,
            "flex_flow": null,
            "grid_area": null,
            "grid_auto_columns": null,
            "grid_auto_flow": null,
            "grid_auto_rows": null,
            "grid_column": null,
            "grid_gap": null,
            "grid_row": null,
            "grid_template_areas": null,
            "grid_template_columns": null,
            "grid_template_rows": null,
            "height": null,
            "justify_content": null,
            "justify_items": null,
            "left": null,
            "margin": null,
            "max_height": null,
            "max_width": null,
            "min_height": null,
            "min_width": null,
            "object_fit": null,
            "object_position": null,
            "order": null,
            "overflow": null,
            "overflow_x": null,
            "overflow_y": null,
            "padding": null,
            "right": null,
            "top": null,
            "visibility": null,
            "width": null
          }
        },
        "b291d28f581a418fa1fd770344d31ea6": {
          "model_module": "@jupyter-widgets/base",
          "model_module_version": "1.2.0",
          "model_name": "LayoutModel",
          "state": {
            "_model_module": "@jupyter-widgets/base",
            "_model_module_version": "1.2.0",
            "_model_name": "LayoutModel",
            "_view_count": null,
            "_view_module": "@jupyter-widgets/base",
            "_view_module_version": "1.2.0",
            "_view_name": "LayoutView",
            "align_content": null,
            "align_items": null,
            "align_self": null,
            "border": null,
            "bottom": null,
            "display": null,
            "flex": null,
            "flex_flow": null,
            "grid_area": null,
            "grid_auto_columns": null,
            "grid_auto_flow": null,
            "grid_auto_rows": null,
            "grid_column": null,
            "grid_gap": null,
            "grid_row": null,
            "grid_template_areas": null,
            "grid_template_columns": null,
            "grid_template_rows": null,
            "height": null,
            "justify_content": null,
            "justify_items": null,
            "left": null,
            "margin": null,
            "max_height": null,
            "max_width": null,
            "min_height": null,
            "min_width": null,
            "object_fit": null,
            "object_position": null,
            "order": null,
            "overflow": null,
            "overflow_x": null,
            "overflow_y": null,
            "padding": null,
            "right": null,
            "top": null,
            "visibility": null,
            "width": null
          }
        },
        "b2c67d08f7334818b251ff278ca1136d": {
          "model_module": "@jupyter-widgets/controls",
          "model_module_version": "1.5.0",
          "model_name": "DescriptionStyleModel",
          "state": {
            "_model_module": "@jupyter-widgets/controls",
            "_model_module_version": "1.5.0",
            "_model_name": "DescriptionStyleModel",
            "_view_count": null,
            "_view_module": "@jupyter-widgets/base",
            "_view_module_version": "1.2.0",
            "_view_name": "StyleView",
            "description_width": ""
          }
        },
        "b364e5fb2e07450ea6be380705d23e7d": {
          "model_module": "@jupyter-widgets/controls",
          "model_module_version": "1.5.0",
          "model_name": "HTMLModel",
          "state": {
            "_dom_classes": [],
            "_model_module": "@jupyter-widgets/controls",
            "_model_module_version": "1.5.0",
            "_model_name": "HTMLModel",
            "_view_count": null,
            "_view_module": "@jupyter-widgets/controls",
            "_view_module_version": "1.5.0",
            "_view_name": "HTMLView",
            "description": "",
            "description_tooltip": null,
            "layout": "IPY_MODEL_ea83f35efaf94e43b3b2671b13c3e527",
            "placeholder": "​",
            "style": "IPY_MODEL_182f42a3fbe646a99573de734dae333d",
            "value": " 2.20k/2.20k [00:00&lt;00:00, 144kB/s]"
          }
        },
        "bc174b6a3b2d4721821aa78819e88613": {
          "model_module": "@jupyter-widgets/controls",
          "model_module_version": "1.5.0",
          "model_name": "HTMLModel",
          "state": {
            "_dom_classes": [],
            "_model_module": "@jupyter-widgets/controls",
            "_model_module_version": "1.5.0",
            "_model_name": "HTMLModel",
            "_view_count": null,
            "_view_module": "@jupyter-widgets/controls",
            "_view_module_version": "1.5.0",
            "_view_name": "HTMLView",
            "description": "",
            "description_tooltip": null,
            "layout": "IPY_MODEL_1cb67f92387345b1a899e3af417eff34",
            "placeholder": "​",
            "style": "IPY_MODEL_4321dcfd16944e928d58e28967472b3a",
            "value": " 41.8M/41.8M [00:01&lt;00:00, 36.9MB/s]"
          }
        },
        "bc53642d0b7546ba899b30d90c903d80": {
          "model_module": "@jupyter-widgets/controls",
          "model_module_version": "1.5.0",
          "model_name": "HTMLModel",
          "state": {
            "_dom_classes": [],
            "_model_module": "@jupyter-widgets/controls",
            "_model_module_version": "1.5.0",
            "_model_name": "HTMLModel",
            "_view_count": null,
            "_view_module": "@jupyter-widgets/controls",
            "_view_module_version": "1.5.0",
            "_view_name": "HTMLView",
            "description": "",
            "description_tooltip": null,
            "layout": "IPY_MODEL_6c44290a086645158b2b8988f42be651",
            "placeholder": "​",
            "style": "IPY_MODEL_d65b18627e57414f82da9021d056d1ad",
            "value": "model.safetensors: 100%"
          }
        },
        "c35aa360a0c646358f5bb0ff4518887c": {
          "model_module": "@jupyter-widgets/controls",
          "model_module_version": "1.5.0",
          "model_name": "ProgressStyleModel",
          "state": {
            "_model_module": "@jupyter-widgets/controls",
            "_model_module_version": "1.5.0",
            "_model_name": "ProgressStyleModel",
            "_view_count": null,
            "_view_module": "@jupyter-widgets/base",
            "_view_module_version": "1.2.0",
            "_view_name": "StyleView",
            "bar_color": null,
            "description_width": ""
          }
        },
        "c44eace1efba4b7a9a16bf319f6586d7": {
          "model_module": "@jupyter-widgets/controls",
          "model_module_version": "1.5.0",
          "model_name": "HTMLModel",
          "state": {
            "_dom_classes": [],
            "_model_module": "@jupyter-widgets/controls",
            "_model_module_version": "1.5.0",
            "_model_name": "HTMLModel",
            "_view_count": null,
            "_view_module": "@jupyter-widgets/controls",
            "_view_module_version": "1.5.0",
            "_view_name": "HTMLView",
            "description": "",
            "description_tooltip": null,
            "layout": "IPY_MODEL_a8a64ebfa4164b428495961e4205f5cf",
            "placeholder": "​",
            "style": "IPY_MODEL_489b789027bb4b21953e9a37fd8226e8",
            "value": "Generating train split: 100%"
          }
        },
        "c7f66ddd05a44fc2bb0f98d379dc998b": {
          "model_module": "@jupyter-widgets/controls",
          "model_module_version": "1.5.0",
          "model_name": "FloatProgressModel",
          "state": {
            "_dom_classes": [],
            "_model_module": "@jupyter-widgets/controls",
            "_model_module_version": "1.5.0",
            "_model_name": "FloatProgressModel",
            "_view_count": null,
            "_view_module": "@jupyter-widgets/controls",
            "_view_module_version": "1.5.0",
            "_view_name": "ProgressView",
            "bar_style": "success",
            "description": "",
            "description_tooltip": null,
            "layout": "IPY_MODEL_cf4ecd9bc4a44704980d8ec68fdd6231",
            "max": 7021,
            "min": 0,
            "orientation": "horizontal",
            "style": "IPY_MODEL_ad6e4451d08d48ec8b6f91de396e9188",
            "value": 7021
          }
        },
        "c97a0b028b6447bb9412c0f20af41265": {
          "model_module": "@jupyter-widgets/base",
          "model_module_version": "1.2.0",
          "model_name": "LayoutModel",
          "state": {
            "_model_module": "@jupyter-widgets/base",
            "_model_module_version": "1.2.0",
            "_model_name": "LayoutModel",
            "_view_count": null,
            "_view_module": "@jupyter-widgets/base",
            "_view_module_version": "1.2.0",
            "_view_name": "LayoutView",
            "align_content": null,
            "align_items": null,
            "align_self": null,
            "border": null,
            "bottom": null,
            "display": null,
            "flex": null,
            "flex_flow": null,
            "grid_area": null,
            "grid_auto_columns": null,
            "grid_auto_flow": null,
            "grid_auto_rows": null,
            "grid_column": null,
            "grid_gap": null,
            "grid_row": null,
            "grid_template_areas": null,
            "grid_template_columns": null,
            "grid_template_rows": null,
            "height": null,
            "justify_content": null,
            "justify_items": null,
            "left": null,
            "margin": null,
            "max_height": null,
            "max_width": null,
            "min_height": null,
            "min_width": null,
            "object_fit": null,
            "object_position": null,
            "order": null,
            "overflow": null,
            "overflow_x": null,
            "overflow_y": null,
            "padding": null,
            "right": null,
            "top": null,
            "visibility": null,
            "width": null
          }
        },
        "c9dc4001fd9049568125bda7b4a3e1e7": {
          "model_module": "@jupyter-widgets/controls",
          "model_module_version": "1.5.0",
          "model_name": "HBoxModel",
          "state": {
            "_dom_classes": [],
            "_model_module": "@jupyter-widgets/controls",
            "_model_module_version": "1.5.0",
            "_model_name": "HBoxModel",
            "_view_count": null,
            "_view_module": "@jupyter-widgets/controls",
            "_view_module_version": "1.5.0",
            "_view_name": "HBoxView",
            "box_style": "",
            "children": [
              "IPY_MODEL_ea3ab7d607c249cc823a7faa900499ef",
              "IPY_MODEL_a35ec05c10c0400982b5e4769a97f0f0",
              "IPY_MODEL_874bfe55f89641afba6eef653ccbada3"
            ],
            "layout": "IPY_MODEL_f3be03974e5b4adfa5c127a6425c7863"
          }
        },
        "cc4f2c56d4ac4a3696743dbcc242e8bc": {
          "model_module": "@jupyter-widgets/controls",
          "model_module_version": "1.5.0",
          "model_name": "HTMLModel",
          "state": {
            "_dom_classes": [],
            "_model_module": "@jupyter-widgets/controls",
            "_model_module_version": "1.5.0",
            "_model_name": "HTMLModel",
            "_view_count": null,
            "_view_module": "@jupyter-widgets/controls",
            "_view_module_version": "1.5.0",
            "_view_name": "HTMLView",
            "description": "",
            "description_tooltip": null,
            "layout": "IPY_MODEL_28af7174d7444010bacf888f37fe59c7",
            "placeholder": "​",
            "style": "IPY_MODEL_f7e94662971a449caab186c5091832d2",
            "value": " 822/822 [00:00&lt;00:00, 65.2kB/s]"
          }
        },
        "cc4f48e2952542038a42ab62d9fc801d": {
          "model_module": "@jupyter-widgets/controls",
          "model_module_version": "1.5.0",
          "model_name": "DescriptionStyleModel",
          "state": {
            "_model_module": "@jupyter-widgets/controls",
            "_model_module_version": "1.5.0",
            "_model_name": "DescriptionStyleModel",
            "_view_count": null,
            "_view_module": "@jupyter-widgets/base",
            "_view_module_version": "1.2.0",
            "_view_name": "StyleView",
            "description_width": ""
          }
        },
        "cd67b92ac03e48f0b9cac1c5b6e873da": {
          "model_module": "@jupyter-widgets/base",
          "model_module_version": "1.2.0",
          "model_name": "LayoutModel",
          "state": {
            "_model_module": "@jupyter-widgets/base",
            "_model_module_version": "1.2.0",
            "_model_name": "LayoutModel",
            "_view_count": null,
            "_view_module": "@jupyter-widgets/base",
            "_view_module_version": "1.2.0",
            "_view_name": "LayoutView",
            "align_content": null,
            "align_items": null,
            "align_self": null,
            "border": null,
            "bottom": null,
            "display": null,
            "flex": null,
            "flex_flow": null,
            "grid_area": null,
            "grid_auto_columns": null,
            "grid_auto_flow": null,
            "grid_auto_rows": null,
            "grid_column": null,
            "grid_gap": null,
            "grid_row": null,
            "grid_template_areas": null,
            "grid_template_columns": null,
            "grid_template_rows": null,
            "height": null,
            "justify_content": null,
            "justify_items": null,
            "left": null,
            "margin": null,
            "max_height": null,
            "max_width": null,
            "min_height": null,
            "min_width": null,
            "object_fit": null,
            "object_position": null,
            "order": null,
            "overflow": null,
            "overflow_x": null,
            "overflow_y": null,
            "padding": null,
            "right": null,
            "top": null,
            "visibility": null,
            "width": null
          }
        },
        "cf33184c69fc48a78bce65d12c243636": {
          "model_module": "@jupyter-widgets/base",
          "model_module_version": "1.2.0",
          "model_name": "LayoutModel",
          "state": {
            "_model_module": "@jupyter-widgets/base",
            "_model_module_version": "1.2.0",
            "_model_name": "LayoutModel",
            "_view_count": null,
            "_view_module": "@jupyter-widgets/base",
            "_view_module_version": "1.2.0",
            "_view_name": "LayoutView",
            "align_content": null,
            "align_items": null,
            "align_self": null,
            "border": null,
            "bottom": null,
            "display": null,
            "flex": null,
            "flex_flow": null,
            "grid_area": null,
            "grid_auto_columns": null,
            "grid_auto_flow": null,
            "grid_auto_rows": null,
            "grid_column": null,
            "grid_gap": null,
            "grid_row": null,
            "grid_template_areas": null,
            "grid_template_columns": null,
            "grid_template_rows": null,
            "height": null,
            "justify_content": null,
            "justify_items": null,
            "left": null,
            "margin": null,
            "max_height": null,
            "max_width": null,
            "min_height": null,
            "min_width": null,
            "object_fit": null,
            "object_position": null,
            "order": null,
            "overflow": null,
            "overflow_x": null,
            "overflow_y": null,
            "padding": null,
            "right": null,
            "top": null,
            "visibility": null,
            "width": null
          }
        },
        "cf4ecd9bc4a44704980d8ec68fdd6231": {
          "model_module": "@jupyter-widgets/base",
          "model_module_version": "1.2.0",
          "model_name": "LayoutModel",
          "state": {
            "_model_module": "@jupyter-widgets/base",
            "_model_module_version": "1.2.0",
            "_model_name": "LayoutModel",
            "_view_count": null,
            "_view_module": "@jupyter-widgets/base",
            "_view_module_version": "1.2.0",
            "_view_name": "LayoutView",
            "align_content": null,
            "align_items": null,
            "align_self": null,
            "border": null,
            "bottom": null,
            "display": null,
            "flex": null,
            "flex_flow": null,
            "grid_area": null,
            "grid_auto_columns": null,
            "grid_auto_flow": null,
            "grid_auto_rows": null,
            "grid_column": null,
            "grid_gap": null,
            "grid_row": null,
            "grid_template_areas": null,
            "grid_template_columns": null,
            "grid_template_rows": null,
            "height": null,
            "justify_content": null,
            "justify_items": null,
            "left": null,
            "margin": null,
            "max_height": null,
            "max_width": null,
            "min_height": null,
            "min_width": null,
            "object_fit": null,
            "object_position": null,
            "order": null,
            "overflow": null,
            "overflow_x": null,
            "overflow_y": null,
            "padding": null,
            "right": null,
            "top": null,
            "visibility": null,
            "width": null
          }
        },
        "cf5ffa9f115e47efb7214fe94dfdd107": {
          "model_module": "@jupyter-widgets/base",
          "model_module_version": "1.2.0",
          "model_name": "LayoutModel",
          "state": {
            "_model_module": "@jupyter-widgets/base",
            "_model_module_version": "1.2.0",
            "_model_name": "LayoutModel",
            "_view_count": null,
            "_view_module": "@jupyter-widgets/base",
            "_view_module_version": "1.2.0",
            "_view_name": "LayoutView",
            "align_content": null,
            "align_items": null,
            "align_self": null,
            "border": null,
            "bottom": null,
            "display": null,
            "flex": null,
            "flex_flow": null,
            "grid_area": null,
            "grid_auto_columns": null,
            "grid_auto_flow": null,
            "grid_auto_rows": null,
            "grid_column": null,
            "grid_gap": null,
            "grid_row": null,
            "grid_template_areas": null,
            "grid_template_columns": null,
            "grid_template_rows": null,
            "height": null,
            "justify_content": null,
            "justify_items": null,
            "left": null,
            "margin": null,
            "max_height": null,
            "max_width": null,
            "min_height": null,
            "min_width": null,
            "object_fit": null,
            "object_position": null,
            "order": null,
            "overflow": null,
            "overflow_x": null,
            "overflow_y": null,
            "padding": null,
            "right": null,
            "top": null,
            "visibility": null,
            "width": null
          }
        },
        "d2afa3648a5043a1b399811166a800c5": {
          "model_module": "@jupyter-widgets/controls",
          "model_module_version": "1.5.0",
          "model_name": "ProgressStyleModel",
          "state": {
            "_model_module": "@jupyter-widgets/controls",
            "_model_module_version": "1.5.0",
            "_model_name": "ProgressStyleModel",
            "_view_count": null,
            "_view_module": "@jupyter-widgets/base",
            "_view_module_version": "1.2.0",
            "_view_name": "StyleView",
            "bar_color": null,
            "description_width": ""
          }
        },
        "d341e8762fd84e9288de1cf6aa0279ac": {
          "model_module": "@jupyter-widgets/controls",
          "model_module_version": "1.5.0",
          "model_name": "ProgressStyleModel",
          "state": {
            "_model_module": "@jupyter-widgets/controls",
            "_model_module_version": "1.5.0",
            "_model_name": "ProgressStyleModel",
            "_view_count": null,
            "_view_module": "@jupyter-widgets/base",
            "_view_module_version": "1.2.0",
            "_view_name": "StyleView",
            "bar_color": null,
            "description_width": ""
          }
        },
        "d65b18627e57414f82da9021d056d1ad": {
          "model_module": "@jupyter-widgets/controls",
          "model_module_version": "1.5.0",
          "model_name": "DescriptionStyleModel",
          "state": {
            "_model_module": "@jupyter-widgets/controls",
            "_model_module_version": "1.5.0",
            "_model_name": "DescriptionStyleModel",
            "_view_count": null,
            "_view_module": "@jupyter-widgets/base",
            "_view_module_version": "1.2.0",
            "_view_name": "StyleView",
            "description_width": ""
          }
        },
        "d7133044206c4605840ec71a96eed2b6": {
          "model_module": "@jupyter-widgets/base",
          "model_module_version": "1.2.0",
          "model_name": "LayoutModel",
          "state": {
            "_model_module": "@jupyter-widgets/base",
            "_model_module_version": "1.2.0",
            "_model_name": "LayoutModel",
            "_view_count": null,
            "_view_module": "@jupyter-widgets/base",
            "_view_module_version": "1.2.0",
            "_view_name": "LayoutView",
            "align_content": null,
            "align_items": null,
            "align_self": null,
            "border": null,
            "bottom": null,
            "display": null,
            "flex": null,
            "flex_flow": null,
            "grid_area": null,
            "grid_auto_columns": null,
            "grid_auto_flow": null,
            "grid_auto_rows": null,
            "grid_column": null,
            "grid_gap": null,
            "grid_row": null,
            "grid_template_areas": null,
            "grid_template_columns": null,
            "grid_template_rows": null,
            "height": null,
            "justify_content": null,
            "justify_items": null,
            "left": null,
            "margin": null,
            "max_height": null,
            "max_width": null,
            "min_height": null,
            "min_width": null,
            "object_fit": null,
            "object_position": null,
            "order": null,
            "overflow": null,
            "overflow_x": null,
            "overflow_y": null,
            "padding": null,
            "right": null,
            "top": null,
            "visibility": null,
            "width": null
          }
        },
        "d7ff0ae7c0c84e6981d26c2e4ef9b22b": {
          "model_module": "@jupyter-widgets/base",
          "model_module_version": "1.2.0",
          "model_name": "LayoutModel",
          "state": {
            "_model_module": "@jupyter-widgets/base",
            "_model_module_version": "1.2.0",
            "_model_name": "LayoutModel",
            "_view_count": null,
            "_view_module": "@jupyter-widgets/base",
            "_view_module_version": "1.2.0",
            "_view_name": "LayoutView",
            "align_content": null,
            "align_items": null,
            "align_self": null,
            "border": null,
            "bottom": null,
            "display": null,
            "flex": null,
            "flex_flow": null,
            "grid_area": null,
            "grid_auto_columns": null,
            "grid_auto_flow": null,
            "grid_auto_rows": null,
            "grid_column": null,
            "grid_gap": null,
            "grid_row": null,
            "grid_template_areas": null,
            "grid_template_columns": null,
            "grid_template_rows": null,
            "height": null,
            "justify_content": null,
            "justify_items": null,
            "left": null,
            "margin": null,
            "max_height": null,
            "max_width": null,
            "min_height": null,
            "min_width": null,
            "object_fit": null,
            "object_position": null,
            "order": null,
            "overflow": null,
            "overflow_x": null,
            "overflow_y": null,
            "padding": null,
            "right": null,
            "top": null,
            "visibility": null,
            "width": null
          }
        },
        "da92109a81904b9aa4d2e90e024f38d4": {
          "model_module": "@jupyter-widgets/controls",
          "model_module_version": "1.5.0",
          "model_name": "DescriptionStyleModel",
          "state": {
            "_model_module": "@jupyter-widgets/controls",
            "_model_module_version": "1.5.0",
            "_model_name": "DescriptionStyleModel",
            "_view_count": null,
            "_view_module": "@jupyter-widgets/base",
            "_view_module_version": "1.2.0",
            "_view_name": "StyleView",
            "description_width": ""
          }
        },
        "e1a2b003964c4c048724628f218a0aa5": {
          "model_module": "@jupyter-widgets/controls",
          "model_module_version": "1.5.0",
          "model_name": "DescriptionStyleModel",
          "state": {
            "_model_module": "@jupyter-widgets/controls",
            "_model_module_version": "1.5.0",
            "_model_name": "DescriptionStyleModel",
            "_view_count": null,
            "_view_module": "@jupyter-widgets/base",
            "_view_module_version": "1.2.0",
            "_view_name": "StyleView",
            "description_width": ""
          }
        },
        "e2d39f04ccbd4584b7f4af0ffb600189": {
          "model_module": "@jupyter-widgets/controls",
          "model_module_version": "1.5.0",
          "model_name": "FloatProgressModel",
          "state": {
            "_dom_classes": [],
            "_model_module": "@jupyter-widgets/controls",
            "_model_module_version": "1.5.0",
            "_model_name": "FloatProgressModel",
            "_view_count": null,
            "_view_module": "@jupyter-widgets/controls",
            "_view_module_version": "1.5.0",
            "_view_name": "ProgressView",
            "bar_style": "success",
            "description": "",
            "description_tooltip": null,
            "layout": "IPY_MODEL_2d287b53de3843c8a00964945062f17c",
            "max": 100834,
            "min": 0,
            "orientation": "horizontal",
            "style": "IPY_MODEL_58d611ad0aa3454c902f5d26156eff93",
            "value": 100834
          }
        },
        "e527037e8e44444fa2a255638108ad15": {
          "model_module": "@jupyter-widgets/controls",
          "model_module_version": "1.5.0",
          "model_name": "ProgressStyleModel",
          "state": {
            "_model_module": "@jupyter-widgets/controls",
            "_model_module_version": "1.5.0",
            "_model_name": "ProgressStyleModel",
            "_view_count": null,
            "_view_module": "@jupyter-widgets/base",
            "_view_module_version": "1.2.0",
            "_view_name": "StyleView",
            "bar_color": null,
            "description_width": ""
          }
        },
        "e55fe0132ef5430c9eae77825a5c57e0": {
          "model_module": "@jupyter-widgets/controls",
          "model_module_version": "1.5.0",
          "model_name": "FloatProgressModel",
          "state": {
            "_dom_classes": [],
            "_model_module": "@jupyter-widgets/controls",
            "_model_module_version": "1.5.0",
            "_model_name": "FloatProgressModel",
            "_view_count": null,
            "_view_module": "@jupyter-widgets/controls",
            "_view_module_version": "1.5.0",
            "_view_name": "ProgressView",
            "bar_style": "success",
            "description": "",
            "description_tooltip": null,
            "layout": "IPY_MODEL_3e517eceffdd45f080da0708b0436e9e",
            "max": 639963,
            "min": 0,
            "orientation": "horizontal",
            "style": "IPY_MODEL_a7a31aecb336418e9794f4fd348c0174",
            "value": 639963
          }
        },
        "e5d1817d30934376ad26201388d9be8f": {
          "model_module": "@jupyter-widgets/base",
          "model_module_version": "1.2.0",
          "model_name": "LayoutModel",
          "state": {
            "_model_module": "@jupyter-widgets/base",
            "_model_module_version": "1.2.0",
            "_model_name": "LayoutModel",
            "_view_count": null,
            "_view_module": "@jupyter-widgets/base",
            "_view_module_version": "1.2.0",
            "_view_name": "LayoutView",
            "align_content": null,
            "align_items": null,
            "align_self": null,
            "border": null,
            "bottom": null,
            "display": null,
            "flex": null,
            "flex_flow": null,
            "grid_area": null,
            "grid_auto_columns": null,
            "grid_auto_flow": null,
            "grid_auto_rows": null,
            "grid_column": null,
            "grid_gap": null,
            "grid_row": null,
            "grid_template_areas": null,
            "grid_template_columns": null,
            "grid_template_rows": null,
            "height": null,
            "justify_content": null,
            "justify_items": null,
            "left": null,
            "margin": null,
            "max_height": null,
            "max_width": null,
            "min_height": null,
            "min_width": null,
            "object_fit": null,
            "object_position": null,
            "order": null,
            "overflow": null,
            "overflow_x": null,
            "overflow_y": null,
            "padding": null,
            "right": null,
            "top": null,
            "visibility": null,
            "width": null
          }
        },
        "e7907bc2847f4acd89cbe12c349c569e": {
          "model_module": "@jupyter-widgets/controls",
          "model_module_version": "1.5.0",
          "model_name": "HBoxModel",
          "state": {
            "_dom_classes": [],
            "_model_module": "@jupyter-widgets/controls",
            "_model_module_version": "1.5.0",
            "_model_name": "HBoxModel",
            "_view_count": null,
            "_view_module": "@jupyter-widgets/controls",
            "_view_module_version": "1.5.0",
            "_view_name": "HBoxView",
            "box_style": "",
            "children": [
              "IPY_MODEL_325793ea9cc4407f8f7ce1d82ca28b1c",
              "IPY_MODEL_034c0a791b85423a84318e1947f26305",
              "IPY_MODEL_b364e5fb2e07450ea6be380705d23e7d"
            ],
            "layout": "IPY_MODEL_3908158e2428493bba420ec28a2ad831"
          }
        },
        "ea3ab7d607c249cc823a7faa900499ef": {
          "model_module": "@jupyter-widgets/controls",
          "model_module_version": "1.5.0",
          "model_name": "HTMLModel",
          "state": {
            "_dom_classes": [],
            "_model_module": "@jupyter-widgets/controls",
            "_model_module_version": "1.5.0",
            "_model_name": "HTMLModel",
            "_view_count": null,
            "_view_module": "@jupyter-widgets/controls",
            "_view_module_version": "1.5.0",
            "_view_name": "HTMLView",
            "description": "",
            "description_tooltip": null,
            "layout": "IPY_MODEL_c97a0b028b6447bb9412c0f20af41265",
            "placeholder": "​",
            "style": "IPY_MODEL_b2c67d08f7334818b251ff278ca1136d",
            "value": "tokenizer_config.json: 100%"
          }
        },
        "ea83f35efaf94e43b3b2671b13c3e527": {
          "model_module": "@jupyter-widgets/base",
          "model_module_version": "1.2.0",
          "model_name": "LayoutModel",
          "state": {
            "_model_module": "@jupyter-widgets/base",
            "_model_module_version": "1.2.0",
            "_model_name": "LayoutModel",
            "_view_count": null,
            "_view_module": "@jupyter-widgets/base",
            "_view_module_version": "1.2.0",
            "_view_name": "LayoutView",
            "align_content": null,
            "align_items": null,
            "align_self": null,
            "border": null,
            "bottom": null,
            "display": null,
            "flex": null,
            "flex_flow": null,
            "grid_area": null,
            "grid_auto_columns": null,
            "grid_auto_flow": null,
            "grid_auto_rows": null,
            "grid_column": null,
            "grid_gap": null,
            "grid_row": null,
            "grid_template_areas": null,
            "grid_template_columns": null,
            "grid_template_rows": null,
            "height": null,
            "justify_content": null,
            "justify_items": null,
            "left": null,
            "margin": null,
            "max_height": null,
            "max_width": null,
            "min_height": null,
            "min_width": null,
            "object_fit": null,
            "object_position": null,
            "order": null,
            "overflow": null,
            "overflow_x": null,
            "overflow_y": null,
            "padding": null,
            "right": null,
            "top": null,
            "visibility": null,
            "width": null
          }
        },
        "f3be03974e5b4adfa5c127a6425c7863": {
          "model_module": "@jupyter-widgets/base",
          "model_module_version": "1.2.0",
          "model_name": "LayoutModel",
          "state": {
            "_model_module": "@jupyter-widgets/base",
            "_model_module_version": "1.2.0",
            "_model_name": "LayoutModel",
            "_view_count": null,
            "_view_module": "@jupyter-widgets/base",
            "_view_module_version": "1.2.0",
            "_view_name": "LayoutView",
            "align_content": null,
            "align_items": null,
            "align_self": null,
            "border": null,
            "bottom": null,
            "display": null,
            "flex": null,
            "flex_flow": null,
            "grid_area": null,
            "grid_auto_columns": null,
            "grid_auto_flow": null,
            "grid_auto_rows": null,
            "grid_column": null,
            "grid_gap": null,
            "grid_row": null,
            "grid_template_areas": null,
            "grid_template_columns": null,
            "grid_template_rows": null,
            "height": null,
            "justify_content": null,
            "justify_items": null,
            "left": null,
            "margin": null,
            "max_height": null,
            "max_width": null,
            "min_height": null,
            "min_width": null,
            "object_fit": null,
            "object_position": null,
            "order": null,
            "overflow": null,
            "overflow_x": null,
            "overflow_y": null,
            "padding": null,
            "right": null,
            "top": null,
            "visibility": null,
            "width": null
          }
        },
        "f7e94662971a449caab186c5091832d2": {
          "model_module": "@jupyter-widgets/controls",
          "model_module_version": "1.5.0",
          "model_name": "DescriptionStyleModel",
          "state": {
            "_model_module": "@jupyter-widgets/controls",
            "_model_module_version": "1.5.0",
            "_model_name": "DescriptionStyleModel",
            "_view_count": null,
            "_view_module": "@jupyter-widgets/base",
            "_view_module_version": "1.2.0",
            "_view_name": "StyleView",
            "description_width": ""
          }
        },
        "faaee368b119433ab25ce0c19f4551a8": {
          "model_module": "@jupyter-widgets/controls",
          "model_module_version": "1.5.0",
          "model_name": "DescriptionStyleModel",
          "state": {
            "_model_module": "@jupyter-widgets/controls",
            "_model_module_version": "1.5.0",
            "_model_name": "DescriptionStyleModel",
            "_view_count": null,
            "_view_module": "@jupyter-widgets/base",
            "_view_module_version": "1.2.0",
            "_view_name": "StyleView",
            "description_width": ""
          }
        },
        "fb43ad1e9de24d6493b646dc95e7ed94": {
          "model_module": "@jupyter-widgets/base",
          "model_module_version": "1.2.0",
          "model_name": "LayoutModel",
          "state": {
            "_model_module": "@jupyter-widgets/base",
            "_model_module_version": "1.2.0",
            "_model_name": "LayoutModel",
            "_view_count": null,
            "_view_module": "@jupyter-widgets/base",
            "_view_module_version": "1.2.0",
            "_view_name": "LayoutView",
            "align_content": null,
            "align_items": null,
            "align_self": null,
            "border": null,
            "bottom": null,
            "display": null,
            "flex": null,
            "flex_flow": null,
            "grid_area": null,
            "grid_auto_columns": null,
            "grid_auto_flow": null,
            "grid_auto_rows": null,
            "grid_column": null,
            "grid_gap": null,
            "grid_row": null,
            "grid_template_areas": null,
            "grid_template_columns": null,
            "grid_template_rows": null,
            "height": null,
            "justify_content": null,
            "justify_items": null,
            "left": null,
            "margin": null,
            "max_height": null,
            "max_width": null,
            "min_height": null,
            "min_width": null,
            "object_fit": null,
            "object_position": null,
            "order": null,
            "overflow": null,
            "overflow_x": null,
            "overflow_y": null,
            "padding": null,
            "right": null,
            "top": null,
            "visibility": null,
            "width": null
          }
        },
        "fc09daae5b364e2ba0ca604bc8831bb2": {
          "model_module": "@jupyter-widgets/controls",
          "model_module_version": "1.5.0",
          "model_name": "FloatProgressModel",
          "state": {
            "_dom_classes": [],
            "_model_module": "@jupyter-widgets/controls",
            "_model_module_version": "1.5.0",
            "_model_name": "FloatProgressModel",
            "_view_count": null,
            "_view_module": "@jupyter-widgets/controls",
            "_view_module_version": "1.5.0",
            "_view_name": "ProgressView",
            "bar_style": "success",
            "description": "",
            "description_tooltip": null,
            "layout": "IPY_MODEL_712f1a243bef42b1ba1a109e584cf485",
            "max": 3470,
            "min": 0,
            "orientation": "horizontal",
            "style": "IPY_MODEL_6186aaddca0a4166baf376212bf8ee04",
            "value": 3470
          }
        }
      }
    }
  },
  "nbformat": 4,
  "nbformat_minor": 5
}
